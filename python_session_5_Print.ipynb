{
 "cells": [
  {
   "cell_type": "code",
   "execution_count": null,
   "id": "a04d1af5-e044-4bc1-9c0d-dcd9aaf011d3",
   "metadata": {},
   "outputs": [],
   "source": [
    "# Print is used to see some answers\n",
    "# In jupyter notebook we no need to provide print statement in order to see answer\n",
    "# If more than two answer are there we can check all answers using print statement"
   ]
  },
  {
   "cell_type": "code",
   "execution_count": 1,
   "id": "6797d1ab-4b53-46ea-8ed1-5a9485711121",
   "metadata": {},
   "outputs": [
    {
     "data": {
      "text/plain": [
       "10"
      ]
     },
     "execution_count": 1,
     "metadata": {},
     "output_type": "execute_result"
    }
   ],
   "source": [
    "a=10\n",
    "a"
   ]
  },
  {
   "cell_type": "code",
   "execution_count": 2,
   "id": "2172292b-332c-47e6-afd9-dcc53f152a3f",
   "metadata": {},
   "outputs": [
    {
     "name": "stdout",
     "output_type": "stream",
     "text": [
      "10\n"
     ]
    }
   ],
   "source": [
    "print(a)"
   ]
  },
  {
   "cell_type": "code",
   "execution_count": 3,
   "id": "b9ed84b9-cd62-47a8-a6f1-9555d46c7feb",
   "metadata": {},
   "outputs": [
    {
     "data": {
      "text/plain": [
       "20"
      ]
     },
     "execution_count": 3,
     "metadata": {},
     "output_type": "execute_result"
    }
   ],
   "source": [
    "a=10\n",
    "b=20\n",
    "a\n",
    "b\n",
    "\n",
    "# Here only provide the output of b"
   ]
  },
  {
   "cell_type": "code",
   "execution_count": 13,
   "id": "e27cce09-752a-426d-acc6-94d4e127c0c6",
   "metadata": {},
   "outputs": [
    {
     "name": "stdout",
     "output_type": "stream",
     "text": [
      "10\n",
      "20\n"
     ]
    }
   ],
   "source": [
    "a=10\n",
    "b=20\n",
    "print(a)\n",
    "print(b)\n",
    "\n",
    "# print is used to provide the output of both a and b"
   ]
  },
  {
   "cell_type": "code",
   "execution_count": 5,
   "id": "4fd16d9f-85e2-4e2d-9121-5593d371b53c",
   "metadata": {},
   "outputs": [
    {
     "name": "stdout",
     "output_type": "stream",
     "text": [
      "10\n",
      "10 20\n",
      "python\n",
      "10 20 python\n"
     ]
    }
   ],
   "source": [
    "print(10)\n",
    "print(10,20)\n",
    "print('python')\n",
    "print(10,20,'python')"
   ]
  },
  {
   "cell_type": "code",
   "execution_count": 6,
   "id": "6e8a5fb7-b5a0-4f77-8d71-858c084f7e92",
   "metadata": {},
   "outputs": [
    {
     "name": "stdout",
     "output_type": "stream",
     "text": [
      "50\n"
     ]
    }
   ],
   "source": [
    "num1=20\n",
    "num2=30\n",
    "add=num1+num2\n",
    "print(add)\n",
    "# the addition of 20 and 30 is 50"
   ]
  },
  {
   "cell_type": "code",
   "execution_count": 8,
   "id": "c99cbf22-6485-4f90-95e5-da98b6b258b9",
   "metadata": {},
   "outputs": [
    {
     "name": "stdout",
     "output_type": "stream",
     "text": [
      "50\n",
      "50\n"
     ]
    },
    {
     "ename": "TypeError",
     "evalue": "'add' is an invalid keyword argument for print()",
     "output_type": "error",
     "traceback": [
      "\u001b[1;31m---------------------------------------------------------------------------\u001b[0m",
      "\u001b[1;31mTypeError\u001b[0m                                 Traceback (most recent call last)",
      "Cell \u001b[1;32mIn[8], line 6\u001b[0m\n\u001b[0;32m      4\u001b[0m \u001b[38;5;28mprint\u001b[39m(num1\u001b[38;5;241m+\u001b[39mnum2)\n\u001b[0;32m      5\u001b[0m \u001b[38;5;28mprint\u001b[39m(add)\n\u001b[1;32m----> 6\u001b[0m \u001b[38;5;28mprint\u001b[39m(add\u001b[38;5;241m=\u001b[39mnum1\u001b[38;5;241m+\u001b[39mnum2)\n",
      "\u001b[1;31mTypeError\u001b[0m: 'add' is an invalid keyword argument for print()"
     ]
    }
   ],
   "source": [
    "num1=20\n",
    "num2=30\n",
    "add=num1+num2\n",
    "print(num1+num2)\n",
    "print(add)\n",
    "print(add=num1+num2)"
   ]
  },
  {
   "cell_type": "code",
   "execution_count": 20,
   "id": "2fc5d4fa-6eb9-4100-ba7f-21a7744f5f7e",
   "metadata": {},
   "outputs": [
    {
     "name": "stdout",
     "output_type": "stream",
     "text": [
      "the addition of 200 and 500 is 700\n"
     ]
    }
   ],
   "source": [
    "num1=200\n",
    "num2=500\n",
    "add=num1+num2\n",
    "print(\"the addition of\",num1,'and',num2,'is',add)"
   ]
  },
  {
   "cell_type": "code",
   "execution_count": 21,
   "id": "6dd445d0-6b64-403b-ae83-ee3527bdabc7",
   "metadata": {},
   "outputs": [
    {
     "name": "stdout",
     "output_type": "stream",
     "text": [
      "the multiplication of 5 and 2 is 10\n"
     ]
    }
   ],
   "source": [
    "num1=5\n",
    "num2=2\n",
    "multiplication=num1*num2\n",
    "print(\"the multiplication of\",num1,'and',num2,'is',multiplication)"
   ]
  },
  {
   "cell_type": "code",
   "execution_count": 24,
   "id": "4a9d370e-8d28-45fd-83cc-12145a79c85d",
   "metadata": {},
   "outputs": [
    {
     "name": "stdout",
     "output_type": "stream",
     "text": [
      "hello my name is python ,i'm  10 years old from hyd\n"
     ]
    }
   ],
   "source": [
    "name='python'\n",
    "age=10\n",
    "city='hyd'\n",
    "print(\"hello my name is\",name,\",\"\"i'm \",age,\"years old\",\"from\",city)\n",
    "# hello my name is python, i'm 10 years old from hyd"
   ]
  },
  {
   "cell_type": "code",
   "execution_count": 35,
   "id": "a1c255b4-d834-4f40-b6fc-6e7f764f70c9",
   "metadata": {},
   "outputs": [
    {
     "name": "stdout",
     "output_type": "stream",
     "text": [
      "the average of 100 , 200 and 300 is 200.0\n"
     ]
    }
   ],
   "source": [
    "num1=100\n",
    "num2=200\n",
    "num3=300\n",
    "avg=(num1+num2+num3)/3\n",
    "print(\"the average of\",num1,',',num2,'and',num3,'is',avg)"
   ]
  },
  {
   "cell_type": "markdown",
   "id": "dcf768ff-f490-44cf-85ce-295e629ae540",
   "metadata": {},
   "source": [
    "**format**"
   ]
  },
  {
   "cell_type": "code",
   "execution_count": 27,
   "id": "2f3572a3-79d2-4252-94b0-d81a54430803",
   "metadata": {},
   "outputs": [
    {
     "name": "stdout",
     "output_type": "stream",
     "text": [
      "the addition of 200 and 500 is 700\n",
      "the addition of 200 and 500 is 700\n"
     ]
    }
   ],
   "source": [
    "num1=200\n",
    "num2=500\n",
    "add=num1+num2\n",
    "print(\"the addition of\",num1,'and',num2,'is',add)\n",
    "print(\"the addition of {} and {} is {}\".format(num1,num2,add))"
   ]
  },
  {
   "cell_type": "code",
   "execution_count": 30,
   "id": "097920ae-4638-423a-b846-f6e7ea3b7c4d",
   "metadata": {},
   "outputs": [
    {
     "name": "stdout",
     "output_type": "stream",
     "text": [
      "The multiplication of 5 and 2 is 10\n"
     ]
    }
   ],
   "source": [
    "num1=5\n",
    "num2=2\n",
    "multiplication=num1*num2\n",
    "print(\"The multiplication of {} and {} is {}\".format(num1,num2,multiplication))\n"
   ]
  },
  {
   "cell_type": "code",
   "execution_count": 31,
   "id": "26adf570-315a-4bc9-afe6-871d6bc864e4",
   "metadata": {},
   "outputs": [
    {
     "name": "stdout",
     "output_type": "stream",
     "text": [
      "Hello my name is python, i'm 10 years old from hyd\n"
     ]
    }
   ],
   "source": [
    "name='python'\n",
    "age=10\n",
    "city='hyd'\n",
    "print(\"Hello my name is {}, i'm {} years old from {}\".format(name,age,city))"
   ]
  },
  {
   "cell_type": "markdown",
   "id": "c178e975-427f-482c-b118-4c91be843f9d",
   "metadata": {},
   "source": [
    "- First decide how the print stetement should be\n",
    "\n",
    "- Then replace the variables position with curly braces\n",
    "\n",
    "- Then apply .format method"
   ]
  },
  {
   "cell_type": "code",
   "execution_count": 33,
   "id": "1ffb92e9-a2de-4d02-8c7e-0b5a34eafc78",
   "metadata": {},
   "outputs": [
    {
     "name": "stdout",
     "output_type": "stream",
     "text": [
      "my name is Saswati, i'm 21 years old and now i'm studying in centurion university. i'm from Jajpur, Odisha\n"
     ]
    }
   ],
   "source": [
    "name='Saswati'\n",
    "age=21\n",
    "university='centurion university'\n",
    "city='Jajpur, Odisha'\n",
    "print(\"my name is {}, i'm {} years old and now i'm studying in {}. i'm from {}\".format(name,age,university,city))"
   ]
  },
  {
   "cell_type": "code",
   "execution_count": 34,
   "id": "81b76c05-79dd-4a5a-a4ec-1dcaa0091958",
   "metadata": {},
   "outputs": [
    {
     "name": "stdout",
     "output_type": "stream",
     "text": [
      "the average of 100, 200 and 300 is 200.0\n"
     ]
    }
   ],
   "source": [
    "num1=100\n",
    "num2=200\n",
    "num3=300\n",
    "avg=(num1+num2+num3)/3\n",
    "print(\"the average of {}, {} and {} is {}\".format(num1,num2,num3,avg))"
   ]
  },
  {
   "cell_type": "code",
   "execution_count": 44,
   "id": "2043a065-f707-4399-9a78-96a4c40c00e3",
   "metadata": {},
   "outputs": [
    {
     "name": "stdout",
     "output_type": "stream",
     "text": [
      "the average of 12, 22 and 36 is 23.333333333333332\n"
     ]
    },
    {
     "data": {
      "text/plain": [
       "23.33"
      ]
     },
     "execution_count": 44,
     "metadata": {},
     "output_type": "execute_result"
    }
   ],
   "source": [
    "num1=12\n",
    "num2=22\n",
    "num3=36\n",
    "avg=(num1+num2+num3)/3\n",
    "print(\"the average of {}, {} and {} is {}\".format(num1,num2,num3,avg))\n",
    "round(avg,2)"
   ]
  },
  {
   "cell_type": "code",
   "execution_count": 48,
   "id": "6689263a-7a51-49b2-bc59-45219c179d33",
   "metadata": {},
   "outputs": [
    {
     "data": {
      "text/plain": [
       "23"
      ]
     },
     "execution_count": 48,
     "metadata": {},
     "output_type": "execute_result"
    }
   ],
   "source": [
    "val=23.333333333333332\n",
    "round(val)"
   ]
  },
  {
   "cell_type": "code",
   "execution_count": 49,
   "id": "253baddf-8fdc-4567-b82d-b16868988c51",
   "metadata": {},
   "outputs": [
    {
     "name": "stdout",
     "output_type": "stream",
     "text": [
      "the average of 12, 22 and 36 is 23\n"
     ]
    }
   ],
   "source": [
    "num1=12\n",
    "num2=22\n",
    "num3=36\n",
    "avg=round((num1+num2+num3)/3)\n",
    "print(\"the average of {}, {} and {} is {}\".format(num1,num2,num3,avg))"
   ]
  },
  {
   "cell_type": "markdown",
   "id": "e5d5d2c3-922d-46cf-b75f-8d0a0f6bf9f1",
   "metadata": {},
   "source": [
    "**f string method**\n",
    "\n",
    "- Variables inside the curly braces\n",
    "\n",
    "- and write everything inside the quotes\n",
    "\n",
    "- at starting simply add f"
   ]
  },
  {
   "cell_type": "code",
   "execution_count": 51,
   "id": "5884e159-59b5-49d2-9325-a54481b31318",
   "metadata": {},
   "outputs": [
    {
     "name": "stdout",
     "output_type": "stream",
     "text": [
      "the addition of 200 and 500 is: 700\n"
     ]
    }
   ],
   "source": [
    "num1=200\n",
    "num2=500\n",
    "add=num1+num2\n",
    "print(f\"the addition of {num1} and {num2} is: {add}\")"
   ]
  },
  {
   "cell_type": "code",
   "execution_count": 54,
   "id": "dfd14c71-a1d6-46fc-bec2-6d3091308406",
   "metadata": {},
   "outputs": [
    {
     "name": "stdout",
     "output_type": "stream",
     "text": [
      "the average of 12, 22 and 36 is: 23\n"
     ]
    }
   ],
   "source": [
    "num1=12\n",
    "num2=22\n",
    "num3=36\n",
    "avg=round((num1+num2+num3)/3)\n",
    "print(f\"the average of {num1}, {num2} and {num3} is: {avg}\")"
   ]
  },
  {
   "cell_type": "code",
   "execution_count": 55,
   "id": "72492791-5a5b-456f-9920-efc2bb602e02",
   "metadata": {},
   "outputs": [
    {
     "name": "stdout",
     "output_type": "stream",
     "text": [
      "Hello my name is python, i'm 10 years of old from hyd\n"
     ]
    }
   ],
   "source": [
    "name='python'\n",
    "age=10\n",
    "city='hyd'\n",
    "print(f\"Hello my name is {name}, i'm {age} years of old from {city}\")"
   ]
  },
  {
   "cell_type": "markdown",
   "id": "b4136493-7b1a-4805-b81e-8466d696bd21",
   "metadata": {},
   "source": [
    "f string method is the best for real time"
   ]
  },
  {
   "cell_type": "code",
   "execution_count": 56,
   "id": "49c6c129-af21-41ad-b0cd-29ba451af7be",
   "metadata": {},
   "outputs": [
    {
     "name": "stdout",
     "output_type": "stream",
     "text": [
      "the addition of 200 and 500 is 700\n",
      "the addition of 200 and 500 is 700\n",
      "the addition of 200 and 500 is: 700\n"
     ]
    }
   ],
   "source": [
    "num1=200\n",
    "num2=500\n",
    "add=num1+num2\n",
    "print(\"the addition of\",num1,'and',num2,'is',add)\n",
    "\n",
    "num1=200\n",
    "num2=500\n",
    "add=num1+num2\n",
    "print(\"the addition of {} and {} is {}\".format(num1,num2,add))\n",
    "\n",
    "num1=200\n",
    "num2=500\n",
    "add=num1+num2\n",
    "print(f\"the addition of {num1} and {num2} is: {add}\")"
   ]
  },
  {
   "cell_type": "code",
   "execution_count": 59,
   "id": "076c1fa5-233a-4ec4-b270-b684cc795030",
   "metadata": {},
   "outputs": [
    {
     "name": "stdout",
     "output_type": "stream",
     "text": [
      "hello good morning\n"
     ]
    }
   ],
   "source": [
    "print('hello',end=' ')   #1\n",
    "print('good morning')    #2\n",
    "\n",
    "# hello good morning\n",
    "# to join multiple statence we use end"
   ]
  },
  {
   "cell_type": "code",
   "execution_count": 66,
   "id": "960c5a43-12a5-47a4-9eb7-c8c413ba54cb",
   "metadata": {},
   "outputs": [
    {
     "name": "stdout",
     "output_type": "stream",
     "text": [
      "1 2 3\n"
     ]
    }
   ],
   "source": [
    "print(1,end=' ')\n",
    "print(2,end=' ')\n",
    "print(3)\n",
    "\n",
    "#1 2 3 "
   ]
  },
  {
   "cell_type": "markdown",
   "id": "2e9094af-c3a1-4ca1-8b19-51f7443a181b",
   "metadata": {},
   "source": [
    "**sep**"
   ]
  },
  {
   "cell_type": "markdown",
   "id": "7249ffcf-721e-4702-b4ce-9063378b1fe8",
   "metadata": {},
   "source": [
    "- one print statement only\n",
    "\n",
    "- Inside one print sentence we have multiple values\n",
    "\n",
    "- I want to separate these multiple values with anything "
   ]
  },
  {
   "cell_type": "code",
   "execution_count": 70,
   "id": "7f87370b-5830-47f1-aa99-f0958b024703",
   "metadata": {},
   "outputs": [
    {
     "name": "stdout",
     "output_type": "stream",
     "text": [
      "hello & hai\n"
     ]
    }
   ],
   "source": [
    "print('hello','hai',sep=' & ')\n",
    "# hello & hai"
   ]
  },
  {
   "cell_type": "code",
   "execution_count": 71,
   "id": "a63a75e4-be17-49d1-bc23-d4ba8a28c2ea",
   "metadata": {},
   "outputs": [
    {
     "name": "stdout",
     "output_type": "stream",
     "text": [
      "1 2 3 .\n"
     ]
    }
   ],
   "source": [
    "print(1,2,3,'.')"
   ]
  },
  {
   "cell_type": "code",
   "execution_count": 73,
   "id": "0159fea4-ccb5-4316-a0fd-425df7fb0131",
   "metadata": {},
   "outputs": [
    {
     "name": "stdout",
     "output_type": "stream",
     "text": [
      "123.\n"
     ]
    }
   ],
   "source": [
    "print(1,2,3,'.',sep='')"
   ]
  },
  {
   "cell_type": "code",
   "execution_count": 74,
   "id": "52c08c70-7169-404e-8050-03f3553409c4",
   "metadata": {},
   "outputs": [
    {
     "name": "stdout",
     "output_type": "stream",
     "text": [
      "1 2 3.\n"
     ]
    }
   ],
   "source": [
    "print(1, 2,end=' ')\n",
    "print(3,'.',sep='')"
   ]
  },
  {
   "cell_type": "code",
   "execution_count": null,
   "id": "cac4ac4c-4886-4271-a567-d5495ea4ebf7",
   "metadata": {},
   "outputs": [],
   "source": []
  }
 ],
 "metadata": {
  "kernelspec": {
   "display_name": "Python 3 (ipykernel)",
   "language": "python",
   "name": "python3"
  },
  "language_info": {
   "codemirror_mode": {
    "name": "ipython",
    "version": 3
   },
   "file_extension": ".py",
   "mimetype": "text/x-python",
   "name": "python",
   "nbconvert_exporter": "python",
   "pygments_lexer": "ipython3",
   "version": "3.11.7"
  }
 },
 "nbformat": 4,
 "nbformat_minor": 5
}
