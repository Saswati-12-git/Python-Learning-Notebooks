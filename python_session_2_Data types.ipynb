{
 "cells": [
  {
   "cell_type": "markdown",
   "id": "bbab328c-8912-4a94-9937-6516754522c4",
   "metadata": {},
   "source": [
    "## Data types"
   ]
  },
  {
   "cell_type": "code",
   "execution_count": 2,
   "id": "4aeca962-6b83-41bb-a101-d4bda3cfc9a7",
   "metadata": {},
   "outputs": [],
   "source": [
    "num=100"
   ]
  },
  {
   "cell_type": "markdown",
   "id": "1f84445f-9296-48be-a86b-882c424b4e68",
   "metadata": {},
   "source": [
    "**type**"
   ]
  },
  {
   "cell_type": "code",
   "execution_count": 3,
   "id": "14620a83-6a75-4b49-b07f-279141e5b1ff",
   "metadata": {},
   "outputs": [
    {
     "data": {
      "text/plain": [
       "int"
      ]
     },
     "execution_count": 3,
     "metadata": {},
     "output_type": "execute_result"
    }
   ],
   "source": [
    "type(num)"
   ]
  },
  {
   "cell_type": "markdown",
   "id": "48af5109-3da1-4f71-85c5-316b51e6c348",
   "metadata": {},
   "source": [
    "- integer\n",
    "\n",
    "- float\n",
    "\n",
    "- string\n",
    "\n",
    "- Boolean\n",
    "\n",
    "- complex\n",
    "\n",
    "- list\n",
    "\n",
    "- tuple\n",
    "\n",
    "- directory\n",
    "\n",
    "- set"
   ]
  },
  {
   "cell_type": "markdown",
   "id": "e7150a0d-28eb-4ab5-90b2-4f2a9676f647",
   "metadata": {},
   "source": [
    "**Integer**\n",
    "\n",
    "- In real time we will use decimal number system\n",
    "\n",
    "- whatever the input but python will give output in decimal number format\n",
    "\n",
    "  - binary\n",
    "\n",
    "     - binary includes only 0 and 1\n",
    "\n",
    "     - bi means =2\n",
    "\n",
    "     - representation is  :  0b111, 0B101\n",
    "\n",
    "     - wrong repesentation is  :  0b123"
   ]
  },
  {
   "cell_type": "code",
   "execution_count": 5,
   "id": "365c6015-257c-4b21-a6a4-2efe4ad57bf4",
   "metadata": {},
   "outputs": [
    {
     "data": {
      "text/plain": [
       "int"
      ]
     },
     "execution_count": 5,
     "metadata": {},
     "output_type": "execute_result"
    }
   ],
   "source": [
    "num=111\n",
    "type(num)"
   ]
  },
  {
   "cell_type": "code",
   "execution_count": 6,
   "id": "67909cff-77ab-4823-8815-ff86fa12f5c3",
   "metadata": {},
   "outputs": [
    {
     "data": {
      "text/plain": [
       "int"
      ]
     },
     "execution_count": 6,
     "metadata": {},
     "output_type": "execute_result"
    }
   ],
   "source": [
    "num1=0b111\n",
    "type(num1)"
   ]
  },
  {
   "cell_type": "code",
   "execution_count": null,
   "id": "e2e0e699-9489-4fdd-ba43-ffd30c178c8b",
   "metadata": {},
   "outputs": [],
   "source": [
    "- decimal\n",
    "\n",
    "- binary\n",
    "\n",
    "- octa\n",
    "\n",
    "- hexa"
   ]
  },
  {
   "cell_type": "code",
   "execution_count": 7,
   "id": "c6523fb0-02dc-46ad-8b88-356bf6b82228",
   "metadata": {},
   "outputs": [
    {
     "data": {
      "text/plain": [
       "7"
      ]
     },
     "execution_count": 7,
     "metadata": {},
     "output_type": "execute_result"
    }
   ],
   "source": [
    "0b111"
   ]
  },
  {
   "cell_type": "code",
   "execution_count": 8,
   "id": "5d710f3b-e794-4b74-9a5c-48d4e1b7e65a",
   "metadata": {},
   "outputs": [
    {
     "data": {
      "text/plain": [
       "15"
      ]
     },
     "execution_count": 8,
     "metadata": {},
     "output_type": "execute_result"
    }
   ],
   "source": [
    "0b1111"
   ]
  },
  {
   "cell_type": "code",
   "execution_count": 9,
   "id": "7ea8ce40-7894-444b-91d8-316f19e71272",
   "metadata": {},
   "outputs": [
    {
     "data": {
      "text/plain": [
       "10"
      ]
     },
     "execution_count": 9,
     "metadata": {},
     "output_type": "execute_result"
    }
   ],
   "source": [
    "0b1010"
   ]
  },
  {
   "cell_type": "code",
   "execution_count": 10,
   "id": "49b0b7f6-7aa2-4a96-8dbf-bf9703e588b1",
   "metadata": {},
   "outputs": [
    {
     "data": {
      "text/plain": [
       "5"
      ]
     },
     "execution_count": 10,
     "metadata": {},
     "output_type": "execute_result"
    }
   ],
   "source": [
    "0b101"
   ]
  },
  {
   "cell_type": "code",
   "execution_count": 11,
   "id": "3bd0a2b9-cf11-4375-a787-70789821fa07",
   "metadata": {},
   "outputs": [
    {
     "data": {
      "text/plain": [
       "6"
      ]
     },
     "execution_count": 11,
     "metadata": {},
     "output_type": "execute_result"
    }
   ],
   "source": [
    "0b110"
   ]
  },
  {
   "cell_type": "code",
   "execution_count": 12,
   "id": "a0e0d244-0699-4d86-b98b-132755b78b95",
   "metadata": {},
   "outputs": [
    {
     "data": {
      "text/plain": [
       "14"
      ]
     },
     "execution_count": 12,
     "metadata": {},
     "output_type": "execute_result"
    }
   ],
   "source": [
    "0b1110"
   ]
  },
  {
   "cell_type": "markdown",
   "id": "0d25894c-c2ea-48ac-9fd6-d25a5218e431",
   "metadata": {},
   "source": [
    "- octa\n",
    "\n",
    "  - octa means =8\n",
    "\n",
    "  - octa includes only 0 1 2 3 4 5 6 7 \n",
    "\n",
    "  - representation is : 0o123, 0O456\n",
    "\n",
    "  - wrong representation is : 0o897 "
   ]
  },
  {
   "cell_type": "code",
   "execution_count": 1,
   "id": "cd9bdc4c-5544-465c-b44f-f66576e6343e",
   "metadata": {},
   "outputs": [
    {
     "data": {
      "text/plain": [
       "83"
      ]
     },
     "execution_count": 1,
     "metadata": {},
     "output_type": "execute_result"
    }
   ],
   "source": [
    "0o123"
   ]
  },
  {
   "cell_type": "code",
   "execution_count": 3,
   "id": "003f5ffa-4e6c-4d23-a382-c7eeacd7b738",
   "metadata": {},
   "outputs": [
    {
     "data": {
      "text/plain": [
       "375"
      ]
     },
     "execution_count": 3,
     "metadata": {},
     "output_type": "execute_result"
    }
   ],
   "source": [
    "0o567"
   ]
  },
  {
   "cell_type": "markdown",
   "id": "2dd5e9eb-75c2-403b-8a54-918ab594397c",
   "metadata": {},
   "source": [
    "- hexa\n",
    "\n",
    "  - hexa means =16\n",
    "\n",
    "  - hexa includes only 0 1 2 3 4 5 6 7 8 9 A B C D E F\n",
    "\n",
    "  - A=10  B=11  C=13  D=14  E=15\n",
    "\n",
    "  - Representation is : 0x123, 0XABC \n",
    "\n",
    "  - Wrong reprentation is : 0xbcz"
   ]
  },
  {
   "cell_type": "code",
   "execution_count": 1,
   "id": "6fc9c44b-c4b9-4619-ba87-9c1bfb321787",
   "metadata": {},
   "outputs": [
    {
     "data": {
      "text/plain": [
       "291"
      ]
     },
     "execution_count": 1,
     "metadata": {},
     "output_type": "execute_result"
    }
   ],
   "source": [
    "0x123"
   ]
  },
  {
   "cell_type": "code",
   "execution_count": 2,
   "id": "33a7d989-5f2b-41fd-91a6-64ad95ff3c6e",
   "metadata": {},
   "outputs": [
    {
     "data": {
      "text/plain": [
       "2748"
      ]
     },
     "execution_count": 2,
     "metadata": {},
     "output_type": "execute_result"
    }
   ],
   "source": [
    "0xabc"
   ]
  },
  {
   "cell_type": "code",
   "execution_count": null,
   "id": "b8c9b73c-f80a-472e-9cb2-cd088042d9d9",
   "metadata": {},
   "outputs": [],
   "source": [
    "2^2     2^1     2^0\n",
    "----------------------\n",
    "4        2       1\n",
    "----------------------\n",
    "0        0       0    = 0\n",
    "0        0       1    = 1  \n",
    "0        1       0    = 2\n",
    "0        1       1    = 3\n",
    "1        0       0    = 4\n",
    "1        0       1    = 5\n",
    "1        1       0    = 6\n",
    "1        1       1    = 7\n",
    "\n",
    "# 4 2 1 logic"
   ]
  },
  {
   "cell_type": "code",
   "execution_count": 5,
   "id": "4700d427-b3ed-45dc-9d7b-203b75ab54d6",
   "metadata": {},
   "outputs": [
    {
     "data": {
      "text/plain": [
       "6"
      ]
     },
     "execution_count": 5,
     "metadata": {},
     "output_type": "execute_result"
    }
   ],
   "source": [
    "0b110"
   ]
  },
  {
   "cell_type": "code",
   "execution_count": 6,
   "id": "52660a37-1859-430d-9c9d-1b33a248e390",
   "metadata": {},
   "outputs": [
    {
     "data": {
      "text/plain": [
       "2733"
      ]
     },
     "execution_count": 6,
     "metadata": {},
     "output_type": "execute_result"
    }
   ],
   "source": [
    "0b101010101101"
   ]
  },
  {
   "cell_type": "code",
   "execution_count": null,
   "id": "f49416fc-d87b-4079-8954-4b2a2a8ecc7c",
   "metadata": {},
   "outputs": [],
   "source": [
    "8   4   2   1\n",
    "--------------\n",
    "0   0   0   0  =  0\n",
    "0   0   0   1  =  1\n",
    "0   0   1   0  =  2\n",
    "0   0   1   1  =  3\n",
    "0   1   0   0  =  4\n",
    "0   1   0   1  =  5\n",
    "0   1   1   0  =  6\n",
    "0   1   1   1  =  7\n",
    "1   0   0   0  =  8\n",
    "1   0   0   1  =  9\n",
    "1   0   1   0  =  10\n",
    "1   0   1   1  =  11\n",
    "1   1   0   0  =  12\n",
    "1   1   0   1  =  13\n",
    "1   1   1   0  =  14\n",
    "1   1   1   1  =  15"
   ]
  },
  {
   "cell_type": "markdown",
   "id": "a1e7acbd-514d-49b9-9117-64496dc85be1",
   "metadata": {},
   "source": [
    "**float**"
   ]
  },
  {
   "cell_type": "code",
   "execution_count": 8,
   "id": "33b4a055-12a7-426e-b968-627d49deed02",
   "metadata": {},
   "outputs": [
    {
     "data": {
      "text/plain": [
       "float"
      ]
     },
     "execution_count": 8,
     "metadata": {},
     "output_type": "execute_result"
    }
   ],
   "source": [
    "number_float=123.56\n",
    "type(number_float)"
   ]
  },
  {
   "cell_type": "code",
   "execution_count": 9,
   "id": "58a69a83-771f-4c74-9084-699d4cd9d871",
   "metadata": {},
   "outputs": [
    {
     "data": {
      "text/plain": [
       "10.0"
      ]
     },
     "execution_count": 9,
     "metadata": {},
     "output_type": "execute_result"
    }
   ],
   "source": [
    "1e1"
   ]
  },
  {
   "cell_type": "code",
   "execution_count": 10,
   "id": "3666188c-358a-4cbf-9906-1a450266db4e",
   "metadata": {},
   "outputs": [
    {
     "data": {
      "text/plain": [
       "100.0"
      ]
     },
     "execution_count": 10,
     "metadata": {},
     "output_type": "execute_result"
    }
   ],
   "source": [
    "1e2"
   ]
  },
  {
   "cell_type": "code",
   "execution_count": 11,
   "id": "5092d70c-c996-4c95-9f67-faaf3feec00c",
   "metadata": {},
   "outputs": [
    {
     "data": {
      "text/plain": [
       "1000.0"
      ]
     },
     "execution_count": 11,
     "metadata": {},
     "output_type": "execute_result"
    }
   ],
   "source": [
    "1e3"
   ]
  },
  {
   "cell_type": "code",
   "execution_count": 12,
   "id": "833fc739-8db4-4f5a-8cea-2dbf0c973caa",
   "metadata": {},
   "outputs": [
    {
     "data": {
      "text/plain": [
       "(10.0, 100.0, 1000.0, 10000.0)"
      ]
     },
     "execution_count": 12,
     "metadata": {},
     "output_type": "execute_result"
    }
   ],
   "source": [
    "1e1,1e2,1e3,1e4"
   ]
  },
  {
   "cell_type": "code",
   "execution_count": 13,
   "id": "cc6253c8-fb5c-481e-a3a3-4bc7ef30ea1e",
   "metadata": {},
   "outputs": [
    {
     "data": {
      "text/plain": [
       "(10.0, 100.0, 1000.0, 10000.0)"
      ]
     },
     "execution_count": 13,
     "metadata": {},
     "output_type": "execute_result"
    }
   ],
   "source": [
    "1e+1,1e+2,1e+3,1e+4"
   ]
  },
  {
   "cell_type": "code",
   "execution_count": 15,
   "id": "56595448-655f-4f59-866d-c8ac62124581",
   "metadata": {},
   "outputs": [
    {
     "data": {
      "text/plain": [
       "(0.1, 0.01, 0.001)"
      ]
     },
     "execution_count": 15,
     "metadata": {},
     "output_type": "execute_result"
    }
   ],
   "source": [
    "1e-1,1e-2,1e-3\n",
    "# 1/1000"
   ]
  },
  {
   "cell_type": "code",
   "execution_count": null,
   "id": "0083c0b5-8606-4e7b-9594-9ad2917d4473",
   "metadata": {},
   "outputs": [],
   "source": [
    "# you need to check some answer will be zero\n",
    "# 0.0\n",
    "# 1e-13\n",
    "7.74619736e-15\n",
    "7.74619736/1000000000000000\n",
    "0.000000000000000774619736 ~=0"
   ]
  },
  {
   "cell_type": "code",
   "execution_count": null,
   "id": "5a798329-48cc-4bae-909f-5c7c95d8953e",
   "metadata": {},
   "outputs": [],
   "source": [
    "1e-10\n",
    "1/(10000000000) = 0.0000000001"
   ]
  },
  {
   "cell_type": "markdown",
   "id": "50378652-80f9-40ad-bf79-67350c16ec3a",
   "metadata": {},
   "source": [
    "**boolean**\n",
    "\n",
    "  - True = 1\n",
    "\n",
    "  - False = 0"
   ]
  },
  {
   "cell_type": "code",
   "execution_count": 19,
   "id": "d7d5c52d-e1cc-4e75-ba2b-5a3c262709db",
   "metadata": {},
   "outputs": [
    {
     "data": {
      "text/plain": [
       "bool"
      ]
     },
     "execution_count": 19,
     "metadata": {},
     "output_type": "execute_result"
    }
   ],
   "source": [
    "ans = True\n",
    "type(ans)"
   ]
  },
  {
   "cell_type": "code",
   "execution_count": 20,
   "id": "b645d186-b716-4879-99b8-966e5b034a28",
   "metadata": {},
   "outputs": [
    {
     "data": {
      "text/plain": [
       "bool"
      ]
     },
     "execution_count": 20,
     "metadata": {},
     "output_type": "execute_result"
    }
   ],
   "source": [
    "wrong_ans = False\n",
    "type(wrong_ans)"
   ]
  },
  {
   "cell_type": "markdown",
   "id": "58376668-8a75-429e-a3ef-b4b837715243",
   "metadata": {},
   "source": [
    "### black color - variables\n",
    "### green color - Keywords\n",
    "### red color - string/english"
   ]
  },
  {
   "cell_type": "code",
   "execution_count": 22,
   "id": "6b41d534-3b5b-4ff8-963a-a2f70efb67a5",
   "metadata": {},
   "outputs": [
    {
     "data": {
      "text/plain": [
       "True"
      ]
     },
     "execution_count": 22,
     "metadata": {},
     "output_type": "execute_result"
    }
   ],
   "source": [
    "true=True\n",
    "true"
   ]
  },
  {
   "cell_type": "code",
   "execution_count": 23,
   "id": "5d46057a-94c3-477a-9939-fbef4eb404ba",
   "metadata": {},
   "outputs": [
    {
     "data": {
      "text/plain": [
       "5"
      ]
     },
     "execution_count": 23,
     "metadata": {},
     "output_type": "execute_result"
    }
   ],
   "source": [
    "wrong_ans=False\n",
    "wrong_ans=5\n",
    "wrong_ans"
   ]
  },
  {
   "cell_type": "code",
   "execution_count": 24,
   "id": "ed8f5794-fd9e-45da-b960-18ef4e1f40a4",
   "metadata": {},
   "outputs": [
    {
     "data": {
      "text/plain": [
       "int"
      ]
     },
     "execution_count": 24,
     "metadata": {},
     "output_type": "execute_result"
    }
   ],
   "source": [
    "type(wrong_ans)\n",
    "# datatype also change"
   ]
  },
  {
   "cell_type": "markdown",
   "id": "86d32a1d-628f-4c3c-890f-2ce1372452d6",
   "metadata": {},
   "source": [
    "$String$\n",
    "\n",
    "**String**\n",
    "\n",
    "- String"
   ]
  },
  {
   "cell_type": "code",
   "execution_count": 27,
   "id": "cde04af0-64b5-4c6b-8715-0ffa15ddc05f",
   "metadata": {},
   "outputs": [
    {
     "data": {
      "text/plain": [
       "'python'"
      ]
     },
     "execution_count": 27,
     "metadata": {},
     "output_type": "execute_result"
    }
   ],
   "source": [
    "name1='python'\n",
    "name1"
   ]
  },
  {
   "cell_type": "code",
   "execution_count": 28,
   "id": "d3206a9f-5106-450c-b835-0ebba1917fae",
   "metadata": {},
   "outputs": [
    {
     "data": {
      "text/plain": [
       "'naresh it'"
      ]
     },
     "execution_count": 28,
     "metadata": {},
     "output_type": "execute_result"
    }
   ],
   "source": [
    "name2=\"naresh it\"\n",
    "name2\n",
    "\n",
    "# but python will give the output in single quotes only"
   ]
  },
  {
   "cell_type": "code",
   "execution_count": 29,
   "id": "f1222595-3bba-426c-8db0-9ec966f8055b",
   "metadata": {},
   "outputs": [
    {
     "data": {
      "text/plain": [
       "str"
      ]
     },
     "execution_count": 29,
     "metadata": {},
     "output_type": "execute_result"
    }
   ],
   "source": [
    "type(name1)"
   ]
  },
  {
   "cell_type": "code",
   "execution_count": null,
   "id": "7ea092ee-746c-4bb4-b077-815d47fe42ca",
   "metadata": {},
   "outputs": [],
   "source": [
    "integer === int\n",
    "boolean === bool\n",
    "string  === str\n",
    "float   === float"
   ]
  },
  {
   "cell_type": "code",
   "execution_count": null,
   "id": "0d731221-282e-4b70-a5b1-2dea085a2858",
   "metadata": {},
   "outputs": [],
   "source": [
    "i like 'python'"
   ]
  },
  {
   "cell_type": "code",
   "execution_count": 31,
   "id": "1d4d54a9-0517-48cb-ab44-f799399310c2",
   "metadata": {},
   "outputs": [
    {
     "data": {
      "text/plain": [
       "'i \"like\" python'"
      ]
     },
     "execution_count": 31,
     "metadata": {},
     "output_type": "execute_result"
    }
   ],
   "source": [
    "name3='i \"like\" python'\n",
    "name3"
   ]
  },
  {
   "cell_type": "code",
   "execution_count": 33,
   "id": "47578364-b119-4e28-9b2f-ad6ea018cee2",
   "metadata": {},
   "outputs": [
    {
     "data": {
      "text/plain": [
       "\"i 'like' python\""
      ]
     },
     "execution_count": 33,
     "metadata": {},
     "output_type": "execute_result"
    }
   ],
   "source": [
    "name3=\"i 'like' python\"\n",
    "name3"
   ]
  },
  {
   "cell_type": "code",
   "execution_count": 34,
   "id": "a6f0ed9a-f60d-4813-a95e-f7dcec217abe",
   "metadata": {},
   "outputs": [
    {
     "data": {
      "text/plain": [
       "\"i like 'python'\""
      ]
     },
     "execution_count": 34,
     "metadata": {},
     "output_type": "execute_result"
    }
   ],
   "source": [
    "name3=\"i like 'python'\"\n",
    "name3"
   ]
  },
  {
   "cell_type": "markdown",
   "id": "b01dedb4-c894-4283-9f02-81a7c2dd7822",
   "metadata": {},
   "source": [
    "**Note**\n",
    "\n",
    "  - Entire sentence in single quotes, then highlited work in double quotes\n",
    "\n",
    "  - Entire sentence in double quotes, then highlited work in single quotes"
   ]
  },
  {
   "cell_type": "code",
   "execution_count": 39,
   "id": "9e69bbe8-e84c-4659-a523-db982b81a709",
   "metadata": {},
   "outputs": [
    {
     "data": {
      "text/plain": [
       "\"hello how are you\\n        how do you do\\n        i'm good\\n        how is DS class\""
      ]
     },
     "execution_count": 39,
     "metadata": {},
     "output_type": "execute_result"
    }
   ],
   "source": [
    "str1=\"\"\"hello how are you\n",
    "        how do you do\n",
    "        i'm good\n",
    "        how is DS class\"\"\"\n",
    "str1\n",
    "\n",
    "# \\n = new line\n",
    "# there is multiple lines are there in output"
   ]
  },
  {
   "cell_type": "code",
   "execution_count": 40,
   "id": "5298a4b3-a0c1-4bd8-8d87-8ae1ce9c902d",
   "metadata": {},
   "outputs": [
    {
     "name": "stdout",
     "output_type": "stream",
     "text": [
      "hello how are you\n",
      "        how do you do\n",
      "        i'm good\n",
      "        how is DS class\n"
     ]
    }
   ],
   "source": [
    "print(str1)"
   ]
  },
  {
   "cell_type": "markdown",
   "id": "315eb5fa-4e6c-44a9-81a0-64b70e0cc06d",
   "metadata": {},
   "source": [
    "- strings can represents in single quotes, double quotes or triple quotes\n",
    "\n",
    "- when a person writing something in triple quotes : **Doc String**\n",
    "\n",
    "- Triple quotes are used for conveying information like markdown in jupyter notebook\n",
    "\n",
    "- Triples codes are not used for coding part"
   ]
  },
  {
   "cell_type": "code",
   "execution_count": null,
   "id": "d9a0410c-252e-4b48-b94d-d4b0dbd1a9af",
   "metadata": {},
   "outputs": [],
   "source": []
  }
 ],
 "metadata": {
  "kernelspec": {
   "display_name": "Python 3 (ipykernel)",
   "language": "python",
   "name": "python3"
  },
  "language_info": {
   "codemirror_mode": {
    "name": "ipython",
    "version": 3
   },
   "file_extension": ".py",
   "mimetype": "text/x-python",
   "name": "python",
   "nbconvert_exporter": "python",
   "pygments_lexer": "ipython3",
   "version": "3.11.7"
  }
 },
 "nbformat": 4,
 "nbformat_minor": 5
}
