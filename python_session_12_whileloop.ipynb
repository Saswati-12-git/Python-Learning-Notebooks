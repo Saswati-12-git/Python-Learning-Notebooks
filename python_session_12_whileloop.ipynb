{
 "cells": [
  {
   "cell_type": "markdown",
   "id": "8693d952-0bf8-4bd4-98c9-a1154211d69a",
   "metadata": {},
   "source": [
    "**While loop**\n",
    "\n",
    "- If you want to apply unlimited iterations then we choose while loop\n",
    "\n",
    "- Any loop we required 3 things\n",
    "\n",
    "    - Initial point or start point\n",
    "\n",
    "    - Condition to stop\n",
    "\n",
    "    - Increment or decrement\n",
    "\n",
    "- In for loop we are using all these 3 in a single line\n",
    "\n",
    "- In while loop we will use all these 3 in 3 lines\n"
   ]
  },
  {
   "cell_type": "code",
   "execution_count": null,
   "id": "e5ba0fd6-8d3a-49ea-ac51-2fbb9410c322",
   "metadata": {},
   "outputs": [],
   "source": [
    "# initial point\n",
    "\n",
    "# while <condition>:\n",
    "#       <statement>\n",
    "#       <increment or decrement>"
   ]
  },
  {
   "cell_type": "code",
   "execution_count": 1,
   "id": "e90d3ea8-1315-452c-b7ca-cc484307fd6c",
   "metadata": {},
   "outputs": [
    {
     "name": "stdout",
     "output_type": "stream",
     "text": [
      "1 2 3 4 5 "
     ]
    }
   ],
   "source": [
    "for i in range(1,6):\n",
    "    print(i,end=' ')\n",
    "\n",
    "# i=1\n",
    "# when i reaches 5 then should stop\n",
    "# i=i+1"
   ]
  },
  {
   "cell_type": "code",
   "execution_count": null,
   "id": "9a150412-61fd-46be-b57d-40f08de0c9cd",
   "metadata": {},
   "outputs": [],
   "source": [
    "i=1\n",
    "while <condition>:\n",
    "    print(i,end=' ')\n",
    "    i=i+1\n",
    "\n",
    "# condition anything that should be True\n",
    "# then you will go inside the while loop\n",
    "# and execute the ans\n",
    "\n",
    "i=1\n",
    "i<=6\n",
    "i<2\n",
    "i<3\n",
    "i<4"
   ]
  },
  {
   "cell_type": "code",
   "execution_count": 2,
   "id": "8f68808d-5313-4a07-9d13-f482f291e63d",
   "metadata": {},
   "outputs": [
    {
     "name": "stdout",
     "output_type": "stream",
     "text": [
      "1 2 "
     ]
    }
   ],
   "source": [
    "# case-1: \n",
    "\n",
    "i=1        # start point\n",
    "while i<3:     # condition\n",
    "    print(i,end=' ')\n",
    "    i=i+1      # increment or decrement\n",
    "\n",
    "# step=1: i=1  while 1<3  True  print(1)  i=1+1=2\n",
    "# step=2: i=2  while 2<3  True  print(2)  i=1+2=3\n",
    "# step=3: i=3  while 3<3  False  "
   ]
  },
  {
   "cell_type": "code",
   "execution_count": 3,
   "id": "ede84547-4eb7-476b-b0e5-c18b16ec9e07",
   "metadata": {},
   "outputs": [
    {
     "name": "stdout",
     "output_type": "stream",
     "text": [
      "1 2 3 4 5 "
     ]
    }
   ],
   "source": [
    "i=1        \n",
    "while i<6:    \n",
    "    print(i,end=' ')\n",
    "    i=i+1     "
   ]
  },
  {
   "cell_type": "markdown",
   "id": "6f61d0c6-34c8-48e1-9873-f0d19b3c4534",
   "metadata": {},
   "source": [
    "**Infinite l00p**\n",
    "\n",
    "- whenever infinite loop occures \n",
    "\n",
    "- apply the condition and apply the break"
   ]
  },
  {
   "cell_type": "code",
   "execution_count": null,
   "id": "582c7560-0298-4bfc-a53f-7002cc0a33d9",
   "metadata": {},
   "outputs": [],
   "source": [
    "i=1        \n",
    "while i!=0:     \n",
    "    print(i,end=' ')\n",
    "    i=i+1  \n",
    "\n",
    "# This condition gives you infinite loop"
   ]
  },
  {
   "cell_type": "code",
   "execution_count": 4,
   "id": "0f2fdf46-8134-44ae-b065-4494e40da476",
   "metadata": {},
   "outputs": [
    {
     "name": "stdout",
     "output_type": "stream",
     "text": [
      "1 2 3 4 5 6 7 8 9 "
     ]
    }
   ],
   "source": [
    "i=1        \n",
    "while i!=0:     \n",
    "    print(i,end=' ')\n",
    "    i=i+1\n",
    "    if i==10:\n",
    "        break"
   ]
  },
  {
   "cell_type": "code",
   "execution_count": null,
   "id": "0f21c58a-de98-440b-a2aa-e0d7c5abd4f7",
   "metadata": {},
   "outputs": [],
   "source": [
    "i=1\n",
    "while i<20:\n",
    "    print(i)\n",
    "    i=i/2\n",
    "\n",
    "# step=1: i=1  while 1<20  True  print(1)  i=1=1/2\n",
    "# as it print 0.5 we take the i value 1, so this condition also create a infinity loop"
   ]
  },
  {
   "cell_type": "markdown",
   "id": "db33408f-b0b6-4930-856d-e31e26d77fde",
   "metadata": {},
   "source": [
    "**True**\n",
    "\n",
    "- When we want to use infinity iterations will use True\n",
    "\n",
    "- If we want to stop the loop, inside we will apply a condition and break"
   ]
  },
  {
   "cell_type": "code",
   "execution_count": null,
   "id": "53d5a578-479e-4c85-8b4e-c166047be355",
   "metadata": {},
   "outputs": [],
   "source": [
    "i=1        \n",
    "while True:     \n",
    "    print(i,end=' ')\n",
    "    i=i+1\n",
    "    if i==10:\n",
    "        break\n",
    "\n",
    "# while the condition is true it is a infinite loop"
   ]
  },
  {
   "cell_type": "code",
   "execution_count": null,
   "id": "845e3c04-a939-493f-94d1-e50cf9bc4f1c",
   "metadata": {},
   "outputs": [],
   "source": [
    "# wap to print -10 to -1 \n",
    "# using for loop and while loop"
   ]
  },
  {
   "cell_type": "code",
   "execution_count": 5,
   "id": "0c056e89-6cf5-442c-9f30-7be7747f6f08",
   "metadata": {},
   "outputs": [
    {
     "name": "stdout",
     "output_type": "stream",
     "text": [
      "-10 -9 -8 -7 -6 -5 -4 -3 -2 -1 "
     ]
    }
   ],
   "source": [
    "# for loop\n",
    "\n",
    "for i in range(-10,0):\n",
    "    print(i,end=' ')"
   ]
  },
  {
   "cell_type": "code",
   "execution_count": 6,
   "id": "765b909d-869d-4042-9f35-5fe6e5d29b17",
   "metadata": {},
   "outputs": [
    {
     "name": "stdout",
     "output_type": "stream",
     "text": [
      "-10 -9 -8 -7 -6 -5 -4 -3 -2 -1 "
     ]
    }
   ],
   "source": [
    "# while loop\n",
    "\n",
    "i=-10\n",
    "while i<0:\n",
    "    print(i,end=' ')\n",
    "    i=i+1\n",
    "    "
   ]
  },
  {
   "cell_type": "code",
   "execution_count": null,
   "id": "5b93398a-ce23-43d5-9c2a-8dc8899368cf",
   "metadata": {},
   "outputs": [],
   "source": [
    "# wap to print -1 to -10 \n",
    "# using for loop and while loop"
   ]
  },
  {
   "cell_type": "code",
   "execution_count": 7,
   "id": "dec68c22-4257-41d6-8adf-e2bf7739ea2d",
   "metadata": {},
   "outputs": [
    {
     "name": "stdout",
     "output_type": "stream",
     "text": [
      "-1 -2 -3 -4 -5 -6 -7 -8 -9 -10 "
     ]
    }
   ],
   "source": [
    "for i in range(-1,-11,-1):\n",
    "    print(i,end=' ')"
   ]
  },
  {
   "cell_type": "code",
   "execution_count": 8,
   "id": "8bf493a5-f567-45cd-816f-6a298654f10a",
   "metadata": {},
   "outputs": [
    {
     "name": "stdout",
     "output_type": "stream",
     "text": [
      "-1 -2 -3 -4 -5 -6 -7 -8 -9 -10 "
     ]
    }
   ],
   "source": [
    "i=-1\n",
    "while i>-11:\n",
    "    print(i,end=' ')\n",
    "    i=i-1\n",
    "    "
   ]
  },
  {
   "cell_type": "code",
   "execution_count": null,
   "id": "4c39740d-1a60-4027-87d0-69bba812732b",
   "metadata": {},
   "outputs": [],
   "source": [
    "# wap to print 10 to 1 \n",
    "# using for loop and while loop"
   ]
  },
  {
   "cell_type": "code",
   "execution_count": 9,
   "id": "e00762e3-92f2-4199-8ae5-15e3785988a7",
   "metadata": {},
   "outputs": [
    {
     "name": "stdout",
     "output_type": "stream",
     "text": [
      "10 9 8 7 6 5 4 3 2 1 "
     ]
    }
   ],
   "source": [
    "for i in range(10,0,-1):\n",
    "    print(i,end=' ')"
   ]
  },
  {
   "cell_type": "code",
   "execution_count": 10,
   "id": "65bdad57-6f69-4f3d-ba0d-651ae9fc87e5",
   "metadata": {},
   "outputs": [
    {
     "name": "stdout",
     "output_type": "stream",
     "text": [
      "10 9 8 7 6 5 4 3 2 1 "
     ]
    }
   ],
   "source": [
    "i=10\n",
    "while i>0:\n",
    "    print(i,end=' ')\n",
    "    i=i-1\n",
    "    "
   ]
  },
  {
   "cell_type": "code",
   "execution_count": 11,
   "id": "d1bee686-7e9c-4918-abd6-2f7b5c298653",
   "metadata": {},
   "outputs": [
    {
     "name": "stdout",
     "output_type": "stream",
     "text": [
      "The square of 1 is 1\n",
      "The square of 2 is 4\n",
      "The square of 3 is 9\n",
      "The square of 4 is 16\n",
      "The square of 5 is 25\n"
     ]
    }
   ],
   "source": [
    "# 1)WAP ask the user print the square of the numbers from 1 to 5\n",
    "i=1\n",
    "while i<6:\n",
    "    print(f'The square of {i} is {i*i}')\n",
    "    i=i+1"
   ]
  },
  {
   "cell_type": "code",
   "execution_count": 6,
   "id": "d6876ebb-bbd3-4c7a-a1da-9ed102c543dc",
   "metadata": {},
   "outputs": [
    {
     "ename": "SyntaxError",
     "evalue": "'return' outside function (3594626079.py, line 8)",
     "output_type": "error",
     "traceback": [
      "\u001b[1;36m  Cell \u001b[1;32mIn[6], line 8\u001b[1;36m\u001b[0m\n\u001b[1;33m    return(f'The square of {i} is {i*i}')\u001b[0m\n\u001b[1;37m    ^\u001b[0m\n\u001b[1;31mSyntaxError\u001b[0m\u001b[1;31m:\u001b[0m 'return' outside function\n"
     ]
    }
   ],
   "source": [
    "# 2)WAP ask the user take 5 random numbers between 10 to 100\n",
    "# and print the square of the random numbers\n",
    "import random\n",
    "i=0\n",
    "while i<=5:\n",
    "    i=random.randint(10,100)\n",
    "    i=i+1\n",
    "\n",
    "for i in numbers:\n",
    "    print(f'The square of {i} is {i*i}')"
   ]
  },
  {
   "cell_type": "code",
   "execution_count": 10,
   "id": "98831b74-9ffe-42cc-a853-1e8c3e64b08a",
   "metadata": {},
   "outputs": [
    {
     "name": "stdout",
     "output_type": "stream",
     "text": [
      "The square of 34 is 1156\n",
      "The square of 24 is 576\n",
      "The square of 34 is 1156\n",
      "The square of 56 is 3136\n",
      "The square of 67 is 4489\n"
     ]
    }
   ],
   "source": [
    "import random\n",
    "i=0\n",
    "while i<5:\n",
    "    i=random.randint(10,100)\n",
    "    i=i+1\n",
    "    \n",
    "for i in numbers:\n",
    "    print(f'The square of {i} is {i*i}')\n"
   ]
  },
  {
   "cell_type": "code",
   "execution_count": 12,
   "id": "43e27481-dbed-42af-8cb5-29b1660d6504",
   "metadata": {},
   "outputs": [
    {
     "name": "stdout",
     "output_type": "stream",
     "text": [
      "The square of 26 is 676\n",
      "The square of 89 is 7921\n",
      "The square of 25 is 625\n",
      "The square of 71 is 5041\n",
      "The square of 63 is 3969\n"
     ]
    }
   ],
   "source": [
    "# 3)Create a function on reuse code lines\n",
    "# call that function inside the for loop\n",
    "\n",
    "import random\n",
    "def square():\n",
    "    i=0\n",
    "    while i<=5:\n",
    "        i=random.randint(10,100)\n",
    "        i=i+1\n",
    "        return(f'The square of {i} is {i*i}')\n",
    "    \n",
    "for i in range(5):\n",
    "    ans=square()\n",
    "    print(ans)"
   ]
  },
  {
   "cell_type": "code",
   "execution_count": 13,
   "id": "ec62d471-8dec-4c91-8f15-774a9ad99616",
   "metadata": {},
   "outputs": [
    {
     "name": "stdout",
     "output_type": "stream",
     "text": [
      "11 is odd\n",
      "12 is even\n",
      "13 is odd\n",
      "14 is even\n",
      "15 is odd\n",
      "16 is even\n",
      "17 is odd\n",
      "18 is even\n",
      "19 is odd\n",
      "20 is even\n",
      "21 is odd\n"
     ]
    }
   ],
   "source": [
    "# 4)wap ask the user print the even or odd values between 11 to 21\n",
    "\n",
    "i=11\n",
    "while i<22:\n",
    "    if i%2==0:\n",
    "        print(f'{i} is even')\n",
    "    else:\n",
    "        print(f'{i} is odd')\n",
    "    i=i+1\n"
   ]
  },
  {
   "cell_type": "code",
   "execution_count": null,
   "id": "c5a4cf9c-f682-4f8c-9124-96351890e512",
   "metadata": {},
   "outputs": [],
   "source": [
    "# 5)wap ask the user enter a value from keyboard 5 times\n",
    "# print that value is even or odd\n",
    "\n",
    "i=0\n",
    "while i<5:\n",
    "    num=eval(input('Enter the value:'))\n",
    "    if num%2==0:\n",
    "         print(f'{num} is even')\n",
    "    else:\n",
    "        print(f'{num} is odd')\n",
    "    i=i+1\n",
    "\n"
   ]
  },
  {
   "cell_type": "code",
   "execution_count": null,
   "id": "27b7f57a-2201-48ed-8806-4db3e638a761",
   "metadata": {},
   "outputs": [],
   "source": [
    "#6)Wap to create 9th table\n",
    "\n",
    "i=1\n",
    "while i<11:\n",
    "    print(f'9 x {i} = {9*i}')\n",
    "    i=i+1\n",
    "    "
   ]
  },
  {
   "cell_type": "code",
   "execution_count": 14,
   "id": "7b7d1140-8dcc-441f-8248-f57c5245165e",
   "metadata": {},
   "outputs": [
    {
     "name": "stdout",
     "output_type": "stream",
     "text": [
      "1\n",
      "2\n",
      "5\n",
      "10\n",
      "25\n",
      "50\n"
     ]
    }
   ],
   "source": [
    "#7Q) WAP to print the divisiors of number 50\n",
    "\n",
    "i=1\n",
    "while i<51:\n",
    "    if 50%i==0:\n",
    "        print(i)\n",
    "    i=i+1\n",
    "    "
   ]
  },
  {
   "cell_type": "code",
   "execution_count": null,
   "id": "ec347ea8-2534-45b0-8880-1ccf6f6a9ba0",
   "metadata": {},
   "outputs": [],
   "source": [
    "#Q8) WAP print the sum of first 10 natural numbers \n",
    "\n",
    "summ=0\n",
    "i=1\n",
    "while i<11:\n",
    "    summ=summ+i\n",
    "    i=i+1\n",
    "print('The sum of first 10 natural numbers is',summ)\n",
    "    "
   ]
  },
  {
   "cell_type": "code",
   "execution_count": null,
   "id": "6820ac94-ffd9-437e-91ae-9a8e23d4a743",
   "metadata": {},
   "outputs": [],
   "source": [
    "#9Q) How many divisors are availble for 50\n",
    "\n",
    "count=0\n",
    "i=1\n",
    "while i<51:\n",
    "    if 50%i==0:\n",
    "        count=count+1\n",
    "    i=i+1\n",
    "\n",
    "print(f'The number of divisors of 50 is {count}')"
   ]
  },
  {
   "cell_type": "code",
   "execution_count": null,
   "id": "5a3c5077-ee63-4cdd-9d2f-e780569aff34",
   "metadata": {},
   "outputs": [],
   "source": [
    "# 10Q)\n",
    "# Ask the user enter one number from keyboard\n",
    "# ask the user get the second number randomly from 1 to 10\n",
    "# if num1 == num2  then print you won\n",
    "# otherwise print you lost\n",
    "# Iterate these lines 3 times\n",
    "\n",
    "# Case-2: give 5 chances\n",
    "# whenever fail print the number of chances left\n",
    "\n",
    "# case-3: Suppose your all chances are over\n",
    "#  print your account locked try after 24hours"
   ]
  },
  {
   "cell_type": "code",
   "execution_count": null,
   "id": "0d2f7d9c-9d10-4aff-99fb-6434f0d80518",
   "metadata": {},
   "outputs": [],
   "source": [
    "# Ask the user enter one number from keyboard\n",
    "# ask the user get the second number randomly from 1 to 10\n",
    "# if num1 == num2  then print you won\n",
    "# otherwise print you lost\n",
    "# Iterate these lines 3 times\n",
    "\n",
    "import random\n",
    "i=0\n",
    "n1=random.randint(1,10)\n",
    "while i<3:\n",
    "    n2=eval(input('Enter the number:'))\n",
    "    if n1==n2:\n",
    "        print('You Won')\n",
    "        break\n",
    "    else:\n",
    "        print('You Lost')\n",
    "    i=i+1"
   ]
  },
  {
   "cell_type": "code",
   "execution_count": null,
   "id": "a95f0401-fc06-467e-9376-8a52d1351316",
   "metadata": {},
   "outputs": [],
   "source": [
    "# Case-2: give 5 chances\n",
    "# whenever fail print the number of chances left\n",
    "\n",
    "# case-3: Suppose your all chances are over\n",
    "#  print your account locked try after 24hours\n",
    "\n",
    "import random\n",
    "chance=5\n",
    "i=0\n",
    "while i<5:\n",
    "    chance=chance-1\n",
    "    n1=random.randint(1,10)\n",
    "    n2=eval(input('Enter the number:'))\n",
    "    if n1==n2:\n",
    "        print('You Won')\n",
    "        break\n",
    "    else:\n",
    "        print(f'The random number: {n1}')\n",
    "        print('You Lost')\n",
    "        print(f'Chances left: {chance}')\n",
    "        if chance==0:\n",
    "            print('Your account is locked try after 24 hours')\n",
    "        i=i+1"
   ]
  },
  {
   "cell_type": "code",
   "execution_count": null,
   "id": "39b961a6-765a-4c7d-89ff-9c60a71245c7",
   "metadata": {},
   "outputs": [],
   "source": []
  }
 ],
 "metadata": {
  "kernelspec": {
   "display_name": "Python 3 (ipykernel)",
   "language": "python",
   "name": "python3"
  },
  "language_info": {
   "codemirror_mode": {
    "name": "ipython",
    "version": 3
   },
   "file_extension": ".py",
   "mimetype": "text/x-python",
   "name": "python",
   "nbconvert_exporter": "python",
   "pygments_lexer": "ipython3",
   "version": "3.11.7"
  }
 },
 "nbformat": 4,
 "nbformat_minor": 5
}
