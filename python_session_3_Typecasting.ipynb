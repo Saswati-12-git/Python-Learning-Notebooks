{
 "cells": [
  {
   "cell_type": "markdown",
   "id": "2f082fa8-659f-4624-811b-59681fc26342",
   "metadata": {},
   "source": [
    "**Type Casting**\n",
    "\n",
    "Convert one data type to another data type\n",
    "\n",
    "- Integer\n",
    "\n",
    "- float\n",
    "\n",
    "- String\n",
    "\n",
    "- boolean\n",
    "\n",
    "**Integer toall other data types**\n",
    "\n",
    "- Integer to float\n",
    "\n",
    "- Integer to string\n",
    "\n",
    "- Integer to boolean\n",
    "\n"
   ]
  },
  {
   "cell_type": "code",
   "execution_count": 1,
   "id": "8ccde96f-3818-43d6-8680-1f5c12a49fd8",
   "metadata": {},
   "outputs": [
    {
     "data": {
      "text/plain": [
       "int"
      ]
     },
     "execution_count": 1,
     "metadata": {},
     "output_type": "execute_result"
    }
   ],
   "source": [
    "number=100\n",
    "type(number)"
   ]
  },
  {
   "cell_type": "code",
   "execution_count": 2,
   "id": "4a972605-117d-4296-83a1-237d87be449a",
   "metadata": {},
   "outputs": [
    {
     "data": {
      "text/plain": [
       "100.0"
      ]
     },
     "execution_count": 2,
     "metadata": {},
     "output_type": "execute_result"
    }
   ],
   "source": [
    "float(number)  #float conversion"
   ]
  },
  {
   "cell_type": "code",
   "execution_count": 3,
   "id": "8a5381a2-e815-46ac-a302-b49436b8b2c3",
   "metadata": {},
   "outputs": [],
   "source": [
    "number_float=float(number)"
   ]
  },
  {
   "cell_type": "code",
   "execution_count": 4,
   "id": "50d86fa7-7a6b-426b-897a-cc5e26c2280f",
   "metadata": {},
   "outputs": [
    {
     "data": {
      "text/plain": [
       "(100, 100.0)"
      ]
     },
     "execution_count": 4,
     "metadata": {},
     "output_type": "execute_result"
    }
   ],
   "source": [
    "number,number_float"
   ]
  },
  {
   "cell_type": "code",
   "execution_count": 5,
   "id": "5f289e48-6d0d-4141-9638-0a5c0cf0f559",
   "metadata": {},
   "outputs": [
    {
     "data": {
      "text/plain": [
       "(int, float)"
      ]
     },
     "execution_count": 5,
     "metadata": {},
     "output_type": "execute_result"
    }
   ],
   "source": [
    "type(number),type(number_float)"
   ]
  },
  {
   "cell_type": "code",
   "execution_count": 6,
   "id": "b68231c7-d106-4c02-bffa-718ead55f187",
   "metadata": {},
   "outputs": [
    {
     "data": {
      "text/plain": [
       "'100'"
      ]
     },
     "execution_count": 6,
     "metadata": {},
     "output_type": "execute_result"
    }
   ],
   "source": [
    "str(number)   #string conversion"
   ]
  },
  {
   "cell_type": "code",
   "execution_count": 7,
   "id": "5b7e14c2-e9de-4d4b-a0c7-a0f3467b200f",
   "metadata": {},
   "outputs": [],
   "source": [
    "number_str=str(number)"
   ]
  },
  {
   "cell_type": "code",
   "execution_count": 11,
   "id": "58f2bc54-34d2-4a33-8b47-2c2b8cdea1c5",
   "metadata": {},
   "outputs": [
    {
     "data": {
      "text/plain": [
       "(100, 100.0, '100')"
      ]
     },
     "execution_count": 11,
     "metadata": {},
     "output_type": "execute_result"
    }
   ],
   "source": [
    "number,number_float,number_str"
   ]
  },
  {
   "cell_type": "code",
   "execution_count": 12,
   "id": "455da801-6137-4e45-85db-b356d0488235",
   "metadata": {},
   "outputs": [
    {
     "data": {
      "text/plain": [
       "(int, float, str)"
      ]
     },
     "execution_count": 12,
     "metadata": {},
     "output_type": "execute_result"
    }
   ],
   "source": [
    "type(number),type(number_float),type(number_str)"
   ]
  },
  {
   "cell_type": "code",
   "execution_count": 9,
   "id": "b971b660-c555-4dab-a7ff-412f032b5e40",
   "metadata": {},
   "outputs": [
    {
     "data": {
      "text/plain": [
       "True"
      ]
     },
     "execution_count": 9,
     "metadata": {},
     "output_type": "execute_result"
    }
   ],
   "source": [
    "bool(number)   #boolean convesion"
   ]
  },
  {
   "cell_type": "code",
   "execution_count": 13,
   "id": "626bb825-8b4d-4681-adf6-4a411460e1b6",
   "metadata": {},
   "outputs": [],
   "source": [
    "number_bool=bool(number)"
   ]
  },
  {
   "cell_type": "code",
   "execution_count": 14,
   "id": "b7e48fb2-0c99-4dd5-8072-ff3f9dcf8874",
   "metadata": {},
   "outputs": [
    {
     "data": {
      "text/plain": [
       "(100, 100.0, '100', True)"
      ]
     },
     "execution_count": 14,
     "metadata": {},
     "output_type": "execute_result"
    }
   ],
   "source": [
    "number,number_float,number_str,number_bool"
   ]
  },
  {
   "cell_type": "code",
   "execution_count": 15,
   "id": "4e19cdc4-9ac2-4b3f-83aa-1aea51c7c624",
   "metadata": {},
   "outputs": [
    {
     "data": {
      "text/plain": [
       "(int, float, str, bool)"
      ]
     },
     "execution_count": 15,
     "metadata": {},
     "output_type": "execute_result"
    }
   ],
   "source": [
    "type(number),type(number_float),type(number_str),type(number_bool)"
   ]
  },
  {
   "cell_type": "code",
   "execution_count": 17,
   "id": "00f4d678-4fa3-4654-bf96-c26bdcabbc37",
   "metadata": {},
   "outputs": [
    {
     "data": {
      "text/plain": [
       "(200, 200.0, '200', True)"
      ]
     },
     "execution_count": 17,
     "metadata": {},
     "output_type": "execute_result"
    }
   ],
   "source": [
    "number1=200                   #int\n",
    "number1_float=float(number1)  #float\n",
    "number1_str=str(number1)      #string\n",
    "number1_bool=bool(number1)    #bool\n",
    "\n",
    "number1,number1_float,number1_str,number1_bool"
   ]
  },
  {
   "cell_type": "code",
   "execution_count": 18,
   "id": "8d2c5bb3-9326-48b2-85d1-a07dfe395399",
   "metadata": {},
   "outputs": [
    {
     "data": {
      "text/plain": [
       "(True, True, False)"
      ]
     },
     "execution_count": 18,
     "metadata": {},
     "output_type": "execute_result"
    }
   ],
   "source": [
    "bool(100),bool(-100),bool(0)"
   ]
  },
  {
   "cell_type": "markdown",
   "id": "cce438fc-dcb2-4193-97aa-a65bfa7fd862",
   "metadata": {},
   "source": [
    "**Note**\n",
    "\n",
    "- Boolean convesion of 0 gives False\n",
    "\n",
    "- Boolean conversion of +ve and -ve integer number gives True"
   ]
  },
  {
   "cell_type": "code",
   "execution_count": 21,
   "id": "7f5b7f01-a702-4c8e-bf03-b8d828f13de7",
   "metadata": {},
   "outputs": [
    {
     "data": {
      "text/plain": [
       "20"
      ]
     },
     "execution_count": 21,
     "metadata": {},
     "output_type": "execute_result"
    }
   ],
   "source": [
    "a=10\n",
    "b=20\n",
    "a\n",
    "b\n",
    "\n",
    "#if we are write this it only provide the last variables value"
   ]
  },
  {
   "cell_type": "code",
   "execution_count": 22,
   "id": "34ca94d0-d5e0-418c-abc2-e1c33e48b953",
   "metadata": {},
   "outputs": [
    {
     "name": "stdout",
     "output_type": "stream",
     "text": [
      "10\n",
      "20\n"
     ]
    }
   ],
   "source": [
    "a=10\n",
    "b=20\n",
    "print(a)\n",
    "print(b)\n",
    "\n",
    "#for getting the two output we can write print in the code"
   ]
  },
  {
   "cell_type": "code",
   "execution_count": 23,
   "id": "69535668-a3f2-48b8-8dd2-6422be2876fc",
   "metadata": {},
   "outputs": [
    {
     "data": {
      "text/plain": [
       "(10, 20)"
      ]
     },
     "execution_count": 23,
     "metadata": {},
     "output_type": "execute_result"
    }
   ],
   "source": [
    "a=10\n",
    "b=20\n",
    "a,b\n",
    "\n",
    "#or we can write in this type\n"
   ]
  },
  {
   "cell_type": "markdown",
   "id": "76c6e628-5e05-4774-8aad-1d271551a635",
   "metadata": {},
   "source": [
    "**Float to other data type**\n",
    "\n",
    "- Float to integer\n",
    "\n",
    "- Float to string\n",
    "\n",
    "- Float to boolean"
   ]
  },
  {
   "cell_type": "code",
   "execution_count": 25,
   "id": "ca8d0ade-33d6-48f1-909f-9b3e6e624dc0",
   "metadata": {},
   "outputs": [
    {
     "data": {
      "text/plain": [
       "(100, '100.25', True, False)"
      ]
     },
     "execution_count": 25,
     "metadata": {},
     "output_type": "execute_result"
    }
   ],
   "source": [
    "number2=100.25\n",
    "int(number2),str(number2),bool(number2),bool(0.0)"
   ]
  },
  {
   "cell_type": "code",
   "execution_count": null,
   "id": "74bf0848-b042-476f-ade4-5ef1f910d245",
   "metadata": {},
   "outputs": [],
   "source": [
    "int(100.25)   #100\n",
    "str(100.25)   #'100.25'\n",
    "bool(100.25)  #True\n",
    "bool(0.0)     #False"
   ]
  },
  {
   "cell_type": "code",
   "execution_count": 26,
   "id": "60bb537d-68d8-49d6-b658-1ef674e1ee83",
   "metadata": {},
   "outputs": [
    {
     "name": "stdout",
     "output_type": "stream",
     "text": [
      "python\n"
     ]
    }
   ],
   "source": [
    "print('python')\n",
    "\n",
    "#because we are printing here, so the quoates are not coming"
   ]
  },
  {
   "cell_type": "markdown",
   "id": "4789a777-761d-458d-a6a7-76f6250f58e9",
   "metadata": {},
   "source": [
    "**String to all other data types**\n",
    "\n",
    "- String to integer\n",
    "\n",
    "- String to float\n",
    "\n",
    "- String to bool"
   ]
  },
  {
   "cell_type": "code",
   "execution_count": 28,
   "id": "b054e458-196a-44ff-befc-7559236cf1fb",
   "metadata": {},
   "outputs": [
    {
     "data": {
      "text/plain": [
       "str"
      ]
     },
     "execution_count": 28,
     "metadata": {},
     "output_type": "execute_result"
    }
   ],
   "source": [
    "type('100')"
   ]
  },
  {
   "cell_type": "code",
   "execution_count": 29,
   "id": "489b4ce4-2d96-417a-9fec-1ffc6f24e979",
   "metadata": {},
   "outputs": [
    {
     "data": {
      "text/plain": [
       "str"
      ]
     },
     "execution_count": 29,
     "metadata": {},
     "output_type": "execute_result"
    }
   ],
   "source": [
    "type('python')"
   ]
  },
  {
   "cell_type": "code",
   "execution_count": 30,
   "id": "29c663cf-0e02-4764-bdfb-b5133e1d9241",
   "metadata": {},
   "outputs": [
    {
     "data": {
      "text/plain": [
       "str"
      ]
     },
     "execution_count": 30,
     "metadata": {},
     "output_type": "execute_result"
    }
   ],
   "source": [
    "type('100.25')"
   ]
  },
  {
   "cell_type": "markdown",
   "id": "e79390ed-e3d1-490a-beb4-9c4d892983d2",
   "metadata": {},
   "source": [
    "$Case-1$"
   ]
  },
  {
   "cell_type": "code",
   "execution_count": null,
   "id": "aba23654-e364-4a76-ac49-570e4d5079f0",
   "metadata": {},
   "outputs": [],
   "source": [
    "# string to all oher data type\n",
    "int('100')       #100\n",
    "float('100.25')  #100.25\n",
    "bool('100')      #True"
   ]
  },
  {
   "cell_type": "code",
   "execution_count": 33,
   "id": "5882f0f8-93f9-44ef-a484-6ecfe4a9a784",
   "metadata": {},
   "outputs": [
    {
     "data": {
      "text/plain": [
       "100"
      ]
     },
     "execution_count": 33,
     "metadata": {},
     "output_type": "execute_result"
    }
   ],
   "source": [
    "int('100')"
   ]
  },
  {
   "cell_type": "code",
   "execution_count": 34,
   "id": "9272b00c-91a6-4aa8-af2a-ad89cc90e625",
   "metadata": {},
   "outputs": [
    {
     "data": {
      "text/plain": [
       "100.25"
      ]
     },
     "execution_count": 34,
     "metadata": {},
     "output_type": "execute_result"
    }
   ],
   "source": [
    "float('100.25')"
   ]
  },
  {
   "cell_type": "code",
   "execution_count": 35,
   "id": "ec781b6d-936c-4fd6-998e-82d68d08554b",
   "metadata": {},
   "outputs": [
    {
     "data": {
      "text/plain": [
       "True"
      ]
     },
     "execution_count": 35,
     "metadata": {},
     "output_type": "execute_result"
    }
   ],
   "source": [
    "bool('100')"
   ]
  },
  {
   "cell_type": "markdown",
   "id": "4b1ba006-f489-449f-944f-5a0b7823ac0e",
   "metadata": {},
   "source": [
    "$Case-2$"
   ]
  },
  {
   "cell_type": "code",
   "execution_count": null,
   "id": "1d5731e9-35f7-4b8f-9481-361a16ee425a",
   "metadata": {},
   "outputs": [],
   "source": [
    "int('100.25')     #Fails\n",
    "float('100.25')   #100.25\n",
    "bool('100.25')    #True"
   ]
  },
  {
   "cell_type": "code",
   "execution_count": 36,
   "id": "351ca0e4-7abb-422a-8980-07c7c0af8690",
   "metadata": {},
   "outputs": [
    {
     "ename": "ValueError",
     "evalue": "invalid literal for int() with base 10: '100.25'",
     "output_type": "error",
     "traceback": [
      "\u001b[1;31m---------------------------------------------------------------------------\u001b[0m",
      "\u001b[1;31mValueError\u001b[0m                                Traceback (most recent call last)",
      "Cell \u001b[1;32mIn[36], line 1\u001b[0m\n\u001b[1;32m----> 1\u001b[0m \u001b[38;5;28mint\u001b[39m(\u001b[38;5;124m'\u001b[39m\u001b[38;5;124m100.25\u001b[39m\u001b[38;5;124m'\u001b[39m)\n",
      "\u001b[1;31mValueError\u001b[0m: invalid literal for int() with base 10: '100.25'"
     ]
    }
   ],
   "source": [
    "int('100.25')"
   ]
  },
  {
   "cell_type": "code",
   "execution_count": 37,
   "id": "5c8e399a-34d3-4602-93f9-6d0a9877bc89",
   "metadata": {},
   "outputs": [
    {
     "data": {
      "text/plain": [
       "100.25"
      ]
     },
     "execution_count": 37,
     "metadata": {},
     "output_type": "execute_result"
    }
   ],
   "source": [
    "float('100.25')"
   ]
  },
  {
   "cell_type": "code",
   "execution_count": 38,
   "id": "5f45c44f-bd0f-45b7-8401-9ac9fe565075",
   "metadata": {},
   "outputs": [
    {
     "data": {
      "text/plain": [
       "True"
      ]
     },
     "execution_count": 38,
     "metadata": {},
     "output_type": "execute_result"
    }
   ],
   "source": [
    "bool('100.25')"
   ]
  },
  {
   "cell_type": "code",
   "execution_count": 39,
   "id": "bc1b38d4-90d7-4039-afca-e1220c449dff",
   "metadata": {},
   "outputs": [
    {
     "data": {
      "text/plain": [
       "(100.0, 100.25)"
      ]
     },
     "execution_count": 39,
     "metadata": {},
     "output_type": "execute_result"
    }
   ],
   "source": [
    "float('100'),float('100.25')"
   ]
  },
  {
   "cell_type": "code",
   "execution_count": null,
   "id": "7d90a492-77e8-49b7-938b-bde5f9752985",
   "metadata": {},
   "outputs": [],
   "source": [
    "int('100')     # works\n",
    "int('100.25')  # Fails"
   ]
  },
  {
   "cell_type": "markdown",
   "id": "4489597b-92d4-4adf-9cba-cc3a5073befc",
   "metadata": {},
   "source": [
    "**Note**\n",
    "\n",
    "- Float is the boss(float will never give you error)\n",
    "\n",
    "- integer conversion of float value in string format will fails"
   ]
  },
  {
   "cell_type": "code",
   "execution_count": null,
   "id": "2a66590d-0cd0-4b6f-b066-9879d064ac03",
   "metadata": {},
   "outputs": [],
   "source": [
    "int(100.25)     #works\n",
    "int('100.25')   #fails\n",
    "int(100)        #works\n",
    "int('100')      #works"
   ]
  },
  {
   "cell_type": "code",
   "execution_count": 40,
   "id": "14dc3ba3-a770-46ec-8eb1-cbb52fb61ddf",
   "metadata": {},
   "outputs": [
    {
     "data": {
      "text/plain": [
       "100"
      ]
     },
     "execution_count": 40,
     "metadata": {},
     "output_type": "execute_result"
    }
   ],
   "source": [
    "int(100.25)"
   ]
  },
  {
   "cell_type": "code",
   "execution_count": 41,
   "id": "754b2c90-cdf0-4aa9-8081-b563fb2dcfb3",
   "metadata": {},
   "outputs": [
    {
     "ename": "ValueError",
     "evalue": "invalid literal for int() with base 10: '100.25'",
     "output_type": "error",
     "traceback": [
      "\u001b[1;31m---------------------------------------------------------------------------\u001b[0m",
      "\u001b[1;31mValueError\u001b[0m                                Traceback (most recent call last)",
      "Cell \u001b[1;32mIn[41], line 1\u001b[0m\n\u001b[1;32m----> 1\u001b[0m \u001b[38;5;28mint\u001b[39m(\u001b[38;5;124m'\u001b[39m\u001b[38;5;124m100.25\u001b[39m\u001b[38;5;124m'\u001b[39m)\n",
      "\u001b[1;31mValueError\u001b[0m: invalid literal for int() with base 10: '100.25'"
     ]
    }
   ],
   "source": [
    "int('100.25') "
   ]
  },
  {
   "cell_type": "code",
   "execution_count": 42,
   "id": "48b2f756-409e-4c3b-a95a-908a4731cc3f",
   "metadata": {},
   "outputs": [
    {
     "data": {
      "text/plain": [
       "100"
      ]
     },
     "execution_count": 42,
     "metadata": {},
     "output_type": "execute_result"
    }
   ],
   "source": [
    "int(100) "
   ]
  },
  {
   "cell_type": "code",
   "execution_count": 43,
   "id": "7bae59b7-b1bb-428d-a92e-307e02ba927f",
   "metadata": {},
   "outputs": [
    {
     "data": {
      "text/plain": [
       "100"
      ]
     },
     "execution_count": 43,
     "metadata": {},
     "output_type": "execute_result"
    }
   ],
   "source": [
    "int('100')"
   ]
  },
  {
   "cell_type": "code",
   "execution_count": null,
   "id": "8c69467b-892c-40b0-ace9-bd19c5c2abde",
   "metadata": {},
   "outputs": [],
   "source": [
    "float(100.25)    #works   #100\n",
    "float(100)       #works   #100.0\n",
    "float('100')     #works   #100.0\n",
    "float('100.25')  #works   #100.25"
   ]
  },
  {
   "cell_type": "code",
   "execution_count": 44,
   "id": "9eaa510c-d087-4a01-8952-10b80c99fc9d",
   "metadata": {},
   "outputs": [
    {
     "data": {
      "text/plain": [
       "100.25"
      ]
     },
     "execution_count": 44,
     "metadata": {},
     "output_type": "execute_result"
    }
   ],
   "source": [
    "float(100.25)"
   ]
  },
  {
   "cell_type": "code",
   "execution_count": 45,
   "id": "bf411a0b-d137-49cf-9f5a-bc5ded83eb57",
   "metadata": {},
   "outputs": [
    {
     "data": {
      "text/plain": [
       "100.0"
      ]
     },
     "execution_count": 45,
     "metadata": {},
     "output_type": "execute_result"
    }
   ],
   "source": [
    "float(100)"
   ]
  },
  {
   "cell_type": "code",
   "execution_count": 46,
   "id": "e3e262d3-d5cc-44d7-bbd6-ba3f57e6b716",
   "metadata": {},
   "outputs": [
    {
     "data": {
      "text/plain": [
       "100.0"
      ]
     },
     "execution_count": 46,
     "metadata": {},
     "output_type": "execute_result"
    }
   ],
   "source": [
    "float('100')"
   ]
  },
  {
   "cell_type": "code",
   "execution_count": 47,
   "id": "b4f35b4d-6636-4ca4-92bf-a5565421afbe",
   "metadata": {},
   "outputs": [
    {
     "data": {
      "text/plain": [
       "100.25"
      ]
     },
     "execution_count": 47,
     "metadata": {},
     "output_type": "execute_result"
    }
   ],
   "source": [
    "float('100.25')"
   ]
  },
  {
   "cell_type": "code",
   "execution_count": null,
   "id": "a03217e8-e926-4553-9577-103e77aeee3b",
   "metadata": {},
   "outputs": [],
   "source": [
    "# Integer will accept the float value    ex:  int(100.15)    works\n",
    "\n",
    "# Integer wont accept the float value in string format    ex:  int('100.25')     fails"
   ]
  },
  {
   "cell_type": "markdown",
   "id": "bb97ce45-2856-465e-b46f-b342bf5f6db9",
   "metadata": {},
   "source": [
    "$Case-3$"
   ]
  },
  {
   "cell_type": "code",
   "execution_count": null,
   "id": "da943c42-342c-4553-9de5-dd6d5004aca3",
   "metadata": {},
   "outputs": [],
   "source": [
    "int('python')      # Fails\n",
    "float('python')    # Fails\n",
    "bool('python')     # True"
   ]
  },
  {
   "cell_type": "code",
   "execution_count": 48,
   "id": "c84722f8-12be-4757-acab-5f10eef98403",
   "metadata": {},
   "outputs": [
    {
     "ename": "ValueError",
     "evalue": "invalid literal for int() with base 10: 'python'",
     "output_type": "error",
     "traceback": [
      "\u001b[1;31m---------------------------------------------------------------------------\u001b[0m",
      "\u001b[1;31mValueError\u001b[0m                                Traceback (most recent call last)",
      "Cell \u001b[1;32mIn[48], line 1\u001b[0m\n\u001b[1;32m----> 1\u001b[0m \u001b[38;5;28mint\u001b[39m(\u001b[38;5;124m'\u001b[39m\u001b[38;5;124mpython\u001b[39m\u001b[38;5;124m'\u001b[39m)\n",
      "\u001b[1;31mValueError\u001b[0m: invalid literal for int() with base 10: 'python'"
     ]
    }
   ],
   "source": [
    "int('python') "
   ]
  },
  {
   "cell_type": "code",
   "execution_count": 49,
   "id": "a468bf7a-aa3f-4db5-a265-961fcd5438f2",
   "metadata": {},
   "outputs": [
    {
     "ename": "ValueError",
     "evalue": "could not convert string to float: 'python'",
     "output_type": "error",
     "traceback": [
      "\u001b[1;31m---------------------------------------------------------------------------\u001b[0m",
      "\u001b[1;31mValueError\u001b[0m                                Traceback (most recent call last)",
      "Cell \u001b[1;32mIn[49], line 1\u001b[0m\n\u001b[1;32m----> 1\u001b[0m \u001b[38;5;28mfloat\u001b[39m(\u001b[38;5;124m'\u001b[39m\u001b[38;5;124mpython\u001b[39m\u001b[38;5;124m'\u001b[39m)\n",
      "\u001b[1;31mValueError\u001b[0m: could not convert string to float: 'python'"
     ]
    }
   ],
   "source": [
    "float('python')"
   ]
  },
  {
   "cell_type": "code",
   "execution_count": 50,
   "id": "2eb0a92e-c4f0-426c-a6ae-e2d7653ae55a",
   "metadata": {},
   "outputs": [
    {
     "data": {
      "text/plain": [
       "True"
      ]
     },
     "execution_count": 50,
     "metadata": {},
     "output_type": "execute_result"
    }
   ],
   "source": [
    "bool('python')"
   ]
  },
  {
   "cell_type": "markdown",
   "id": "5188df6d-5a24-4e1b-9ae3-1b8d831f8ebe",
   "metadata": {},
   "source": [
    "**Boolean to all other data type**\n",
    "\n",
    "- Boolean to int\n",
    "\n",
    "- Boolean to float\n",
    "\n",
    "- Boolean to str"
   ]
  },
  {
   "cell_type": "code",
   "execution_count": null,
   "id": "fcbec609-ece5-4874-9cb5-c680c077bca3",
   "metadata": {},
   "outputs": [],
   "source": [
    "bool('100')         # True\n",
    "bool('100.25')      # True\n",
    "bool('0')           # True\n",
    "bool('0.0')         # True\n",
    "bool('python')      # True\n",
    "bool(100)           # True\n",
    "bool(-100)          # True\n",
    "bool(100.25)        # True\n",
    "bool(0)             # False\n",
    "bool(0.0)           # False\n",
    "bool('')            # False"
   ]
  },
  {
   "cell_type": "code",
   "execution_count": 51,
   "id": "cd8e94ea-5756-4108-bfc2-7fef7e33083f",
   "metadata": {},
   "outputs": [
    {
     "data": {
      "text/plain": [
       "True"
      ]
     },
     "execution_count": 51,
     "metadata": {},
     "output_type": "execute_result"
    }
   ],
   "source": [
    "bool('100')"
   ]
  },
  {
   "cell_type": "code",
   "execution_count": 52,
   "id": "766bca96-944e-4cbd-b829-07e877532144",
   "metadata": {},
   "outputs": [
    {
     "data": {
      "text/plain": [
       "True"
      ]
     },
     "execution_count": 52,
     "metadata": {},
     "output_type": "execute_result"
    }
   ],
   "source": [
    "bool('100.25')"
   ]
  },
  {
   "cell_type": "code",
   "execution_count": 53,
   "id": "c15f57a8-fc58-4333-9a2a-14af1f1f126b",
   "metadata": {},
   "outputs": [
    {
     "data": {
      "text/plain": [
       "True"
      ]
     },
     "execution_count": 53,
     "metadata": {},
     "output_type": "execute_result"
    }
   ],
   "source": [
    "bool('0') "
   ]
  },
  {
   "cell_type": "code",
   "execution_count": 54,
   "id": "6237394f-2e5a-4f30-8b74-66383dfc7423",
   "metadata": {},
   "outputs": [
    {
     "data": {
      "text/plain": [
       "True"
      ]
     },
     "execution_count": 54,
     "metadata": {},
     "output_type": "execute_result"
    }
   ],
   "source": [
    "bool('0.0')"
   ]
  },
  {
   "cell_type": "code",
   "execution_count": 55,
   "id": "fe63c893-14fe-4575-8995-1be4e5d6f1eb",
   "metadata": {},
   "outputs": [
    {
     "data": {
      "text/plain": [
       "True"
      ]
     },
     "execution_count": 55,
     "metadata": {},
     "output_type": "execute_result"
    }
   ],
   "source": [
    "bool('python') "
   ]
  },
  {
   "cell_type": "code",
   "execution_count": 56,
   "id": "71942ecf-d880-45f0-8dbb-2496d4214f9a",
   "metadata": {},
   "outputs": [
    {
     "data": {
      "text/plain": [
       "True"
      ]
     },
     "execution_count": 56,
     "metadata": {},
     "output_type": "execute_result"
    }
   ],
   "source": [
    "bool(100)"
   ]
  },
  {
   "cell_type": "code",
   "execution_count": 57,
   "id": "2a7c54d0-d2c9-4adc-a579-7a128bb49a26",
   "metadata": {},
   "outputs": [
    {
     "data": {
      "text/plain": [
       "True"
      ]
     },
     "execution_count": 57,
     "metadata": {},
     "output_type": "execute_result"
    }
   ],
   "source": [
    "bool(-100) "
   ]
  },
  {
   "cell_type": "code",
   "execution_count": 58,
   "id": "e52623f2-7d3c-4fe5-a790-a0134338b858",
   "metadata": {},
   "outputs": [
    {
     "data": {
      "text/plain": [
       "True"
      ]
     },
     "execution_count": 58,
     "metadata": {},
     "output_type": "execute_result"
    }
   ],
   "source": [
    "bool(100.25) "
   ]
  },
  {
   "cell_type": "code",
   "execution_count": 59,
   "id": "5e3ad798-5394-40c0-889c-e4c410983832",
   "metadata": {},
   "outputs": [
    {
     "data": {
      "text/plain": [
       "False"
      ]
     },
     "execution_count": 59,
     "metadata": {},
     "output_type": "execute_result"
    }
   ],
   "source": [
    "bool(0) "
   ]
  },
  {
   "cell_type": "code",
   "execution_count": 60,
   "id": "2196cbe6-21c5-459d-a91b-04594a0467fb",
   "metadata": {},
   "outputs": [
    {
     "data": {
      "text/plain": [
       "False"
      ]
     },
     "execution_count": 60,
     "metadata": {},
     "output_type": "execute_result"
    }
   ],
   "source": [
    "bool(0.0) "
   ]
  },
  {
   "cell_type": "code",
   "execution_count": 61,
   "id": "ba1f7a1c-171a-4a01-96b0-a9be5ae4d1c0",
   "metadata": {},
   "outputs": [
    {
     "data": {
      "text/plain": [
       "False"
      ]
     },
     "execution_count": 61,
     "metadata": {},
     "output_type": "execute_result"
    }
   ],
   "source": [
    "bool('') "
   ]
  },
  {
   "cell_type": "markdown",
   "id": "aff48706-8a0c-4f3f-846b-0486a8c00791",
   "metadata": {},
   "source": [
    "**Note**\n",
    "\n",
    "- In boolean 0 means off\n",
    "\n",
    "- But in string empty space ('') means off"
   ]
  },
  {
   "cell_type": "code",
   "execution_count": null,
   "id": "95d5c464-1a0d-4629-aa17-9b3211344dc8",
   "metadata": {},
   "outputs": [],
   "source": [
    "int(100.25)      # 100\n",
    "int('100.25')    # Fails\n",
    "int(True)        # 1\n",
    "int(False)       # 0"
   ]
  },
  {
   "cell_type": "code",
   "execution_count": 62,
   "id": "e88f6959-01b7-40a5-ae79-a5170cb2386a",
   "metadata": {},
   "outputs": [
    {
     "data": {
      "text/plain": [
       "1"
      ]
     },
     "execution_count": 62,
     "metadata": {},
     "output_type": "execute_result"
    }
   ],
   "source": [
    "int(True) "
   ]
  },
  {
   "cell_type": "code",
   "execution_count": 63,
   "id": "64bb5d67-d4c7-45e5-884d-fafc65b04851",
   "metadata": {},
   "outputs": [
    {
     "data": {
      "text/plain": [
       "0"
      ]
     },
     "execution_count": 63,
     "metadata": {},
     "output_type": "execute_result"
    }
   ],
   "source": [
    "int(False)"
   ]
  },
  {
   "cell_type": "code",
   "execution_count": null,
   "id": "6a37940c-a94d-4e32-80e7-f44f44147edc",
   "metadata": {},
   "outputs": [],
   "source": [
    "float(100.25)      # 100.0\n",
    "float('100.25')    # 100.25\n",
    "float(True)        # 1.0\n",
    "float(False)       # 0.0"
   ]
  }
 ],
 "metadata": {
  "kernelspec": {
   "display_name": "Python 3 (ipykernel)",
   "language": "python",
   "name": "python3"
  },
  "language_info": {
   "codemirror_mode": {
    "name": "ipython",
    "version": 3
   },
   "file_extension": ".py",
   "mimetype": "text/x-python",
   "name": "python",
   "nbconvert_exporter": "python",
   "pygments_lexer": "ipython3",
   "version": "3.11.7"
  }
 },
 "nbformat": 4,
 "nbformat_minor": 5
}
