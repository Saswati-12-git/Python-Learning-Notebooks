{
 "cells": [
  {
   "cell_type": "markdown",
   "id": "9c4bda8e-042b-40c9-940a-488888b5c4a8",
   "metadata": {},
   "source": [
    "**Functions**\n",
    "\n",
    "- Reuse of code\n",
    "\n",
    "- Imagine you want to calculate tax of all tax payers\n",
    "\n",
    "- Suppose there are 100 tax payers are there\n",
    "\n",
    "- In order to calculate tax we required 5 lines of code\n",
    "\n",
    "- For 100 tax payers it will required 500 lines\n",
    "\n",
    "- This is not for the good approach\n",
    "\n",
    "- because 5 lines we are repeating for 100 members\n",
    "\n",
    "- here functions will help us how to use these 5 lines to all 100 tax payers"
   ]
  },
  {
   "cell_type": "code",
   "execution_count": 1,
   "id": "6a525026-2573-4ce4-aaf2-813176aebc5e",
   "metadata": {},
   "outputs": [
    {
     "name": "stdin",
     "output_type": "stream",
     "text": [
      "enter the salary: 60000\n",
      "enter the tax per: 10\n"
     ]
    },
    {
     "name": "stdout",
     "output_type": "stream",
     "text": [
      "The amount of tax pay is 6000.0\n"
     ]
    }
   ],
   "source": [
    "salary = eval(input('enter the salary:'))\n",
    "tax_per = eval(input('enter the tax per:'))\n",
    "tax_amount=salary*(tax_per/100)\n",
    "print(f'The amount of tax pay is {tax_amount}')"
   ]
  },
  {
   "cell_type": "code",
   "execution_count": null,
   "id": "c26c1f91-6de0-4513-8a0f-da33d51e4fab",
   "metadata": {},
   "outputs": [],
   "source": [
    "# syntax\n",
    "\n",
    "# def <function_name>():\n",
    "#     <code starts here>"
   ]
  },
  {
   "cell_type": "code",
   "execution_count": 2,
   "id": "a988e0b9-aac7-4252-bc51-0743efe1d016",
   "metadata": {},
   "outputs": [
    {
     "name": "stdout",
     "output_type": "stream",
     "text": [
      "30\n"
     ]
    }
   ],
   "source": [
    "n1=10\n",
    "n2=20\n",
    "add=n1+n2\n",
    "print(add)"
   ]
  },
  {
   "cell_type": "code",
   "execution_count": 3,
   "id": "41fb69b7-fef1-49e3-b0cc-b753f09ad74a",
   "metadata": {},
   "outputs": [],
   "source": [
    "def addition():\n",
    "    n1=10\n",
    "    n2=20\n",
    "    add=n1+n2\n",
    "    print(add)"
   ]
  },
  {
   "cell_type": "code",
   "execution_count": 4,
   "id": "bea97636-7a6c-46a7-81eb-e5469042bae4",
   "metadata": {},
   "outputs": [
    {
     "name": "stdout",
     "output_type": "stream",
     "text": [
      "30\n"
     ]
    }
   ],
   "source": [
    "addition()\n",
    "\n",
    "# call the function"
   ]
  },
  {
   "cell_type": "code",
   "execution_count": 5,
   "id": "2029749e-053e-45e3-b98f-4ae1753056bc",
   "metadata": {},
   "outputs": [
    {
     "data": {
      "text/plain": [
       "<function __main__.addition()>"
      ]
     },
     "execution_count": 5,
     "metadata": {},
     "output_type": "execute_result"
    }
   ],
   "source": [
    "addition\n",
    "\n",
    "# when we are not provide ()\n",
    "# the function is not callable, so we need to provide ()"
   ]
  },
  {
   "cell_type": "markdown",
   "id": "30c72a29-cb8c-4cda-87be-f2be3ca9534e",
   "metadata": {},
   "source": [
    "- first mistake you will forget bracekt while define function\n",
    "\n",
    "    - Syntax error\n",
    "\n",
    "- secind mistake you will forget abount colon:\n",
    "\n",
    "    - Syntax error\n",
    "\n",
    "- third mistake you will not given indentation\n",
    "\n",
    "    - Indentation error\n",
    "\n",
    "- fourth mistake you will copy the code you will forget to make the allignment\n",
    "\n",
    "    - Indentation error\n",
    "\n",
    "- fifth mistake: variable names and function name must be different\n",
    "\n",
    "    - This error you will get in future, when we create apps\n",
    "\n",
    "- sixth mistake: while calling a function you will forget brackets\n",
    "\n",
    "**Function also called a method**\n",
    "\n",
    "**whenever function is there brackets must**\n"
   ]
  },
  {
   "cell_type": "code",
   "execution_count": 6,
   "id": "2b189544-db75-4d5f-b19a-c28e35018770",
   "metadata": {},
   "outputs": [
    {
     "ename": "SyntaxError",
     "evalue": "expected '(' (2751339599.py, line 1)",
     "output_type": "error",
     "traceback": [
      "\u001b[1;36m  Cell \u001b[1;32mIn[6], line 1\u001b[1;36m\u001b[0m\n\u001b[1;33m    def addition:\u001b[0m\n\u001b[1;37m                ^\u001b[0m\n\u001b[1;31mSyntaxError\u001b[0m\u001b[1;31m:\u001b[0m expected '('\n"
     ]
    }
   ],
   "source": [
    "def addition:\n",
    "    n1=10\n",
    "    n2=20\n",
    "    add=n1+n2\n",
    "    print(add)\n",
    "\n",
    "addition()"
   ]
  },
  {
   "cell_type": "code",
   "execution_count": 8,
   "id": "327c0455-c27b-4742-94d8-d7932968ffb3",
   "metadata": {},
   "outputs": [
    {
     "ename": "SyntaxError",
     "evalue": "expected ':' (3340900007.py, line 1)",
     "output_type": "error",
     "traceback": [
      "\u001b[1;36m  Cell \u001b[1;32mIn[8], line 1\u001b[1;36m\u001b[0m\n\u001b[1;33m    def addition()\u001b[0m\n\u001b[1;37m                  ^\u001b[0m\n\u001b[1;31mSyntaxError\u001b[0m\u001b[1;31m:\u001b[0m expected ':'\n"
     ]
    }
   ],
   "source": [
    "def addition()\n",
    "    n1=10\n",
    "    n2=20\n",
    "    add=n1+n2\n",
    "    print(add)\n",
    "\n",
    "addition()"
   ]
  },
  {
   "cell_type": "code",
   "execution_count": 9,
   "id": "06f83506-2b58-446a-8dde-94f3a74e986a",
   "metadata": {},
   "outputs": [
    {
     "ename": "IndentationError",
     "evalue": "expected an indented block after function definition on line 1 (3036647340.py, line 2)",
     "output_type": "error",
     "traceback": [
      "\u001b[1;36m  Cell \u001b[1;32mIn[9], line 2\u001b[1;36m\u001b[0m\n\u001b[1;33m    n1=10\u001b[0m\n\u001b[1;37m    ^\u001b[0m\n\u001b[1;31mIndentationError\u001b[0m\u001b[1;31m:\u001b[0m expected an indented block after function definition on line 1\n"
     ]
    }
   ],
   "source": [
    "def addition():\n",
    "n1=10\n",
    "    n2=20\n",
    "    add=n1+n2\n",
    "    print(add)\n",
    "\n",
    "addition()"
   ]
  },
  {
   "cell_type": "code",
   "execution_count": 12,
   "id": "91ae1e13-8bed-45db-a9e5-93dc2e752fbd",
   "metadata": {},
   "outputs": [
    {
     "ename": "IndentationError",
     "evalue": "expected an indented block after function definition on line 1 (3686184983.py, line 2)",
     "output_type": "error",
     "traceback": [
      "\u001b[1;36m  Cell \u001b[1;32mIn[12], line 2\u001b[1;36m\u001b[0m\n\u001b[1;33m    n1=10\u001b[0m\n\u001b[1;37m    ^\u001b[0m\n\u001b[1;31mIndentationError\u001b[0m\u001b[1;31m:\u001b[0m expected an indented block after function definition on line 1\n"
     ]
    }
   ],
   "source": [
    "def addition():\n",
    "n1=10\n",
    "    n2=20\n",
    "add=n1+n2\n",
    "print(add)\n",
    "\n",
    "addition()"
   ]
  },
  {
   "cell_type": "code",
   "execution_count": 13,
   "id": "aa0a141e-5039-41a8-b5a8-6f00b0305e6c",
   "metadata": {},
   "outputs": [
    {
     "name": "stdout",
     "output_type": "stream",
     "text": [
      "30\n"
     ]
    }
   ],
   "source": [
    "def addition():\n",
    "    n1=10\n",
    "    n2=20\n",
    "    addition=n1+n2\n",
    "    print(addition)\n",
    "\n",
    "addition()"
   ]
  },
  {
   "cell_type": "code",
   "execution_count": 14,
   "id": "1e32aa9b-6676-4a70-bdf3-43142b7ba83a",
   "metadata": {},
   "outputs": [
    {
     "data": {
      "text/plain": [
       "<function __main__.addition()>"
      ]
     },
     "execution_count": 14,
     "metadata": {},
     "output_type": "execute_result"
    }
   ],
   "source": [
    "def addition():\n",
    "    n1=10\n",
    "    n2=20\n",
    "    add=n1+n2\n",
    "    print(add)\n",
    "\n",
    "addition"
   ]
  },
  {
   "cell_type": "code",
   "execution_count": 15,
   "id": "66fbdba5-48fb-4d5a-b83d-4a03681a9b25",
   "metadata": {},
   "outputs": [],
   "source": [
    "def addition():\n",
    "    n1=10\n",
    "    n2=20\n",
    "    add=n11111+n2\n",
    "    print(add)\n"
   ]
  },
  {
   "cell_type": "code",
   "execution_count": 16,
   "id": "6bdf5a94-4b7b-4dd4-b636-237e0d2a8d44",
   "metadata": {},
   "outputs": [
    {
     "ename": "NameError",
     "evalue": "name 'n11111' is not defined",
     "output_type": "error",
     "traceback": [
      "\u001b[1;31m---------------------------------------------------------------------------\u001b[0m",
      "\u001b[1;31mNameError\u001b[0m                                 Traceback (most recent call last)",
      "Cell \u001b[1;32mIn[16], line 1\u001b[0m\n\u001b[1;32m----> 1\u001b[0m addition()\n",
      "Cell \u001b[1;32mIn[15], line 4\u001b[0m, in \u001b[0;36maddition\u001b[1;34m()\u001b[0m\n\u001b[0;32m      2\u001b[0m n1\u001b[38;5;241m=\u001b[39m\u001b[38;5;241m10\u001b[39m\n\u001b[0;32m      3\u001b[0m n2\u001b[38;5;241m=\u001b[39m\u001b[38;5;241m20\u001b[39m\n\u001b[1;32m----> 4\u001b[0m add\u001b[38;5;241m=\u001b[39mn11111\u001b[38;5;241m+\u001b[39mn2\n\u001b[0;32m      5\u001b[0m \u001b[38;5;28mprint\u001b[39m(add)\n",
      "\u001b[1;31mNameError\u001b[0m: name 'n11111' is not defined"
     ]
    }
   ],
   "source": [
    "addition()"
   ]
  },
  {
   "cell_type": "markdown",
   "id": "fc2cbb33-5e02-40b5-a423-eba44710e8fa",
   "metadata": {},
   "source": [
    "**Note**\n",
    "\n",
    "- when we define function will not give the error\n",
    "\n",
    "- errors will display after calling the function only"
   ]
  },
  {
   "cell_type": "code",
   "execution_count": null,
   "id": "c2ea07a0-fec1-4422-9e8c-7bf78280a239",
   "metadata": {},
   "outputs": [],
   "source": [
    "# Q.1) create a function read three numbers find the average"
   ]
  },
  {
   "cell_type": "code",
   "execution_count": 17,
   "id": "b7365ab9-9ba7-4fe8-8639-06b2c094eeec",
   "metadata": {},
   "outputs": [
    {
     "name": "stdout",
     "output_type": "stream",
     "text": [
      "The average of 10, 20 and 30 is 20.0\n"
     ]
    }
   ],
   "source": [
    "def average():\n",
    "    n1=10\n",
    "    n2=20\n",
    "    n3=30\n",
    "    avg=(n1+n2+n3)/3\n",
    "    print(f'The average of {n1}, {n2} and {n3} is {avg}')\n",
    "\n",
    "average()"
   ]
  },
  {
   "cell_type": "code",
   "execution_count": null,
   "id": "cd10aa6d-6970-47e9-b5e4-1f493097aaed",
   "metadata": {},
   "outputs": [],
   "source": [
    "# Q.2) create a function ask the user enter the bill amount\n",
    "       # enter the tip per\n",
    "       # calculate total bill pay"
   ]
  },
  {
   "cell_type": "code",
   "execution_count": 19,
   "id": "bae43fe5-bec7-4607-8a56-063b01fd4f4a",
   "metadata": {},
   "outputs": [
    {
     "name": "stdin",
     "output_type": "stream",
     "text": [
      "enter the bill amount: 4000\n",
      "enter the tip amount: 10\n"
     ]
    },
    {
     "name": "stdout",
     "output_type": "stream",
     "text": [
      "The total bill is 4400.0\n"
     ]
    }
   ],
   "source": [
    "def amount():\n",
    "    bill=eval(input('enter the bill amount:'))\n",
    "    tip_per=eval(input('enter the tip amount:'))\n",
    "    tip_amount=bill*(tip_per/100)\n",
    "    total_bill=bill+tip_amount\n",
    "    print(f'The total bill is {total_bill}')\n",
    "\n",
    "amount()"
   ]
  },
  {
   "cell_type": "code",
   "execution_count": null,
   "id": "f3201181-d5a3-4912-a958-ac1bba8de1a0",
   "metadata": {},
   "outputs": [],
   "source": [
    "# Q3) create a function the user enter the radius\n",
    "      # calculate the area of the circle"
   ]
  },
  {
   "cell_type": "code",
   "execution_count": 21,
   "id": "dd144184-a3e4-4f4b-9de4-68a7f926546f",
   "metadata": {},
   "outputs": [
    {
     "name": "stdin",
     "output_type": "stream",
     "text": [
      "enter the radius: 6\n"
     ]
    },
    {
     "name": "stdout",
     "output_type": "stream",
     "text": [
      "The area of circle is 113.1\n"
     ]
    }
   ],
   "source": [
    "import math\n",
    "def area_circle():\n",
    "    r=eval(input('enter the radius:'))\n",
    "    pi=math.pi\n",
    "    area=round(pi*r**2,2)\n",
    "    print(f'The area of circle is {area}')\n",
    "\n",
    "area_circle()\n",
    "    "
   ]
  },
  {
   "cell_type": "code",
   "execution_count": null,
   "id": "fa173483-faab-4495-b336-8d0fd057e26c",
   "metadata": {},
   "outputs": [],
   "source": [
    "# Q4) create a function the user enter the length and breadth\n",
    "      # calculate the area of the triangle"
   ]
  },
  {
   "cell_type": "code",
   "execution_count": 22,
   "id": "5176285b-9d3a-4083-a2e5-8e5f94d103d4",
   "metadata": {},
   "outputs": [
    {
     "name": "stdin",
     "output_type": "stream",
     "text": [
      "enter the breadth: 8\n",
      "enter the length: 9\n"
     ]
    },
    {
     "name": "stdout",
     "output_type": "stream",
     "text": [
      "The area of triangle is 36.0\n"
     ]
    }
   ],
   "source": [
    "def area_triangle():\n",
    "    b=eval(input('enter the breadth:'))\n",
    "    l=eval(input('enter the length:'))\n",
    "    area=round(0.5*l*b,2)\n",
    "    print(f'The area of triangle is {area}')\n",
    "\n",
    "area_triangle()"
   ]
  },
  {
   "cell_type": "code",
   "execution_count": null,
   "id": "171e58fd-0798-495d-895b-c141565ee487",
   "metadata": {},
   "outputs": [],
   "source": [
    "# Q5) create a function the user enter a number find it is even or odd"
   ]
  },
  {
   "cell_type": "code",
   "execution_count": 23,
   "id": "cbf1e042-d281-4844-ae1c-e3905f5518fa",
   "metadata": {},
   "outputs": [
    {
     "name": "stdin",
     "output_type": "stream",
     "text": [
      "enter the number: 7\n"
     ]
    },
    {
     "name": "stdout",
     "output_type": "stream",
     "text": [
      "The number 7 is odd\n"
     ]
    }
   ],
   "source": [
    "def even_odd():\n",
    "    n=eval(input('enter the number:'))\n",
    "    if n%2==0:\n",
    "        print(f'The number {n} is even')\n",
    "    \n",
    "    else:\n",
    "        print(f'The number {n} is odd')\n",
    "\n",
    "even_odd()\n",
    "    "
   ]
  },
  {
   "cell_type": "code",
   "execution_count": null,
   "id": "0605420e-2ac4-4170-a5f3-61dc0630c8ee",
   "metadata": {},
   "outputs": [],
   "source": [
    "# Q6) create a function the user enter a number find it is positive, negative or zero"
   ]
  },
  {
   "cell_type": "code",
   "execution_count": 25,
   "id": "df6ca078-83b4-4fb3-a766-e9e5fa80ab35",
   "metadata": {},
   "outputs": [
    {
     "name": "stdin",
     "output_type": "stream",
     "text": [
      "enter the number: 7\n"
     ]
    },
    {
     "name": "stdout",
     "output_type": "stream",
     "text": [
      "The number 7 is positive\n"
     ]
    }
   ],
   "source": [
    "def positive_negative():\n",
    "    n=eval(input('enter the number:'))\n",
    "    if n>0:\n",
    "        print(f'The number {n} is positive')\n",
    "\n",
    "    elif n==0:\n",
    "        print(f'The number {n} is zero')\n",
    "    \n",
    "    else:\n",
    "        print(f'The number {n} is negative')\n",
    "\n",
    "positive_negative()"
   ]
  },
  {
   "cell_type": "code",
   "execution_count": null,
   "id": "04f71d04-13cf-455c-9cd9-ae4a9fb0ac8a",
   "metadata": {},
   "outputs": [],
   "source": [
    "# Q7) create a function the user enter three numbers find the greatest number"
   ]
  },
  {
   "cell_type": "code",
   "execution_count": 26,
   "id": "c9a61e00-2d9d-4dd1-9dfc-278d1cf70311",
   "metadata": {},
   "outputs": [
    {
     "name": "stdin",
     "output_type": "stream",
     "text": [
      "enter the number1: 8\n",
      "enter the number2: 5\n",
      "enter the number3: 9\n"
     ]
    },
    {
     "name": "stdout",
     "output_type": "stream",
     "text": [
      "The number 9 is greatest\n"
     ]
    }
   ],
   "source": [
    "def greatest():\n",
    "    n1=eval(input('enter the number1:'))\n",
    "    n2=eval(input('enter the number2:'))\n",
    "    n3=eval(input('enter the number3:'))\n",
    "    if n1>n2 and n1>n3:\n",
    "        print(f'The number {n1} is greatest')\n",
    "\n",
    "    elif n2>n3:\n",
    "        print(f'The number {n2} is greatest')\n",
    "    \n",
    "    else:\n",
    "        print(f'The number {n3} is greatest')\n",
    "\n",
    "greatest()"
   ]
  },
  {
   "cell_type": "code",
   "execution_count": null,
   "id": "7253de35-5277-4211-84c4-f4fc9e9722b6",
   "metadata": {},
   "outputs": [],
   "source": [
    "def average():\n",
    "def amount():\n",
    "def area_circle():\n",
    "def area_triangle():\n",
    "def even_odd():\n",
    "def positive_negative():\n",
    "def greatest():"
   ]
  },
  {
   "cell_type": "markdown",
   "id": "d6665068-0328-4e94-b3e6-3b9c9282880c",
   "metadata": {},
   "source": [
    "## method-1\n",
    "\n",
    "**functions without argument**\n",
    "\n",
    "- when we define function we will provide brackets\n",
    "\n",
    "- inside these brackets we can provide the values also\n",
    "\n",
    "- these values are called as **arguments** or **parameters**\n",
    "\n",
    "- if we donot provide arguments it is known as \n",
    "\n",
    "  **function with arguments** "
   ]
  },
  {
   "cell_type": "markdown",
   "id": "658c09ac-fdc9-4fdd-b2d0-9b535c748013",
   "metadata": {},
   "source": [
    "## method-2\n",
    "\n",
    "**functions with argument**\n",
    "\n",
    "- how many variables are there in a given function\n",
    "\n",
    "     - input variables : user will provide\n",
    "\n",
    "     - suppose n1 and n2 are two input variables\n",
    "\n",
    "     - output variables : we are creating a new variable using variable\n",
    "\n",
    "**concentrate on input variables**"
   ]
  },
  {
   "cell_type": "code",
   "execution_count": 27,
   "id": "88e3e898-df2f-49d4-99f5-6c6fc83cd75c",
   "metadata": {},
   "outputs": [
    {
     "name": "stdout",
     "output_type": "stream",
     "text": [
      "30\n"
     ]
    }
   ],
   "source": [
    "def addition(n1,n2):\n",
    "    addition=n1+n2\n",
    "    print(addition)\n",
    "\n",
    "addition(10,20)"
   ]
  },
  {
   "cell_type": "code",
   "execution_count": 28,
   "id": "70335f25-1c96-4101-ab1d-06b3a32f5d80",
   "metadata": {},
   "outputs": [
    {
     "ename": "TypeError",
     "evalue": "addition() missing 2 required positional arguments: 'n1' and 'n2'",
     "output_type": "error",
     "traceback": [
      "\u001b[1;31m---------------------------------------------------------------------------\u001b[0m",
      "\u001b[1;31mTypeError\u001b[0m                                 Traceback (most recent call last)",
      "Cell \u001b[1;32mIn[28], line 5\u001b[0m\n\u001b[0;32m      2\u001b[0m     addition\u001b[38;5;241m=\u001b[39mn1\u001b[38;5;241m+\u001b[39mn2\n\u001b[0;32m      3\u001b[0m     \u001b[38;5;28mprint\u001b[39m(addition)\n\u001b[1;32m----> 5\u001b[0m addition()\n",
      "\u001b[1;31mTypeError\u001b[0m: addition() missing 2 required positional arguments: 'n1' and 'n2'"
     ]
    }
   ],
   "source": [
    "def addition(n1,n2):\n",
    "    addition=n1+n2\n",
    "    print(addition)\n",
    "\n",
    "addition()\n",
    "\n",
    "# if we are not provide the values in callable function, error will come"
   ]
  },
  {
   "cell_type": "markdown",
   "id": "7635d2b8-ca81-47e2-8b6c-719a3b3a88d6",
   "metadata": {},
   "source": [
    "## function with arguments"
   ]
  },
  {
   "cell_type": "code",
   "execution_count": null,
   "id": "17a4b528-dba1-483e-886b-8f90b83edcab",
   "metadata": {},
   "outputs": [],
   "source": [
    "# Q.1) create a function read three numbers find the average"
   ]
  },
  {
   "cell_type": "code",
   "execution_count": 30,
   "id": "7123bf64-38a5-4a8e-bc1e-50858847ab9e",
   "metadata": {},
   "outputs": [
    {
     "name": "stdout",
     "output_type": "stream",
     "text": [
      "The average of 10, 20 and 30 is 20.0\n"
     ]
    }
   ],
   "source": [
    "def average(n1,n2,n3):\n",
    "    avg=(n1+n2+n3)/3\n",
    "    print(f'The average of {n1}, {n2} and {n3} is {avg}')\n",
    "\n",
    "average(10,20,30)"
   ]
  },
  {
   "cell_type": "code",
   "execution_count": null,
   "id": "0c4054ed-c902-4728-b228-6ee413bc783c",
   "metadata": {},
   "outputs": [],
   "source": [
    "# Q.2) create a function ask the user enter the bill amount\n",
    "       # enter the tip per\n",
    "       # calculate total bill pay"
   ]
  },
  {
   "cell_type": "code",
   "execution_count": 31,
   "id": "41af5b65-981b-4e2e-aeef-f24d75d4cca6",
   "metadata": {},
   "outputs": [
    {
     "name": "stdout",
     "output_type": "stream",
     "text": [
      "The total bill is 4400.0\n"
     ]
    }
   ],
   "source": [
    "def amount(bill,tip_per):\n",
    "    tip_amount=bill*(tip_per/100)\n",
    "    total_bill=bill+tip_amount\n",
    "    print(f'The total bill is {total_bill}')\n",
    "\n",
    "amount(4000,10)"
   ]
  },
  {
   "cell_type": "code",
   "execution_count": null,
   "id": "bbcad739-6a5f-40c5-9a8f-37ff24d70e84",
   "metadata": {},
   "outputs": [],
   "source": [
    "# Q3) create a function the user enter the radius\n",
    "      # calculate the area of the circle"
   ]
  },
  {
   "cell_type": "code",
   "execution_count": 32,
   "id": "809ccf78-c9af-4cbc-a967-4beaf4bda607",
   "metadata": {},
   "outputs": [
    {
     "name": "stdout",
     "output_type": "stream",
     "text": [
      "The area of circle is 113.1\n"
     ]
    }
   ],
   "source": [
    "import math\n",
    "def area_circle(r):\n",
    "    pi=math.pi\n",
    "    area=round(pi*r**2,2)\n",
    "    print(f'The area of circle is {area}')\n",
    "\n",
    "area_circle(6)"
   ]
  },
  {
   "cell_type": "code",
   "execution_count": null,
   "id": "e5525e45-433d-4337-99fd-7b91a0fd4c3e",
   "metadata": {},
   "outputs": [],
   "source": [
    "# Q4) create a function the user enter the length and breadth\n",
    "      # calculate the area of the triangle"
   ]
  },
  {
   "cell_type": "code",
   "execution_count": 33,
   "id": "acb4dc2f-2838-4c74-8b7c-b0ad18285e3a",
   "metadata": {},
   "outputs": [
    {
     "name": "stdout",
     "output_type": "stream",
     "text": [
      "The area of triangle is 60.0\n"
     ]
    }
   ],
   "source": [
    "def area_triangle(l,b):\n",
    "    area=round(0.5*l*b,2)\n",
    "    print(f'The area of triangle is {area}')\n",
    "\n",
    "area_triangle(10,12)"
   ]
  },
  {
   "cell_type": "code",
   "execution_count": null,
   "id": "e66594a6-bf85-463d-ae7b-712528e65efa",
   "metadata": {},
   "outputs": [],
   "source": [
    "# Q5) create a function the user enter a number find it is even or odd"
   ]
  },
  {
   "cell_type": "code",
   "execution_count": 34,
   "id": "f8c4b786-9b3c-4624-abd0-8a64b6096247",
   "metadata": {},
   "outputs": [
    {
     "name": "stdout",
     "output_type": "stream",
     "text": [
      "The number 7 is odd\n"
     ]
    }
   ],
   "source": [
    "def even_odd(n):\n",
    "    if n%2==0:\n",
    "        print(f'The number {n} is even')\n",
    "    \n",
    "    else:\n",
    "        print(f'The number {n} is odd')\n",
    "\n",
    "even_odd(7)"
   ]
  },
  {
   "cell_type": "code",
   "execution_count": null,
   "id": "5bce0640-a8ff-41cb-a0b6-d04c98e4f2ba",
   "metadata": {},
   "outputs": [],
   "source": [
    "# Q6) create a function the user enter a number find it is positive, negative or zero"
   ]
  },
  {
   "cell_type": "code",
   "execution_count": 35,
   "id": "7d0be3da-17a0-4f21-9765-28b5087ccb6b",
   "metadata": {},
   "outputs": [
    {
     "name": "stdout",
     "output_type": "stream",
     "text": [
      "The number -90 is negative\n"
     ]
    }
   ],
   "source": [
    "def positive_negative(n):\n",
    "    if n>0:\n",
    "        print(f'The number {n} is positive')\n",
    "\n",
    "    elif n==0:\n",
    "        print(f'The number {n} is zero')\n",
    "    \n",
    "    else:\n",
    "        print(f'The number {n} is negative')\n",
    "\n",
    "positive_negative(-90)"
   ]
  },
  {
   "cell_type": "code",
   "execution_count": null,
   "id": "44ace3ad-22d5-46a8-beee-e02ab0dd9b90",
   "metadata": {},
   "outputs": [],
   "source": [
    "# Q7) create a function the user enter three numbers find the greatest number"
   ]
  },
  {
   "cell_type": "code",
   "execution_count": 36,
   "id": "2cc30c1e-9f24-4b06-8490-1b3a570f29b5",
   "metadata": {},
   "outputs": [
    {
     "name": "stdout",
     "output_type": "stream",
     "text": [
      "The number 666 is greatest\n"
     ]
    }
   ],
   "source": [
    "def greatest(n1,n2,n3):\n",
    "    if n1>n2 and n1>n3:\n",
    "        print(f'The number {n1} is greatest')\n",
    "\n",
    "    elif n2>n3:\n",
    "        print(f'The number {n2} is greatest')\n",
    "    \n",
    "    else:\n",
    "        print(f'The number {n3} is greatest')\n",
    "\n",
    "greatest(98,666,345)"
   ]
  },
  {
   "cell_type": "code",
   "execution_count": 40,
   "id": "0b4bbb67-dff5-4198-b558-e7bcdb2551a4",
   "metadata": {},
   "outputs": [
    {
     "name": "stdout",
     "output_type": "stream",
     "text": [
      "num1=10\n",
      "num2=20\n"
     ]
    },
    {
     "name": "stdin",
     "output_type": "stream",
     "text": [
      "enter the number3 7\n"
     ]
    },
    {
     "name": "stdout",
     "output_type": "stream",
     "text": [
      "num3=7\n",
      "The average of 10, 20 and 7 is 12.33\n"
     ]
    }
   ],
   "source": [
    "def average(n1,n2):\n",
    "    print(f'num1={n1}')\n",
    "    print(f'num2={n2}')\n",
    "    n3=eval(input('enter the number3'))\n",
    "    print(f'num3={n3}')\n",
    "    avg=round((n1+n2+n3)/3,2)\n",
    "    print(f'The average of {n1}, {n2} and {n3} is {avg}')\n",
    "\n",
    "average(10,20)"
   ]
  },
  {
   "cell_type": "code",
   "execution_count": 1,
   "id": "bfba8f9a-d29a-44b8-bf15-8b95f1a1a213",
   "metadata": {},
   "outputs": [
    {
     "name": "stdin",
     "output_type": "stream",
     "text": [
      "enter the number1: 10\n"
     ]
    },
    {
     "name": "stdout",
     "output_type": "stream",
     "text": [
      "num1=10\n"
     ]
    },
    {
     "name": "stdin",
     "output_type": "stream",
     "text": [
      "enter the number2 20\n"
     ]
    },
    {
     "name": "stdout",
     "output_type": "stream",
     "text": [
      "num2=20\n"
     ]
    },
    {
     "name": "stdin",
     "output_type": "stream",
     "text": [
      "enter the number3 30\n"
     ]
    },
    {
     "name": "stdout",
     "output_type": "stream",
     "text": [
      "num3=30\n",
      "The average of 10, 20 and 30 is 20.0\n"
     ]
    }
   ],
   "source": [
    "def average(n1):\n",
    "    print(f'num1={n1}')\n",
    "    n2=eval(input('enter the number2'))\n",
    "    print(f'num2={n2}')\n",
    "    n3=eval(input('enter the number3'))\n",
    "    print(f'num3={n3}')\n",
    "    avg=round((n1+n2+n3)/3,2)\n",
    "    print(f'The average of {n1}, {n2} and {n3} is {avg}')\n",
    "\n",
    "average(eval(input('enter the number1:')))"
   ]
  },
  {
   "cell_type": "code",
   "execution_count": 42,
   "id": "39de4138-0942-440b-b302-2e0d113871f2",
   "metadata": {},
   "outputs": [
    {
     "name": "stdout",
     "output_type": "stream",
     "text": [
      "num1=18\n"
     ]
    },
    {
     "name": "stdin",
     "output_type": "stream",
     "text": [
      "enter the number2 28\n"
     ]
    },
    {
     "name": "stdout",
     "output_type": "stream",
     "text": [
      "num2=28\n"
     ]
    },
    {
     "name": "stdin",
     "output_type": "stream",
     "text": [
      "enter the number3 97\n"
     ]
    },
    {
     "name": "stdout",
     "output_type": "stream",
     "text": [
      "num3=97\n",
      "num3=97\n",
      "The average of 18, 28 and 97 is 47.67\n"
     ]
    }
   ],
   "source": [
    "import random\n",
    "def average(n1):\n",
    "    print(f'num1={n1}')\n",
    "    n2=eval(input('enter the number2'))\n",
    "    print(f'num2={n2}')\n",
    "    n3=eval(input('enter the number3'))\n",
    "    print(f'num3={n3}')\n",
    "    print(f'num3={n3}')\n",
    "    avg=round((n1+n2+n3)/3,2)\n",
    "    print(f'The average of {n1}, {n2} and {n3} is {avg}')\n",
    "\n",
    "average(random.randint(10,20))"
   ]
  },
  {
   "cell_type": "markdown",
   "id": "71d46493-0932-468d-92d0-d6dd5e1c810a",
   "metadata": {},
   "source": [
    "**number can possible in 3 ways**\n",
    "\n",
    "- hard coded\n",
    "\n",
    "- eval(input)\n",
    "\n",
    "- random.randint"
   ]
  },
  {
   "cell_type": "code",
   "execution_count": 43,
   "id": "b2caa341-8f7d-4461-90cc-ccae5ec5285b",
   "metadata": {},
   "outputs": [
    {
     "name": "stdout",
     "output_type": "stream",
     "text": [
      "The average of 10, 20 and 30 is 20.0\n",
      "num1=10\n",
      "num2=20\n"
     ]
    },
    {
     "name": "stdin",
     "output_type": "stream",
     "text": [
      "Enter the num3: 30\n"
     ]
    },
    {
     "name": "stdout",
     "output_type": "stream",
     "text": [
      "num3=30\n",
      "The average of 10, 20 and 30 is 20.0\n"
     ]
    },
    {
     "name": "stdin",
     "output_type": "stream",
     "text": [
      "Enter the num1: 10\n"
     ]
    },
    {
     "name": "stdout",
     "output_type": "stream",
     "text": [
      "num1=10\n"
     ]
    },
    {
     "name": "stdin",
     "output_type": "stream",
     "text": [
      "Enter the num2: 20\n"
     ]
    },
    {
     "name": "stdout",
     "output_type": "stream",
     "text": [
      "num2=20\n"
     ]
    },
    {
     "name": "stdin",
     "output_type": "stream",
     "text": [
      "Enter the num3: 30\n"
     ]
    },
    {
     "name": "stdout",
     "output_type": "stream",
     "text": [
      "num3=30\n",
      "The average of 10, 20 and 30 is 20.0\n",
      "num1=3\n"
     ]
    },
    {
     "name": "stdin",
     "output_type": "stream",
     "text": [
      "Enter the num2: 20\n"
     ]
    },
    {
     "name": "stdout",
     "output_type": "stream",
     "text": [
      "num2=20\n"
     ]
    },
    {
     "name": "stdin",
     "output_type": "stream",
     "text": [
      "Enter the num3: 30\n"
     ]
    },
    {
     "name": "stdout",
     "output_type": "stream",
     "text": [
      "num3=30\n",
      "The average of 3, 20 and 30 is 17.666666666666668\n"
     ]
    }
   ],
   "source": [
    "# hard coded\n",
    "def average(n1,n2,n3):\n",
    "    avg=(n1+n2+n3)/3\n",
    "    print(f'The average of {n1}, {n2} and {n3} is {avg}')\n",
    "\n",
    "average(10,20,30)\n",
    "\n",
    "# hard coded + eval(input)\n",
    "def average(n1,n2):\n",
    "    print(f'num1={n1}')\n",
    "    print(f'num2={n2}')\n",
    "    n3=eval(input('Enter the num3:'))\n",
    "    print(f'num3={n3}')\n",
    "    avg=(n1+n2+n3)/3\n",
    "    print(f'The average of {n1}, {n2} and {n3} is {avg}')\n",
    "\n",
    "average(10,20)\n",
    "\n",
    "# eval(input)\n",
    "def average(n1):\n",
    "    print(f'num1={n1}')\n",
    "    n2=eval(input('Enter the num2:'))\n",
    "    print(f'num2={n2}')\n",
    "    n3=eval(input('Enter the num3:'))\n",
    "    print(f'num3={n3}')\n",
    "    avg=(n1+n2+n3)/3\n",
    "    print(f'The average of {n1}, {n2} and {n3} is {avg}')\n",
    "\n",
    "average(eval(input('Enter the num1:')))\n",
    "\n",
    "# eval(input)+ random.randint\n",
    "def average(n1):\n",
    "    print(f'num1={n1}')\n",
    "    n2=eval(input('Enter the num2:'))\n",
    "    print(f'num2={n2}')\n",
    "    n3=eval(input('Enter the num3:'))\n",
    "    print(f'num3={n3}')\n",
    "    avg=(n1+n2+n3)/3\n",
    "    print(f'The average of {n1}, {n2} and {n3} is {avg}')\n",
    "\n",
    "average(random.randint(1,10))\n",
    "\n"
   ]
  },
  {
   "cell_type": "code",
   "execution_count": null,
   "id": "a2802e0d-fe07-49b1-aba2-9c66a11a829e",
   "metadata": {},
   "outputs": [],
   "source": [
    "# Try the above methods for billing problem"
   ]
  },
  {
   "cell_type": "code",
   "execution_count": 44,
   "id": "6df88596-6312-4afb-bcc5-f197a0b2addc",
   "metadata": {},
   "outputs": [
    {
     "name": "stdout",
     "output_type": "stream",
     "text": [
      "The total bill is 4400.0\n"
     ]
    }
   ],
   "source": [
    "def amount(bill,tip_per):\n",
    "    tip_amount=bill*(tip_per/100)\n",
    "    total_bill=bill+tip_amount\n",
    "    print(f'The total bill is {total_bill}')\n",
    "\n",
    "amount(4000,10)"
   ]
  },
  {
   "cell_type": "code",
   "execution_count": 48,
   "id": "cf38adca-91a0-4802-a58c-207e9a00e3af",
   "metadata": {},
   "outputs": [
    {
     "name": "stdin",
     "output_type": "stream",
     "text": [
      "enter bill: 4000\n",
      "enter tip per 10\n"
     ]
    },
    {
     "name": "stdout",
     "output_type": "stream",
     "text": [
      "bill is 4000\n",
      "bill is 10\n",
      "The total bill is 4400.0\n"
     ]
    }
   ],
   "source": [
    "def amount(bill,tip_per):\n",
    "    print(f'bill is {bill}')\n",
    "    print(f'bill is {tip_per}')\n",
    "    tip_amount=bill*(tip_per/100)\n",
    "    total_bill=bill+tip_amount\n",
    "    print(f'The total bill is {total_bill}')\n",
    "\n",
    "amount(eval(input('enter bill:')),\n",
    "      eval(input('enter tip per')))"
   ]
  },
  {
   "cell_type": "code",
   "execution_count": 49,
   "id": "ee827de1-a5ca-45af-8450-c90fafb4f757",
   "metadata": {},
   "outputs": [
    {
     "name": "stdout",
     "output_type": "stream",
     "text": [
      "bill is 2639\n",
      "bill is 4\n",
      "The total bill is 2744.56\n"
     ]
    }
   ],
   "source": [
    "def amount(bill,tip_per):\n",
    "    print(f'bill is {bill}')\n",
    "    print(f'bill is {tip_per}')\n",
    "    tip_amount=bill*(tip_per/100)\n",
    "    total_bill=bill+tip_amount\n",
    "    print(f'The total bill is {total_bill}')\n",
    "\n",
    "amount(random.randint(2000,3000),\n",
    "      random.randint(1,10))"
   ]
  },
  {
   "cell_type": "markdown",
   "id": "011f9402-b67d-4277-bf0f-7d8215d043b5",
   "metadata": {},
   "source": [
    "**Default argument**\n",
    "\n",
    "- The argument values are fixed"
   ]
  },
  {
   "cell_type": "code",
   "execution_count": 50,
   "id": "5ddc9622-6b2a-4d6c-a985-1f88368a7c37",
   "metadata": {},
   "outputs": [
    {
     "name": "stdout",
     "output_type": "stream",
     "text": [
      "bill is 4000\n",
      "bill is 20\n",
      "The total bill is 4800.0\n"
     ]
    }
   ],
   "source": [
    "def amount(bill,tip_per=20):\n",
    "    print(f'bill is {bill}')\n",
    "    print(f'bill is {tip_per}')\n",
    "    tip_amount=bill*(tip_per/100)\n",
    "    total_bill=bill+tip_amount\n",
    "    print(f'The total bill is {total_bill}')\n",
    "\n",
    "amount(4000)"
   ]
  },
  {
   "cell_type": "markdown",
   "id": "cac6007e-272c-45fd-8b72-f678f9934485",
   "metadata": {},
   "source": [
    "**case-1**: make all the arguments as default\n",
    "\n",
    "- all the arguments are default\n",
    "\n",
    "- so no need to pass the value while calling the function "
   ]
  },
  {
   "cell_type": "code",
   "execution_count": 51,
   "id": "69cb6c56-2ee6-4a03-94fc-76c0acc44702",
   "metadata": {},
   "outputs": [
    {
     "name": "stdout",
     "output_type": "stream",
     "text": [
      "bill is 3000\n",
      "bill is 20\n",
      "The total bill is 3600.0\n"
     ]
    }
   ],
   "source": [
    "def amount(bill=3000,tip_per=20):\n",
    "    print(f'bill is {bill}')\n",
    "    print(f'bill is {tip_per}')\n",
    "    tip_amount=bill*(tip_per/100)\n",
    "    total_bill=bill+tip_amount\n",
    "    print(f'The total bill is {total_bill}')\n",
    "\n",
    "amount()"
   ]
  },
  {
   "cell_type": "code",
   "execution_count": 52,
   "id": "de772c0c-d313-4cdc-bacb-b2c6abbb6bde",
   "metadata": {},
   "outputs": [
    {
     "ename": "SyntaxError",
     "evalue": "non-default argument follows default argument (113986379.py, line 1)",
     "output_type": "error",
     "traceback": [
      "\u001b[1;36m  Cell \u001b[1;32mIn[52], line 1\u001b[1;36m\u001b[0m\n\u001b[1;33m    def amount(bill=3000,tip_per):\u001b[0m\n\u001b[1;37m                         ^\u001b[0m\n\u001b[1;31mSyntaxError\u001b[0m\u001b[1;31m:\u001b[0m non-default argument follows default argument\n"
     ]
    }
   ],
   "source": [
    "def amount(bill=3000,tip_per):\n",
    "    print(f'bill is {bill}')\n",
    "    print(f'bill is {tip_per}')\n",
    "    tip_amount=bill*(tip_per/100)\n",
    "    total_bill=bill+tip_amount\n",
    "    print(f'The total bill is {total_bill}')\n",
    "\n",
    "amount(20)\n",
    "\n",
    "# it will provide error because 20 represents the bill\n",
    "# here non defaulter argument=tip_per\n",
    "# when we call the function function will assign the value forbill only\n",
    "# all the default arguments are after the non-default arguments"
   ]
  },
  {
   "cell_type": "markdown",
   "id": "91176803-8cf3-454e-9161-f058273ca867",
   "metadata": {},
   "source": [
    "**case-2**\n",
    "\n",
    "- all default parameters should assigned after non default arguments"
   ]
  },
  {
   "cell_type": "code",
   "execution_count": 53,
   "id": "10391cd9-1a28-4b2b-8614-4e190e5a166a",
   "metadata": {},
   "outputs": [
    {
     "name": "stdout",
     "output_type": "stream",
     "text": [
      "bill is 3000\n",
      "bill is 20\n",
      "The total bill is 3600.0\n"
     ]
    }
   ],
   "source": [
    "def amount(tip_per,bill=3000):\n",
    "    print(f'bill is {bill}')\n",
    "    print(f'bill is {tip_per}')\n",
    "    tip_amount=bill*(tip_per/100)\n",
    "    total_bill=bill+tip_amount\n",
    "    print(f'The total bill is {total_bill}')\n",
    "\n",
    "amount(20)"
   ]
  },
  {
   "cell_type": "code",
   "execution_count": null,
   "id": "6f9d739a-cb39-4fbd-b498-0450e5320b8b",
   "metadata": {},
   "outputs": [],
   "source": [
    "average(n1,n2,n3=10)            # works\n",
    "average(n1,n2=10,n3)            # fails\n",
    "average(n1=10,n2,n3)            # fails\n",
    "average(n1,n2=20,n3=10)         # works\n",
    "average(n1=10,n2,n3=10)         # fails\n",
    "average(n1=10,n2=10,n3)         # fails    \n",
    "average(n1=10,n2=10,n3=10)      # works"
   ]
  },
  {
   "cell_type": "markdown",
   "id": "050b0695-c89f-4ef8-abf5-78c4fdb8b994",
   "metadata": {},
   "source": [
    "**case-3**\n",
    "\n",
    "- default arguments values will be override"
   ]
  },
  {
   "cell_type": "code",
   "execution_count": 55,
   "id": "4dbc446a-ee1f-48b1-bab7-e962f70137f3",
   "metadata": {},
   "outputs": [
    {
     "name": "stdout",
     "output_type": "stream",
     "text": [
      "bill is 3000\n",
      "tip per is 40\n",
      "The total bill is 4200.0\n"
     ]
    }
   ],
   "source": [
    "def amount(bill,tip_per=20):\n",
    "    print(f'bill is {bill}')\n",
    "    print(f'tip per is {tip_per}')\n",
    "    tip_amount=bill*(tip_per/100)\n",
    "    total_bill=bill+tip_amount\n",
    "    print(f'The total bill is {total_bill}')\n",
    "\n",
    "amount(3000,40)"
   ]
  },
  {
   "cell_type": "code",
   "execution_count": 56,
   "id": "19b73a76-9d45-4460-8818-04f304a70ba4",
   "metadata": {},
   "outputs": [
    {
     "name": "stdout",
     "output_type": "stream",
     "text": [
      "bill is 2000\n",
      "tip per is 40\n",
      "The total bill is 2800.0\n"
     ]
    }
   ],
   "source": [
    "def amount(bill=1000,tip_per=20):\n",
    "    print(f'bill is {bill}')\n",
    "    print(f'tip per is {tip_per}')\n",
    "    tip_amount=bill*(tip_per/100)\n",
    "    total_bill=bill+tip_amount\n",
    "    print(f'The total bill is {total_bill}')\n",
    "\n",
    "amount(2000,40)"
   ]
  },
  {
   "cell_type": "code",
   "execution_count": 57,
   "id": "35e709ba-d893-45c9-8542-e09c164f5f05",
   "metadata": {},
   "outputs": [
    {
     "name": "stdout",
     "output_type": "stream",
     "text": [
      "bill is 5000\n",
      "tip per is 40\n",
      "The total bill is 7000.0\n"
     ]
    }
   ],
   "source": [
    "def amount(bill=1000,tip_per=20):\n",
    "    bill=5000\n",
    "    print(f'bill is {bill}')\n",
    "    print(f'tip per is {tip_per}')\n",
    "    tip_amount=bill*(tip_per/100)\n",
    "    total_bill=bill+tip_amount\n",
    "    print(f'The total bill is {total_bill}')\n",
    "\n",
    "amount(3000,40)\n",
    "\n",
    "# define function\n",
    "# calling function\n",
    "# running function"
   ]
  },
  {
   "cell_type": "code",
   "execution_count": null,
   "id": "15567d1d-d35a-4241-989b-8f963cb8f8de",
   "metadata": {},
   "outputs": [],
   "source": [
    "# step-1: define the function\n",
    "# step-2: call the function\n",
    "# step-3: run the function"
   ]
  },
  {
   "cell_type": "code",
   "execution_count": 58,
   "id": "6ec727c9-9217-4fbf-ba01-4dc66b4f15ea",
   "metadata": {},
   "outputs": [
    {
     "name": "stdout",
     "output_type": "stream",
     "text": [
      "bill is 5000\n",
      "tip per is 40\n",
      "The total bill is 7000.0\n"
     ]
    }
   ],
   "source": [
    "def amount(bill=1000,tip_per=20):\n",
    "    bill=5000\n",
    "    print(f'bill is {bill}')\n",
    "    print(f'tip per is {tip_per}')\n",
    "    tip_amount=bill*(tip_per/100)\n",
    "    total_bill=bill+tip_amount\n",
    "    print(f'The total bill is {total_bill}')\n",
    "    \n",
    "bill=7000\n",
    "amount(3000,40)\n",
    "\n",
    "# bill=1000\n",
    "# bill=7000\n",
    "# bill=3000\n",
    "# bill=5000"
   ]
  },
  {
   "cell_type": "code",
   "execution_count": 59,
   "id": "59db9d98-3521-4c94-b236-77bd2c27c1cb",
   "metadata": {},
   "outputs": [
    {
     "name": "stdout",
     "output_type": "stream",
     "text": [
      "bill is 3000\n",
      "tip per is 40\n",
      "The total bill is 4200.0\n"
     ]
    }
   ],
   "source": [
    "def amount(bill=1000,tip_per=20):\n",
    "    print(f'bill is {bill}')\n",
    "    print(f'tip per is {tip_per}')\n",
    "    tip_amount=bill*(tip_per/100)\n",
    "    total_bill=bill+tip_amount\n",
    "    print(f'The total bill is {total_bill}')\n",
    "    \n",
    "bill=7000\n",
    "amount(3000,40)\n",
    "\n",
    "# bill=1000\n",
    "# bill=7000\n",
    "# bill=3000"
   ]
  },
  {
   "cell_type": "code",
   "execution_count": 60,
   "id": "c0b739e7-b463-42ce-9b02-a9fe8d2b40db",
   "metadata": {},
   "outputs": [
    {
     "name": "stdout",
     "output_type": "stream",
     "text": [
      "bill is 3000\n",
      "tip per is 40\n",
      "The total bill is 4200.0\n"
     ]
    }
   ],
   "source": [
    "bill=8000\n",
    "def amount(bill=1000,tip_per=20):\n",
    "    print(f'bill is {bill}')\n",
    "    print(f'tip per is {tip_per}')\n",
    "    tip_amount=bill*(tip_per/100)\n",
    "    total_bill=bill+tip_amount\n",
    "    print(f'The total bill is {total_bill}')\n",
    "    \n",
    "bill=7000\n",
    "amount(3000,40)\n",
    "\n",
    "# bill=8000\n",
    "# bill=7000\n",
    "# bill=3000"
   ]
  },
  {
   "cell_type": "code",
   "execution_count": 61,
   "id": "116021c4-8045-4c27-bb41-6089d17f66ec",
   "metadata": {},
   "outputs": [
    {
     "name": "stdout",
     "output_type": "stream",
     "text": [
      "bill is 40\n",
      "tip per is 20\n",
      "The total bill is 48.0\n"
     ]
    }
   ],
   "source": [
    "bill=8000\n",
    "def amount(bill=1000,tip_per=20):\n",
    "    print(f'bill is {bill}')\n",
    "    print(f'tip per is {tip_per}')\n",
    "    tip_amount=bill*(tip_per/100)\n",
    "    total_bill=bill+tip_amount\n",
    "    print(f'The total bill is {total_bill}')\n",
    "    \n",
    "bill=7000\n",
    "amount(40)\n",
    "\n",
    "# bill=8000\n",
    "# bill=7000"
   ]
  },
  {
   "cell_type": "markdown",
   "id": "d89d0a55-64c8-4969-8556-38881bb57ffe",
   "metadata": {},
   "source": [
    "**Global variable - Local variable**\n",
    "\n",
    "- local variables means the variables defined inside the function\n",
    "\n",
    "- local variable can't access outside the function\n",
    "\n",
    "- global variables means the variables defined outside the function\n",
    "\n",
    "- global variable can access outside the function anywhere and any time\n"
   ]
  },
  {
   "cell_type": "code",
   "execution_count": 62,
   "id": "1be38032-b731-4864-a21e-a7321468d388",
   "metadata": {},
   "outputs": [
    {
     "name": "stdout",
     "output_type": "stream",
     "text": [
      "30\n"
     ]
    }
   ],
   "source": [
    "def addition():\n",
    "    num1=10\n",
    "    num2=20\n",
    "    add=num1+num2\n",
    "    print(add)\n",
    "\n",
    "addition()"
   ]
  },
  {
   "cell_type": "code",
   "execution_count": 64,
   "id": "ec646ae1-6b4a-4be5-8267-6539c9280433",
   "metadata": {},
   "outputs": [
    {
     "ename": "NameError",
     "evalue": "name 'num1' is not defined",
     "output_type": "error",
     "traceback": [
      "\u001b[1;31m---------------------------------------------------------------------------\u001b[0m",
      "\u001b[1;31mNameError\u001b[0m                                 Traceback (most recent call last)",
      "Cell \u001b[1;32mIn[64], line 1\u001b[0m\n\u001b[1;32m----> 1\u001b[0m num1\n",
      "\u001b[1;31mNameError\u001b[0m: name 'num1' is not defined"
     ]
    }
   ],
   "source": [
    "num1\n",
    "\n",
    "# as it is a local variable it can't define outside the function"
   ]
  },
  {
   "cell_type": "code",
   "execution_count": 66,
   "id": "9fd0744c-810a-4b01-9c8a-dc2790a62663",
   "metadata": {},
   "outputs": [
    {
     "name": "stdout",
     "output_type": "stream",
     "text": [
      "30\n"
     ]
    }
   ],
   "source": [
    "num11=10\n",
    "num22=20\n",
    "def addition():\n",
    "    add=num11+num22\n",
    "    print(add)\n",
    "\n",
    "addition()\n",
    "\n",
    "# called globally defind"
   ]
  },
  {
   "cell_type": "code",
   "execution_count": 70,
   "id": "a39d360c-79db-4b6b-aa56-2b91b02f238f",
   "metadata": {},
   "outputs": [
    {
     "data": {
      "text/plain": [
       "10"
      ]
     },
     "execution_count": 70,
     "metadata": {},
     "output_type": "execute_result"
    }
   ],
   "source": [
    "num11"
   ]
  },
  {
   "cell_type": "code",
   "execution_count": 69,
   "id": "1ea0f5d2-4b8b-4343-84ce-4c200d10878b",
   "metadata": {},
   "outputs": [
    {
     "name": "stdout",
     "output_type": "stream",
     "text": [
      "The addition is 30\n",
      "The multiplication is 200\n"
     ]
    }
   ],
   "source": [
    "num11=10\n",
    "num22=20\n",
    "def addition():\n",
    "    print(f'The addition is {num11+num22}')\n",
    "\n",
    "addition()\n",
    "\n",
    "def multiplication():\n",
    "    print(f'The multiplication is {num11*num22}')\n",
    "\n",
    "multiplication()"
   ]
  },
  {
   "cell_type": "code",
   "execution_count": 72,
   "id": "5233a9ee-97c0-46ee-8ffe-14ae6e71377b",
   "metadata": {},
   "outputs": [
    {
     "name": "stdout",
     "output_type": "stream",
     "text": [
      "number1: 100\n",
      "number2: 200\n",
      "The addition is 300\n"
     ]
    }
   ],
   "source": [
    "num11=10\n",
    "num22=20\n",
    "def addition():\n",
    "    print('number1:',num11)\n",
    "    print('number2:',num22)\n",
    "    print(f'The addition is {num11+num22}')\n",
    "\n",
    "num11=100\n",
    "num22=200\n",
    "addition()\n",
    "\n",
    "# 10,20\n",
    "# 100,200"
   ]
  },
  {
   "cell_type": "code",
   "execution_count": 73,
   "id": "b39c7040-e80c-42ac-9d27-208c063eb508",
   "metadata": {},
   "outputs": [
    {
     "name": "stdout",
     "output_type": "stream",
     "text": [
      "number1: 1000\n",
      "number2: 2000\n",
      "The addition is 3000\n"
     ]
    }
   ],
   "source": [
    "num11=10\n",
    "num22=20\n",
    "def addition():\n",
    "    num11=1000\n",
    "    num22=2000\n",
    "    print('number1:',num11)\n",
    "    print('number2:',num22)\n",
    "    print(f'The addition is {num11+num22}')\n",
    "\n",
    "num11=100\n",
    "num22=200\n",
    "addition()\n",
    "\n",
    "# 10,20\n",
    "# 100,200\n",
    "# 1000,2000"
   ]
  },
  {
   "cell_type": "code",
   "execution_count": 74,
   "id": "72456382-f565-48f6-aa4b-8e71db6d2f0a",
   "metadata": {},
   "outputs": [
    {
     "name": "stdout",
     "output_type": "stream",
     "text": [
      "number1: 1000\n",
      "number2: 500\n",
      "The addition is 1500\n"
     ]
    }
   ],
   "source": [
    "num11=10\n",
    "num22=20\n",
    "def addition(num22):\n",
    "    num11=1000\n",
    "    print('number1:',num11)\n",
    "    print('number2:',num22)\n",
    "    print(f'The addition is {num11+num22}')\n",
    "\n",
    "num11=100\n",
    "num22=200\n",
    "addition(500)\n",
    "\n",
    "# 10,20\n",
    "# 100,200\n",
    "# 1000,500"
   ]
  },
  {
   "cell_type": "markdown",
   "id": "3be2cf88-60d7-4f37-a906-ada8cc3e82fb",
   "metadata": {},
   "source": [
    "**special case**\n",
    "\n",
    "- we want to use the local variable outside function also"
   ]
  },
  {
   "cell_type": "code",
   "execution_count": 78,
   "id": "18674016-f33e-4113-99fb-fb661bcec233",
   "metadata": {},
   "outputs": [
    {
     "name": "stdout",
     "output_type": "stream",
     "text": [
      "30\n"
     ]
    }
   ],
   "source": [
    "def addition():\n",
    "    n11=10\n",
    "    n22=20\n",
    "    add=n11+n22\n",
    "    print(add)\n",
    "\n",
    "addition()"
   ]
  },
  {
   "cell_type": "code",
   "execution_count": 79,
   "id": "dde86ce6-9083-4fd8-a554-3dc8f6461355",
   "metadata": {},
   "outputs": [
    {
     "ename": "NameError",
     "evalue": "name 'n11' is not defined",
     "output_type": "error",
     "traceback": [
      "\u001b[1;31m---------------------------------------------------------------------------\u001b[0m",
      "\u001b[1;31mNameError\u001b[0m                                 Traceback (most recent call last)",
      "Cell \u001b[1;32mIn[79], line 1\u001b[0m\n\u001b[1;32m----> 1\u001b[0m n11\n",
      "\u001b[1;31mNameError\u001b[0m: name 'n11' is not defined"
     ]
    }
   ],
   "source": [
    "n11"
   ]
  },
  {
   "cell_type": "code",
   "execution_count": null,
   "id": "18549c08-f9a9-4699-b44c-6a52b29e8e7a",
   "metadata": {},
   "outputs": [],
   "source": [
    "#  to make local vatiable to global variable we can use global keyword"
   ]
  },
  {
   "cell_type": "code",
   "execution_count": 80,
   "id": "ad0c2cc2-5b7c-4815-8a75-dbb29048d68f",
   "metadata": {},
   "outputs": [
    {
     "name": "stdout",
     "output_type": "stream",
     "text": [
      "30\n"
     ]
    }
   ],
   "source": [
    "def addition():\n",
    "    global n11\n",
    "    n11=10\n",
    "    n22=20\n",
    "    add=n11+n22\n",
    "    print(add)\n",
    "\n",
    "addition()"
   ]
  },
  {
   "cell_type": "code",
   "execution_count": 81,
   "id": "82dcaf9d-cb63-4715-a843-2d80bd11cb1a",
   "metadata": {},
   "outputs": [
    {
     "data": {
      "text/plain": [
       "10"
      ]
     },
     "execution_count": 81,
     "metadata": {},
     "output_type": "execute_result"
    }
   ],
   "source": [
    "n11"
   ]
  },
  {
   "cell_type": "code",
   "execution_count": 84,
   "id": "900ed8f0-f7e8-497f-9c4e-22bb9ebd4aba",
   "metadata": {},
   "outputs": [
    {
     "name": "stdout",
     "output_type": "stream",
     "text": [
      "30\n",
      "10\n"
     ]
    }
   ],
   "source": [
    "def addition():\n",
    "    global n11\n",
    "    n11=10\n",
    "    n22=20\n",
    "    add=n11+n22\n",
    "    print(add)\n",
    "\n",
    "addition()\n",
    "print(n11)"
   ]
  },
  {
   "cell_type": "markdown",
   "id": "9eb0a1ec-c939-4c4b-904f-af1140a03fe3",
   "metadata": {},
   "source": [
    "- function without arguments\n",
    "\n",
    "- function with arguments\n",
    "\n",
    "- function with default arguments\n",
    "\n",
    "- Local variable and global variable\n",
    "\n",
    "- Return statements\n",
    "\n",
    "- function in functions"
   ]
  },
  {
   "cell_type": "code",
   "execution_count": 3,
   "id": "f98d52d1-ffd4-4965-a9e9-eebba0a0844b",
   "metadata": {},
   "outputs": [
    {
     "name": "stdin",
     "output_type": "stream",
     "text": [
      "Enter number1: 10\n"
     ]
    },
    {
     "name": "stdout",
     "output_type": "stream",
     "text": [
      "number1: 10\n"
     ]
    },
    {
     "name": "stdin",
     "output_type": "stream",
     "text": [
      "Enter number2: 20\n"
     ]
    },
    {
     "name": "stdout",
     "output_type": "stream",
     "text": [
      "number2: 20\n"
     ]
    },
    {
     "name": "stdin",
     "output_type": "stream",
     "text": [
      "Enter number3: 30\n"
     ]
    },
    {
     "name": "stdout",
     "output_type": "stream",
     "text": [
      "number3: 30\n",
      "The average of 10, 20 and 30 is 20\n"
     ]
    }
   ],
   "source": [
    "# function without arguments\n",
    "\n",
    "def average():\n",
    "    n1=eval(input('Enter number1:'))\n",
    "    print('number1:',n1)\n",
    "    n2=eval(input('Enter number2:'))\n",
    "    print('number2:',n2)\n",
    "    n3=eval(input('Enter number3:'))\n",
    "    print('number3:',n3)\n",
    "    avg=round((n1+n2+n3)/3)\n",
    "    print(f'The average of {n1}, {n2} and {n3} is {avg}')\n",
    "\n",
    "average()"
   ]
  },
  {
   "cell_type": "code",
   "execution_count": 4,
   "id": "5a5349d6-7e3c-4346-92d0-82e0b75b171c",
   "metadata": {},
   "outputs": [
    {
     "name": "stdin",
     "output_type": "stream",
     "text": [
      "Enter number1: 10\n",
      "Enter number2: 20\n",
      "Enter number3: 30\n"
     ]
    },
    {
     "name": "stdout",
     "output_type": "stream",
     "text": [
      "number1: 10\n",
      "number2: 20\n",
      "number3: 30\n",
      "The average of 10, 20 and 30 is 20\n"
     ]
    }
   ],
   "source": [
    "#function with arguments\n",
    "\n",
    "def average(n1,n2,n3):\n",
    "    print('number1:',n1)\n",
    "    print('number2:',n2)\n",
    "    print('number3:',n3)\n",
    "    avg=round((n1+n2+n3)/3)\n",
    "    print(f'The average of {n1}, {n2} and {n3} is {avg}')\n",
    "\n",
    "average(eval(input('Enter number1:')),\n",
    "       eval(input('Enter number2:')),\n",
    "       eval(input('Enter number3:')))"
   ]
  },
  {
   "cell_type": "code",
   "execution_count": 5,
   "id": "afa32ac4-4d5b-4b02-b71e-34c9b1f89bb7",
   "metadata": {},
   "outputs": [
    {
     "name": "stdin",
     "output_type": "stream",
     "text": [
      "Enter number1: 10\n",
      "Enter number2: 20\n"
     ]
    },
    {
     "name": "stdout",
     "output_type": "stream",
     "text": [
      "number1: 10\n",
      "number2: 20\n",
      "number3: 30\n",
      "The average of 10, 20 and 30 is 20\n"
     ]
    }
   ],
   "source": [
    "# function default arguments\n",
    "\n",
    "def average(n1,n2,n3=30):\n",
    "    print('number1:',n1)\n",
    "    print('number2:',n2)\n",
    "    print('number3:',n3)\n",
    "    avg=round((n1+n2+n3)/3)\n",
    "    print(f'The average of {n1}, {n2} and {n3} is {avg}')\n",
    "\n",
    "average(eval(input('Enter number1:')),\n",
    "       eval(input('Enter number2:')))\n",
    "\n",
    "# input variables: n1,n2,n3\n",
    "# output variables: average"
   ]
  },
  {
   "cell_type": "code",
   "execution_count": 11,
   "id": "e0e44640-af9f-4768-8d1c-fec5e55d6509",
   "metadata": {},
   "outputs": [
    {
     "ename": "NameError",
     "evalue": "name 'n11' is not defined",
     "output_type": "error",
     "traceback": [
      "\u001b[1;31m---------------------------------------------------------------------------\u001b[0m",
      "\u001b[1;31mNameError\u001b[0m                                 Traceback (most recent call last)",
      "Cell \u001b[1;32mIn[11], line 1\u001b[0m\n\u001b[1;32m----> 1\u001b[0m n11\n",
      "\u001b[1;31mNameError\u001b[0m: name 'n11' is not defined"
     ]
    }
   ],
   "source": [
    "n11\n",
    "\n",
    "# because it is a local variable"
   ]
  },
  {
   "cell_type": "code",
   "execution_count": 8,
   "id": "5ab37467-1f37-48ed-b311-9c58d2f43b4e",
   "metadata": {},
   "outputs": [
    {
     "name": "stdin",
     "output_type": "stream",
     "text": [
      "Enter number1: 10\n",
      "Enter number2: 20\n",
      "Enter number3: 30\n"
     ]
    },
    {
     "name": "stdout",
     "output_type": "stream",
     "text": [
      "number1: 10\n",
      "number2: 20\n",
      "number3: 30\n",
      "The average of 10, 20 and 30 is 20\n"
     ]
    }
   ],
   "source": [
    "#Local variable and global variable \n",
    "\n",
    "n1=eval(input('Enter number1:'))\n",
    "n2=eval(input('Enter number2:'))\n",
    "n3=eval(input('Enter number3:'))\n",
    "\n",
    "def average():\n",
    "    print('number1:',n1)\n",
    "    print('number2:',n2)\n",
    "    print('number3:',n3)\n",
    "    avg=round((n1+n2+n3)/3)\n",
    "    print(f'The average of {n1}, {n2} and {n3} is {avg}')\n",
    "\n",
    "average()\n",
    "\n",
    "# Here the global variables are n1,n2,n3\n",
    "# and the local variable is avg"
   ]
  },
  {
   "cell_type": "code",
   "execution_count": 9,
   "id": "f13da2b5-57b5-447c-b8e6-6274a677f840",
   "metadata": {},
   "outputs": [
    {
     "data": {
      "text/plain": [
       "10"
      ]
     },
     "execution_count": 9,
     "metadata": {},
     "output_type": "execute_result"
    }
   ],
   "source": [
    "n1\n",
    "\n",
    "# it is provide answer because it is a global variable"
   ]
  },
  {
   "cell_type": "code",
   "execution_count": 12,
   "id": "e0e4f8cd-c102-4eb0-be4a-fb88b25c5321",
   "metadata": {},
   "outputs": [
    {
     "name": "stdin",
     "output_type": "stream",
     "text": [
      "Enter number1: 10\n",
      "Enter number2: 20\n",
      "Enter number3: 30\n"
     ]
    },
    {
     "name": "stdout",
     "output_type": "stream",
     "text": [
      "number1: 10\n",
      "number2: 20\n",
      "number3: 30\n",
      "The average of 10, 20 and 30 is 20\n"
     ]
    }
   ],
   "source": [
    "def average():\n",
    "    print('number1:',n1)\n",
    "    print('number2:',n2)\n",
    "    print('number3:',n3)\n",
    "    avg=round((n1+n2+n3)/3)\n",
    "    print(f'The average of {n1}, {n2} and {n3} is {avg}')\n",
    "\n",
    "n1=eval(input('Enter number1:'))\n",
    "n2=eval(input('Enter number2:'))\n",
    "n3=eval(input('Enter number3:'))\n",
    "average()\n",
    "\n",
    "# Here the global variables are n1,n2,n3\n",
    "# and the local variable is avg\n"
   ]
  },
  {
   "cell_type": "code",
   "execution_count": 13,
   "id": "b3c6cef5-42e1-4c20-968c-dd9b68564a91",
   "metadata": {},
   "outputs": [
    {
     "ename": "NameError",
     "evalue": "name 'a' is not defined",
     "output_type": "error",
     "traceback": [
      "\u001b[1;31m---------------------------------------------------------------------------\u001b[0m",
      "\u001b[1;31mNameError\u001b[0m                                 Traceback (most recent call last)",
      "Cell \u001b[1;32mIn[13], line 4\u001b[0m\n\u001b[0;32m      1\u001b[0m \u001b[38;5;28;01mdef\u001b[39;00m \u001b[38;5;21madd\u001b[39m():\n\u001b[0;32m      2\u001b[0m     \u001b[38;5;28mprint\u001b[39m(a\u001b[38;5;241m+\u001b[39mb)\n\u001b[1;32m----> 4\u001b[0m add()\n\u001b[0;32m      5\u001b[0m a\u001b[38;5;241m=\u001b[39m\u001b[38;5;241m10\u001b[39m\n\u001b[0;32m      6\u001b[0m b\u001b[38;5;241m=\u001b[39m\u001b[38;5;241m20\u001b[39m\n",
      "Cell \u001b[1;32mIn[13], line 2\u001b[0m, in \u001b[0;36madd\u001b[1;34m()\u001b[0m\n\u001b[0;32m      1\u001b[0m \u001b[38;5;28;01mdef\u001b[39;00m \u001b[38;5;21madd\u001b[39m():\n\u001b[1;32m----> 2\u001b[0m     \u001b[38;5;28mprint\u001b[39m(a\u001b[38;5;241m+\u001b[39mb)\n",
      "\u001b[1;31mNameError\u001b[0m: name 'a' is not defined"
     ]
    }
   ],
   "source": [
    "def add():\n",
    "    print(a+b)\n",
    "\n",
    "add()\n",
    "a=10\n",
    "b=20\n",
    "\n",
    "# it gives error because the variables a and b define after calling the function"
   ]
  },
  {
   "cell_type": "code",
   "execution_count": 14,
   "id": "2def919c-1001-4ec7-a504-a3fc64d64703",
   "metadata": {},
   "outputs": [
    {
     "name": "stdout",
     "output_type": "stream",
     "text": [
      "30\n"
     ]
    }
   ],
   "source": [
    "def add():\n",
    "    print(a+b)\n",
    "    \n",
    "a=10\n",
    "b=20\n",
    "add()\n",
    "\n",
    "# it gives output because the variables a and b define before calling the function"
   ]
  },
  {
   "cell_type": "code",
   "execution_count": null,
   "id": "fafc473a-0966-4627-8b40-cac2d7879bd7",
   "metadata": {},
   "outputs": [],
   "source": [
    "def add():\n",
    "    print(a+b)\n",
    "\n",
    "add()                           # fail even they are global, it is useless\n",
    "a=10                            # because a and b define after calling the function\n",
    "b=20\n",
    "\n",
    "#########################################\n",
    "\n",
    "def add():\n",
    "    print(a+b)\n",
    "                               # works, global\n",
    "a=10                           # because a and b define before calling the function\n",
    "b=20\n",
    "add()\n",
    "\n",
    "############################################\n",
    "\n",
    "def add():\n",
    "    print(a+b)\n",
    "    a=10                      # fail\n",
    "    b=20                      # because a and b define after printing the output and calling the function\n",
    "    \n",
    "add()\n",
    "\n",
    "###############################################\n",
    "\n",
    "a=10\n",
    "b=20\n",
    "def add():                    # works as a and b are global variables and define before calling function\n",
    "    print(a+b)\n",
    "    \n",
    "add()\n",
    "\n",
    "###################################################\n",
    "\n",
    "def add():\n",
    "    a=10\n",
    "    b=20                      # works as a and b are local variables define before calling function\n",
    "    print(a+b)\n",
    "    \n",
    "add()"
   ]
  },
  {
   "cell_type": "code",
   "execution_count": 15,
   "id": "b48cbb92-8c8f-47e3-9889-5c8f4a7f5748",
   "metadata": {},
   "outputs": [
    {
     "ename": "UnboundLocalError",
     "evalue": "cannot access local variable 'a' where it is not associated with a value",
     "output_type": "error",
     "traceback": [
      "\u001b[1;31m---------------------------------------------------------------------------\u001b[0m",
      "\u001b[1;31mUnboundLocalError\u001b[0m                         Traceback (most recent call last)",
      "Cell \u001b[1;32mIn[15], line 6\u001b[0m\n\u001b[0;32m      3\u001b[0m     a\u001b[38;5;241m=\u001b[39m\u001b[38;5;241m10\u001b[39m                   \n\u001b[0;32m      4\u001b[0m     b\u001b[38;5;241m=\u001b[39m\u001b[38;5;241m20\u001b[39m                      \n\u001b[1;32m----> 6\u001b[0m add()\n",
      "Cell \u001b[1;32mIn[15], line 2\u001b[0m, in \u001b[0;36madd\u001b[1;34m()\u001b[0m\n\u001b[0;32m      1\u001b[0m \u001b[38;5;28;01mdef\u001b[39;00m \u001b[38;5;21madd\u001b[39m():\n\u001b[1;32m----> 2\u001b[0m     \u001b[38;5;28mprint\u001b[39m(a\u001b[38;5;241m+\u001b[39mb)\n\u001b[0;32m      3\u001b[0m     a\u001b[38;5;241m=\u001b[39m\u001b[38;5;241m10\u001b[39m                   \n\u001b[0;32m      4\u001b[0m     b\u001b[38;5;241m=\u001b[39m\u001b[38;5;241m20\u001b[39m\n",
      "\u001b[1;31mUnboundLocalError\u001b[0m: cannot access local variable 'a' where it is not associated with a value"
     ]
    }
   ],
   "source": [
    "def add():\n",
    "    print(a+b)\n",
    "    a=10                   \n",
    "    b=20                      \n",
    "    \n",
    "add()"
   ]
  },
  {
   "cell_type": "code",
   "execution_count": 16,
   "id": "c2db540c-0483-4244-baa4-80bb3a4276b6",
   "metadata": {},
   "outputs": [
    {
     "name": "stdout",
     "output_type": "stream",
     "text": [
      "30\n"
     ]
    }
   ],
   "source": [
    "a=10\n",
    "b=20\n",
    "def add():                 \n",
    "    print(a+b)\n",
    "    \n",
    "add()"
   ]
  },
  {
   "cell_type": "code",
   "execution_count": 17,
   "id": "0c8f05e4-88a4-49e8-9b42-07f3c6e87b0e",
   "metadata": {},
   "outputs": [
    {
     "name": "stdout",
     "output_type": "stream",
     "text": [
      "30\n"
     ]
    }
   ],
   "source": [
    "def add():\n",
    "    a=10\n",
    "    b=20                      \n",
    "    print(a+b)\n",
    "    \n",
    "add()"
   ]
  },
  {
   "cell_type": "code",
   "execution_count": 21,
   "id": "5e058b3d-727c-4844-8652-8c334f4d0b37",
   "metadata": {},
   "outputs": [
    {
     "name": "stdout",
     "output_type": "stream",
     "text": [
      "20\n"
     ]
    }
   ],
   "source": [
    "s=10\n",
    "def add1():\n",
    "    global s\n",
    "    s=20\n",
    "    print(s)\n",
    "\n",
    "add1()"
   ]
  },
  {
   "cell_type": "code",
   "execution_count": 22,
   "id": "cf0999a5-026d-4cbc-90bc-b942ee6d20ec",
   "metadata": {},
   "outputs": [
    {
     "data": {
      "text/plain": [
       "20"
      ]
     },
     "execution_count": 22,
     "metadata": {},
     "output_type": "execute_result"
    }
   ],
   "source": [
    "s"
   ]
  },
  {
   "cell_type": "code",
   "execution_count": 30,
   "id": "d9fe9e03-77af-41b7-b53d-48abe2073e09",
   "metadata": {},
   "outputs": [
    {
     "name": "stdout",
     "output_type": "stream",
     "text": [
      "10\n",
      "30\n"
     ]
    }
   ],
   "source": [
    "s1=10\n",
    "def add1():\n",
    "    print(s1)     # 10\n",
    "    s2=s1+20      # 10+20\n",
    "    print(s2)\n",
    "\n",
    "add1()"
   ]
  },
  {
   "cell_type": "code",
   "execution_count": 34,
   "id": "ba018dff-afee-4d84-8ba0-c31cc411d146",
   "metadata": {},
   "outputs": [],
   "source": [
    "sum1=10\n",
    "def add1():\n",
    "    global sum1\n",
    "    sum1=20\n",
    "add1()"
   ]
  },
  {
   "cell_type": "code",
   "execution_count": 35,
   "id": "9f7865d2-4eb0-4896-ab10-6bd1e3243f48",
   "metadata": {},
   "outputs": [
    {
     "data": {
      "text/plain": [
       "20"
      ]
     },
     "execution_count": 35,
     "metadata": {},
     "output_type": "execute_result"
    }
   ],
   "source": [
    "sum1"
   ]
  },
  {
   "cell_type": "code",
   "execution_count": 38,
   "id": "8fc1b903-9f71-46ad-844e-53aa0afca929",
   "metadata": {},
   "outputs": [
    {
     "name": "stdout",
     "output_type": "stream",
     "text": [
      "10\n"
     ]
    }
   ],
   "source": [
    "def show():\n",
    "    global a\n",
    "    a=20\n",
    "    a=10\n",
    "    print(a)\n",
    "\n",
    "a=10\n",
    "show()\n",
    "\n",
    "# latest value is 10"
   ]
  },
  {
   "cell_type": "code",
   "execution_count": 39,
   "id": "716d853a-24ce-4ab8-b3b8-54ba2090c250",
   "metadata": {},
   "outputs": [
    {
     "data": {
      "text/plain": [
       "10"
      ]
     },
     "execution_count": 39,
     "metadata": {},
     "output_type": "execute_result"
    }
   ],
   "source": [
    "a"
   ]
  },
  {
   "cell_type": "code",
   "execution_count": 40,
   "id": "ef798fb5-2b46-4378-8680-874c2b54377d",
   "metadata": {},
   "outputs": [
    {
     "name": "stdout",
     "output_type": "stream",
     "text": [
      "17\n"
     ]
    }
   ],
   "source": [
    "a=10\n",
    "b=20\n",
    "def add():\n",
    "    a=16\n",
    "a=17\n",
    "add()\n",
    "print(a)\n",
    "\n",
    "# 10,17,16 as a=16 is local variable so it 17 as the value"
   ]
  },
  {
   "cell_type": "code",
   "execution_count": 41,
   "id": "7ffc03a3-daff-4e1c-9261-ef84353f6781",
   "metadata": {},
   "outputs": [
    {
     "name": "stdout",
     "output_type": "stream",
     "text": [
      "NUMBER11: 2000\n",
      "NUMBER22: 2000\n",
      "4000\n",
      "1000\n"
     ]
    }
   ],
   "source": [
    "NUMBER11=100\n",
    "NUMBER22=200\n",
    "def addition():\n",
    "    NUMBER11=2000\n",
    "    print('NUMBER11:',NUMBER11)\n",
    "    print('NUMBER22:',NUMBER22)\n",
    "    add=NUMBER11+NUMBER22\n",
    "    print(add)\n",
    "\n",
    "NUMBER11=1000\n",
    "NUMBER22=2000\n",
    "addition()\n",
    "\n",
    "print(NUMBER11)\n",
    "\n",
    "# NUMBER11: 100, 1000, 2000"
   ]
  },
  {
   "cell_type": "markdown",
   "id": "f67e9494-293b-492c-a6a0-8559f4276407",
   "metadata": {},
   "source": [
    "**use the local variable outside function with out using global keywords**\n",
    "\n",
    "- we already know that local variables cant use directly outside the function\n",
    "\n",
    "- if we want to use local variable outside the function we need to use global keyword\n",
    "\n",
    "- we can also use the local variables with out using global keyword\n",
    "\n",
    "- that concept is called **return**"
   ]
  },
  {
   "cell_type": "code",
   "execution_count": 53,
   "id": "9a01f461-0d0b-4c97-b0f8-f78f306d077d",
   "metadata": {},
   "outputs": [
    {
     "name": "stdout",
     "output_type": "stream",
     "text": [
      "30\n",
      "10\n"
     ]
    }
   ],
   "source": [
    "def add1():\n",
    "    num1=10\n",
    "    num2=20\n",
    "    summm=num1+num2\n",
    "    return(summm,num1)\n",
    "\n",
    "summm,num1=add1()\n",
    "print(summm)\n",
    "print(num1)"
   ]
  },
  {
   "cell_type": "code",
   "execution_count": 54,
   "id": "dbb99781-e7de-4ced-86af-c78f41bcaea3",
   "metadata": {},
   "outputs": [
    {
     "name": "stdout",
     "output_type": "stream",
     "text": [
      "30\n",
      "10\n",
      "20\n"
     ]
    }
   ],
   "source": [
    "def add1():\n",
    "    num1=10\n",
    "    num2=20\n",
    "    summm=num1+num2\n",
    "    return(summm,num1,num2)\n",
    "\n",
    "summm,num1,num2=add1()\n",
    "print(summm)\n",
    "print(num1)\n",
    "print(num2)"
   ]
  },
  {
   "cell_type": "code",
   "execution_count": 55,
   "id": "210b08c2-d438-4464-a330-0cf551673433",
   "metadata": {},
   "outputs": [
    {
     "name": "stdin",
     "output_type": "stream",
     "text": [
      "Enter number1: 10\n",
      "Enter number2: 20\n",
      "Enter number3: 30\n"
     ]
    },
    {
     "name": "stdout",
     "output_type": "stream",
     "text": [
      "10\n"
     ]
    }
   ],
   "source": [
    "def average():\n",
    "    n1=eval(input('Enter number1:'))\n",
    "    n2=eval(input('Enter number2:'))\n",
    "    n3=eval(input('Enter number3:'))\n",
    "    avg=round((n1+n2+n3)/3)\n",
    "    return(n1)\n",
    "\n",
    "n1=average()\n",
    "print(n1)"
   ]
  },
  {
   "cell_type": "code",
   "execution_count": 56,
   "id": "56611457-887a-4ce9-9f89-63b856ae59f1",
   "metadata": {},
   "outputs": [
    {
     "name": "stdin",
     "output_type": "stream",
     "text": [
      "Enter number1: 10\n"
     ]
    },
    {
     "name": "stdout",
     "output_type": "stream",
     "text": [
      "number1: 10\n"
     ]
    },
    {
     "name": "stdin",
     "output_type": "stream",
     "text": [
      "Enter number2: 20\n"
     ]
    },
    {
     "name": "stdout",
     "output_type": "stream",
     "text": [
      "number2: 20\n"
     ]
    },
    {
     "name": "stdin",
     "output_type": "stream",
     "text": [
      "Enter number3: 30\n"
     ]
    },
    {
     "name": "stdout",
     "output_type": "stream",
     "text": [
      "number3: 30\n",
      "The average of 10, 20 and 30 is 20\n",
      "10\n",
      "20\n",
      "30\n",
      "20\n"
     ]
    }
   ],
   "source": [
    "def average():\n",
    "    n1=eval(input('Enter number1:'))\n",
    "    print('number1:',n1)\n",
    "    n2=eval(input('Enter number2:'))\n",
    "    print('number2:',n2)\n",
    "    n3=eval(input('Enter number3:'))\n",
    "    print('number3:',n3)\n",
    "    avg=round((n1+n2+n3)/3)\n",
    "    print(f'The average of {n1}, {n2} and {n3} is {avg}')\n",
    "    return(n1,n2,n3,avg)\n",
    "\n",
    "n1,n2,n3,avg=average()\n",
    "print(n1)\n",
    "print(n2)\n",
    "print(n3)\n",
    "print(avg)"
   ]
  },
  {
   "cell_type": "code",
   "execution_count": 57,
   "id": "8cb2032a-cf69-4c71-8b20-6784a5942601",
   "metadata": {},
   "outputs": [
    {
     "name": "stdout",
     "output_type": "stream",
     "text": [
      "30 10 20\n",
      "None\n"
     ]
    }
   ],
   "source": [
    "def add1():\n",
    "    num1=10\n",
    "    num2=20\n",
    "    s11=num1+num2\n",
    "    print(s11,num1,num2)\n",
    "\n",
    "s11=add1()\n",
    "print(s11)\n",
    "\n",
    "# it gives none because it is not returning anything"
   ]
  },
  {
   "cell_type": "code",
   "execution_count": null,
   "id": "6366f6d6-b39b-492b-86b6-31578713903b",
   "metadata": {},
   "outputs": [],
   "source": [
    "# Q1) Create a function read three numbers find the average\n"
   ]
  },
  {
   "cell_type": "code",
   "execution_count": 58,
   "id": "d4372c9b-efee-42ab-aa5c-e8c4b750865d",
   "metadata": {},
   "outputs": [
    {
     "name": "stdout",
     "output_type": "stream",
     "text": [
      "The average of 10, 20 and 30 is 20\n",
      "10\n",
      "20\n",
      "30\n",
      "20\n"
     ]
    }
   ],
   "source": [
    "def average():\n",
    "    n1=10\n",
    "    n2=20\n",
    "    n3=30\n",
    "    avg=round((n1+n2+n3)/3)\n",
    "    print(f'The average of {n1}, {n2} and {n3} is {avg}')\n",
    "    return(n1,n2,n3,avg)\n",
    "\n",
    "n1,n2,n3,avg=average()\n",
    "print(n1)\n",
    "print(n2)\n",
    "print(n3)\n",
    "print(avg)"
   ]
  },
  {
   "cell_type": "code",
   "execution_count": null,
   "id": "df58e972-c755-4dd2-95a5-96f3d10c6aa9",
   "metadata": {},
   "outputs": [],
   "source": [
    "# Q2) Create a function ask the user enter the bill amount\n",
    "      # enter the tip per\n",
    "      # calculate total bill pay"
   ]
  },
  {
   "cell_type": "code",
   "execution_count": 62,
   "id": "075a5a5a-309c-41aa-9015-8af388856676",
   "metadata": {},
   "outputs": [
    {
     "name": "stdin",
     "output_type": "stream",
     "text": [
      "enter the bill amount: 2000\n",
      "enter the tip per: 10\n"
     ]
    },
    {
     "name": "stdout",
     "output_type": "stream",
     "text": [
      "The total bill is 2200.0\n",
      "2000\n",
      "10\n",
      "200.0\n",
      "2200.0\n"
     ]
    }
   ],
   "source": [
    "def billing():\n",
    "    bill=eval(input('enter the bill amount:'))\n",
    "    global tip_per\n",
    "    tip_per=eval(input('enter the tip per:'))\n",
    "    tip_amount=round(bill*(tip_per/100),2)\n",
    "    total_bill=bill+tip_amount\n",
    "    print(f'The total bill is {total_bill}')\n",
    "    return(bill,tip_per,tip_amount,total_bill)\n",
    "\n",
    "bill,tip_per,tip_amount,total_bill=billing()\n",
    "print(bill)\n",
    "print(tip_per)\n",
    "print(tip_amount)\n",
    "print(total_bill)"
   ]
  },
  {
   "cell_type": "code",
   "execution_count": null,
   "id": "edead0d9-5c25-4265-850d-6f31998af3d0",
   "metadata": {},
   "outputs": [],
   "source": [
    "# Q3) Create a function ask the user enter enter radius\n",
    "     # calculate the area of the circle\n"
   ]
  },
  {
   "cell_type": "code",
   "execution_count": 63,
   "id": "db6258c1-86b2-4753-8d7b-04850ab11921",
   "metadata": {},
   "outputs": [
    {
     "name": "stdin",
     "output_type": "stream",
     "text": [
      "Enter the radius: 6\n"
     ]
    },
    {
     "name": "stdout",
     "output_type": "stream",
     "text": [
      "113.1\n"
     ]
    }
   ],
   "source": [
    "import math\n",
    "def area_circle():\n",
    "    r=eval(input('Enter the radius:'))\n",
    "    pi=math.pi\n",
    "    area=round(pi*r**2,2)\n",
    "    return(area)\n",
    "\n",
    "area=area_circle()\n",
    "print(area)"
   ]
  },
  {
   "cell_type": "code",
   "execution_count": null,
   "id": "428da812-40c4-4919-a1c6-7a36b48c8d9b",
   "metadata": {},
   "outputs": [],
   "source": [
    "# Q4) Create a function ask the user enter breadth and height\n",
    "    # calculate area of the traingle"
   ]
  },
  {
   "cell_type": "code",
   "execution_count": 64,
   "id": "724d1d5d-26cf-4232-a9c6-4f4b9b78d180",
   "metadata": {},
   "outputs": [
    {
     "name": "stdin",
     "output_type": "stream",
     "text": [
      "Enter the breadth: 45\n",
      "Enter the height: 67\n"
     ]
    },
    {
     "name": "stdout",
     "output_type": "stream",
     "text": [
      "1507.5\n"
     ]
    }
   ],
   "source": [
    "def area_traingle():\n",
    "    b=eval(input('Enter the breadth:'))\n",
    "    h=eval(input('Enter the height:'))\n",
    "    area=round(0.5*b*h,2)\n",
    "    return(area)\n",
    "\n",
    "area=area_traingle()\n",
    "print(area)"
   ]
  },
  {
   "cell_type": "code",
   "execution_count": null,
   "id": "f2cc5079-2886-4753-9e0d-031ffc6bf541",
   "metadata": {},
   "outputs": [],
   "source": [
    "# Q5) Create a function ask the user enter a number find it is even or odd"
   ]
  },
  {
   "cell_type": "code",
   "execution_count": 65,
   "id": "7fe1012b-f167-43d9-ace7-0470e96090bd",
   "metadata": {},
   "outputs": [
    {
     "name": "stdin",
     "output_type": "stream",
     "text": [
      "enter the number: 7\n"
     ]
    },
    {
     "name": "stdout",
     "output_type": "stream",
     "text": [
      "The number 7 is odd\n",
      "7\n"
     ]
    }
   ],
   "source": [
    "def even_odd():\n",
    "    n=eval(input('enter the number:'))\n",
    "    if n%2==0:\n",
    "        print(f'The number {n} is even')\n",
    "        return(n)\n",
    "    \n",
    "    else:\n",
    "        print(f'The number {n} is odd')\n",
    "        return(n)\n",
    "        \n",
    "\n",
    "n=even_odd()\n",
    "print(n)"
   ]
  },
  {
   "cell_type": "code",
   "execution_count": null,
   "id": "de7e285f-6c8c-4933-976a-eb037b8f5f2e",
   "metadata": {},
   "outputs": [],
   "source": [
    "#  Q6) create a function ask the user enter number find it is postive or ngeative or zero"
   ]
  },
  {
   "cell_type": "code",
   "execution_count": 66,
   "id": "594130bb-b8bb-4ed1-aa3b-4ac233e5c0cc",
   "metadata": {},
   "outputs": [
    {
     "name": "stdin",
     "output_type": "stream",
     "text": [
      "enter the number: -90\n"
     ]
    },
    {
     "name": "stdout",
     "output_type": "stream",
     "text": [
      "The number -90 is negative\n",
      "-90\n"
     ]
    }
   ],
   "source": [
    "def positive_negative():\n",
    "    n=eval(input('enter the number:'))\n",
    "    if n>0:\n",
    "        print(f'The number {n} is positive')\n",
    "        return(n)\n",
    "\n",
    "    elif n==0:\n",
    "        print(f'The number {n} is zero')\n",
    "        return(n)\n",
    "    \n",
    "    else:\n",
    "        print(f'The number {n} is negative')\n",
    "        return(n)\n",
    "\n",
    "n=positive_negative()\n",
    "print(n)"
   ]
  },
  {
   "cell_type": "code",
   "execution_count": null,
   "id": "7199ecab-e3fd-4fed-bb0e-35d90e75b979",
   "metadata": {},
   "outputs": [],
   "source": [
    "# Q7) cratae a function ask the user enter threes numbers find the greatet number"
   ]
  },
  {
   "cell_type": "code",
   "execution_count": 67,
   "id": "ff677fd3-835e-4f40-b670-2d8e135d6bdf",
   "metadata": {},
   "outputs": [
    {
     "name": "stdin",
     "output_type": "stream",
     "text": [
      "enter the number1: 56\n",
      "enter the number2: 90\n",
      "enter the number3: 87\n"
     ]
    },
    {
     "name": "stdout",
     "output_type": "stream",
     "text": [
      "The number 90 is greatest\n"
     ]
    },
    {
     "ename": "TypeError",
     "evalue": "cannot unpack non-iterable int object",
     "output_type": "error",
     "traceback": [
      "\u001b[1;31m---------------------------------------------------------------------------\u001b[0m",
      "\u001b[1;31mTypeError\u001b[0m                                 Traceback (most recent call last)",
      "Cell \u001b[1;32mIn[67], line 17\u001b[0m\n\u001b[0;32m     14\u001b[0m         \u001b[38;5;28mprint\u001b[39m(\u001b[38;5;124mf\u001b[39m\u001b[38;5;124m'\u001b[39m\u001b[38;5;124mThe number \u001b[39m\u001b[38;5;132;01m{\u001b[39;00mn3\u001b[38;5;132;01m}\u001b[39;00m\u001b[38;5;124m is greatest\u001b[39m\u001b[38;5;124m'\u001b[39m)\n\u001b[0;32m     15\u001b[0m         \u001b[38;5;28;01mreturn\u001b[39;00m(n3)\n\u001b[1;32m---> 17\u001b[0m n1,n2,n3\u001b[38;5;241m=\u001b[39mgreatest()\n\u001b[0;32m     18\u001b[0m \u001b[38;5;28mprint\u001b[39m(n1)\n\u001b[0;32m     19\u001b[0m \u001b[38;5;28mprint\u001b[39m(n2)\n",
      "\u001b[1;31mTypeError\u001b[0m: cannot unpack non-iterable int object"
     ]
    }
   ],
   "source": [
    "def greatest():\n",
    "    n1=eval(input('enter the number1:'))\n",
    "    n2=eval(input('enter the number2:'))\n",
    "    n3=eval(input('enter the number3:'))\n",
    "    if n1>n2 and n1>n3:\n",
    "        print(f'The number {n1} is greatest')\n",
    "        return(n1)\n",
    "\n",
    "    elif n2>n3:\n",
    "        print(f'The number {n2} is greatest')\n",
    "        return(n2)\n",
    "    \n",
    "    else:\n",
    "        print(f'The number {n3} is greatest')\n",
    "        return(n3)\n",
    "\n",
    "n1,n2,n3=greatest()\n",
    "print(n1)\n",
    "print(n2)\n",
    "print(n3)"
   ]
  },
  {
   "cell_type": "code",
   "execution_count": 68,
   "id": "9ffadeb4-1fa2-411f-b42a-d8be372c6031",
   "metadata": {},
   "outputs": [
    {
     "name": "stdin",
     "output_type": "stream",
     "text": [
      "Enter the number 1:  56\n",
      "Enter the number 2:  89\n",
      "Enter the number 3:  78\n"
     ]
    },
    {
     "name": "stdout",
     "output_type": "stream",
     "text": [
      "The number 89 is the greatest\n",
      "Number 1: 56\n",
      "Number 2: 89\n",
      "Number 3: 78\n",
      "The greatest number is: 89\n"
     ]
    }
   ],
   "source": [
    "def greatest():\n",
    "    n1 = int(input('Enter the number 1: '))\n",
    "    n2 = int(input('Enter the number 2: '))\n",
    "    n3 = int(input('Enter the number 3: '))\n",
    "\n",
    "    if n1 > n2 and n1 > n3:\n",
    "        print(f'The number {n1} is the greatest')\n",
    "        greatest_number = n1\n",
    "    elif n2 > n3:\n",
    "        print(f'The number {n2} is the greatest')\n",
    "        greatest_number = n2\n",
    "    else:\n",
    "        print(f'The number {n3} is the greatest')\n",
    "        greatest_number = n3\n",
    "\n",
    "    return n1, n2, n3, greatest_number\n",
    "\n",
    "n1, n2, n3, greatest_number = greatest()\n",
    "print(f'Number 1: {n1}')\n",
    "print(f'Number 2: {n2}')\n",
    "print(f'Number 3: {n3}')\n",
    "print(f'The greatest number is: {greatest_number}')\n"
   ]
  },
  {
   "cell_type": "code",
   "execution_count": 69,
   "id": "fd14fed8-68a9-4280-90e0-213252a84b91",
   "metadata": {},
   "outputs": [
    {
     "name": "stdin",
     "output_type": "stream",
     "text": [
      "Enter the number 1:  56\n",
      "Enter the number 2:  78\n",
      "Enter the number 3:  89\n"
     ]
    },
    {
     "name": "stdout",
     "output_type": "stream",
     "text": [
      "The number 89 is the greatest\n",
      "Number 1: 56\n",
      "Number 2: 78\n",
      "Number 3: 89\n",
      "The greatest number is: 89\n"
     ]
    }
   ],
   "source": [
    "def greatest():\n",
    "    n1 = eval(input('Enter the number 1: '))\n",
    "    n2 = eval(input('Enter the number 2: '))\n",
    "    n3 = eval(input('Enter the number 3: '))\n",
    "\n",
    "    if n1 > n2 and n1 > n3:\n",
    "        print(f'The number {n1} is the greatest')\n",
    "        \n",
    "    elif n2 > n3:\n",
    "        print(f'The number {n2} is the greatest')\n",
    "        \n",
    "    else:\n",
    "        print(f'The number {n3} is the greatest')\n",
    "        \n",
    "\n",
    "    return(n1, n2, n3, greatest_number)\n",
    "\n",
    "n1, n2, n3, greatest_number = greatest()\n",
    "print(f'Number 1: {n1}')\n",
    "print(f'Number 2: {n2}')\n",
    "print(f'Number 3: {n3}')\n",
    "print(f'The greatest number is: {greatest_number}')\n"
   ]
  },
  {
   "cell_type": "code",
   "execution_count": 9,
   "id": "f620a7b3-5963-4947-a182-6315b2601f78",
   "metadata": {},
   "outputs": [],
   "source": [
    "def add():\n",
    "    n1=10\n",
    "    n2=20\n",
    "    a1=n1+n2\n",
    "    return(a1,n1)\n",
    "\n",
    "val=add()"
   ]
  },
  {
   "cell_type": "code",
   "execution_count": 10,
   "id": "50da9b05-580e-4fc1-acd0-ff17fc23fa1d",
   "metadata": {},
   "outputs": [
    {
     "data": {
      "text/plain": [
       "(30, 10)"
      ]
     },
     "execution_count": 10,
     "metadata": {},
     "output_type": "execute_result"
    }
   ],
   "source": [
    "val"
   ]
  },
  {
   "cell_type": "code",
   "execution_count": 11,
   "id": "f974def0-0189-4779-a4c1-1353467b5211",
   "metadata": {},
   "outputs": [],
   "source": [
    "def add():\n",
    "    n1=10\n",
    "    n2=20\n",
    "    a1=n1+n2\n",
    "    return(a1,n1)\n",
    "\n",
    "val1,val2=add()"
   ]
  },
  {
   "cell_type": "code",
   "execution_count": 13,
   "id": "aa0e7d62-ddc0-481f-bb23-b0c9364f66b2",
   "metadata": {},
   "outputs": [
    {
     "data": {
      "text/plain": [
       "(30, 10)"
      ]
     },
     "execution_count": 13,
     "metadata": {},
     "output_type": "execute_result"
    }
   ],
   "source": [
    "val1,val2"
   ]
  },
  {
   "cell_type": "markdown",
   "id": "c8bf20ae-fd6b-42fb-85f1-7a66accda0ea",
   "metadata": {},
   "source": [
    "**Function in functions**"
   ]
  },
  {
   "cell_type": "code",
   "execution_count": 18,
   "id": "72407f1a-b631-4c3c-b2b7-fbe0027bc779",
   "metadata": {},
   "outputs": [
    {
     "name": "stdout",
     "output_type": "stream",
     "text": [
      "===calling greet1 function===\n",
      "good morning\n",
      "===calling greet2 function===\n",
      "good night\n"
     ]
    }
   ],
   "source": [
    "def greet1():\n",
    "    print('===calling greet1 function===')\n",
    "    print('good morning')\n",
    "\n",
    "def greet2():\n",
    "    print('===calling greet2 function===')\n",
    "    print('good night')\n",
    "\n",
    "greet1()\n",
    "greet2()"
   ]
  },
  {
   "cell_type": "code",
   "execution_count": 19,
   "id": "436ce020-478a-4fbe-bc02-4254d89d86a4",
   "metadata": {},
   "outputs": [
    {
     "name": "stdout",
     "output_type": "stream",
     "text": [
      "===calling greet1 function===\n",
      "===calling greet2 function===\n",
      "good night\n",
      "good morning\n"
     ]
    }
   ],
   "source": [
    "def greet1():\n",
    "    print('===calling greet1 function===')\n",
    "    greet2()\n",
    "    print('good morning')\n",
    "\n",
    "def greet2():\n",
    "    print('===calling greet2 function===')\n",
    "    print('good night')\n",
    "    \n",
    "greet1()\n",
    "\n",
    "# step-1 : ===calling greet1 function===\n",
    "# step-2 : ===calling greet2 function===\n",
    "# step-3 : good night\n",
    "# step-4 : good morning"
   ]
  },
  {
   "cell_type": "code",
   "execution_count": 20,
   "id": "e901610b-93a9-4d0c-ac07-1adc4203e4d2",
   "metadata": {},
   "outputs": [
    {
     "name": "stdout",
     "output_type": "stream",
     "text": [
      "===calling greet2 function===\n",
      "===calling greet1 function===\n",
      "good morning\n",
      "good night\n"
     ]
    }
   ],
   "source": [
    "def greet1():\n",
    "    print('===calling greet1 function===')\n",
    "    print('good morning')\n",
    "\n",
    "def greet2():\n",
    "    print('===calling greet2 function===')\n",
    "    greet1()\n",
    "    print('good night')\n",
    "    \n",
    "greet2()\n",
    "\n",
    "# step-1 : ===calling greet2 function===\n",
    "# step-2 : ===calling greet1 function===\n",
    "# step-3 : good morning\n",
    "# step-4 : good night"
   ]
  },
  {
   "cell_type": "code",
   "execution_count": null,
   "id": "246e5d98-ed1c-4b7e-955c-a429d9dcbb79",
   "metadata": {},
   "outputs": [],
   "source": [
    "def greet1():\n",
    "    print('hello')\n",
    "    greet1()\n",
    "\n",
    "greet1()\n",
    "\n",
    "# if we run this it create a infinity loops\n",
    "\n",
    "# same like this code\n",
    "\n",
    "def greet1():\n",
    "    print('===calling greet1 function===')\n",
    "    print('good morning')\n",
    "    greet2()\n",
    "    \n",
    "def greet2():\n",
    "    print('===calling greet2 function===')\n",
    "    greet1()\n",
    "    print('good night')\n",
    "    \n",
    "greet2()\n",
    "\n",
    "# this also create a infinity loop that busy the kernel \n",
    "# here good night never be printed"
   ]
  },
  {
   "cell_type": "code",
   "execution_count": null,
   "id": "aed2bbf4-b6b1-456b-bde7-c40fd1be09a1",
   "metadata": {},
   "outputs": [],
   "source": [
    "def add():\n",
    "    print(a+b)\n",
    "\n",
    "def sub():\n",
    "    print(a-b)\n",
    "    \n",
    "math_operation()             # this gives us error as the math_operation is calling before define math_operation\n",
    "\n",
    "def math_operation():\n",
    "    add()\n",
    "    sub()"
   ]
  },
  {
   "cell_type": "code",
   "execution_count": 23,
   "id": "61262ffd-7645-4168-865f-d41266acc68c",
   "metadata": {},
   "outputs": [
    {
     "name": "stdout",
     "output_type": "stream",
     "text": [
      "30\n",
      "10\n"
     ]
    }
   ],
   "source": [
    "# method - 1 : using local variable\n",
    "def add():\n",
    "    a=20\n",
    "    b=10\n",
    "    print(a+b)\n",
    "\n",
    "def sub():\n",
    "    a=20\n",
    "    b=10\n",
    "    print(a-b)\n",
    "    \n",
    "def math_operation():\n",
    "    add()\n",
    "    sub()\n",
    "\n",
    "math_operation()"
   ]
  },
  {
   "cell_type": "code",
   "execution_count": 24,
   "id": "400c8f7b-4bb4-446c-b0f8-df88c1d8fb01",
   "metadata": {},
   "outputs": [
    {
     "name": "stdout",
     "output_type": "stream",
     "text": [
      "30\n",
      "10\n"
     ]
    }
   ],
   "source": [
    "# method - 2 : using global variable\n",
    "a=20\n",
    "b=10\n",
    "\n",
    "def add():\n",
    "    print(a+b)\n",
    "\n",
    "def sub():\n",
    "    print(a-b)\n",
    "    \n",
    "def math_operation():\n",
    "    add()\n",
    "    sub()\n",
    "\n",
    "math_operation()"
   ]
  },
  {
   "cell_type": "code",
   "execution_count": 27,
   "id": "3c86a015-a475-4ba3-ac64-b408631fde74",
   "metadata": {},
   "outputs": [
    {
     "name": "stdout",
     "output_type": "stream",
     "text": [
      "30\n",
      "10\n"
     ]
    }
   ],
   "source": [
    "# method - 3 : using parameters\n",
    "def add(a1,b1):\n",
    "    print(a1+b1)\n",
    "\n",
    "def sub(a1,b1):\n",
    "    print(a1-b1)\n",
    "    \n",
    "def math_operation(a1,b1):\n",
    "    add(a1,b1)\n",
    "    sub(a1,b1)\n",
    "\n",
    "math_operation(20,10)"
   ]
  },
  {
   "cell_type": "code",
   "execution_count": 28,
   "id": "4d095111-63a1-4fd2-b395-2189f2813931",
   "metadata": {},
   "outputs": [
    {
     "name": "stdout",
     "output_type": "stream",
     "text": [
      "30\n",
      "-10\n"
     ]
    }
   ],
   "source": [
    "def add(a1,b1):\n",
    "    print(a1+b1)\n",
    "\n",
    "def sub(a2,b2):\n",
    "    print(a2-b2)\n",
    "    \n",
    "def math_operation(a1,b1,a2,b2):\n",
    "    add(a1,b1)\n",
    "    sub(a2,b2)\n",
    "\n",
    "math_operation(20,10,40,50)\n",
    "\n",
    "# which variable you taken that you should be pased inside the function"
   ]
  },
  {
   "cell_type": "code",
   "execution_count": null,
   "id": "514c472e-82d9-467c-8dcc-a2f1748002fc",
   "metadata": {},
   "outputs": [],
   "source": [
    "# calculate program\n",
    "# you need to create 4 functions\n",
    "# add function\n",
    "# sub function\n",
    "# mul function\n",
    "# div function\n",
    "\n",
    "# you need to convery to the user\n",
    "# operation=1 then perform addition operation\n",
    "# operation=2 then perform addition operation\n",
    "# operation=3 then perform addition operation\n",
    "# operation=4 then perform addition operation\n",
    "\n",
    "# entire if-elif-else you need to keep in big function\n",
    "# math operations\n",
    "# ask the user enter the operation\n",
    "#  if operation==1 : call the add function\n",
    "#  if operation==2 : call the sub function\n",
    "#  if operation==3 : call the mul function\n",
    "#  if operation==4 : call the div function"
   ]
  },
  {
   "cell_type": "code",
   "execution_count": 30,
   "id": "3dd5bb5e-4e2e-4336-9c0f-a1b9901e1395",
   "metadata": {},
   "outputs": [
    {
     "name": "stdout",
     "output_type": "stream",
     "text": [
      "addition operation=1\n",
      "substraction operation=2\n",
      "multiplication operation=3\n",
      "division operation=4\n"
     ]
    },
    {
     "name": "stdin",
     "output_type": "stream",
     "text": [
      "enter the number from 1-4: 1\n"
     ]
    },
    {
     "name": "stdout",
     "output_type": "stream",
     "text": [
      "60\n"
     ]
    }
   ],
   "source": [
    "def add(a,b):\n",
    "    print(a+b)\n",
    "\n",
    "def sub(a,b):\n",
    "    print(a-b)\n",
    "\n",
    "def mul(a,b):\n",
    "    print(a*b)\n",
    "\n",
    "def div(a,b):\n",
    "    print(a/b)\n",
    "\n",
    "print('addition operation=1')\n",
    "print('substraction operation=2')\n",
    "print('multiplication operation=3')\n",
    "print('division operation=4')\n",
    "operation=eval(input('enter the number from 1-4:'))\n",
    "\n",
    "def math_operation(a,b):\n",
    "    if operation==1:\n",
    "        add(a,b)\n",
    "    elif operation==2:\n",
    "        sub(a,b)\n",
    "    elif operation==3:\n",
    "        mul(a,b)\n",
    "    else:\n",
    "        div(a,b)\n",
    "\n",
    "math_operation(40,20)"
   ]
  }
 ],
 "metadata": {
  "kernelspec": {
   "display_name": "Python 3 (ipykernel)",
   "language": "python",
   "name": "python3"
  },
  "language_info": {
   "codemirror_mode": {
    "name": "ipython",
    "version": 3
   },
   "file_extension": ".py",
   "mimetype": "text/x-python",
   "name": "python",
   "nbconvert_exporter": "python",
   "pygments_lexer": "ipython3",
   "version": "3.11.7"
  }
 },
 "nbformat": 4,
 "nbformat_minor": 5
}
