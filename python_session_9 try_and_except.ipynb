{
 "cells": [
  {
   "cell_type": "markdown",
   "id": "56da93e7-3129-4d50-aecc-3426a01c8686",
   "metadata": {},
   "source": [
    "**try-except**\n",
    "\n",
    "- Generally python is a seqential process\n",
    "\n",
    "- which means if you get error, the compiler will not execute other statements\n",
    "\n",
    "- There is a situations even though if you got error at particular lines\n",
    "\n",
    "- Compiler should execute some part of code\n",
    "\n",
    "- This is possible by using try-except method\n",
    "\n",
    "- we have two blocks\n",
    "\n",
    "    - try block\n",
    "\n",
    "        - original code will run under try block\n",
    "\n",
    "    - except block\n",
    "\n",
    "        - if any error comes it will redirect to except block"
   ]
  },
  {
   "cell_type": "code",
   "execution_count": 5,
   "id": "4514f67e-5b92-42ba-9dc4-3acfb6ab971d",
   "metadata": {},
   "outputs": [
    {
     "ename": "ZeroDivisionError",
     "evalue": "division by zero",
     "output_type": "error",
     "traceback": [
      "\u001b[1;31m---------------------------------------------------------------------------\u001b[0m",
      "\u001b[1;31mZeroDivisionError\u001b[0m                         Traceback (most recent call last)",
      "Cell \u001b[1;32mIn[5], line 3\u001b[0m\n\u001b[0;32m      1\u001b[0m a\u001b[38;5;241m=\u001b[39m\u001b[38;5;241m10\u001b[39m\n\u001b[0;32m      2\u001b[0m b\u001b[38;5;241m=\u001b[39m\u001b[38;5;241m0\u001b[39m\n\u001b[1;32m----> 3\u001b[0m a\u001b[38;5;241m/\u001b[39mb\n\u001b[0;32m      4\u001b[0m \u001b[38;5;28mprint\u001b[39m(\u001b[38;5;124m'\u001b[39m\u001b[38;5;124mHello\u001b[39m\u001b[38;5;124m'\u001b[39m)\n",
      "\u001b[1;31mZeroDivisionError\u001b[0m: division by zero"
     ]
    }
   ],
   "source": [
    "a=10\n",
    "b=0\n",
    "a/b\n",
    "print('Hello')"
   ]
  },
  {
   "cell_type": "markdown",
   "id": "217d1ea7-3c8e-4ddf-b11e-2b6f31f22760",
   "metadata": {},
   "source": [
    "**Case-1**\n",
    "\n",
    "- whenever we got the error in try block\n",
    "\n",
    "- the compiler will execute the statements of except block"
   ]
  },
  {
   "cell_type": "code",
   "execution_count": 7,
   "id": "ad269789-0940-4e16-b561-cd82ace15f10",
   "metadata": {},
   "outputs": [
    {
     "name": "stdout",
     "output_type": "stream",
     "text": [
      "the value a is: 10\n",
      "the value b is: 0\n",
      "Hello\n"
     ]
    }
   ],
   "source": [
    "try:\n",
    "    a=10\n",
    "    b=0\n",
    "    print('the value a is:',a)\n",
    "    print('the value b is:',b)\n",
    "    a/b\n",
    "    print('you will get error')\n",
    "except:\n",
    "    print('Hello')"
   ]
  },
  {
   "cell_type": "markdown",
   "id": "ddb56ef0-2eb5-484e-887c-fa7beb309c8f",
   "metadata": {},
   "source": [
    "**Case-2**\n",
    "\n",
    "- if there is no error in try block\n",
    "\n",
    "- the compiler will not execute the statements of except block"
   ]
  },
  {
   "cell_type": "code",
   "execution_count": 8,
   "id": "6a6e5375-39cb-4b2f-99b9-1ec1879d00bb",
   "metadata": {},
   "outputs": [
    {
     "name": "stdout",
     "output_type": "stream",
     "text": [
      "the value a is: 10\n",
      "the value b is: 5\n",
      "2.0\n"
     ]
    }
   ],
   "source": [
    "try:\n",
    "    a=10\n",
    "    b=5\n",
    "    print('the value a is:',a)\n",
    "    print('the value b is:',b)\n",
    "    a/b\n",
    "    print(a/b)\n",
    "except:\n",
    "    print('Hello')"
   ]
  },
  {
   "cell_type": "code",
   "execution_count": 10,
   "id": "7657d7d9-f5d5-4207-8c40-6593112a5072",
   "metadata": {},
   "outputs": [
    {
     "name": "stdout",
     "output_type": "stream",
     "text": [
      "hai\n",
      "hello\n"
     ]
    },
    {
     "name": "stdin",
     "output_type": "stream",
     "text": [
      "Enter the number1: 1\n",
      "Enter the number2: python\n"
     ]
    },
    {
     "name": "stdout",
     "output_type": "stream",
     "text": [
      "Error is there\n",
      "check the code\n",
      "bye\n"
     ]
    }
   ],
   "source": [
    "print('hai')\n",
    "print('hello')\n",
    "try:\n",
    "    a=eval(input('Enter the number1:'))\n",
    "    b=eval(input('Enter the number2:'))\n",
    "    add=a+b\n",
    "    print(f'The addition of {a} and {b} is: {add}')\n",
    "\n",
    "except:\n",
    "    print('Error is there')\n",
    "    print('check the code')\n",
    "\n",
    "print('bye')"
   ]
  },
  {
   "cell_type": "code",
   "execution_count": 11,
   "id": "187ae91c-c408-4dac-843f-f51af609415c",
   "metadata": {},
   "outputs": [
    {
     "name": "stdout",
     "output_type": "stream",
     "text": [
      "hai\n",
      "hello\n"
     ]
    },
    {
     "name": "stdin",
     "output_type": "stream",
     "text": [
      "Enter the number1: 4\n",
      "Enter the number2: saswati\n"
     ]
    },
    {
     "name": "stdout",
     "output_type": "stream",
     "text": [
      "Error is there\n",
      "check the code\n",
      "n2 is greater\n",
      "bye\n"
     ]
    }
   ],
   "source": [
    "print('hai')\n",
    "print('hello')\n",
    "try:\n",
    "    a=eval(input('Enter the number1:'))\n",
    "    b=eval(input('Enter the number2:'))\n",
    "    add=a+b\n",
    "    print(f'The addition of {a} and {b} is: {add}')\n",
    "\n",
    "except:\n",
    "    print('Error is there')\n",
    "    print('check the code')\n",
    "    n1=100\n",
    "    n2=200\n",
    "    if n1>n2:\n",
    "        print('n1 is greater')\n",
    "    else:\n",
    "        print('n2 is greater')\n",
    "\n",
    "print('bye')"
   ]
  },
  {
   "cell_type": "code",
   "execution_count": 12,
   "id": "265a7e72-36d0-41bf-b496-ce0c8f045f68",
   "metadata": {},
   "outputs": [
    {
     "name": "stdout",
     "output_type": "stream",
     "text": [
      "hai\n",
      "hello\n"
     ]
    },
    {
     "name": "stdin",
     "output_type": "stream",
     "text": [
      "Enter the number1: saswati\n"
     ]
    },
    {
     "name": "stdout",
     "output_type": "stream",
     "text": [
      "Error is there\n",
      "check the code\n"
     ]
    },
    {
     "name": "stdin",
     "output_type": "stream",
     "text": [
      "Enter the number: 7\n",
      "Enter the number: 9\n",
      "Enter the number: 5\n"
     ]
    },
    {
     "name": "stdout",
     "output_type": "stream",
     "text": [
      "n2 is biggest\n",
      "bye\n"
     ]
    }
   ],
   "source": [
    "print('hai')\n",
    "print('hello')\n",
    "#######################################################\n",
    "try:\n",
    "    a=eval(input('Enter the number1:'))\n",
    "    b=eval(input('Enter the number2:'))\n",
    "    add=a+b\n",
    "    print(f'The addition of {a} and {b} is: {add}')\n",
    "\n",
    "except:\n",
    "    print('Error is there')\n",
    "    print('check the code')\n",
    "    \n",
    "    n1=eval(input('Enter the number:'))\n",
    "    n2=eval(input('Enter the number:'))\n",
    "    n3=eval(input('Enter the number:'))\n",
    "\n",
    "    if n1>n2 and n1>n3:\n",
    "        print('n1 is biggest')\n",
    "\n",
    "    elif n2>n3:\n",
    "        print('n2 is biggest')\n",
    "\n",
    "    else:\n",
    "        print('n3 is biggest')\n",
    "\n",
    "##########################################################\n",
    "        \n",
    "print('bye')"
   ]
  },
  {
   "cell_type": "code",
   "execution_count": 13,
   "id": "34426ec1-4878-42e5-8b15-6a530afef679",
   "metadata": {},
   "outputs": [
    {
     "name": "stdin",
     "output_type": "stream",
     "text": [
      "Enter the number: 10.5\n"
     ]
    },
    {
     "ename": "ValueError",
     "evalue": "invalid literal for int() with base 10: '10.5'",
     "output_type": "error",
     "traceback": [
      "\u001b[1;31m---------------------------------------------------------------------------\u001b[0m",
      "\u001b[1;31mValueError\u001b[0m                                Traceback (most recent call last)",
      "Cell \u001b[1;32mIn[13], line 1\u001b[0m\n\u001b[1;32m----> 1\u001b[0m \u001b[38;5;28mint\u001b[39m(\u001b[38;5;28minput\u001b[39m(\u001b[38;5;124m'\u001b[39m\u001b[38;5;124mEnter the number:\u001b[39m\u001b[38;5;124m'\u001b[39m))\n",
      "\u001b[1;31mValueError\u001b[0m: invalid literal for int() with base 10: '10.5'"
     ]
    }
   ],
   "source": [
    "int(input('Enter the number:'))"
   ]
  },
  {
   "cell_type": "code",
   "execution_count": 14,
   "id": "333df475-c6a8-4ba6-b4d1-30b319eb70cf",
   "metadata": {},
   "outputs": [
    {
     "ename": "SyntaxError",
     "evalue": "incomplete input (3616070491.py, line 1)",
     "output_type": "error",
     "traceback": [
      "\u001b[1;36m  Cell \u001b[1;32mIn[14], line 1\u001b[1;36m\u001b[0m\n\u001b[1;33m    int(input('Enter the number:')\u001b[0m\n\u001b[1;37m                                  ^\u001b[0m\n\u001b[1;31mSyntaxError\u001b[0m\u001b[1;31m:\u001b[0m incomplete input\n"
     ]
    }
   ],
   "source": [
    "int(input('Enter the number:')"
   ]
  },
  {
   "cell_type": "code",
   "execution_count": 15,
   "id": "85792f64-9af5-4685-9ef6-4d4aa52ba436",
   "metadata": {},
   "outputs": [
    {
     "name": "stdin",
     "output_type": "stream",
     "text": [
      "Enter the number: 10\n"
     ]
    },
    {
     "ename": "NameError",
     "evalue": "name 'aaaa' is not defined",
     "output_type": "error",
     "traceback": [
      "\u001b[1;31m---------------------------------------------------------------------------\u001b[0m",
      "\u001b[1;31mNameError\u001b[0m                                 Traceback (most recent call last)",
      "Cell \u001b[1;32mIn[15], line 2\u001b[0m\n\u001b[0;32m      1\u001b[0m a\u001b[38;5;241m=\u001b[39m\u001b[38;5;28mint\u001b[39m(\u001b[38;5;28minput\u001b[39m(\u001b[38;5;124m'\u001b[39m\u001b[38;5;124mEnter the number:\u001b[39m\u001b[38;5;124m'\u001b[39m))\n\u001b[1;32m----> 2\u001b[0m \u001b[38;5;28mprint\u001b[39m(aaaa)\n",
      "\u001b[1;31mNameError\u001b[0m: name 'aaaa' is not defined"
     ]
    }
   ],
   "source": [
    "a=int(input('Enter the number:'))\n",
    "print(aaaa)"
   ]
  },
  {
   "cell_type": "code",
   "execution_count": 17,
   "id": "4839f602-dee8-4033-8d6a-c2dcc2aaefff",
   "metadata": {},
   "outputs": [
    {
     "ename": "IndentationError",
     "evalue": "expected an indented block after 'if' statement on line 1 (1262048064.py, line 2)",
     "output_type": "error",
     "traceback": [
      "\u001b[1;36m  Cell \u001b[1;32mIn[17], line 2\u001b[1;36m\u001b[0m\n\u001b[1;33m    print('n1 is greater')\u001b[0m\n\u001b[1;37m    ^\u001b[0m\n\u001b[1;31mIndentationError\u001b[0m\u001b[1;31m:\u001b[0m expected an indented block after 'if' statement on line 1\n"
     ]
    }
   ],
   "source": [
    "if n1>n2:\n",
    "print('n1 is greater')"
   ]
  },
  {
   "cell_type": "code",
   "execution_count": 19,
   "id": "6f5498fa-74dc-4d36-9af0-c5dc726f1608",
   "metadata": {},
   "outputs": [
    {
     "name": "stdin",
     "output_type": "stream",
     "text": [
      "Enter the number: python\n",
      "Enter the number: naresh it\n"
     ]
    },
    {
     "ename": "TypeError",
     "evalue": "can't multiply sequence by non-int of type 'str'",
     "output_type": "error",
     "traceback": [
      "\u001b[1;31m---------------------------------------------------------------------------\u001b[0m",
      "\u001b[1;31mTypeError\u001b[0m                                 Traceback (most recent call last)",
      "Cell \u001b[1;32mIn[19], line 3\u001b[0m\n\u001b[0;32m      1\u001b[0m a\u001b[38;5;241m=\u001b[39m\u001b[38;5;28minput\u001b[39m(\u001b[38;5;124m'\u001b[39m\u001b[38;5;124mEnter the number:\u001b[39m\u001b[38;5;124m'\u001b[39m)\n\u001b[0;32m      2\u001b[0m b\u001b[38;5;241m=\u001b[39m\u001b[38;5;28minput\u001b[39m(\u001b[38;5;124m'\u001b[39m\u001b[38;5;124mEnter the number:\u001b[39m\u001b[38;5;124m'\u001b[39m)\n\u001b[1;32m----> 3\u001b[0m c\u001b[38;5;241m=\u001b[39ma\u001b[38;5;241m*\u001b[39mb\n",
      "\u001b[1;31mTypeError\u001b[0m: can't multiply sequence by non-int of type 'str'"
     ]
    }
   ],
   "source": [
    "a=input('Enter the number:')\n",
    "b=input('Enter the number:')\n",
    "c=a*b"
   ]
  },
  {
   "cell_type": "markdown",
   "id": "bf344b2f-9deb-45c1-8776-78d77d67cb52",
   "metadata": {},
   "source": [
    "**Case-3**\n",
    "\n",
    "**Capture the errors**\n",
    "\n",
    "- Mainly try and except used to capture the errors "
   ]
  },
  {
   "cell_type": "markdown",
   "id": "cfd87df3-eb56-4a05-ad99-81dfd06da9c8",
   "metadata": {},
   "source": [
    "- Syntax error\n",
    "\n",
    "  - if you miss the (),:,\"\"\n",
    "\n",
    "- name error\n",
    "\n",
    "  - if you not define any name in black colour\n",
    "\n",
    "- indentation error\n",
    "\n",
    "  - after : we required some space\n",
    "\n",
    "- division error\n",
    "\n",
    "  - some number divided by 0\n",
    "\n",
    "- value error\n",
    "\n",
    "  - number type conversion\n",
    "\n",
    "- type error\n",
    "\n",
    "  - any math operations on english letters"
   ]
  },
  {
   "cell_type": "code",
   "execution_count": 20,
   "id": "5ce264ca-7c72-416d-a7c4-49dffaff0666",
   "metadata": {},
   "outputs": [
    {
     "name": "stdin",
     "output_type": "stream",
     "text": [
      "Enter a number: 4\n",
      "Enter a number: 0\n"
     ]
    },
    {
     "name": "stdout",
     "output_type": "stream",
     "text": [
      "Zero division error\n"
     ]
    }
   ],
   "source": [
    "try:\n",
    "    a=input('Enter a number:')\n",
    "    b=eval(input('Enter a number:'))\n",
    "    div=a/b\n",
    "    print(f'The division of {a} and {b} is: {div}')\n",
    "\n",
    "except:\n",
    "    print('Zero division error')"
   ]
  },
  {
   "cell_type": "code",
   "execution_count": 21,
   "id": "6907cb08-b029-44e8-b6f8-9c38d6c2587d",
   "metadata": {},
   "outputs": [
    {
     "name": "stdin",
     "output_type": "stream",
     "text": [
      "Enter a number: 4\n",
      "Enter a number: 0\n"
     ]
    },
    {
     "name": "stdout",
     "output_type": "stream",
     "text": [
      "value error\n"
     ]
    }
   ],
   "source": [
    "try:\n",
    "    a=input('Enter a number:')\n",
    "    b=eval(input('Enter a number:'))\n",
    "    div=a/b\n",
    "    print(f'The division of {a} and {b} is: {div}')\n",
    "\n",
    "except:\n",
    "    print('value error')\n",
    "\n",
    "# here it is print value error where as actually it is 'zero division error'"
   ]
  },
  {
   "cell_type": "code",
   "execution_count": 23,
   "id": "8a6f49e1-40fa-4a7a-916e-2a774c6fe281",
   "metadata": {},
   "outputs": [
    {
     "name": "stdin",
     "output_type": "stream",
     "text": [
      "Enter a number: 4\n",
      "Enter a number: 0\n"
     ]
    },
    {
     "name": "stdout",
     "output_type": "stream",
     "text": [
      "division by zero\n"
     ]
    }
   ],
   "source": [
    "try:\n",
    "    a=int(input('Enter a number:'))\n",
    "    b=eval(input('Enter a number:'))\n",
    "    div=a/b\n",
    "    print(f'The division of {a} and {b} is: {div}')\n",
    "\n",
    "except Exception as e:\n",
    "    print(e)"
   ]
  },
  {
   "cell_type": "code",
   "execution_count": 25,
   "id": "8bcfa0a2-2176-4990-896b-a1571d4dc744",
   "metadata": {},
   "outputs": [
    {
     "name": "stdin",
     "output_type": "stream",
     "text": [
      "Enter a number: 4\n",
      "Enter a number: 5\n"
     ]
    },
    {
     "name": "stdout",
     "output_type": "stream",
     "text": [
      "name 'aaaaa' is not defined\n"
     ]
    }
   ],
   "source": [
    "try:\n",
    "    a=int(input('Enter a number:'))\n",
    "    b=eval(input('Enter a number:'))\n",
    "    div=aaaaa/b\n",
    "    print(f'The division of {a} and {b} is: {div}')\n",
    "\n",
    "except Exception as e:\n",
    "    print(e)"
   ]
  },
  {
   "cell_type": "code",
   "execution_count": 26,
   "id": "dea68f45-65b0-48fa-b5fd-bb0ffa6b8f0d",
   "metadata": {},
   "outputs": [
    {
     "name": "stdin",
     "output_type": "stream",
     "text": [
      "Enter a number: 10.5\n",
      "Enter a number: 18\n"
     ]
    },
    {
     "name": "stdout",
     "output_type": "stream",
     "text": [
      "unsupported operand type(s) for /: 'str' and 'str'\n"
     ]
    }
   ],
   "source": [
    "try:\n",
    "    a=input('Enter a number:')\n",
    "    b=input('Enter a number:')\n",
    "    div=a/b\n",
    "    print(f'The division of {a} and {b} is: {div}')\n",
    "\n",
    "except Exception as e:\n",
    "    print(e)"
   ]
  },
  {
   "cell_type": "code",
   "execution_count": 27,
   "id": "604c8a68-31f7-47d2-a22e-9a39a966163e",
   "metadata": {},
   "outputs": [
    {
     "name": "stdin",
     "output_type": "stream",
     "text": [
      "Enter a number: 10.5\n"
     ]
    },
    {
     "name": "stdout",
     "output_type": "stream",
     "text": [
      "invalid literal for int() with base 10: '10.5'\n"
     ]
    }
   ],
   "source": [
    "try:\n",
    "    a=int(input('Enter a number:'))\n",
    "    b=int(input('Enter a number:'))\n",
    "    div=a/b\n",
    "    print(f'The division of {a} and {b} is: {div}')\n",
    "\n",
    "except Exception as e:\n",
    "    print(e)"
   ]
  },
  {
   "cell_type": "code",
   "execution_count": 28,
   "id": "6540e062-1f9f-414f-ae3a-89e1f6e29c5c",
   "metadata": {},
   "outputs": [
    {
     "ename": "SyntaxError",
     "evalue": "expected ':' (3627818410.py, line 2)",
     "output_type": "error",
     "traceback": [
      "\u001b[1;36m  Cell \u001b[1;32mIn[28], line 2\u001b[1;36m\u001b[0m\n\u001b[1;33m    if n1>n2\u001b[0m\n\u001b[1;37m            ^\u001b[0m\n\u001b[1;31mSyntaxError\u001b[0m\u001b[1;31m:\u001b[0m expected ':'\n"
     ]
    }
   ],
   "source": [
    "try:\n",
    "    if n1>n2\n",
    "        print('n1 is greater')\n",
    "\n",
    "except Exception as e:\n",
    "    print(e)"
   ]
  },
  {
   "cell_type": "code",
   "execution_count": 29,
   "id": "39d46832-253e-48d5-aede-b98c1546a010",
   "metadata": {},
   "outputs": [
    {
     "ename": "IndentationError",
     "evalue": "expected an indented block after 'if' statement on line 2 (942270788.py, line 3)",
     "output_type": "error",
     "traceback": [
      "\u001b[1;36m  Cell \u001b[1;32mIn[29], line 3\u001b[1;36m\u001b[0m\n\u001b[1;33m    print('n1 is greater')\u001b[0m\n\u001b[1;37m    ^\u001b[0m\n\u001b[1;31mIndentationError\u001b[0m\u001b[1;31m:\u001b[0m expected an indented block after 'if' statement on line 2\n"
     ]
    }
   ],
   "source": [
    "try:\n",
    "    if n1>n2:\n",
    "    print('n1 is greater')\n",
    "\n",
    "except Exception as e:\n",
    "    print(e)"
   ]
  },
  {
   "cell_type": "markdown",
   "id": "7d26fc2b-5569-4eb0-9885-0c77a549b862",
   "metadata": {},
   "source": [
    "**Syntax error will not capture by the exception block**"
   ]
  },
  {
   "cell_type": "code",
   "execution_count": null,
   "id": "802e8ee6-01d9-4b4f-bc47-b222b2ef67b2",
   "metadata": {},
   "outputs": [],
   "source": []
  }
 ],
 "metadata": {
  "kernelspec": {
   "display_name": "Python 3 (ipykernel)",
   "language": "python",
   "name": "python3"
  },
  "language_info": {
   "codemirror_mode": {
    "name": "ipython",
    "version": 3
   },
   "file_extension": ".py",
   "mimetype": "text/x-python",
   "name": "python",
   "nbconvert_exporter": "python",
   "pygments_lexer": "ipython3",
   "version": "3.11.7"
  }
 },
 "nbformat": 4,
 "nbformat_minor": 5
}
