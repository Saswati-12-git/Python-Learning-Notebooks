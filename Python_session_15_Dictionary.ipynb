{
 "cells": [
  {
   "cell_type": "markdown",
   "id": "13573619-adc7-4bca-8032-c6cac756b908",
   "metadata": {},
   "source": [
    "**Dictionary**\n",
    "\n",
    "- Dictionary is represents with curly braces\n",
    "\n",
    "- Strings using quotes\n",
    "\n",
    "- List using square brackets\n",
    "\n",
    "- Tuple using parnatheses\n",
    "\n",
    "- Dictionary is always a pair key and value"
   ]
  },
  {
   "cell_type": "code",
   "execution_count": 3,
   "id": "67b9938f-5e0c-4962-96b1-ef90303a6ee6",
   "metadata": {},
   "outputs": [
    {
     "name": "stdout",
     "output_type": "stream",
     "text": [
      "The Manish age is 25\n",
      "The Subham age is 20\n",
      "The Govindh age is 15\n"
     ]
    }
   ],
   "source": [
    "name=['Manish','Subham','Govindh']\n",
    "age=[25,20,15]\n",
    "for i,j in zip(name,age):\n",
    "    print(f'The {i} age is {j}')"
   ]
  },
  {
   "cell_type": "code",
   "execution_count": 4,
   "id": "f3e42dcb-8cbb-436a-8fea-e0dce428e250",
   "metadata": {},
   "outputs": [
    {
     "data": {
      "text/plain": [
       "[('Manish', 25), ('Subham', 20), ('Govindh', 15)]"
      ]
     },
     "execution_count": 4,
     "metadata": {},
     "output_type": "execute_result"
    }
   ],
   "source": [
    "list(zip(name,age))"
   ]
  },
  {
   "cell_type": "code",
   "execution_count": null,
   "id": "fe57cd24-3a63-4620-87cd-953b566700ca",
   "metadata": {},
   "outputs": [],
   "source": [
    "# syntax of dictionary\n",
    "{<key>:<value>}"
   ]
  },
  {
   "cell_type": "code",
   "execution_count": 2,
   "id": "0a3c305f-f75f-4625-9b7b-bf2d82b5b7ef",
   "metadata": {},
   "outputs": [
    {
     "data": {
      "text/plain": [
       "{'Manish': 25, 'Subham': 20, 'Govindh': 15}"
      ]
     },
     "execution_count": 2,
     "metadata": {},
     "output_type": "execute_result"
    }
   ],
   "source": [
    "D={'Manish':25,'Subham':20,'Govindh':15}\n",
    "D"
   ]
  },
  {
   "cell_type": "code",
   "execution_count": null,
   "id": "6f495275-40f2-4a68-a92c-89b03392b0fb",
   "metadata": {},
   "outputs": [],
   "source": [
    "# keys are : 'Manish','Subham','Govindh'\n",
    "# values are : 25,20,15\n",
    "# Manish and 25 together called key-value pair"
   ]
  },
  {
   "cell_type": "code",
   "execution_count": 3,
   "id": "ec0a6023-8ac9-44f4-ac08-e13a37ca280a",
   "metadata": {},
   "outputs": [
    {
     "data": {
      "text/plain": [
       "dict"
      ]
     },
     "execution_count": 3,
     "metadata": {},
     "output_type": "execute_result"
    }
   ],
   "source": [
    "type(D)"
   ]
  },
  {
   "cell_type": "code",
   "execution_count": null,
   "id": "162c3bb7-31ba-406a-aea6-4b0a02752d1e",
   "metadata": {},
   "outputs": [],
   "source": [
    "d1={'Manish':25,'Subham':20,'Govindh':15}       # works\n",
    "d2={'Manish':'25','Subham':'20','Govindh':'15'} # works\n",
    "d3={25:'Manish',20:'Subham',15:'Govindh'}       # works\n",
    "d4={25:50}    # works\n",
    "d5={'Fruites':['Apple','cherry']}  # works\n",
    "d6={['Apple','cherry']:'Fruites'}  # not works\n",
    "d7={'Ajay':25,'Ajay':30}    # works\n",
    "d8={25:'Ajay',30:'Ajay'}    # works"
   ]
  },
  {
   "cell_type": "code",
   "execution_count": 4,
   "id": "6ddd8b8a-32b5-4c98-8509-24dc63f180d8",
   "metadata": {},
   "outputs": [
    {
     "data": {
      "text/plain": [
       "{'Manish': 25, 'Subham': 20, 'Govindh': 15}"
      ]
     },
     "execution_count": 4,
     "metadata": {},
     "output_type": "execute_result"
    }
   ],
   "source": [
    "d1={'Manish':25,'Subham':20,'Govindh':15}\n",
    "d1"
   ]
  },
  {
   "cell_type": "code",
   "execution_count": 5,
   "id": "d49333d0-ac88-4096-af44-5132dfd78bc3",
   "metadata": {},
   "outputs": [
    {
     "data": {
      "text/plain": [
       "{'Manish': '25', 'Subham': '20', 'Govindh': '15'}"
      ]
     },
     "execution_count": 5,
     "metadata": {},
     "output_type": "execute_result"
    }
   ],
   "source": [
    "d2={'Manish':'25','Subham':'20','Govindh':'15'}\n",
    "d2"
   ]
  },
  {
   "cell_type": "code",
   "execution_count": 6,
   "id": "a6561e2a-d3c6-4660-b234-72529ba09253",
   "metadata": {},
   "outputs": [
    {
     "data": {
      "text/plain": [
       "{25: 'Manish', 20: 'Subham', 15: 'Govindh'}"
      ]
     },
     "execution_count": 6,
     "metadata": {},
     "output_type": "execute_result"
    }
   ],
   "source": [
    "d3={25:'Manish',20:'Subham',15:'Govindh'} \n",
    "d3"
   ]
  },
  {
   "cell_type": "code",
   "execution_count": 7,
   "id": "2eacd70b-ddd0-4e3d-ab71-eafd40716d4a",
   "metadata": {},
   "outputs": [
    {
     "data": {
      "text/plain": [
       "{25: 50}"
      ]
     },
     "execution_count": 7,
     "metadata": {},
     "output_type": "execute_result"
    }
   ],
   "source": [
    "d4={25:50}  \n",
    "d4"
   ]
  },
  {
   "cell_type": "code",
   "execution_count": 8,
   "id": "601b3659-2e17-41af-9275-960c66aee053",
   "metadata": {},
   "outputs": [
    {
     "data": {
      "text/plain": [
       "{'Fruites': ['Apple', 'cherry']}"
      ]
     },
     "execution_count": 8,
     "metadata": {},
     "output_type": "execute_result"
    }
   ],
   "source": [
    "d5={'Fruites':['Apple','cherry']}  \n",
    "d5"
   ]
  },
  {
   "cell_type": "code",
   "execution_count": 9,
   "id": "0b617844-9583-4cbe-99df-c599193b39c5",
   "metadata": {},
   "outputs": [
    {
     "ename": "TypeError",
     "evalue": "unhashable type: 'list'",
     "output_type": "error",
     "traceback": [
      "\u001b[1;31m---------------------------------------------------------------------------\u001b[0m",
      "\u001b[1;31mTypeError\u001b[0m                                 Traceback (most recent call last)",
      "Cell \u001b[1;32mIn[9], line 1\u001b[0m\n\u001b[1;32m----> 1\u001b[0m d6\u001b[38;5;241m=\u001b[39m{[\u001b[38;5;124m'\u001b[39m\u001b[38;5;124mApple\u001b[39m\u001b[38;5;124m'\u001b[39m,\u001b[38;5;124m'\u001b[39m\u001b[38;5;124mcherry\u001b[39m\u001b[38;5;124m'\u001b[39m]:\u001b[38;5;124m'\u001b[39m\u001b[38;5;124mFruites\u001b[39m\u001b[38;5;124m'\u001b[39m}\n\u001b[0;32m      2\u001b[0m d6\n",
      "\u001b[1;31mTypeError\u001b[0m: unhashable type: 'list'"
     ]
    }
   ],
   "source": [
    "d6={['Apple','cherry']:'Fruites'}\n",
    "d6\n",
    "\n",
    "# because of key value"
   ]
  },
  {
   "cell_type": "code",
   "execution_count": 13,
   "id": "c5151a52-1c10-49a8-bd61-72741c0b9337",
   "metadata": {},
   "outputs": [
    {
     "data": {
      "text/plain": [
       "{('Apple', 'cherry'): 'Fruites'}"
      ]
     },
     "execution_count": 13,
     "metadata": {},
     "output_type": "execute_result"
    }
   ],
   "source": [
    "d6={('Apple','cherry'):'Fruites'}\n",
    "d6\n",
    "\n",
    "# but in tuple it works"
   ]
  },
  {
   "cell_type": "code",
   "execution_count": 11,
   "id": "b1940e5b-5a26-43cc-bd98-c0f81170491c",
   "metadata": {},
   "outputs": [
    {
     "data": {
      "text/plain": [
       "{'Ajay': 30}"
      ]
     },
     "execution_count": 11,
     "metadata": {},
     "output_type": "execute_result"
    }
   ],
   "source": [
    "d7={'Ajay':25,'Ajay':30}\n",
    "d7"
   ]
  },
  {
   "cell_type": "code",
   "execution_count": 14,
   "id": "920f4916-402c-4b4c-b87f-ab4b7775f3cf",
   "metadata": {},
   "outputs": [
    {
     "data": {
      "text/plain": [
       "{'Ajay': 25}"
      ]
     },
     "execution_count": 14,
     "metadata": {},
     "output_type": "execute_result"
    }
   ],
   "source": [
    "d7={'Ajay':30,'Ajay':25}\n",
    "d7"
   ]
  },
  {
   "cell_type": "code",
   "execution_count": 12,
   "id": "f42dfabe-12d2-4ec4-a34c-1f99f87fd944",
   "metadata": {},
   "outputs": [
    {
     "data": {
      "text/plain": [
       "{25: 'Ajay', 30: 'Ajay'}"
      ]
     },
     "execution_count": 12,
     "metadata": {},
     "output_type": "execute_result"
    }
   ],
   "source": [
    "d8={25:'Ajay',30:'Ajay'}\n",
    "d8"
   ]
  },
  {
   "cell_type": "code",
   "execution_count": 15,
   "id": "562066b5-b368-4522-a371-232b8d437d3e",
   "metadata": {},
   "outputs": [
    {
     "data": {
      "text/plain": [
       "{25: 'Ajay', 30: {'Fruites': ['Apple']}}"
      ]
     },
     "execution_count": 15,
     "metadata": {},
     "output_type": "execute_result"
    }
   ],
   "source": [
    "d9={25:'Ajay',30:\n",
    "    {'Fruites':['Apple']}\n",
    "   }\n",
    "d9\n",
    "\n",
    "# dictionary inside dictionary"
   ]
  },
  {
   "cell_type": "markdown",
   "id": "00ba6243-1886-4482-b046-2e9344455006",
   "metadata": {},
   "source": [
    "- **Keys are important**\n",
    "\n",
    "- Keys have only latest value\n",
    "\n",
    "- No duplicate keys\n",
    "\n",
    "- Keys should be only one\n",
    "\n",
    "- Values can be duplicate\n",
    "\n",
    "- which means different keys can have same value\n",
    "\n",
    "- List can not be a key\n",
    "\n",
    "- tuple can be a key"
   ]
  },
  {
   "cell_type": "code",
   "execution_count": null,
   "id": "39f53117-2fe9-46e0-b6c6-59488946a42c",
   "metadata": {},
   "outputs": [],
   "source": [
    "- min\n",
    "\n",
    "- max\n",
    "\n",
    "- len\n",
    "\n",
    "- sorted\n",
    "\n",
    "- reversed"
   ]
  },
  {
   "cell_type": "code",
   "execution_count": 16,
   "id": "3afd46f8-3cd6-46ca-9b06-7fe889028a68",
   "metadata": {},
   "outputs": [
    {
     "data": {
      "text/plain": [
       "{'Cat': 45, 'Apple': 78, 'Saswati': 28, 'Jasmin': 93}"
      ]
     },
     "execution_count": 16,
     "metadata": {},
     "output_type": "execute_result"
    }
   ],
   "source": [
    "dict1={'Cat':45,'Apple':78,'Saswati':28,'Jasmin':93}\n",
    "dict1"
   ]
  },
  {
   "cell_type": "code",
   "execution_count": 19,
   "id": "d15867bf-c658-4ca1-8f94-cb132cfa9907",
   "metadata": {},
   "outputs": [
    {
     "data": {
      "text/plain": [
       "'Apple'"
      ]
     },
     "execution_count": 19,
     "metadata": {},
     "output_type": "execute_result"
    }
   ],
   "source": [
    "min(dict1)"
   ]
  },
  {
   "cell_type": "code",
   "execution_count": 20,
   "id": "39ff81e0-33ea-45f1-aba9-873aa7cd1c6a",
   "metadata": {},
   "outputs": [
    {
     "data": {
      "text/plain": [
       "'Saswati'"
      ]
     },
     "execution_count": 20,
     "metadata": {},
     "output_type": "execute_result"
    }
   ],
   "source": [
    "max(dict1)"
   ]
  },
  {
   "cell_type": "code",
   "execution_count": 21,
   "id": "0d9d1846-a743-47d5-8c47-281981e4b785",
   "metadata": {},
   "outputs": [
    {
     "data": {
      "text/plain": [
       "4"
      ]
     },
     "execution_count": 21,
     "metadata": {},
     "output_type": "execute_result"
    }
   ],
   "source": [
    "len(dict1)"
   ]
  },
  {
   "cell_type": "code",
   "execution_count": 22,
   "id": "4bb0fc37-e8d6-4a89-9927-c6ad72db9c94",
   "metadata": {},
   "outputs": [
    {
     "data": {
      "text/plain": [
       "['Apple', 'Cat', 'Jasmin', 'Saswati']"
      ]
     },
     "execution_count": 22,
     "metadata": {},
     "output_type": "execute_result"
    }
   ],
   "source": [
    "sorted(dict1)"
   ]
  },
  {
   "cell_type": "code",
   "execution_count": 23,
   "id": "aa569eef-670d-48ea-bb2c-f383ebbbd2ca",
   "metadata": {},
   "outputs": [
    {
     "data": {
      "text/plain": [
       "<dict_reversekeyiterator at 0x23f07468270>"
      ]
     },
     "execution_count": 23,
     "metadata": {},
     "output_type": "execute_result"
    }
   ],
   "source": [
    "reversed(dict1)"
   ]
  },
  {
   "cell_type": "code",
   "execution_count": 32,
   "id": "2067b263-3b75-4e4c-9f61-1442d3c62839",
   "metadata": {},
   "outputs": [
    {
     "name": "stdout",
     "output_type": "stream",
     "text": [
      "Cat 45\n",
      "Apple 78\n",
      "Saswati 28\n",
      "Jasmin 93\n"
     ]
    }
   ],
   "source": [
    "for i in dict1:\n",
    "    print(i,dict1[i])"
   ]
  },
  {
   "cell_type": "markdown",
   "id": "529be397-5ba5-4669-ac1f-27f20d2a9d86",
   "metadata": {},
   "source": [
    "**indexing**"
   ]
  },
  {
   "cell_type": "code",
   "execution_count": 25,
   "id": "258bcb57-6139-4f6b-b67a-8435bf3860d1",
   "metadata": {},
   "outputs": [
    {
     "ename": "KeyError",
     "evalue": "0",
     "output_type": "error",
     "traceback": [
      "\u001b[1;31m---------------------------------------------------------------------------\u001b[0m",
      "\u001b[1;31mKeyError\u001b[0m                                  Traceback (most recent call last)",
      "Cell \u001b[1;32mIn[25], line 2\u001b[0m\n\u001b[0;32m      1\u001b[0m d1\u001b[38;5;241m=\u001b[39m{\u001b[38;5;124m'\u001b[39m\u001b[38;5;124mManish\u001b[39m\u001b[38;5;124m'\u001b[39m:\u001b[38;5;241m25\u001b[39m,\u001b[38;5;124m'\u001b[39m\u001b[38;5;124mSubham\u001b[39m\u001b[38;5;124m'\u001b[39m:\u001b[38;5;241m20\u001b[39m,\u001b[38;5;124m'\u001b[39m\u001b[38;5;124mGovindh\u001b[39m\u001b[38;5;124m'\u001b[39m:\u001b[38;5;241m15\u001b[39m}\n\u001b[1;32m----> 2\u001b[0m d1[\u001b[38;5;241m0\u001b[39m]\n",
      "\u001b[1;31mKeyError\u001b[0m: 0"
     ]
    }
   ],
   "source": [
    "d1={'Manish':25,'Subham':20,'Govindh':15}\n",
    "d1[0]\n",
    "\n",
    "# in dictionary indexing like this fails so we have to call the keys"
   ]
  },
  {
   "cell_type": "code",
   "execution_count": 26,
   "id": "985bf261-7ec5-4e27-84be-9e67e637e994",
   "metadata": {},
   "outputs": [
    {
     "data": {
      "text/plain": [
       "25"
      ]
     },
     "execution_count": 26,
     "metadata": {},
     "output_type": "execute_result"
    }
   ],
   "source": [
    "d1={'Manish':25,'Subham':20,'Govindh':15}\n",
    "d1['Manish']"
   ]
  },
  {
   "cell_type": "markdown",
   "id": "a2a161de-6228-4b94-8165-bf0d4926cfbe",
   "metadata": {},
   "source": [
    "**Keys are important**\n",
    "\n",
    "- Dictionary is a **key-value** pair\n",
    "\n",
    "- There is no concept of index as numbers\n",
    "\n",
    "- If you want to retrive any value, we need to provide key as index\n",
    "\n",
    "- we can access values using only correspoing **Keys**"
   ]
  },
  {
   "cell_type": "code",
   "execution_count": 27,
   "id": "e7b405d8-a437-4912-b42c-4e3cc1ec0f9d",
   "metadata": {},
   "outputs": [
    {
     "name": "stdout",
     "output_type": "stream",
     "text": [
      "25\n",
      "20\n",
      "15\n"
     ]
    }
   ],
   "source": [
    "d1={'Manish':25,'Subham':20,'Govindh':15}\n",
    "print(d1['Manish'])\n",
    "print(d1['Subham'])\n",
    "print(d1['Govindh'])\n",
    "\n",
    "# print(d1[i])"
   ]
  },
  {
   "cell_type": "code",
   "execution_count": 29,
   "id": "0b4cc6d8-3bb2-416f-912f-7c5aef7b3664",
   "metadata": {},
   "outputs": [
    {
     "name": "stdout",
     "output_type": "stream",
     "text": [
      "Manish 25\n",
      "Subham 20\n",
      "Govindh 15\n"
     ]
    }
   ],
   "source": [
    "for i in d1:\n",
    "    print(i,d1[i])"
   ]
  },
  {
   "cell_type": "code",
   "execution_count": 30,
   "id": "7c1caf7d-26e1-4fd2-af11-61cd2aafa1c6",
   "metadata": {},
   "outputs": [
    {
     "name": "stdout",
     "output_type": "stream",
     "text": [
      "Manish age is 25\n",
      "Subham age is 20\n",
      "Govindh age is 15\n"
     ]
    }
   ],
   "source": [
    "for i in d1:\n",
    "    print(f'{i} age is {d1[i]}')"
   ]
  },
  {
   "cell_type": "code",
   "execution_count": 33,
   "id": "2fbbe351-a0bb-4fb5-99c8-a15ecd6a797e",
   "metadata": {},
   "outputs": [
    {
     "data": {
      "text/plain": [
       "'Apple'"
      ]
     },
     "execution_count": 33,
     "metadata": {},
     "output_type": "execute_result"
    }
   ],
   "source": [
    "# How to access the elements\n",
    "d1={'Fruites':['Apple']}\n",
    "d1['Fruites'][0]"
   ]
  },
  {
   "cell_type": "code",
   "execution_count": 36,
   "id": "80d4017d-7673-411c-aae9-7d2b90ca4aac",
   "metadata": {},
   "outputs": [
    {
     "data": {
      "text/plain": [
       "'Kashmir'"
      ]
     },
     "execution_count": 36,
     "metadata": {},
     "output_type": "execute_result"
    }
   ],
   "source": [
    "d1={'Fruites':{'Apple':['Kashmir']}}\n",
    "d1['Fruites']['Apple'][0]"
   ]
  },
  {
   "cell_type": "code",
   "execution_count": 7,
   "id": "f69a9b63-9db1-4f0d-924f-d07652071b78",
   "metadata": {},
   "outputs": [
    {
     "data": {
      "text/plain": [
       "'India'"
      ]
     },
     "execution_count": 7,
     "metadata": {},
     "output_type": "execute_result"
    }
   ],
   "source": [
    "d1={'Fruites':[{'Apple':{'Kashmir':['India']}}]}\n",
    "d1['Fruites'][0]['Apple']['Kashmir'][0]"
   ]
  },
  {
   "cell_type": "code",
   "execution_count": 37,
   "id": "aca69c17-c4eb-4b2b-b39e-7fa32be4eb75",
   "metadata": {},
   "outputs": [
    {
     "data": {
      "text/plain": [
       "1"
      ]
     },
     "execution_count": 37,
     "metadata": {},
     "output_type": "execute_result"
    }
   ],
   "source": [
    "len(d1)"
   ]
  },
  {
   "cell_type": "code",
   "execution_count": 41,
   "id": "762f8520-f48f-4358-a229-ff86a324f68a",
   "metadata": {},
   "outputs": [
    {
     "data": {
      "text/plain": [
       "'india'"
      ]
     },
     "execution_count": 41,
     "metadata": {},
     "output_type": "execute_result"
    }
   ],
   "source": [
    "d1={'Fruites':{'Apple':[\n",
    "                     {'Kashmir':'india'}\n",
    "                     ]\n",
    "              }\n",
    "   }\n",
    "d1['Fruites']['Apple'][0]['Kashmir']"
   ]
  },
  {
   "cell_type": "code",
   "execution_count": 46,
   "id": "811b066e-891d-4e43-8b09-54b2076fafa5",
   "metadata": {},
   "outputs": [
    {
     "data": {
      "text/plain": [
       "'TS'"
      ]
     },
     "execution_count": 46,
     "metadata": {},
     "output_type": "execute_result"
    }
   ],
   "source": [
    "d1={'Fruites':{'Apple':[\n",
    "                     {'Kashmir':'india'},\n",
    "                     {'Hyd':'TS'}\n",
    "                     ]\n",
    "              }\n",
    "   }\n",
    "\n",
    "d1['Fruites']['Apple'][1]['Hyd']"
   ]
  },
  {
   "cell_type": "code",
   "execution_count": 56,
   "id": "f9f5346a-9db9-44df-bee5-87e97017f8f7",
   "metadata": {},
   "outputs": [
    {
     "data": {
      "text/plain": [
       "{'Fruites': {'Mango': {'Benganpalli': {'Nagpur market': {'MH': {'Shivaji': 'the boss'}}}}}}"
      ]
     },
     "execution_count": 56,
     "metadata": {},
     "output_type": "execute_result"
    }
   ],
   "source": [
    "d1={'Fruites':{'Mango':{'Benganpalli':{'Nagpur market':{'MH':{'Shivaji':'the boss'}}}}}}\n",
    "d1"
   ]
  },
  {
   "cell_type": "code",
   "execution_count": 5,
   "id": "9e9aa6e4-f35c-4b1f-bf0b-8a1a069d1a7e",
   "metadata": {},
   "outputs": [
    {
     "data": {
      "text/plain": [
       "'Shambaji'"
      ]
     },
     "execution_count": 5,
     "metadata": {},
     "output_type": "execute_result"
    }
   ],
   "source": [
    "d1={'Fruites':{'Benganpalli':{'Mango':{'Nagpur':{'MH':{'Shivaji':'Shambaji'}}}}}}\n",
    "d1['Fruites']['Benganpalli']['Mango']['Nagpur']['MH']['Shivaji']"
   ]
  },
  {
   "cell_type": "code",
   "execution_count": 48,
   "id": "c1b4167b-b534-4353-9cfa-b3747d5cefcb",
   "metadata": {},
   "outputs": [
    {
     "data": {
      "text/plain": [
       "1"
      ]
     },
     "execution_count": 48,
     "metadata": {},
     "output_type": "execute_result"
    }
   ],
   "source": [
    "len(d1)"
   ]
  },
  {
   "cell_type": "code",
   "execution_count": 58,
   "id": "89b5c2bf-3aa8-4317-8f54-e1964a181dc3",
   "metadata": {},
   "outputs": [
    {
     "data": {
      "text/plain": [
       "'the boss'"
      ]
     },
     "execution_count": 58,
     "metadata": {},
     "output_type": "execute_result"
    }
   ],
   "source": [
    "d1['Fruites']['Mango']['Benganpalli']['Nagpur market']['MH']['Shivaji']"
   ]
  },
  {
   "cell_type": "markdown",
   "id": "bb6d9175-cd40-4d77-8097-06ca736713ee",
   "metadata": {},
   "source": [
    "**How to create empty dictionary**\n",
    "\n",
    "- It is very important to know how to make empty list\n",
    "\n",
    "- how to make empty string\n",
    "\n",
    "- how to make empty dictionary"
   ]
  },
  {
   "cell_type": "code",
   "execution_count": 59,
   "id": "2e1c5fd8-2450-40cf-8725-b0789d384284",
   "metadata": {},
   "outputs": [
    {
     "data": {
      "text/plain": [
       "'python'"
      ]
     },
     "execution_count": 59,
     "metadata": {},
     "output_type": "execute_result"
    }
   ],
   "source": [
    "# creating empty string\n",
    "str1='python'\n",
    "str2=''\n",
    "for i in str1:\n",
    "    str2=str2+i       # str2+=i\n",
    "str2"
   ]
  },
  {
   "cell_type": "code",
   "execution_count": 61,
   "id": "d582e844-98b6-4757-94ab-b7b76ba8ff4e",
   "metadata": {},
   "outputs": [
    {
     "data": {
      "text/plain": [
       "[1, 2, 3, 4]"
      ]
     },
     "execution_count": 61,
     "metadata": {},
     "output_type": "execute_result"
    }
   ],
   "source": [
    "# creating empty list\n",
    "list1=[1,2,3,4]\n",
    "list2=[]\n",
    "for i in list1:\n",
    "    list2.append(i)       \n",
    "list2"
   ]
  },
  {
   "cell_type": "code",
   "execution_count": 68,
   "id": "9d2693e1-66df-431c-8234-03b216c75d66",
   "metadata": {},
   "outputs": [
    {
     "data": {
      "text/plain": [
       "{'Ramesh': 50}"
      ]
     },
     "execution_count": 68,
     "metadata": {},
     "output_type": "execute_result"
    }
   ],
   "source": [
    "# creating empty dictionary\n",
    "d={}\n",
    "d['Ramesh']=50\n",
    "d"
   ]
  },
  {
   "cell_type": "code",
   "execution_count": 69,
   "id": "f2a8ada9-3b84-4e65-9283-720736ca3ec6",
   "metadata": {},
   "outputs": [
    {
     "data": {
      "text/plain": [
       "{'Ramesh': 50, 'Suresh': 100, 'Satish': 150, 'Manish': 200}"
      ]
     },
     "execution_count": 69,
     "metadata": {},
     "output_type": "execute_result"
    }
   ],
   "source": [
    "d={}\n",
    "d['Ramesh']=50\n",
    "d['Suresh']=100\n",
    "d['Satish']=150\n",
    "d['Manish']=200\n",
    "d"
   ]
  },
  {
   "cell_type": "markdown",
   "id": "c47f5bf0-bcb2-44c9-96c9-4e3d3494c918",
   "metadata": {},
   "source": [
    "**split : Convert string to list**\n"
   ]
  },
  {
   "cell_type": "code",
   "execution_count": 72,
   "id": "49cd857d-e25e-4dc1-b0e8-4393545b7364",
   "metadata": {},
   "outputs": [
    {
     "data": {
      "text/plain": [
       "['hai', 'how', 'are', 'you']"
      ]
     },
     "execution_count": 72,
     "metadata": {},
     "output_type": "execute_result"
    }
   ],
   "source": [
    "str1='hai how are you'\n",
    "l=str1.split()\n",
    "l"
   ]
  },
  {
   "cell_type": "markdown",
   "id": "6196be93-eee5-41c9-9867-e18feab8b8e7",
   "metadata": {},
   "source": [
    "**Word frequency**"
   ]
  },
  {
   "cell_type": "code",
   "execution_count": null,
   "id": "cf7a38f3-22ca-4413-8ffb-86905b55a96f",
   "metadata": {},
   "outputs": [],
   "source": [
    "s='hello hai hai how how are you'\n"
   ]
  },
  {
   "cell_type": "markdown",
   "id": "5e4b6ee4-406a-4fba-9639-36259e9a3839",
   "metadata": {},
   "source": [
    "**join : Convert list to string**"
   ]
  },
  {
   "cell_type": "code",
   "execution_count": 76,
   "id": "982482c4-833e-47a8-aa02-1e8a7c8e67aa",
   "metadata": {},
   "outputs": [
    {
     "data": {
      "text/plain": [
       "'hai how are you'"
      ]
     },
     "execution_count": 76,
     "metadata": {},
     "output_type": "execute_result"
    }
   ],
   "source": [
    "l=['hai', 'how', 'are', 'you']\n",
    "new_str=' '.join(l)\n",
    "new_str"
   ]
  },
  {
   "cell_type": "markdown",
   "id": "e8395dae-d3e0-4043-8794-744b10fe26e6",
   "metadata": {},
   "source": [
    "**We have two list to convert into dictionaty**"
   ]
  },
  {
   "cell_type": "code",
   "execution_count": 77,
   "id": "a2db5f6a-5c57-4be8-b395-ae31cf27a448",
   "metadata": {},
   "outputs": [
    {
     "data": {
      "text/plain": [
       "{'Ramesh': 25, 'Suresh': 30, 'Manish': 35}"
      ]
     },
     "execution_count": 77,
     "metadata": {},
     "output_type": "execute_result"
    }
   ],
   "source": [
    "name=['Ramesh','Suresh','Manish']\n",
    "age=[25,30,35]\n",
    "d={}\n",
    "for i,j in zip(name,age):\n",
    "    d[i]=j\n",
    "\n",
    "d"
   ]
  },
  {
   "cell_type": "markdown",
   "id": "5410d3d8-84a0-4660-8388-146c58241df1",
   "metadata": {},
   "source": [
    "**Methods**"
   ]
  },
  {
   "cell_type": "code",
   "execution_count": null,
   "id": "9b471649-3325-405d-99a0-2b1b2e56ede8",
   "metadata": {},
   "outputs": [],
   "source": [
    "# String\n",
    "dir('')\n",
    "\n",
    "# list\n",
    "dir([])\n",
    "\n",
    "# dictionaty\n",
    "dir({})\n",
    "\n",
    "# tuple\n",
    "dir(())"
   ]
  },
  {
   "cell_type": "code",
   "execution_count": 78,
   "id": "f49097a9-1c62-431b-b3c8-3b4e7804f523",
   "metadata": {},
   "outputs": [
    {
     "data": {
      "text/plain": [
       "['__class__',\n",
       " '__class_getitem__',\n",
       " '__contains__',\n",
       " '__delattr__',\n",
       " '__delitem__',\n",
       " '__dir__',\n",
       " '__doc__',\n",
       " '__eq__',\n",
       " '__format__',\n",
       " '__ge__',\n",
       " '__getattribute__',\n",
       " '__getitem__',\n",
       " '__getstate__',\n",
       " '__gt__',\n",
       " '__hash__',\n",
       " '__init__',\n",
       " '__init_subclass__',\n",
       " '__ior__',\n",
       " '__iter__',\n",
       " '__le__',\n",
       " '__len__',\n",
       " '__lt__',\n",
       " '__ne__',\n",
       " '__new__',\n",
       " '__or__',\n",
       " '__reduce__',\n",
       " '__reduce_ex__',\n",
       " '__repr__',\n",
       " '__reversed__',\n",
       " '__ror__',\n",
       " '__setattr__',\n",
       " '__setitem__',\n",
       " '__sizeof__',\n",
       " '__str__',\n",
       " '__subclasshook__',\n",
       " 'clear',\n",
       " 'copy',\n",
       " 'fromkeys',\n",
       " 'get',\n",
       " 'items',\n",
       " 'keys',\n",
       " 'pop',\n",
       " 'popitem',\n",
       " 'setdefault',\n",
       " 'update',\n",
       " 'values']"
      ]
     },
     "execution_count": 78,
     "metadata": {},
     "output_type": "execute_result"
    }
   ],
   "source": [
    "# dictionary\n",
    "dir({})"
   ]
  },
  {
   "cell_type": "markdown",
   "id": "281a5340-1fae-4d22-a11d-9d6f92efba2e",
   "metadata": {},
   "source": [
    "**clear**\n",
    "\n",
    "- Remove all items from Dictionaty"
   ]
  },
  {
   "cell_type": "code",
   "execution_count": 80,
   "id": "544625ed-bf01-4965-ba67-daef768045fa",
   "metadata": {},
   "outputs": [
    {
     "data": {
      "text/plain": [
       "{}"
      ]
     },
     "execution_count": 80,
     "metadata": {},
     "output_type": "execute_result"
    }
   ],
   "source": [
    "d1={'Manish':25,'Subham':20,'Govindh':15}\n",
    "d1.clear()\n",
    "d1"
   ]
  },
  {
   "cell_type": "markdown",
   "id": "1a896c5f-0744-4773-8c61-6b9ea016f9d4",
   "metadata": {},
   "source": [
    "**copy**\n",
    "\n",
    "- a shallow copy of Dictionary"
   ]
  },
  {
   "cell_type": "code",
   "execution_count": 82,
   "id": "503ffeb6-0d36-4dd0-b6bd-e647bd04d072",
   "metadata": {},
   "outputs": [
    {
     "data": {
      "text/plain": [
       "{'Cat': 45, 'Apple': 78, 'Saswati': 28, 'Jasmin': 93}"
      ]
     },
     "execution_count": 82,
     "metadata": {},
     "output_type": "execute_result"
    }
   ],
   "source": [
    "d2={'Cat':45,'Apple':78,'Saswati':28,'Jasmin':93}\n",
    "d2.copy()\n",
    "d2"
   ]
  },
  {
   "cell_type": "markdown",
   "id": "0c39cbb8-f079-4d30-93da-6476278114e6",
   "metadata": {},
   "source": [
    "**fromkeys**\n",
    "\n",
    "- Create a new dictionary with keys from iterable and values set to value"
   ]
  },
  {
   "cell_type": "code",
   "execution_count": 94,
   "id": "9f9b9ee0-6fb1-421f-940f-6c17a10ded83",
   "metadata": {},
   "outputs": [
    {
     "data": {
      "text/plain": [
       "{'Cat': 45, 'Apple': 78, 'Saswati': 28, 'Jasmin': 93}"
      ]
     },
     "execution_count": 94,
     "metadata": {},
     "output_type": "execute_result"
    }
   ],
   "source": [
    "d2={'Cat':45,'Apple':78,'Saswati':28,'Jasmin':93}\n",
    "d2.fromkeys(d2)\n",
    "d2"
   ]
  },
  {
   "cell_type": "markdown",
   "id": "e8634b44-76d5-4da5-92cf-c0edaa62e8a1",
   "metadata": {},
   "source": [
    "**get**\n",
    "\n",
    "- Return the value for key if key is in the dictionary, else default"
   ]
  },
  {
   "cell_type": "code",
   "execution_count": 102,
   "id": "f58e0697-20e1-4541-bd66-18d4482e8d3b",
   "metadata": {},
   "outputs": [
    {
     "data": {
      "text/plain": [
       "'Audi'"
      ]
     },
     "execution_count": 102,
     "metadata": {},
     "output_type": "execute_result"
    }
   ],
   "source": [
    "d3={'Fruites':'Apple','Cars':'Audi','Animal':'Tiger'}\n",
    "dict=d3.get('Cars')\n",
    "dict"
   ]
  },
  {
   "cell_type": "markdown",
   "id": "b6c5e513-d573-4a30-9ea3-1c479a80fbfe",
   "metadata": {},
   "source": [
    "**items**\n",
    "\n",
    "- a set-like object providing a view on D's items"
   ]
  },
  {
   "cell_type": "code",
   "execution_count": 104,
   "id": "6284fd83-91e7-4827-be0e-7a2c92cb4f3f",
   "metadata": {},
   "outputs": [
    {
     "data": {
      "text/plain": [
       "dict_items([('Fruites', 'Apple'), ('Cars', 'Audi'), ('Animal', 'Tiger')])"
      ]
     },
     "execution_count": 104,
     "metadata": {},
     "output_type": "execute_result"
    }
   ],
   "source": [
    "d3={'Fruites':'Apple','Cars':'Audi','Animal':'Tiger'}\n",
    "dict=d3.items()\n",
    "dict"
   ]
  },
  {
   "cell_type": "markdown",
   "id": "ae5db54c-2793-4af0-b906-b49708b5925f",
   "metadata": {},
   "source": [
    "**keys**\n",
    "\n",
    "- a set-like object providing a view on D's keys "
   ]
  },
  {
   "cell_type": "code",
   "execution_count": 105,
   "id": "504f6a15-49c7-410a-862a-69611e329cc3",
   "metadata": {},
   "outputs": [
    {
     "data": {
      "text/plain": [
       "dict_keys(['Fruites', 'Cars', 'Animal'])"
      ]
     },
     "execution_count": 105,
     "metadata": {},
     "output_type": "execute_result"
    }
   ],
   "source": [
    "d3={'Fruites':'Apple','Cars':'Audi','Animal':'Tiger'}\n",
    "dict=d3.keys()\n",
    "dict"
   ]
  },
  {
   "cell_type": "markdown",
   "id": "bb88f5a9-2bed-434f-a44b-8de45e76ed15",
   "metadata": {},
   "source": [
    "**pop**\n",
    "\n",
    "- remove specified key and return the corresponding value"
   ]
  },
  {
   "cell_type": "code",
   "execution_count": 108,
   "id": "48e2f16e-cb71-49ad-89c3-639a92f1812c",
   "metadata": {},
   "outputs": [
    {
     "data": {
      "text/plain": [
       "{'Fruites': 'Apple', 'Animal': 'Tiger'}"
      ]
     },
     "execution_count": 108,
     "metadata": {},
     "output_type": "execute_result"
    }
   ],
   "source": [
    "d3={'Fruites':'Apple','Cars':'Audi','Animal':'Tiger'}\n",
    "d3.pop('Cars')\n",
    "d3"
   ]
  },
  {
   "cell_type": "markdown",
   "id": "1814ade5-7434-48b2-a03e-327dfd8fe00e",
   "metadata": {},
   "source": [
    "**popitem**\n",
    "\n",
    "- Remove and return a (key, value) pair as a 2-tuple"
   ]
  },
  {
   "cell_type": "code",
   "execution_count": 109,
   "id": "87f72fbc-b996-4e87-ac7d-947ce1606e81",
   "metadata": {},
   "outputs": [
    {
     "data": {
      "text/plain": [
       "{'Fruites': 'Apple', 'Cars': 'Audi'}"
      ]
     },
     "execution_count": 109,
     "metadata": {},
     "output_type": "execute_result"
    }
   ],
   "source": [
    "d3={'Fruites':'Apple','Cars':'Audi','Animal':'Tiger'}\n",
    "d3.popitem()\n",
    "d3"
   ]
  },
  {
   "cell_type": "markdown",
   "id": "e6d8bc96-4193-40ce-a7ed-83dac0ad8193",
   "metadata": {},
   "source": [
    "**setdefault**\n",
    "\n",
    "- Insert key with a value of default if key is not in the dictionary"
   ]
  },
  {
   "cell_type": "code",
   "execution_count": 113,
   "id": "5c2267fd-c24a-48ec-a058-559904f7dbaa",
   "metadata": {},
   "outputs": [
    {
     "data": {
      "text/plain": [
       "{'Fruites': 'Apple', 'Cars': 'Audi', 'Animal': 'Tiger'}"
      ]
     },
     "execution_count": 113,
     "metadata": {},
     "output_type": "execute_result"
    }
   ],
   "source": [
    "d3={'Fruites':'Apple','Cars':'Audi','Animal':'Tiger'}\n",
    "d3.setdefault('Fruites','Orange')\n",
    "d3"
   ]
  },
  {
   "cell_type": "markdown",
   "id": "044e37b2-89eb-4c0d-833c-3d918a879e1d",
   "metadata": {},
   "source": [
    "**update**"
   ]
  },
  {
   "cell_type": "code",
   "execution_count": 120,
   "id": "05c3ce50-15ec-467a-9f1a-e8b614462820",
   "metadata": {},
   "outputs": [
    {
     "data": {
      "text/plain": [
       "{'Fruites': 'Apple', 'Cars': 'Audi', 'Animal': 'Tiger', 'Flower': 'Lotus'}"
      ]
     },
     "execution_count": 120,
     "metadata": {},
     "output_type": "execute_result"
    }
   ],
   "source": [
    "d3={'Fruites':'Apple','Cars':'Audi','Animal':'Tiger'} \n",
    "d3.update({'Flower':'Lotus'}) \n",
    "d3"
   ]
  },
  {
   "cell_type": "markdown",
   "id": "b5dfc1f6-1a19-40e9-b0d8-35d3ed17eb2b",
   "metadata": {},
   "source": [
    "**values**\n",
    "\n",
    "- an object providing a view on D's values"
   ]
  },
  {
   "cell_type": "code",
   "execution_count": 122,
   "id": "c2059ffc-c859-420d-9d46-3cc7febb445f",
   "metadata": {},
   "outputs": [
    {
     "data": {
      "text/plain": [
       "dict_values(['Apple', 'Audi', 'Tiger'])"
      ]
     },
     "execution_count": 122,
     "metadata": {},
     "output_type": "execute_result"
    }
   ],
   "source": [
    "d3={'Fruites':'Apple','Cars':'Audi','Animal':'Tiger'} \n",
    "dict=d3.values() \n",
    "dict"
   ]
  },
  {
   "cell_type": "markdown",
   "id": "caf8fe6b-3bcc-4a2f-a461-a735bdf01a55",
   "metadata": {},
   "source": [
    "**items-keys-values**\n",
    "\n",
    "- items means both keys and values come together\n",
    "\n",
    "- keys means only dictionary keys\n",
    "\n",
    "- values means only dictionary keys"
   ]
  },
  {
   "cell_type": "code",
   "execution_count": 125,
   "id": "cb0868ec-7354-4dee-8863-228a057b1c3b",
   "metadata": {},
   "outputs": [
    {
     "data": {
      "text/plain": [
       "dict_items([('Ramesh', 50), ('Suresh', 100), ('Satish', 150), ('Manish', 200)])"
      ]
     },
     "execution_count": 125,
     "metadata": {},
     "output_type": "execute_result"
    }
   ],
   "source": [
    "d={'Ramesh': 50, 'Suresh': 100, 'Satish': 150, 'Manish': 200}\n",
    "it=d.items()\n",
    "it"
   ]
  },
  {
   "cell_type": "code",
   "execution_count": 126,
   "id": "2f176aa0-a558-4622-b5c0-999437fb4a90",
   "metadata": {},
   "outputs": [
    {
     "data": {
      "text/plain": [
       "dict_items"
      ]
     },
     "execution_count": 126,
     "metadata": {},
     "output_type": "execute_result"
    }
   ],
   "source": [
    "type(it)"
   ]
  },
  {
   "cell_type": "code",
   "execution_count": 132,
   "id": "c5ad4348-48e5-4b7c-869a-f85701d2ac4d",
   "metadata": {},
   "outputs": [
    {
     "data": {
      "text/plain": [
       "[('Ramesh', 50), ('Suresh', 100), ('Satish', 150), ('Manish', 200)]"
      ]
     },
     "execution_count": 132,
     "metadata": {},
     "output_type": "execute_result"
    }
   ],
   "source": [
    "item_list=list(it)\n",
    "item_list"
   ]
  },
  {
   "cell_type": "code",
   "execution_count": 135,
   "id": "9ade2d82-f848-4e32-ad0a-0305b04b9095",
   "metadata": {},
   "outputs": [
    {
     "name": "stdout",
     "output_type": "stream",
     "text": [
      "('Ramesh', 50)\n",
      "('Suresh', 100)\n",
      "('Satish', 150)\n",
      "('Manish', 200)\n"
     ]
    }
   ],
   "source": [
    "for i in item_list:\n",
    "    print(i)"
   ]
  },
  {
   "cell_type": "code",
   "execution_count": 136,
   "id": "194620e8-1014-467b-bee4-4d80b21e851c",
   "metadata": {},
   "outputs": [
    {
     "name": "stdout",
     "output_type": "stream",
     "text": [
      "Ramesh 50\n",
      "Suresh 100\n",
      "Satish 150\n",
      "Manish 200\n"
     ]
    }
   ],
   "source": [
    "name=[]\n",
    "age=[]\n",
    "for i in item_list:\n",
    "    print(i[0],i[1])\n",
    "    name.append(i[0])\n",
    "    age.append(i[1])"
   ]
  },
  {
   "cell_type": "code",
   "execution_count": 137,
   "id": "33d6fac9-3f11-4d52-9c74-be16357c58c1",
   "metadata": {},
   "outputs": [
    {
     "data": {
      "text/plain": [
       "['Ramesh', 'Suresh', 'Satish', 'Manish']"
      ]
     },
     "execution_count": 137,
     "metadata": {},
     "output_type": "execute_result"
    }
   ],
   "source": [
    "name=[]\n",
    "age=[]\n",
    "for i in item_list:\n",
    "    name.append(i[0])\n",
    "    age.append(i[1])\n",
    "\n",
    "name"
   ]
  },
  {
   "cell_type": "markdown",
   "id": "0ad7de9e-be18-4772-8096-1e1cd911557a",
   "metadata": {},
   "source": [
    "**Create a list using items**"
   ]
  },
  {
   "cell_type": "code",
   "execution_count": null,
   "id": "8ca03d15-d9b1-4e62-b8ae-544f312bc805",
   "metadata": {},
   "outputs": [],
   "source": [
    "d={'Ramesh': 50, 'Suresh': 100, 'Satish': 150, 'Manish': 200}\n",
    "it=d.items()     # items\n",
    "item_list=list(it)     # list type\n",
    "name=[]\n",
    "age=[]\n",
    "for i in item_list:\n",
    "    name.append(i[0])\n",
    "    age.append(i[1])\n",
    "\n",
    "name"
   ]
  },
  {
   "cell_type": "code",
   "execution_count": 145,
   "id": "0e704138-b107-4a4e-a23f-c799a408a628",
   "metadata": {},
   "outputs": [
    {
     "data": {
      "text/plain": [
       "['Formatter',\n",
       " 'Template',\n",
       " '_ChainMap',\n",
       " '__all__',\n",
       " '__builtins__',\n",
       " '__cached__',\n",
       " '__doc__',\n",
       " '__file__',\n",
       " '__loader__',\n",
       " '__name__',\n",
       " '__package__',\n",
       " '__spec__',\n",
       " '_re',\n",
       " '_sentinel_dict',\n",
       " '_string',\n",
       " 'ascii_letters',\n",
       " 'ascii_lowercase',\n",
       " 'ascii_uppercase',\n",
       " 'capwords',\n",
       " 'digits',\n",
       " 'hexdigits',\n",
       " 'octdigits',\n",
       " 'printable',\n",
       " 'punctuation',\n",
       " 'whitespace']"
      ]
     },
     "execution_count": 145,
     "metadata": {},
     "output_type": "execute_result"
    }
   ],
   "source": [
    "import string\n",
    "dir(string)\n",
    "# step-1 : Create a lowercase letters list using string package\n",
    "# step-2 : Create a digit list 1 to 26\n",
    "# step-3 : Create a dictionary {'a':1,'b':2........'z':26}\n",
    "# step-4 : enter a string: hai\n",
    "# step-5 : output: 8-1-9"
   ]
  },
  {
   "cell_type": "code",
   "execution_count": 2,
   "id": "c4de6ef0-081d-4ed3-b21b-8ebbb96e04c6",
   "metadata": {},
   "outputs": [
    {
     "ename": "TypeError",
     "evalue": "cannot unpack non-iterable int object",
     "output_type": "error",
     "traceback": [
      "\u001b[1;31m---------------------------------------------------------------------------\u001b[0m",
      "\u001b[1;31mTypeError\u001b[0m                                 Traceback (most recent call last)",
      "Cell \u001b[1;32mIn[2], line 1\u001b[0m\n\u001b[1;32m----> 1\u001b[0m a,b\u001b[38;5;241m=\u001b[39m\u001b[38;5;241m10\u001b[39m\n\u001b[0;32m      2\u001b[0m a,b\n",
      "\u001b[1;31mTypeError\u001b[0m: cannot unpack non-iterable int object"
     ]
    }
   ],
   "source": [
    "a,b=10\n",
    "a,b"
   ]
  },
  {
   "cell_type": "code",
   "execution_count": 3,
   "id": "e4b0a8e7-6ca0-40f9-b7f8-b7aca0d6d6ad",
   "metadata": {},
   "outputs": [
    {
     "data": {
      "text/plain": [
       "(10, 20)"
      ]
     },
     "execution_count": 3,
     "metadata": {},
     "output_type": "execute_result"
    }
   ],
   "source": [
    "a=10,20\n",
    "a"
   ]
  },
  {
   "cell_type": "code",
   "execution_count": 4,
   "id": "e5b6c47c-4ebf-4e71-a4f3-dc9f59c6034d",
   "metadata": {},
   "outputs": [],
   "source": [
    "a,b=10,20"
   ]
  },
  {
   "cell_type": "code",
   "execution_count": 5,
   "id": "0dcef1c5-49e8-4965-ba82-d36267619e8a",
   "metadata": {},
   "outputs": [
    {
     "data": {
      "text/plain": [
       "(10, 20)"
      ]
     },
     "execution_count": 5,
     "metadata": {},
     "output_type": "execute_result"
    }
   ],
   "source": [
    "a,b"
   ]
  },
  {
   "cell_type": "code",
   "execution_count": null,
   "id": "6254d84c-0fae-4fc5-a72f-2fd4b3a7cc45",
   "metadata": {},
   "outputs": [],
   "source": []
  }
 ],
 "metadata": {
  "kernelspec": {
   "display_name": "Python 3 (ipykernel)",
   "language": "python",
   "name": "python3"
  },
  "language_info": {
   "codemirror_mode": {
    "name": "ipython",
    "version": 3
   },
   "file_extension": ".py",
   "mimetype": "text/x-python",
   "name": "python",
   "nbconvert_exporter": "python",
   "pygments_lexer": "ipython3",
   "version": "3.11.7"
  }
 },
 "nbformat": 4,
 "nbformat_minor": 5
}
