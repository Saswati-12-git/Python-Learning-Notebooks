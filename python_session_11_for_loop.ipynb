{
 "cells": [
  {
   "cell_type": "markdown",
   "id": "e298efbd-2b7b-42ba-8487-d293fdf431ae",
   "metadata": {},
   "source": [
    "**Loops**\n",
    "\n",
    "- function: Reuse of the code\n",
    "\n",
    "- Loop: Reuse the code for multiple times unless the given condition satisfies\n",
    "\n",
    "- 2 types of loop\n",
    "\n",
    "   - For\n",
    "\n",
    "   - While\n",
    "\n",
    "- Any loop requires 3 things\n",
    "\n",
    "   - start point\n",
    "\n",
    "   - what is the condition to stop\n",
    "\n",
    "   - Increment or decrement\n",
    "\n",
    "- In for loop we will apply all above 3 in a single line\n",
    "\n",
    "- In for loop we will apply all above 3 in different lines"
   ]
  },
  {
   "cell_type": "markdown",
   "id": "7757030c-3560-478a-9b4a-17b08f719ef6",
   "metadata": {},
   "source": [
    "**for loop**\n",
    "\n",
    "$method-1$"
   ]
  },
  {
   "cell_type": "code",
   "execution_count": null,
   "id": "b505832b-dc2e-4971-9a2e-13fd58f50c77",
   "metadata": {},
   "outputs": [],
   "source": [
    "# syntax\n",
    "for i in range (<stop>):\n",
    "    print(i)"
   ]
  },
  {
   "cell_type": "code",
   "execution_count": 1,
   "id": "a6a6e390-374d-496e-b30b-c5d6f8729a49",
   "metadata": {},
   "outputs": [
    {
     "name": "stdout",
     "output_type": "stream",
     "text": [
      "0\n",
      "1\n",
      "2\n"
     ]
    }
   ],
   "source": [
    "print(0)\n",
    "print(1)\n",
    "print(2)\n",
    "\n",
    "print(i)"
   ]
  },
  {
   "cell_type": "code",
   "execution_count": 2,
   "id": "6b8d8a41-dcea-42ed-969c-a52624f99132",
   "metadata": {},
   "outputs": [
    {
     "name": "stdout",
     "output_type": "stream",
     "text": [
      "0\n",
      "1\n",
      "2\n"
     ]
    }
   ],
   "source": [
    "for i in range(3):\n",
    "    print(i)"
   ]
  },
  {
   "cell_type": "markdown",
   "id": "1b3c434a-f151-4477-8aa2-7d5a1cfe1d9b",
   "metadata": {},
   "source": [
    "**Note**\n",
    "\n",
    "- The default start point is zero(0)\n",
    "\n",
    "   **Python index starts with zero**\n",
    "\n",
    "- Default increment is 1\n",
    "\n",
    "- Last value= stop-1"
   ]
  },
  {
   "cell_type": "markdown",
   "id": "e24b8109-2342-4db2-87cf-e7aa43ca646e",
   "metadata": {},
   "source": [
    "**range(5)**\n",
    "\n",
    "- start value=0\n",
    "\n",
    "- increment=1\n",
    "\n",
    "- last value=5-1=4"
   ]
  },
  {
   "cell_type": "code",
   "execution_count": 3,
   "id": "a4001898-2356-4a66-86b2-e32d5a5a2825",
   "metadata": {},
   "outputs": [
    {
     "name": "stdout",
     "output_type": "stream",
     "text": [
      "0\n",
      "1\n",
      "2\n",
      "3\n",
      "4\n"
     ]
    }
   ],
   "source": [
    "for i in range(5):\n",
    "    print(i)"
   ]
  },
  {
   "cell_type": "code",
   "execution_count": 5,
   "id": "a9172eb7-fc4a-4cf6-8fab-2b2427fae88d",
   "metadata": {},
   "outputs": [
    {
     "name": "stdout",
     "output_type": "stream",
     "text": [
      "0 1 2\n"
     ]
    }
   ],
   "source": [
    "print(0,end=' ')\n",
    "print(1,end=' ')\n",
    "print(2)"
   ]
  },
  {
   "cell_type": "code",
   "execution_count": 6,
   "id": "b86d3427-e476-4787-ba2a-c9c8ac724216",
   "metadata": {},
   "outputs": [
    {
     "name": "stdout",
     "output_type": "stream",
     "text": [
      "0 1 2 3 4 "
     ]
    }
   ],
   "source": [
    "for i in range(5):\n",
    "    print(i,end=' ')"
   ]
  },
  {
   "cell_type": "code",
   "execution_count": null,
   "id": "c0644dde-ed20-4753-b0ee-a812ad97bf83",
   "metadata": {},
   "outputs": [],
   "source": [
    "# I want to print 3 times hello"
   ]
  },
  {
   "cell_type": "code",
   "execution_count": 8,
   "id": "ebfc01d7-d349-4b2c-9aca-deb5597746b9",
   "metadata": {},
   "outputs": [
    {
     "name": "stdout",
     "output_type": "stream",
     "text": [
      "0 hello\n",
      "1 hello\n",
      "2 hello\n"
     ]
    }
   ],
   "source": [
    "for i in range(3):\n",
    "    print(i,'hello')\n",
    "\n",
    "# i used for only numbers"
   ]
  },
  {
   "cell_type": "markdown",
   "id": "c485e7c1-8602-4df2-9264-f8ed49df956b",
   "metadata": {},
   "source": [
    "$method-2$\n",
    "\n",
    "**range(start,stop)**\n",
    "\n",
    "- start value= start\n",
    "\n",
    "- Default increment by 1\n",
    "\n",
    "- Last value= stop-1"
   ]
  },
  {
   "cell_type": "code",
   "execution_count": null,
   "id": "9159556f-0848-4113-a3ce-a4530e6dee53",
   "metadata": {},
   "outputs": [],
   "source": [
    "# syntax\n",
    "for i in range(<start>,<stop>):\n",
    "    print(i)"
   ]
  },
  {
   "cell_type": "code",
   "execution_count": 9,
   "id": "356d6a6c-1f43-4400-8ee6-7098fa2c5227",
   "metadata": {},
   "outputs": [
    {
     "name": "stdout",
     "output_type": "stream",
     "text": [
      "2 3 4 5 6 7 8 9 "
     ]
    }
   ],
   "source": [
    "for i in range(2,10):\n",
    "    print(i,end=' ')"
   ]
  },
  {
   "cell_type": "code",
   "execution_count": 12,
   "id": "f104178e-b526-47d6-9e5b-461f557e3050",
   "metadata": {},
   "outputs": [
    {
     "name": "stdout",
     "output_type": "stream",
     "text": [
      "The square of 1 is 1\n",
      "The square of 2 is 4\n",
      "The square of 3 is 9\n",
      "The square of 4 is 16\n",
      "The square of 5 is 25\n"
     ]
    }
   ],
   "source": [
    "# wap ask the user print the square of the numbers from 1 to 5\n",
    "for i in range(1,6):\n",
    "    print(f'The square of {i} is {i*i}')"
   ]
  },
  {
   "cell_type": "code",
   "execution_count": 15,
   "id": "9ad22336-01a3-49d0-8286-8a2fb92b201d",
   "metadata": {},
   "outputs": [
    {
     "name": "stdout",
     "output_type": "stream",
     "text": [
      "The square of 51 is 2601\n",
      "The square of 38 is 1444\n",
      "The square of 90 is 8100\n",
      "The square of 21 is 441\n",
      "The square of 98 is 9604\n"
     ]
    }
   ],
   "source": [
    "# wap ask the user take 5 random numbers and  print the square of that numbers\n",
    "#how many times you need to apply the loop: 5\n",
    "# every time random number should come\n",
    "# get the square\n",
    "\n",
    "import random\n",
    "for i in range(5):\n",
    "    i=random.randint(10,100)\n",
    "    print(f'The square of {i} is {i*i}')"
   ]
  },
  {
   "cell_type": "code",
   "execution_count": 17,
   "id": "66a2c31f-ed75-4ad5-9ec2-74056161553b",
   "metadata": {},
   "outputs": [
    {
     "name": "stdout",
     "output_type": "stream",
     "text": [
      "The square of 72 is 5184\n",
      "The square of 85 is 7225\n",
      "The square of 65 is 4225\n",
      "The square of 87 is 7569\n",
      "The square of 24 is 576\n"
     ]
    }
   ],
   "source": [
    "# create a function on reuse code lines\n",
    "# call that function inside the for loop\n",
    "\n",
    "import random\n",
    "def square():\n",
    "    for i in range(5):\n",
    "        i=random.randint(10,100)\n",
    "        print(f'The square of {i} is {i*i}')\n",
    "\n",
    "square()\n",
    "    "
   ]
  },
  {
   "cell_type": "code",
   "execution_count": 20,
   "id": "bb13210f-50ec-4192-a023-49ec296b5aa5",
   "metadata": {},
   "outputs": [
    {
     "name": "stdout",
     "output_type": "stream",
     "text": [
      "The square of 63 is 3969\n",
      "The square of 49 is 2401\n",
      "The square of 15 is 225\n",
      "The square of 72 is 5184\n",
      "The square of 22 is 484\n"
     ]
    }
   ],
   "source": [
    "import random\n",
    "def square():\n",
    "    i=random.randint(10,100)\n",
    "    return(f'The square of {i} is {i*i}')\n",
    "    \n",
    "for i in range(5):\n",
    "    ans=square()\n",
    "    print(ans)\n",
    "    "
   ]
  },
  {
   "cell_type": "code",
   "execution_count": 25,
   "id": "35cb2438-7374-4264-a19a-2874e2020b29",
   "metadata": {},
   "outputs": [
    {
     "name": "stdout",
     "output_type": "stream",
     "text": [
      "11 is odd\n",
      "12 is even\n",
      "13 is odd\n",
      "14 is even\n",
      "15 is odd\n",
      "16 is even\n",
      "17 is odd\n",
      "18 is even\n",
      "19 is odd\n",
      "20 is even\n",
      "21 is odd\n"
     ]
    }
   ],
   "source": [
    "# wap ask the user print the even or odd values between 11 to 21\n",
    "\n",
    "for i in range(11,22):\n",
    "    if i%2==0:\n",
    "        print(f'{i} is even')\n",
    "    else:\n",
    "        print(f'{i} is odd')"
   ]
  },
  {
   "cell_type": "code",
   "execution_count": 26,
   "id": "678d32f1-3ee8-4f70-b877-444be4250e41",
   "metadata": {},
   "outputs": [
    {
     "name": "stdin",
     "output_type": "stream",
     "text": [
      "Enter the value: 5\n"
     ]
    },
    {
     "name": "stdout",
     "output_type": "stream",
     "text": [
      "5 is odd\n"
     ]
    },
    {
     "name": "stdin",
     "output_type": "stream",
     "text": [
      "Enter the value: 4\n"
     ]
    },
    {
     "name": "stdout",
     "output_type": "stream",
     "text": [
      "4 is even\n"
     ]
    },
    {
     "name": "stdin",
     "output_type": "stream",
     "text": [
      "Enter the value: 77\n"
     ]
    },
    {
     "name": "stdout",
     "output_type": "stream",
     "text": [
      "77 is odd\n"
     ]
    },
    {
     "name": "stdin",
     "output_type": "stream",
     "text": [
      "Enter the value: 56\n"
     ]
    },
    {
     "name": "stdout",
     "output_type": "stream",
     "text": [
      "56 is even\n"
     ]
    },
    {
     "name": "stdin",
     "output_type": "stream",
     "text": [
      "Enter the value: 67\n"
     ]
    },
    {
     "name": "stdout",
     "output_type": "stream",
     "text": [
      "67 is odd\n"
     ]
    }
   ],
   "source": [
    "# wap ask the user enter a value from keyboard 5 times \n",
    "# print that values the even or odd \n",
    "\n",
    "for i in range(5):\n",
    "    i=eval(input('Enter the value:'))\n",
    "    if i%2==0:\n",
    "         print(f'{i} is even')\n",
    "    else:\n",
    "        print(f'{i} is odd')\n"
   ]
  },
  {
   "cell_type": "code",
   "execution_count": null,
   "id": "d0da4a1a-ed90-4bc9-aa46-7604386f290a",
   "metadata": {},
   "outputs": [],
   "source": [
    "# Q.1) wap ask the user print the square of the numbers from 1 to 5\n",
    "\n",
    "#Q.2)  wap ask the user take 5 random numbers and  print the square of that numbers\n",
    "#how many times you need to apply the loop: 5\n",
    "# every time random number should come\n",
    "# get the square\n",
    "\n",
    "#Q.3) create a function on reuse code lines\n",
    "# call that function inside the for loop\n",
    "\n",
    "#Q.4)  wap ask the user print the even or odd values between 11 to 21\n",
    "\n",
    "#Q.5)  wap ask the user enter a value from keyboard 5 times \n",
    "# print that values the even or odd "
   ]
  },
  {
   "cell_type": "markdown",
   "id": "6950914d-a399-4de9-9c41-f1085ed173b6",
   "metadata": {},
   "source": [
    "$method-3$\n",
    "\n",
    "**range(start,stop,step)**\n",
    "\n",
    "- start = always a start value\n",
    "\n",
    "- step : Increment value\n",
    "\n",
    "    - If increment value is positive\n",
    "\n",
    "    - positive value means positive direction(forward)\n",
    "\n",
    "       - Last = stop-1\n",
    "\n",
    "    - If increment value is negative\n",
    "\n",
    "    - negative value means negative direction(backward)\n",
    "\n",
    "       - Last = stop+1"
   ]
  },
  {
   "cell_type": "code",
   "execution_count": 27,
   "id": "7f61cf55-bdcb-4fde-a7d4-279ee1eaf06b",
   "metadata": {},
   "outputs": [
    {
     "name": "stdout",
     "output_type": "stream",
     "text": [
      "2 4 6 8 10 12 14 16 18 "
     ]
    }
   ],
   "source": [
    "# case- 1\n",
    "\n",
    "for i in range(2,20,2):\n",
    "    print(i,end=' ')\n",
    "\n",
    "# start=2\n",
    "# step=2  (+ve direction)\n",
    "# last=stop-1= 20-1=19\n",
    "\n",
    "# first write start value and stop value\n",
    "# then look at the direction positive or negative\n",
    "# then make the conclusion"
   ]
  },
  {
   "cell_type": "code",
   "execution_count": 28,
   "id": "5f277d36-0264-4def-9b2d-9e6f96415f89",
   "metadata": {},
   "outputs": [],
   "source": [
    "# case- 2\n",
    "\n",
    "for i in range(2,20,-2):\n",
    "    print(i,end=' ')\n",
    "\n",
    "# start=2\n",
    "# step=2  (-ve direction)\n",
    "# last=stop+1= 20+1=21\n",
    "\n",
    "# here increment value is -ve . so it goes in negative direction till it doesn't reach to 21. as we know that is impossible ,\n",
    "# that'swhy it doesn't give any output"
   ]
  },
  {
   "cell_type": "code",
   "execution_count": 29,
   "id": "85f80e3e-abce-45a7-88c1-cca79b0347f8",
   "metadata": {},
   "outputs": [
    {
     "name": "stdout",
     "output_type": "stream",
     "text": [
      "2 0 -2 -4 -6 -8 -10 -12 -14 -16 -18 "
     ]
    }
   ],
   "source": [
    "# case- 3\n",
    "\n",
    "for i in range(2,-20,-2):\n",
    "    print(i,end=' ')\n",
    "\n",
    "# start=2\n",
    "# step=2  (-ve direction)\n",
    "# last=stop+1= -20+1=-19"
   ]
  },
  {
   "cell_type": "code",
   "execution_count": 30,
   "id": "cd2f8519-9d82-41bf-a466-0927cdb60766",
   "metadata": {},
   "outputs": [
    {
     "name": "stdout",
     "output_type": "stream",
     "text": [
      "-2 -4 -6 -8 -10 -12 -14 -16 -18 "
     ]
    }
   ],
   "source": [
    "# case- 4\n",
    "\n",
    "for i in range(-2,-20,-2):\n",
    "    print(i,end=' ')\n",
    "\n",
    "# start= -2\n",
    "# step= 2  (-ve direction)\n",
    "# last= stop+1= -20+1=-19"
   ]
  },
  {
   "cell_type": "code",
   "execution_count": 31,
   "id": "8159f0dd-dc93-4f05-925e-bdd66f05a5d4",
   "metadata": {},
   "outputs": [],
   "source": [
    "# case- 5\n",
    "\n",
    "for i in range(-2,20,-2):\n",
    "    print(i,end=' ')\n",
    "\n",
    "# start= -2\n",
    "# step= 2  (-ve direction)\n",
    "# last= stop+1= 20+1=19\n",
    "\n",
    "# here increment value is -ve . so it goes in negative direction till it doesn't reach to 19. as we know that is impossible ,\n",
    "# that'swhy it doesn't give any output"
   ]
  },
  {
   "cell_type": "code",
   "execution_count": null,
   "id": "cdd424b5-c1ad-44f0-9052-970d8e59e5e0",
   "metadata": {},
   "outputs": [],
   "source": [
    "# case- 1\n",
    "\n",
    "for i in range(2,20,2):\n",
    "    print(i,end=' ')\n",
    "\n",
    "\n",
    "# case- 2\n",
    "\n",
    "for i in range(2,20,-2):\n",
    "    print(i,end=' ')\n",
    "\n",
    "\n",
    "# case- 3\n",
    "\n",
    "for i in range(2,-20,-2):\n",
    "    print(i,end=' ')\n",
    "\n",
    "\n",
    "# case- 4\n",
    "\n",
    "for i in range(-2,-20,-2):\n",
    "    print(i,end=' ')\n",
    "\n",
    "\n",
    "# case- 5\n",
    "\n",
    "for i in range(-2,20,-2):\n",
    "    print(i,end=' ')"
   ]
  },
  {
   "cell_type": "code",
   "execution_count": null,
   "id": "c51ac445-e908-4898-811c-57dba1792555",
   "metadata": {},
   "outputs": [],
   "source": [
    "range(3,19,3)       # possible\n",
    "range(3,19,-3)      # not possible\n",
    "range(3,-19,3)      # not possible\n",
    "range(3,-19,-3)     # possible\n",
    "range(-3,19,3)      # possible\n",
    "range(-3,-19,3)     # not possible\n",
    "range(-3,-19,-3)    # possible\n",
    "range(-3,19,-3)     # not possible\n",
    "range(19,3,-3)      # possible\n",
    "range(-19,3,-3)     # not possible     \n",
    "range(-19,-3,-3)    # not possible\n",
    "range(-19,3,3)      # possible\n",
    "range(19,3,3)       # not possible"
   ]
  },
  {
   "cell_type": "code",
   "execution_count": null,
   "id": "8520e26a-dd11-42ab-ad49-f3bb14cef0f9",
   "metadata": {},
   "outputs": [],
   "source": [
    "# Q.6) wap to create 9th table\n",
    "# 9*1=9\n",
    "#\n",
    "# 9*10=90\n",
    "\n",
    "# here i=(1-10)   , so loop is (1,11)\n",
    "# here constant is 9"
   ]
  },
  {
   "cell_type": "code",
   "execution_count": 3,
   "id": "52efd0f7-313d-465d-8bcf-b235126c6f6a",
   "metadata": {},
   "outputs": [
    {
     "name": "stdout",
     "output_type": "stream",
     "text": [
      "9 x 1 = 9\n",
      "9 x 2 = 18\n",
      "9 x 3 = 27\n",
      "9 x 4 = 36\n",
      "9 x 5 = 45\n",
      "9 x 6 = 54\n",
      "9 x 7 = 63\n",
      "9 x 8 = 72\n",
      "9 x 9 = 81\n",
      "9 x 10 = 90\n"
     ]
    }
   ],
   "source": [
    "for i in range(1,11):\n",
    "    print(f'9 x {i} = {9*i}')"
   ]
  },
  {
   "cell_type": "code",
   "execution_count": null,
   "id": "c609f216-f844-4455-b4f6-5977d11fd29b",
   "metadata": {},
   "outputs": [],
   "source": [
    "# Q.7) wap to print the divisiors of number 50\n",
    "# what is the meaning of divisors\n",
    "# if 50 divided by 2 then the reminder is zero\n",
    "# 2 is the divider of 50\n",
    "\n",
    "# 50%1==0\n",
    "# 50%2==0\n",
    "# 50%3==0\n",
    "#\n",
    "#\n",
    "# 50%50==0\n",
    "\n",
    "# 1  2  5  10  25  50\n",
    "\n",
    "# here i=(1-50)   , so loop is (1,51)\n",
    "# here constant is 50\n"
   ]
  },
  {
   "cell_type": "code",
   "execution_count": 5,
   "id": "7d2f4ea7-29fa-4229-a5be-8141047f80bc",
   "metadata": {},
   "outputs": [
    {
     "name": "stdout",
     "output_type": "stream",
     "text": [
      "1 2 5 10 25 50 "
     ]
    }
   ],
   "source": [
    "for i in range(1,51):\n",
    "    if 50%i==0:\n",
    "        print(i,end=' ')\n",
    "\n",
    "# step-1 : i=1   if 50%1==0    True    print(1) : 1\n",
    "# step-2 : i=2   if 50%2==0    True    print(2) : 2\n",
    "# step-3 : i=3   if 50%3==0    False    "
   ]
  },
  {
   "cell_type": "code",
   "execution_count": 6,
   "id": "4eaa019b-78e8-4a96-b62b-3205ad6ed8e1",
   "metadata": {},
   "outputs": [
    {
     "name": "stdin",
     "output_type": "stream",
     "text": [
      "Enter the number which you want divisors: 75\n"
     ]
    },
    {
     "name": "stdout",
     "output_type": "stream",
     "text": [
      "1\n",
      "3\n",
      "5\n",
      "15\n",
      "25\n",
      "75\n"
     ]
    }
   ],
   "source": [
    "num=eval(input('Enter the number which you want divisors:'))\n",
    "for i in range(1,num+1):\n",
    "    if num%i==0:\n",
    "        print(i)"
   ]
  },
  {
   "cell_type": "code",
   "execution_count": 7,
   "id": "9b43e55b-0347-4873-bf1c-d2ab8b541240",
   "metadata": {},
   "outputs": [
    {
     "name": "stdin",
     "output_type": "stream",
     "text": [
      "Enter the number which you want divisors: 75\n"
     ]
    },
    {
     "name": "stdout",
     "output_type": "stream",
     "text": [
      "1\n",
      "3\n",
      "5\n",
      "15\n",
      "25\n",
      "75\n"
     ]
    }
   ],
   "source": [
    "def divisors():\n",
    "    num=eval(input('Enter the number which you want divisors:'))\n",
    "    for i in range(1,num+1):\n",
    "        if num%i==0:\n",
    "            print(i)\n",
    "\n",
    "divisors()"
   ]
  },
  {
   "cell_type": "code",
   "execution_count": null,
   "id": "7c653858-e8c9-4c28-b4f9-3de026d1c24f",
   "metadata": {},
   "outputs": [],
   "source": [
    "# Q.7) wap to print the sum of first 10 natural numbers\n",
    "# 1 to 10\n",
    "# 1+2+3+4+5+6+7+8+9+10=\n",
    "\n",
    "# whenever you want to do any sum program\n",
    "# It is like wrapper\n",
    "\n",
    "# 1+0=1\n",
    "# 2+1=3\n",
    "# 3+3=6\n",
    "# 4+6=10\n",
    "# 5+15=15\n",
    "\n",
    "summ=0\n",
    "summ=summ+i\n",
    "# summ=0+1      summ=1\n",
    "# summ=1+2      summ=3\n",
    "# summ=3+3      summ=6\n",
    "# summ=4+6      summ=10\n",
    "\n",
    "# summ=0\n",
    "# <for loop>\n",
    "#   summ=summ+i\n",
    "#   print(summ)"
   ]
  },
  {
   "cell_type": "code",
   "execution_count": 8,
   "id": "4d154d00-80e4-47e6-9ceb-47506107f857",
   "metadata": {},
   "outputs": [
    {
     "name": "stdout",
     "output_type": "stream",
     "text": [
      "1\n",
      "3\n",
      "6\n",
      "10\n",
      "15\n",
      "21\n",
      "28\n",
      "36\n",
      "45\n",
      "55\n"
     ]
    }
   ],
   "source": [
    "summ=0\n",
    "for i in range(1,11):\n",
    "    summ=summ+i\n",
    "    print(summ)\n",
    "\n",
    "# if we print inside the loop it will print all the sum"
   ]
  },
  {
   "cell_type": "code",
   "execution_count": 10,
   "id": "12dbcecb-63b9-4535-a8c4-0b9b075c34bc",
   "metadata": {},
   "outputs": [
    {
     "name": "stdout",
     "output_type": "stream",
     "text": [
      "The sum of first 10 natural numbers is 55\n"
     ]
    }
   ],
   "source": [
    "summ=0\n",
    "for i in range(1,11):\n",
    "    summ=summ+i\n",
    "print('The sum of first 10 natural numbers is',summ)"
   ]
  },
  {
   "cell_type": "markdown",
   "id": "0570ef1c-ebd7-404e-be4a-bb598c0899be",
   "metadata": {},
   "source": [
    "- do not give variable as sum, it a keyword\n",
    "\n",
    "- if you do print inside it will print evey answer\n",
    "\n",
    "- if you print outside the last value will print"
   ]
  },
  {
   "cell_type": "code",
   "execution_count": 13,
   "id": "36c76b19-0884-46c5-b036-91d0bdc9f736",
   "metadata": {},
   "outputs": [
    {
     "data": {
      "text/plain": [
       "['False',\n",
       " 'None',\n",
       " 'True',\n",
       " 'and',\n",
       " 'as',\n",
       " 'assert',\n",
       " 'async',\n",
       " 'await',\n",
       " 'break',\n",
       " 'class',\n",
       " 'continue',\n",
       " 'def',\n",
       " 'del',\n",
       " 'elif',\n",
       " 'else',\n",
       " 'except',\n",
       " 'finally',\n",
       " 'for',\n",
       " 'from',\n",
       " 'global',\n",
       " 'if',\n",
       " 'import',\n",
       " 'in',\n",
       " 'is',\n",
       " 'lambda',\n",
       " 'nonlocal',\n",
       " 'not',\n",
       " 'or',\n",
       " 'pass',\n",
       " 'raise',\n",
       " 'return',\n",
       " 'try',\n",
       " 'while',\n",
       " 'with',\n",
       " 'yield']"
      ]
     },
     "execution_count": 13,
     "metadata": {},
     "output_type": "execute_result"
    }
   ],
   "source": [
    "import keyword\n",
    "keyword.kwlist"
   ]
  },
  {
   "cell_type": "code",
   "execution_count": 14,
   "id": "4d03d834-9899-49c2-8444-4a1ca8be79cb",
   "metadata": {},
   "outputs": [
    {
     "data": {
      "text/plain": [
       "6"
      ]
     },
     "execution_count": 14,
     "metadata": {},
     "output_type": "execute_result"
    }
   ],
   "source": [
    "l=[1,2,3]\n",
    "sum(l)"
   ]
  },
  {
   "cell_type": "markdown",
   "id": "3fc68478-c5af-4b62-b9fc-ba8b8ca9c6a4",
   "metadata": {},
   "source": [
    "- not callable, remove the brackets\n",
    "\n",
    "- bound method means add the brackets\n",
    "\n",
    "- function means also add the brackets"
   ]
  },
  {
   "cell_type": "markdown",
   "id": "0fdbf486-edcb-49a5-8222-ebfd00fbcdcb",
   "metadata": {},
   "source": [
    "**Counter wrapper**"
   ]
  },
  {
   "cell_type": "code",
   "execution_count": null,
   "id": "d539498b-d384-4956-9979-1826470384f8",
   "metadata": {},
   "outputs": [],
   "source": [
    "# Q.9) How many divisors are available for 50\n",
    "# tell the divisors: 1,2,5,10,25,50\n",
    "# now i want to print : the number of divisors are 6"
   ]
  },
  {
   "cell_type": "code",
   "execution_count": 15,
   "id": "7f0f3530-a945-47cc-b3c3-ce07f1d1b89e",
   "metadata": {},
   "outputs": [
    {
     "name": "stdout",
     "output_type": "stream",
     "text": [
      "The number of divisors of 50 is 6\n"
     ]
    }
   ],
   "source": [
    "count=0\n",
    "for i in range(1,51):\n",
    "    if 50%i==0:\n",
    "        count=count+1\n",
    "\n",
    "print(f'The number of divisors of 50 is {count}')"
   ]
  },
  {
   "cell_type": "code",
   "execution_count": 16,
   "id": "9193d582-ce8a-4013-ae9c-1cc342c27723",
   "metadata": {},
   "outputs": [
    {
     "name": "stdin",
     "output_type": "stream",
     "text": [
      "Enter the number which you want divisors: 68\n"
     ]
    },
    {
     "name": "stdout",
     "output_type": "stream",
     "text": [
      "The number of divisors of 68 is 6\n"
     ]
    }
   ],
   "source": [
    "count=0\n",
    "num=eval(input('Enter the number which you want divisors:'))\n",
    "for i in range(1,num+1):\n",
    "    if num%i==0:\n",
    "        count=count+1\n",
    "\n",
    "print(f'The number of divisors of {num} is {count}')\n",
    "\n",
    "# step-1 : count=0     num=10    i=1    if 10%1==0     True     count=0+1=1\n",
    "# step-2 : count=1     num=10    i=2    if 10%2==0     True     count=1+1=2\n",
    "# step-3 : count=2     num=10    i=3    if 10%3==0     false     \n"
   ]
  },
  {
   "cell_type": "code",
   "execution_count": null,
   "id": "86f6b2fb-6a66-4970-a0c0-5ac409a3900b",
   "metadata": {},
   "outputs": [],
   "source": [
    "summ=0\n",
    "summ=summ+i\n",
    "\n",
    "count=0\n",
    "count=count+1"
   ]
  },
  {
   "cell_type": "code",
   "execution_count": null,
   "id": "d6840658-89e7-4aa9-b593-868533f3e0ba",
   "metadata": {},
   "outputs": [],
   "source": [
    "# Q.10) ask the user enter  number from keyboard\n",
    "#       ask the user get the second number from random from 1 to 10\n",
    "#       if num1==num2 then print you won\n",
    "#       otherwise print you lost\n",
    "#       Iterate these lines 3 times\n"
   ]
  },
  {
   "cell_type": "code",
   "execution_count": 19,
   "id": "26f82d22-7c99-4b45-a911-7997225af5b9",
   "metadata": {},
   "outputs": [
    {
     "name": "stdin",
     "output_type": "stream",
     "text": [
      "Enter the number: 7\n"
     ]
    },
    {
     "name": "stdout",
     "output_type": "stream",
     "text": [
      "You Lost\n"
     ]
    },
    {
     "name": "stdin",
     "output_type": "stream",
     "text": [
      "Enter the number: 3\n"
     ]
    },
    {
     "name": "stdout",
     "output_type": "stream",
     "text": [
      "You Lost\n"
     ]
    },
    {
     "name": "stdin",
     "output_type": "stream",
     "text": [
      "Enter the number: 9\n"
     ]
    },
    {
     "name": "stdout",
     "output_type": "stream",
     "text": [
      "You Won\n"
     ]
    }
   ],
   "source": [
    "import random\n",
    "n1=random.randint(1,10)\n",
    "for i in range(3):\n",
    "    n2=eval(input('Enter the number:'))\n",
    "    if n1==n2:\n",
    "        print('You Won')\n",
    "    else:\n",
    "        print('You Lost')"
   ]
  },
  {
   "cell_type": "code",
   "execution_count": 20,
   "id": "72fdf261-e8c6-4594-9830-163f567c7aca",
   "metadata": {},
   "outputs": [
    {
     "name": "stdout",
     "output_type": "stream",
     "text": [
      "7\n"
     ]
    },
    {
     "name": "stdin",
     "output_type": "stream",
     "text": [
      "Enter the number: 3\n"
     ]
    },
    {
     "name": "stdout",
     "output_type": "stream",
     "text": [
      "You Lost\n"
     ]
    },
    {
     "name": "stdin",
     "output_type": "stream",
     "text": [
      "Enter the number: 2\n"
     ]
    },
    {
     "name": "stdout",
     "output_type": "stream",
     "text": [
      "You Lost\n"
     ]
    },
    {
     "name": "stdin",
     "output_type": "stream",
     "text": [
      "Enter the number: 7\n"
     ]
    },
    {
     "name": "stdout",
     "output_type": "stream",
     "text": [
      "You Won\n"
     ]
    }
   ],
   "source": [
    "import random\n",
    "n1=random.randint(1,10)\n",
    "print(n1)\n",
    "for i in range(3):\n",
    "    n2=eval(input('Enter the number:'))\n",
    "    if n1==n2:\n",
    "        print('You Won')\n",
    "    else:\n",
    "        print('You Lost')"
   ]
  },
  {
   "cell_type": "code",
   "execution_count": 21,
   "id": "5d38e6c5-f804-4e14-8015-15f62f1541c0",
   "metadata": {},
   "outputs": [
    {
     "name": "stdout",
     "output_type": "stream",
     "text": [
      "1\n"
     ]
    },
    {
     "name": "stdin",
     "output_type": "stream",
     "text": [
      "Enter the number: 3\n"
     ]
    },
    {
     "name": "stdout",
     "output_type": "stream",
     "text": [
      "You Lost\n"
     ]
    },
    {
     "name": "stdin",
     "output_type": "stream",
     "text": [
      "Enter the number: 1\n"
     ]
    },
    {
     "name": "stdout",
     "output_type": "stream",
     "text": [
      "You Won\n"
     ]
    }
   ],
   "source": [
    "# case-1\n",
    "import random\n",
    "n1=random.randint(1,10)\n",
    "print(n1)\n",
    "for i in range(3):\n",
    "    n2=eval(input('Enter the number:'))\n",
    "    if n1==n2:\n",
    "        print('You Won')\n",
    "        break\n",
    "    else:\n",
    "        print('You Lost')"
   ]
  },
  {
   "cell_type": "code",
   "execution_count": null,
   "id": "1e59fa89-f757-4558-985e-3ffeb7e73a06",
   "metadata": {},
   "outputs": [],
   "source": [
    "# case-2 : give 5 chances\n",
    "# whenever fail print the number of chances left\n",
    "\n",
    "# case-3 : suppose your chances are over\n",
    "# print your account is locked try after 24 hours"
   ]
  },
  {
   "cell_type": "code",
   "execution_count": 26,
   "id": "5819c172-f9eb-4adf-9270-1fc3e4981833",
   "metadata": {},
   "outputs": [
    {
     "name": "stdin",
     "output_type": "stream",
     "text": [
      "Enter the number: 5\n"
     ]
    },
    {
     "name": "stdout",
     "output_type": "stream",
     "text": [
      "The random number: 1\n",
      "You Lost\n",
      "Chances left: 4\n"
     ]
    },
    {
     "name": "stdin",
     "output_type": "stream",
     "text": [
      "Enter the number: 6\n"
     ]
    },
    {
     "name": "stdout",
     "output_type": "stream",
     "text": [
      "You Won\n"
     ]
    }
   ],
   "source": [
    "import random\n",
    "chance=5\n",
    "for i in range(5):\n",
    "    chance=chance-1\n",
    "    n1=random.randint(1,10)\n",
    "    n2=eval(input('Enter the number:'))\n",
    "    if n1==n2:\n",
    "        print('You Won')\n",
    "        break\n",
    "    else:\n",
    "        print(f'The random number: {n1}')\n",
    "        print('You Lost')\n",
    "        print(f'Chances left: {chance}')\n",
    "        if chance==0:\n",
    "            print('Your account is locked try after 24 hours')"
   ]
  },
  {
   "cell_type": "markdown",
   "id": "7023a3fb-3145-47c5-b105-9fb9bf5e9f87",
   "metadata": {},
   "source": [
    "**in operator**\n",
    "\n",
    "- There are two operators are in for loop\n",
    "\n",
    "- one is: **range** operator\n",
    "\n",
    "- second one is: **in** operator\n",
    "\n",
    "- range operator mainly for numbers\n",
    "\n",
    "- in operator for characters"
   ]
  },
  {
   "cell_type": "code",
   "execution_count": 2,
   "id": "2f700a61-b988-48e6-b97a-134615ff0055",
   "metadata": {},
   "outputs": [
    {
     "data": {
      "text/plain": [
       "True"
      ]
     },
     "execution_count": 2,
     "metadata": {},
     "output_type": "execute_result"
    }
   ],
   "source": [
    "name='python'\n",
    "'p' in name\n",
    "'y' in name\n",
    "'t' in name\n",
    "\n",
    "# in is a keyword"
   ]
  },
  {
   "cell_type": "code",
   "execution_count": 3,
   "id": "c4eb3171-ca5c-447a-be82-0eee4f17ae4e",
   "metadata": {},
   "outputs": [
    {
     "data": {
      "text/plain": [
       "False"
      ]
     },
     "execution_count": 3,
     "metadata": {},
     "output_type": "execute_result"
    }
   ],
   "source": [
    "name='python'\n",
    "'H' in name"
   ]
  },
  {
   "cell_type": "code",
   "execution_count": null,
   "id": "113ec367-7ad0-4153-81d6-8025b48030ad",
   "metadata": {},
   "outputs": [],
   "source": [
    "name='python'\n",
    "'p' in name\n",
    "'y' in name\n",
    "'t' in name\n",
    "'h' in name\n",
    "'o' in name\n",
    "'n' in name\n",
    "\n",
    "i in name"
   ]
  },
  {
   "cell_type": "code",
   "execution_count": 5,
   "id": "83f202ea-b680-497c-b611-d9bdef688eb2",
   "metadata": {},
   "outputs": [
    {
     "name": "stdout",
     "output_type": "stream",
     "text": [
      "p\n",
      "y\n",
      "t\n",
      "h\n",
      "o\n",
      "n\n"
     ]
    }
   ],
   "source": [
    "for i in name:\n",
    "    print(i)"
   ]
  },
  {
   "cell_type": "code",
   "execution_count": 6,
   "id": "09a1919b-79c4-4841-96ac-e51f53829134",
   "metadata": {},
   "outputs": [
    {
     "name": "stdout",
     "output_type": "stream",
     "text": [
      "python"
     ]
    }
   ],
   "source": [
    "for i in name:\n",
    "    print(i,end='')"
   ]
  },
  {
   "cell_type": "code",
   "execution_count": 7,
   "id": "998d230a-0a6c-4caa-9d35-81aaafad98a1",
   "metadata": {},
   "outputs": [
    {
     "name": "stdout",
     "output_type": "stream",
     "text": [
      "n\n",
      "a\n",
      "m\n",
      "e\n"
     ]
    }
   ],
   "source": [
    "for i in 'name':\n",
    "    print(i)"
   ]
  },
  {
   "cell_type": "code",
   "execution_count": 8,
   "id": "7b853571-2415-4914-be20-d322d160c6d6",
   "metadata": {},
   "outputs": [
    {
     "data": {
      "text/plain": [
       "False"
      ]
     },
     "execution_count": 8,
     "metadata": {},
     "output_type": "execute_result"
    }
   ],
   "source": [
    "'A'=='a'"
   ]
  },
  {
   "cell_type": "code",
   "execution_count": 9,
   "id": "7a9f15ea-3a42-4b19-b1ca-9809409f9539",
   "metadata": {},
   "outputs": [
    {
     "data": {
      "text/plain": [
       "False"
      ]
     },
     "execution_count": 9,
     "metadata": {},
     "output_type": "execute_result"
    }
   ],
   "source": [
    "'A'>'a'"
   ]
  },
  {
   "cell_type": "code",
   "execution_count": 10,
   "id": "ca979c85-2a04-478e-8e65-e2e087449bd0",
   "metadata": {},
   "outputs": [
    {
     "data": {
      "text/plain": [
       "True"
      ]
     },
     "execution_count": 10,
     "metadata": {},
     "output_type": "execute_result"
    }
   ],
   "source": [
    "'a'>'A'"
   ]
  },
  {
   "cell_type": "markdown",
   "id": "3076d74e-77ab-4a4f-91d9-5b12afe9cd7e",
   "metadata": {},
   "source": [
    "**ASCII : American Standard Code for Information Interchange**"
   ]
  },
  {
   "cell_type": "code",
   "execution_count": null,
   "id": "0cda6b8d-a1e9-4e70-9577-a844d1a1dd20",
   "metadata": {},
   "outputs": [],
   "source": [
    "'A': 65      'B': 66\n",
    "'a': 97"
   ]
  },
  {
   "cell_type": "markdown",
   "id": "add829e3-0b7c-4fa3-9fe1-7b4ca8c59c14",
   "metadata": {},
   "source": [
    "**ord-chr**\n",
    "\n",
    "- ord is the keyword which provide ASCII number of characters\n",
    "\n",
    "- chr is the keyword which provide character for given number"
   ]
  },
  {
   "cell_type": "code",
   "execution_count": 12,
   "id": "a2490363-e58b-4077-9d3a-310e701fac3c",
   "metadata": {},
   "outputs": [
    {
     "data": {
      "text/plain": [
       "(65, 97)"
      ]
     },
     "execution_count": 12,
     "metadata": {},
     "output_type": "execute_result"
    }
   ],
   "source": [
    "ord('A'), ord('a')"
   ]
  },
  {
   "cell_type": "code",
   "execution_count": 16,
   "id": "99735c2c-e9cb-46e6-bb58-a535e9cd91b2",
   "metadata": {},
   "outputs": [
    {
     "data": {
      "text/plain": [
       "('a', 'A')"
      ]
     },
     "execution_count": 16,
     "metadata": {},
     "output_type": "execute_result"
    }
   ],
   "source": [
    "chr(97), chr(65)"
   ]
  },
  {
   "cell_type": "code",
   "execution_count": null,
   "id": "b4b12e65-d919-4a92-9fde-50328db4c8b2",
   "metadata": {},
   "outputs": [],
   "source": [
    "# I want to print all ascii number of Ato Z\n",
    "# Using for loop\n",
    "ord('A')\n",
    "ord('B')\n",
    "ord('C')\n",
    "\n",
    "ord(i)"
   ]
  },
  {
   "cell_type": "markdown",
   "id": "1092b193-33c2-4c6a-bc9c-db43f2f93e76",
   "metadata": {},
   "source": [
    "**PACKAGE NAME: string**"
   ]
  },
  {
   "cell_type": "code",
   "execution_count": null,
   "id": "ea67c278-d2c3-489a-8b4b-1e8f6083ba46",
   "metadata": {},
   "outputs": [],
   "source": [
    "# import <package name>\n",
    "# dir(<package name>)\n",
    "# any method\n",
    "# <package name>.<methodname>"
   ]
  },
  {
   "cell_type": "code",
   "execution_count": 18,
   "id": "2302692b-f6ad-4d61-a8b8-988a1beda8b7",
   "metadata": {},
   "outputs": [
    {
     "data": {
      "text/plain": [
       "['Formatter',\n",
       " 'Template',\n",
       " '_ChainMap',\n",
       " '__all__',\n",
       " '__builtins__',\n",
       " '__cached__',\n",
       " '__doc__',\n",
       " '__file__',\n",
       " '__loader__',\n",
       " '__name__',\n",
       " '__package__',\n",
       " '__spec__',\n",
       " '_re',\n",
       " '_sentinel_dict',\n",
       " '_string',\n",
       " 'ascii_letters',\n",
       " 'ascii_lowercase',\n",
       " 'ascii_uppercase',\n",
       " 'capwords',\n",
       " 'digits',\n",
       " 'hexdigits',\n",
       " 'octdigits',\n",
       " 'printable',\n",
       " 'punctuation',\n",
       " 'whitespace']"
      ]
     },
     "execution_count": 18,
     "metadata": {},
     "output_type": "execute_result"
    }
   ],
   "source": [
    "import string\n",
    "dir(string)"
   ]
  },
  {
   "cell_type": "code",
   "execution_count": 19,
   "id": "0338481d-a035-4599-a24f-f4585f492318",
   "metadata": {},
   "outputs": [
    {
     "data": {
      "text/plain": [
       "'abcdefghijklmnopqrstuvwxyzABCDEFGHIJKLMNOPQRSTUVWXYZ'"
      ]
     },
     "execution_count": 19,
     "metadata": {},
     "output_type": "execute_result"
    }
   ],
   "source": [
    "string.ascii_letters"
   ]
  },
  {
   "cell_type": "code",
   "execution_count": 26,
   "id": "b75d5076-a234-4781-8ff6-f9769fe8078e",
   "metadata": {},
   "outputs": [
    {
     "name": "stdout",
     "output_type": "stream",
     "text": [
      "The ASCII value of a is 97\n",
      "The ASCII value of b is 98\n",
      "The ASCII value of c is 99\n",
      "The ASCII value of d is 100\n",
      "The ASCII value of e is 101\n",
      "The ASCII value of f is 102\n",
      "The ASCII value of g is 103\n",
      "The ASCII value of h is 104\n",
      "The ASCII value of i is 105\n",
      "The ASCII value of j is 106\n",
      "The ASCII value of k is 107\n",
      "The ASCII value of l is 108\n",
      "The ASCII value of m is 109\n",
      "The ASCII value of n is 110\n",
      "The ASCII value of o is 111\n",
      "The ASCII value of p is 112\n",
      "The ASCII value of q is 113\n",
      "The ASCII value of r is 114\n",
      "The ASCII value of s is 115\n",
      "The ASCII value of t is 116\n",
      "The ASCII value of u is 117\n",
      "The ASCII value of v is 118\n",
      "The ASCII value of w is 119\n",
      "The ASCII value of x is 120\n",
      "The ASCII value of y is 121\n",
      "The ASCII value of z is 122\n",
      "The ASCII value of A is 65\n",
      "The ASCII value of B is 66\n",
      "The ASCII value of C is 67\n",
      "The ASCII value of D is 68\n",
      "The ASCII value of E is 69\n",
      "The ASCII value of F is 70\n",
      "The ASCII value of G is 71\n",
      "The ASCII value of H is 72\n",
      "The ASCII value of I is 73\n",
      "The ASCII value of J is 74\n",
      "The ASCII value of K is 75\n",
      "The ASCII value of L is 76\n",
      "The ASCII value of M is 77\n",
      "The ASCII value of N is 78\n",
      "The ASCII value of O is 79\n",
      "The ASCII value of P is 80\n",
      "The ASCII value of Q is 81\n",
      "The ASCII value of R is 82\n",
      "The ASCII value of S is 83\n",
      "The ASCII value of T is 84\n",
      "The ASCII value of U is 85\n",
      "The ASCII value of V is 86\n",
      "The ASCII value of W is 87\n",
      "The ASCII value of X is 88\n",
      "The ASCII value of Y is 89\n",
      "The ASCII value of Z is 90\n"
     ]
    }
   ],
   "source": [
    "for i in string.ascii_letters:\n",
    "    print(f'The ASCII value of {i} is {ord(i)}')\n",
    "\n",
    "# all: uppercase and lowercase"
   ]
  },
  {
   "cell_type": "code",
   "execution_count": 24,
   "id": "6f2bbc0b-f234-47be-b722-50d062ffa853",
   "metadata": {},
   "outputs": [
    {
     "name": "stdout",
     "output_type": "stream",
     "text": [
      "a 97\n",
      "b 98\n",
      "c 99\n",
      "d 100\n",
      "e 101\n",
      "f 102\n",
      "g 103\n",
      "h 104\n",
      "i 105\n",
      "j 106\n",
      "k 107\n",
      "l 108\n",
      "m 109\n",
      "n 110\n",
      "o 111\n",
      "p 112\n",
      "q 113\n",
      "r 114\n",
      "s 115\n",
      "t 116\n",
      "u 117\n",
      "v 118\n",
      "w 119\n",
      "x 120\n",
      "y 121\n",
      "z 122\n"
     ]
    }
   ],
   "source": [
    "for i in string.ascii_lowercase:\n",
    "    print(i,ord(i))\n",
    "\n",
    "# lower case"
   ]
  },
  {
   "cell_type": "code",
   "execution_count": 25,
   "id": "f5548873-4342-4098-9132-2fb1cf89dba9",
   "metadata": {},
   "outputs": [
    {
     "name": "stdout",
     "output_type": "stream",
     "text": [
      "A 65\n",
      "B 66\n",
      "C 67\n",
      "D 68\n",
      "E 69\n",
      "F 70\n",
      "G 71\n",
      "H 72\n",
      "I 73\n",
      "J 74\n",
      "K 75\n",
      "L 76\n",
      "M 77\n",
      "N 78\n",
      "O 79\n",
      "P 80\n",
      "Q 81\n",
      "R 82\n",
      "S 83\n",
      "T 84\n",
      "U 85\n",
      "V 86\n",
      "W 87\n",
      "X 88\n",
      "Y 89\n",
      "Z 90\n"
     ]
    }
   ],
   "source": [
    "for i in string.ascii_uppercase:\n",
    "    print(i,ord(i))\n",
    "\n",
    "# upper case"
   ]
  },
  {
   "cell_type": "code",
   "execution_count": 30,
   "id": "033c8686-2131-417d-a06c-18ffcfb3bcba",
   "metadata": {},
   "outputs": [
    {
     "name": "stdout",
     "output_type": "stream",
     "text": [
      "50 2 51 3 52 4 53 5 54 6 55 7 56 8 57 9 58 : 59 ; 60 < 61 = 62 > 63 ? 64 @ 65 A 66 B 67 C 68 D 69 E 70 F 71 G 72 H 73 I 74 J 75 K 76 L 77 M 78 N 79 O 80 P 81 Q 82 R 83 S 84 T 85 U 86 V 87 W 88 X 89 Y 90 Z 91 [ 92 \\ 93 ] 94 ^ 95 _ 96 ` 97 a 98 b 99 c 100 d 101 e 102 f 103 g 104 h 105 i 106 j 107 k 108 l 109 m 110 n 111 o 112 p 113 q 114 r 115 s 116 t 117 u 118 v 119 w 120 x 121 y 122 z 123 { 124 | 125 } 126 ~ 127  128  129  130  131  132  133 ",
      " 134  135  136  137  138  139  140  141  142  143  144  145  146  147  148  149  "
     ]
    }
   ],
   "source": [
    "# Iwant to know how many ASCII numbers are available\n",
    "# 65-90   A-Z\n",
    "# 97-122  a-z\n",
    "\n",
    "for i in range(50,150):\n",
    "    print(i,chr(i),end=' ')"
   ]
  },
  {
   "cell_type": "code",
   "execution_count": 32,
   "id": "c0808d53-e00f-437b-a3d8-f22b964baa2f",
   "metadata": {},
   "outputs": [
    {
     "name": "stdout",
     "output_type": "stream",
     "text": [
      "2821 ଅ 2822 ଆ 2823 ଇ 2824 ଈ 2825 ଉ 2826 ଊ 2827 ଋ 2828 ଌ 2829 ଍ 2830 ଎ 2831 ଏ 2832 ଐ 2833 ଑ 2834 ଒ 2835 ଓ 2836 ଔ 2837 କ 2838 ଖ 2839 ଗ 2840 ଘ 2841 ଙ 2842 ଚ 2843 ଛ 2844 ଜ 2845 ଝ 2846 ଞ 2847 ଟ 2848 ଠ 2849 ଡ 2850 ଢ 2851 ଣ 2852 ତ 2853 ଥ 2854 ଦ 2855 ଧ 2856 ନ 2857 ଩ 2858 ପ 2859 ଫ 2860 ବ 2861 ଭ 2862 ମ 2863 ଯ 2864 ର 2865 ଱ 2866 ଲ 2867 ଳ 2868 ଴ 2869 ଵ 2870 ଶ 2871 ଷ 2872 ସ "
     ]
    }
   ],
   "source": [
    "for i in range(2821,2873):\n",
    "    print(i,chr(i),end=' ')"
   ]
  }
 ],
 "metadata": {
  "kernelspec": {
   "display_name": "Python 3 (ipykernel)",
   "language": "python",
   "name": "python3"
  },
  "language_info": {
   "codemirror_mode": {
    "name": "ipython",
    "version": 3
   },
   "file_extension": ".py",
   "mimetype": "text/x-python",
   "name": "python",
   "nbconvert_exporter": "python",
   "pygments_lexer": "ipython3",
   "version": "3.11.7"
  }
 },
 "nbformat": 4,
 "nbformat_minor": 5
}
