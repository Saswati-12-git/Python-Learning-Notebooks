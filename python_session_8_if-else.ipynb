{
 "cells": [
  {
   "cell_type": "markdown",
   "id": "8bf58f5d-015b-406c-8618-5f2f078c8d18",
   "metadata": {},
   "source": [
    "- we have 3 cases in conditional statements\n",
    "\n",
    "- Case-1 : if\n",
    "\n",
    "- Case-2 : if-else\n",
    "\n",
    "- Case-3 : if-elif-else\n",
    "\n",
    "- Conditional statement mean we are asking a question\n",
    "\n",
    "- When we ask the question computer will give True and False\n",
    "\n",
    "- If True then we want execution\n",
    "\n",
    "- If False also we execute statements"
   ]
  },
  {
   "cell_type": "markdown",
   "id": "2a6222df-b3eb-41b5-ab2c-4fa599ca0a28",
   "metadata": {},
   "source": [
    "**Case-1 : if**"
   ]
  },
  {
   "cell_type": "code",
   "execution_count": null,
   "id": "7b90b093-3b6a-4a63-840a-9f25d4fcf857",
   "metadata": {},
   "outputs": [],
   "source": [
    "# Syntax\n",
    "\n",
    "# if statement starts with any keyword\n",
    "# end of the statement : will be there\n",
    "# when : is there then we need to provide indentation\n",
    "# indentation means next lines has start with some space\n",
    "\n",
    "# if <condition>:\n",
    "#    <st1>\n",
    "#    <st2>\n",
    "#    ------\n",
    "#    <stn>\n",
    "\n",
    "# if the condition is true only\n",
    "# it will go to the inside if block and run the cells"
   ]
  },
  {
   "cell_type": "code",
   "execution_count": 2,
   "id": "cfbb2dce-12ee-4053-b784-6f31d4585223",
   "metadata": {},
   "outputs": [
    {
     "name": "stdout",
     "output_type": "stream",
     "text": [
      "10\n"
     ]
    }
   ],
   "source": [
    "a=10\n",
    "print(a)"
   ]
  },
  {
   "cell_type": "code",
   "execution_count": 3,
   "id": "e5151d58-f671-4939-850c-24b539c4a60d",
   "metadata": {},
   "outputs": [
    {
     "data": {
      "text/plain": [
       "True"
      ]
     },
     "execution_count": 3,
     "metadata": {},
     "output_type": "execute_result"
    }
   ],
   "source": [
    "100>10\n"
   ]
  },
  {
   "cell_type": "code",
   "execution_count": 4,
   "id": "0066c99e-8cd6-4cc7-a35c-6efea8ed3ab0",
   "metadata": {},
   "outputs": [
    {
     "name": "stdout",
     "output_type": "stream",
     "text": [
      "Hello\n"
     ]
    }
   ],
   "source": [
    "if 100>10:\n",
    "    print(\"Hello\")"
   ]
  },
  {
   "cell_type": "code",
   "execution_count": 6,
   "id": "07e069a0-1a53-48a5-8a24-c1673509117d",
   "metadata": {},
   "outputs": [
    {
     "name": "stdout",
     "output_type": "stream",
     "text": [
      "Saswati\n"
     ]
    }
   ],
   "source": [
    "if 100>10:\n",
    "    print(\"Saswati\")   \n",
    "\n",
    "# put the curser then 'tab'\n",
    "# also put 4 space (indentation means 4 character)"
   ]
  },
  {
   "cell_type": "code",
   "execution_count": 9,
   "id": "7955e8a5-bd71-4c49-bead-5cfa9d76a714",
   "metadata": {},
   "outputs": [
    {
     "name": "stdout",
     "output_type": "stream",
     "text": [
      "Python\n"
     ]
    }
   ],
   "source": [
    "if 100>10:\n",
    "   print(\"Python\")"
   ]
  },
  {
   "cell_type": "markdown",
   "id": "f01ad544-d76d-48e2-aaa6-4a4147ebd553",
   "metadata": {},
   "source": [
    "**Error-1 : Indentation error**"
   ]
  },
  {
   "cell_type": "code",
   "execution_count": 10,
   "id": "d3c2d16d-3d3a-4f84-877a-a10945b95260",
   "metadata": {},
   "outputs": [
    {
     "ename": "IndentationError",
     "evalue": "expected an indented block after 'if' statement on line 1 (3663483495.py, line 2)",
     "output_type": "error",
     "traceback": [
      "\u001b[1;36m  Cell \u001b[1;32mIn[10], line 2\u001b[1;36m\u001b[0m\n\u001b[1;33m    print(\"hello\")\u001b[0m\n\u001b[1;37m    ^\u001b[0m\n\u001b[1;31mIndentationError\u001b[0m\u001b[1;31m:\u001b[0m expected an indented block after 'if' statement on line 1\n"
     ]
    }
   ],
   "source": [
    "if 100>10:\n",
    "print(\"hello\")"
   ]
  },
  {
   "cell_type": "markdown",
   "id": "8c4758e8-fd9c-48f1-bf41-179bdacd5d5e",
   "metadata": {},
   "source": [
    "**Error-2 Miss the : at the end**"
   ]
  },
  {
   "cell_type": "code",
   "execution_count": 11,
   "id": "e9e954e7-5246-43a7-91b5-d2fcae99b120",
   "metadata": {},
   "outputs": [
    {
     "ename": "SyntaxError",
     "evalue": "expected ':' (4173596931.py, line 1)",
     "output_type": "error",
     "traceback": [
      "\u001b[1;36m  Cell \u001b[1;32mIn[11], line 1\u001b[1;36m\u001b[0m\n\u001b[1;33m    if 100>10\u001b[0m\n\u001b[1;37m             ^\u001b[0m\n\u001b[1;31mSyntaxError\u001b[0m\u001b[1;31m:\u001b[0m expected ':'\n"
     ]
    }
   ],
   "source": [
    "if 100>10\n",
    "    print(\"hello\")"
   ]
  },
  {
   "cell_type": "markdown",
   "id": "3e5f57a5-0a8c-4648-8a8b-07cfcac1ed31",
   "metadata": {},
   "source": [
    "**Error-3 : No condition**"
   ]
  },
  {
   "cell_type": "code",
   "execution_count": 12,
   "id": "1476d730-a143-4abc-8a0f-05eb6eb22238",
   "metadata": {},
   "outputs": [
    {
     "ename": "SyntaxError",
     "evalue": "invalid syntax (1751380283.py, line 1)",
     "output_type": "error",
     "traceback": [
      "\u001b[1;36m  Cell \u001b[1;32mIn[12], line 1\u001b[1;36m\u001b[0m\n\u001b[1;33m    if:\u001b[0m\n\u001b[1;37m      ^\u001b[0m\n\u001b[1;31mSyntaxError\u001b[0m\u001b[1;31m:\u001b[0m invalid syntax\n"
     ]
    }
   ],
   "source": [
    "if:\n",
    "    print(\"hello\")"
   ]
  },
  {
   "cell_type": "code",
   "execution_count": 13,
   "id": "61d6594f-af30-4327-890b-d2a4653b6aec",
   "metadata": {},
   "outputs": [],
   "source": [
    "if 100<10:\n",
    "    print(\"python\")"
   ]
  },
  {
   "cell_type": "code",
   "execution_count": 14,
   "id": "41dbc430-6a89-4030-a64b-427e9ce5ec74",
   "metadata": {},
   "outputs": [
    {
     "data": {
      "text/plain": [
       "True"
      ]
     },
     "execution_count": 14,
     "metadata": {},
     "output_type": "execute_result"
    }
   ],
   "source": [
    "100>10"
   ]
  },
  {
   "cell_type": "code",
   "execution_count": 15,
   "id": "0fc33987-a578-4efd-8517-131f49d2dc77",
   "metadata": {},
   "outputs": [
    {
     "name": "stdout",
     "output_type": "stream",
     "text": [
      "python\n"
     ]
    }
   ],
   "source": [
    "if True:\n",
    "    print(\"python\")"
   ]
  },
  {
   "cell_type": "code",
   "execution_count": 16,
   "id": "39ffa348-3b50-41f0-a9a9-447eb26823b3",
   "metadata": {},
   "outputs": [],
   "source": [
    "if False:\n",
    "    print(\"python\")"
   ]
  },
  {
   "cell_type": "code",
   "execution_count": 17,
   "id": "41d76114-d937-4616-b7c5-877be084957b",
   "metadata": {},
   "outputs": [
    {
     "name": "stdout",
     "output_type": "stream",
     "text": [
      "1\n",
      "2\n",
      "python\n",
      "bye\n"
     ]
    }
   ],
   "source": [
    "print(1)\n",
    "print(2)\n",
    "if True:\n",
    "    print(\"python\")\n",
    "    print(\"bye\")"
   ]
  },
  {
   "cell_type": "code",
   "execution_count": 24,
   "id": "39907ded-129e-4217-9d23-3c89c601d262",
   "metadata": {},
   "outputs": [
    {
     "name": "stdout",
     "output_type": "stream",
     "text": [
      "1\n",
      "2\n",
      "python\n",
      "bye\n",
      "hello\n",
      "Saswati\n"
     ]
    }
   ],
   "source": [
    "print(1)\n",
    "print(2)                # first block\n",
    "##############################\n",
    "if 100>10:\n",
    "    print(\"python\")\n",
    "    print(\"bye\")       # second block  \n",
    "##############################\n",
    "print(\"hello\")\n",
    "print(\"Saswati\")       # third block"
   ]
  },
  {
   "cell_type": "code",
   "execution_count": 23,
   "id": "7877bfa7-60b9-4a5b-83bc-83976efa964a",
   "metadata": {},
   "outputs": [
    {
     "ename": "IndentationError",
     "evalue": "expected an indented block after 'if' statement on line 4 (2740228104.py, line 5)",
     "output_type": "error",
     "traceback": [
      "\u001b[1;36m  Cell \u001b[1;32mIn[23], line 5\u001b[1;36m\u001b[0m\n\u001b[1;33m    print(\"python\")\u001b[0m\n\u001b[1;37m    ^\u001b[0m\n\u001b[1;31mIndentationError\u001b[0m\u001b[1;31m:\u001b[0m expected an indented block after 'if' statement on line 4\n"
     ]
    }
   ],
   "source": [
    "print(1)\n",
    "print(2)                # first block\n",
    "##############################\n",
    "if 100>10:\n",
    "print(\"python\")\n",
    "    print(\"bye\")       # second block  (Here indentation error will come)\n",
    "##############################\n",
    "print(\"hello\")\n",
    "print(\"Saswati\")       # third block"
   ]
  },
  {
   "cell_type": "code",
   "execution_count": 25,
   "id": "7064c8f1-4726-4a57-bb9e-3519354865d3",
   "metadata": {},
   "outputs": [
    {
     "name": "stdout",
     "output_type": "stream",
     "text": [
      "1\n",
      "2\n",
      "hello\n",
      "Saswati\n"
     ]
    }
   ],
   "source": [
    "print(1)\n",
    "print(2)                # first block\n",
    "##############################\n",
    "if 100<10:\n",
    "    print(\"python\")\n",
    "    print(\"bye\")       # second block  (since the condition is false it will not go to inside the if block)\n",
    "##############################\n",
    "print(\"hello\")\n",
    "print(\"Saswati\")       # third block"
   ]
  },
  {
   "cell_type": "code",
   "execution_count": 26,
   "id": "4e3d8aa9-e0c4-4d5c-ab6f-c718f0ffb063",
   "metadata": {},
   "outputs": [
    {
     "name": "stdout",
     "output_type": "stream",
     "text": [
      "1\n",
      "2\n",
      "python\n",
      "bye\n",
      "hello\n",
      "Saswati\n",
      "good\n",
      "day\n"
     ]
    }
   ],
   "source": [
    "print(1)\n",
    "print(2)                # first block\n",
    "##############################\n",
    "if 100>10:\n",
    "    print(\"python\")\n",
    "    print(\"bye\")       # second block  \n",
    "##############################\n",
    "print(\"hello\")\n",
    "print(\"Saswati\")       # third block\n",
    "################################\n",
    "if 100>10:\n",
    "    print(\"good\")\n",
    "    print(\"day\")      # fourth block"
   ]
  },
  {
   "cell_type": "markdown",
   "id": "579842fc-60b3-4343-a677-c08263d2e88a",
   "metadata": {},
   "source": [
    "**Case-2 : if-else**"
   ]
  },
  {
   "cell_type": "code",
   "execution_count": null,
   "id": "7963af6e-74e3-47e3-b65f-70381b8d6899",
   "metadata": {},
   "outputs": [],
   "source": [
    "# Syntax\n",
    "\n",
    "# if <condition>:\n",
    "#    <st1>\n",
    "#    <st2>\n",
    "# else:\n",
    "#    <st1>\n",
    "\n",
    "# if block required condition\n",
    "# if block condition fails\n",
    "# then automatically it goes to else block\n",
    "# so else block does not require condition"
   ]
  },
  {
   "cell_type": "code",
   "execution_count": 28,
   "id": "14a51ddf-b200-4efd-b447-b7bd11c9be88",
   "metadata": {},
   "outputs": [
    {
     "name": "stdout",
     "output_type": "stream",
     "text": [
      "good condition is correct\n"
     ]
    }
   ],
   "source": [
    "if 100>10:\n",
    "    print(\"good condition is correct\")\n",
    "else:\n",
    "    print(\"bad condition is correct\")"
   ]
  },
  {
   "cell_type": "code",
   "execution_count": 29,
   "id": "9bd24203-7227-4043-8bf0-e189618f5fcc",
   "metadata": {},
   "outputs": [
    {
     "name": "stdout",
     "output_type": "stream",
     "text": [
      "bad condition is correct\n"
     ]
    }
   ],
   "source": [
    "if 100<10:\n",
    "    print(\"good condition is correct\")\n",
    "else:\n",
    "    print(\"bad condition is correct\")"
   ]
  },
  {
   "cell_type": "code",
   "execution_count": 30,
   "id": "b4f8a8c7-a6e8-4c6f-a3be-d24b7880916c",
   "metadata": {},
   "outputs": [
    {
     "ename": "SyntaxError",
     "evalue": "invalid syntax (1741825305.py, line 6)",
     "output_type": "error",
     "traceback": [
      "\u001b[1;36m  Cell \u001b[1;32mIn[30], line 6\u001b[1;36m\u001b[0m\n\u001b[1;33m    else:\u001b[0m\n\u001b[1;37m    ^\u001b[0m\n\u001b[1;31mSyntaxError\u001b[0m\u001b[1;31m:\u001b[0m invalid syntax\n"
     ]
    }
   ],
   "source": [
    "print(1)\n",
    "if 100>10:\n",
    "    print(\"good condition is correct\")\n",
    "    print(2)\n",
    "print(3)\n",
    "else:\n",
    "    print(\"bad condition is correct\")\n",
    "    print(4)\n",
    "print(5)\n",
    "\n",
    "# syntax error : between if and else on one should come\n"
   ]
  },
  {
   "cell_type": "code",
   "execution_count": 31,
   "id": "485e6ad6-d92f-43c6-b222-7550dc1eb202",
   "metadata": {},
   "outputs": [
    {
     "name": "stdout",
     "output_type": "stream",
     "text": [
      "1\n",
      "good condition is correct\n",
      "2\n",
      "4\n"
     ]
    }
   ],
   "source": [
    "print(1)\n",
    "if 100>10:\n",
    "    print(\"good condition is correct\")\n",
    "    print(2)\n",
    "else:\n",
    "    print(\"bad condition is correct\")\n",
    "    print(3)\n",
    "print(4)"
   ]
  },
  {
   "cell_type": "code",
   "execution_count": 32,
   "id": "e2c782ea-42d8-4369-8ce9-f45de6c1b7d1",
   "metadata": {},
   "outputs": [
    {
     "name": "stdout",
     "output_type": "stream",
     "text": [
      "1\n",
      "good condition is correct\n"
     ]
    },
    {
     "ename": "ZeroDivisionError",
     "evalue": "division by zero",
     "output_type": "error",
     "traceback": [
      "\u001b[1;31m---------------------------------------------------------------------------\u001b[0m",
      "\u001b[1;31mZeroDivisionError\u001b[0m                         Traceback (most recent call last)",
      "Cell \u001b[1;32mIn[32], line 4\u001b[0m\n\u001b[0;32m      2\u001b[0m \u001b[38;5;28;01mif\u001b[39;00m \u001b[38;5;241m100\u001b[39m\u001b[38;5;241m>\u001b[39m\u001b[38;5;241m10\u001b[39m:\n\u001b[0;32m      3\u001b[0m     \u001b[38;5;28mprint\u001b[39m(\u001b[38;5;124m\"\u001b[39m\u001b[38;5;124mgood condition is correct\u001b[39m\u001b[38;5;124m\"\u001b[39m)\n\u001b[1;32m----> 4\u001b[0m     \u001b[38;5;28mprint\u001b[39m(\u001b[38;5;241m2\u001b[39m\u001b[38;5;241m/\u001b[39m\u001b[38;5;241m0\u001b[39m)\n\u001b[0;32m      5\u001b[0m \u001b[38;5;28;01melse\u001b[39;00m:\n\u001b[0;32m      6\u001b[0m     \u001b[38;5;28mprint\u001b[39m(\u001b[38;5;124m\"\u001b[39m\u001b[38;5;124mbad condition is correct\u001b[39m\u001b[38;5;124m\"\u001b[39m)\n",
      "\u001b[1;31mZeroDivisionError\u001b[0m: division by zero"
     ]
    }
   ],
   "source": [
    "print(1)\n",
    "if 100>10:\n",
    "    print(\"good condition is correct\")\n",
    "    print(2/0)\n",
    "else:\n",
    "    print(\"bad condition is correct\")\n",
    "    print(3)\n",
    "print(4)"
   ]
  },
  {
   "cell_type": "code",
   "execution_count": null,
   "id": "80a9eb7a-9677-4cf7-8186-577c2b8b6d3f",
   "metadata": {},
   "outputs": [],
   "source": [
    "# 0/2    (0)\n",
    "# 2/2    (1)\n",
    "# 0/0    (not define)\n",
    "# 2/0    (not define)\n",
    "# 0^0    (not defibe)"
   ]
  },
  {
   "cell_type": "code",
   "execution_count": 33,
   "id": "dadf1c1b-199f-41d9-b513-3ccb2f168a1f",
   "metadata": {},
   "outputs": [
    {
     "data": {
      "text/plain": [
       "1.25"
      ]
     },
     "execution_count": 33,
     "metadata": {},
     "output_type": "execute_result"
    }
   ],
   "source": [
    "5/4   # / : division :Normal division\n"
   ]
  },
  {
   "cell_type": "code",
   "execution_count": 34,
   "id": "fceb12fe-297c-4506-965b-4ad69535d1a1",
   "metadata": {},
   "outputs": [
    {
     "data": {
      "text/plain": [
       "1"
      ]
     },
     "execution_count": 34,
     "metadata": {},
     "output_type": "execute_result"
    }
   ],
   "source": [
    "5//4  # // : floor division : Quotient"
   ]
  },
  {
   "cell_type": "code",
   "execution_count": 35,
   "id": "345cfaff-4ccc-42e5-99b3-f3a0a87e87cd",
   "metadata": {},
   "outputs": [
    {
     "data": {
      "text/plain": [
       "1"
      ]
     },
     "execution_count": 35,
     "metadata": {},
     "output_type": "execute_result"
    }
   ],
   "source": [
    "5%4   # % : modulus : Reminder"
   ]
  },
  {
   "cell_type": "code",
   "execution_count": null,
   "id": "b2e5a5f2-4590-446c-a12f-f8b346858dfa",
   "metadata": {},
   "outputs": [],
   "source": [
    "# WAP ask the user enter a value from keyboard\n",
    "# find whether the number is even or odd\n",
    "\n",
    "# hint : num % 2 == 0\n",
    "\n",
    "# step-1 : Get the number from keyboard\n",
    "# step-2 : if <condition>:\n",
    "# step-3 :     print(f\"The number is even\")\n",
    "# step-4 : else:\n",
    "# step-5 :    print(f\"The number is odd\")"
   ]
  },
  {
   "cell_type": "code",
   "execution_count": 37,
   "id": "bef4e204-e4ac-4d2c-bcdb-92c153db9cec",
   "metadata": {},
   "outputs": [
    {
     "name": "stdin",
     "output_type": "stream",
     "text": [
      "enter the number 5\n"
     ]
    },
    {
     "name": "stdout",
     "output_type": "stream",
     "text": [
      "The number is odd\n"
     ]
    }
   ],
   "source": [
    "num=eval(input(\"enter the number\"))\n",
    "if num%2==0:\n",
    "    print(f\"The number is even\")\n",
    "else:\n",
    "    print(f\"The number is odd\")"
   ]
  },
  {
   "cell_type": "code",
   "execution_count": null,
   "id": "e15c0496-bb01-4a51-8391-57a53384a37b",
   "metadata": {},
   "outputs": [],
   "source": [
    "# wap implement above the code\n",
    "# by taking number randomly between 10,100"
   ]
  },
  {
   "cell_type": "code",
   "execution_count": 38,
   "id": "d8caa84c-aabf-430b-a02f-4fac1e3ee210",
   "metadata": {},
   "outputs": [
    {
     "name": "stdout",
     "output_type": "stream",
     "text": [
      "The 98 is even\n"
     ]
    }
   ],
   "source": [
    "import random\n",
    "num=random.randint(10,100)\n",
    "if num%2==0:\n",
    "    print(f\"The {num} is even\")\n",
    "else:\n",
    "    print(print(f\"The {num} is even\"))"
   ]
  },
  {
   "cell_type": "code",
   "execution_count": null,
   "id": "7baf3dba-4a12-4f39-bd4f-2d8285d3e332",
   "metadata": {},
   "outputs": [],
   "source": [
    "# Game program\n",
    "# there are two numbers\n",
    "# num1 comes from random\n",
    "# num2 is taking from keyboard\n",
    "# if both numbers are eqaul\n",
    "#     then print you won\n",
    "# else\n",
    "#     print you loss"
   ]
  },
  {
   "cell_type": "code",
   "execution_count": 43,
   "id": "a4f2efca-942b-44e3-97ea-85836b740ab2",
   "metadata": {},
   "outputs": [
    {
     "name": "stdin",
     "output_type": "stream",
     "text": [
      "Enter a number: 7\n"
     ]
    },
    {
     "name": "stdout",
     "output_type": "stream",
     "text": [
      "loss\n"
     ]
    }
   ],
   "source": [
    "import random\n",
    "num1=random.randint(1,10)\n",
    "num2=eval(input(\"Enter a number:\"))\n",
    "if num1==num2:\n",
    "    print(\"Won\")\n",
    "else:\n",
    "    print(\"loss\")"
   ]
  },
  {
   "cell_type": "code",
   "execution_count": null,
   "id": "c7b8b82d-530c-4e14-87d7-8c7e918b09f1",
   "metadata": {},
   "outputs": [],
   "source": [
    "# wap ask the user how much distance need to travel\n",
    "# ask the user enter charge per km\n",
    "# if the distance>25 km\n",
    "#    then print total charge\n",
    "# othewise\n",
    "#    print free ride"
   ]
  },
  {
   "cell_type": "code",
   "execution_count": 45,
   "id": "4396f8e7-cbd8-48bf-8f94-f7b2a1ce945d",
   "metadata": {},
   "outputs": [
    {
     "name": "stdin",
     "output_type": "stream",
     "text": [
      "enter the distance: 26\n",
      "enter the charge per km: 2\n"
     ]
    },
    {
     "name": "stdout",
     "output_type": "stream",
     "text": [
      "The total charge is: 52\n"
     ]
    }
   ],
   "source": [
    "distance=eval(input(\"enter the distance:\"))\n",
    "if distance>25:\n",
    "    charge=eval(input(\"enter the charge per km:\"))\n",
    "    print(f\"The total charge is: {distance*charge}\")\n",
    "else:\n",
    "    print(\"It is free ride\")"
   ]
  },
  {
   "cell_type": "markdown",
   "id": "579ca1c7-0912-46f7-904f-0f6700ce5b5c",
   "metadata": {},
   "source": [
    "**Case-3 : if-elif-else**"
   ]
  },
  {
   "cell_type": "code",
   "execution_count": null,
   "id": "4bf6b922-6125-4313-a509-d2501f0a5b92",
   "metadata": {},
   "outputs": [],
   "source": [
    "# I have two conditions\n",
    "# One condition refer to if block\n",
    "# automatically second condition refer to else block\n",
    "\n",
    "# what happens if we have 3 conditions are there\n",
    "# then we will use elif\n",
    "\n",
    "# always first condition under if block\n",
    "# last condition under else block\n",
    "# remaining all other condition under elif block\n",
    "\n",
    "# if <con1>:\n",
    "#    <st1>\n",
    "# elif <con2>:\n",
    "#    <st2>\n",
    "# else:\n",
    "#    <st3>\n",
    "\n",
    "c1     c2     c3     c4\n",
    "if    elif   elif    else\n",
    "\n",
    "c1     c2     c3     c4     c5\n",
    "if    elif   elif    elif   else"
   ]
  },
  {
   "cell_type": "code",
   "execution_count": null,
   "id": "356b991c-0272-4d73-9e65-c2e0555c8c00",
   "metadata": {},
   "outputs": [],
   "source": [
    "# wap ask the user enter a number\n",
    "# if number equal to 1 then print 1\n",
    "# if number equal to 2 then print 2\n",
    "# if number equal to 3 then print 3\n",
    "# if number equal to 4 then print 4\n",
    "# otherwise print bye"
   ]
  },
  {
   "cell_type": "code",
   "execution_count": 46,
   "id": "863b1895-b7a5-45d1-b084-164fe3abfe49",
   "metadata": {},
   "outputs": [
    {
     "name": "stdin",
     "output_type": "stream",
     "text": [
      "Enter the number: 5\n"
     ]
    },
    {
     "name": "stdout",
     "output_type": "stream",
     "text": [
      "Bye\n"
     ]
    }
   ],
   "source": [
    "num=eval(input(\"Enter the number:\"))\n",
    "if num==1:\n",
    "    print(\"The number is equal to 1\")\n",
    "elif num==2:\n",
    "    print(\"The number is equal to 2\")\n",
    "elif num==3:\n",
    "    print(\"The number is equal to 3\")\n",
    "elif num==4:\n",
    "    print(\"The number is equal to 4\")\n",
    "else:\n",
    "    print(\"Bye\")"
   ]
  },
  {
   "cell_type": "code",
   "execution_count": null,
   "id": "cf6f6110-a814-4134-b9a9-06a66cb5d6d1",
   "metadata": {},
   "outputs": [],
   "source": [
    "# Wap ask the user \n",
    "# enter mark percentage\n",
    "# If percentage greater than 90 then print A grade\n",
    "# If percentage between 70 and 90 then print B grade\n",
    "# If percentage between 50 and 70 then print C grade\n",
    "# If percentage between 35 and 50 then print D grade\n",
    "# Otherwise print fail"
   ]
  },
  {
   "cell_type": "code",
   "execution_count": 2,
   "id": "23655742-3011-4b08-bba7-25437f5eaf7a",
   "metadata": {},
   "outputs": [
    {
     "name": "stdin",
     "output_type": "stream",
     "text": [
      "Enter the mark percentage: 90\n"
     ]
    },
    {
     "name": "stdout",
     "output_type": "stream",
     "text": [
      "A grade\n"
     ]
    }
   ],
   "source": [
    "mark=eval(input(\"Enter the mark percentage:\"))\n",
    "if mark>=90:\n",
    "    print(\"A grade\")\n",
    "elif mark>=70:\n",
    "    print(\"B grade\")\n",
    "elif mark>=50:\n",
    "    print(\"C grade\")\n",
    "elif mark>=35:\n",
    "    print(\"D grade\")\n",
    "else:\n",
    "    print(\"Fails\")\n",
    "\n",
    "\n",
    "# first break is the output\n",
    "# for example 99>=90  : True\n",
    "# so it will print A grade and it will move not forward "
   ]
  },
  {
   "cell_type": "markdown",
   "id": "706729ba-1bf0-4cdb-9af8-e4464e879aba",
   "metadata": {},
   "source": [
    "- when if condition fails it will check next condition i.e. elif\n",
    "\n",
    "- suppose elif also fails then it will check next condition i.e. elif\n",
    "\n",
    "- this chain condition keeps on continue till the condition is not satisfy"
   ]
  },
  {
   "cell_type": "code",
   "execution_count": null,
   "id": "22e30584-04dd-4ef8-98ef-cb564a5988b8",
   "metadata": {},
   "outputs": [],
   "source": [
    "# Wap ask the user \n",
    "# enter age\n",
    "# If age greater than 90 then print lucky man\n",
    "# If age between 70 and 90 then print old man\n",
    "# If age between 50 and 70 then print sc\n",
    "# If age between 35 and 50 then print middle age\n",
    "# If age between 20 and 35 then print young man\n",
    "# If age between 13 and 20 then print teen\n",
    "# Otherwise print kid"
   ]
  },
  {
   "cell_type": "code",
   "execution_count": 3,
   "id": "4bf52476-76b8-4e6d-903e-8bd890c34898",
   "metadata": {},
   "outputs": [
    {
     "name": "stdin",
     "output_type": "stream",
     "text": [
      "enter the age: 67\n"
     ]
    },
    {
     "name": "stdout",
     "output_type": "stream",
     "text": [
      "sc\n"
     ]
    }
   ],
   "source": [
    "age=eval(input('enter the age:'))\n",
    "\n",
    "if age>=90:\n",
    "    print('Lucky man')\n",
    "elif age>=70:\n",
    "    print('Old man')\n",
    "elif age>=50:\n",
    "    print('sc')\n",
    "elif age>=35:\n",
    "    print('M A man')\n",
    "elif age>=20:\n",
    "    print('Young')\n",
    "elif age>=13:\n",
    "    print('teen')\n",
    "else:\n",
    "    print('Kid')"
   ]
  },
  {
   "cell_type": "code",
   "execution_count": null,
   "id": "6274e811-d7bc-49ac-bf88-c3bbfaeb52a3",
   "metadata": {},
   "outputs": [],
   "source": [
    "# add\n",
    "# sub\n",
    "# mul\n",
    "# div based on conditions\n",
    "\n",
    "# take two number\n",
    "# num1 from keyboard\n",
    "# num2 from keyboard\n",
    "# enter the operation 1 for addition\n",
    "# enter the operation 2 for subsrtaction\n",
    "# enter the operation 1 for multiplication\n",
    "# enter the operation 1 for division\n",
    "# operation=ask the user enter operation from keyboard\n",
    "# if operation equal to 1\n",
    "#    perform addition\n",
    "# if operation equal to 2\n",
    "#    perform subsrtaction\n",
    "# if operation equal to 3\n",
    "#    perform multiplication\n",
    "# if operation equal to 4\n",
    "#    perform division\n",
    "\n",
    "\n"
   ]
  },
  {
   "cell_type": "code",
   "execution_count": 5,
   "id": "2e8ad19d-331a-4884-88f6-e5c35c8e2bf6",
   "metadata": {},
   "outputs": [
    {
     "name": "stdin",
     "output_type": "stream",
     "text": [
      "enter the number: 4\n",
      "enter the number: 2\n"
     ]
    },
    {
     "name": "stdout",
     "output_type": "stream",
     "text": [
      "Enter opreation 1 for addtion\n",
      "Enter opreation 2 for subsraction\n",
      "Enter opreation 3 for multiplication\n",
      "Enter opreation 4 for division\n"
     ]
    },
    {
     "name": "stdin",
     "output_type": "stream",
     "text": [
      "enter the values from 1 to 4: 4\n"
     ]
    },
    {
     "name": "stdout",
     "output_type": "stream",
     "text": [
      "The division is : 2.0\n"
     ]
    }
   ],
   "source": [
    "n1=eval(input('enter the number:'))\n",
    "n2=eval(input('enter the number:'))\n",
    "\n",
    "print(f\"Enter opreation 1 for addtion\")\n",
    "print(f\"Enter opreation 2 for subsraction\")\n",
    "print(f\"Enter opreation 3 for multiplication\")\n",
    "print(f\"Enter opreation 4 for division\")\n",
    "\n",
    "operation=eval(input('enter the values from 1 to 4:'))\n",
    "\n",
    "if operation==1:\n",
    "    add=n1+n2\n",
    "    print(f\"The addition is : {add}\")\n",
    "\n",
    "elif operation==2:\n",
    "    sub=n1-n2\n",
    "    print(f\"The subsraction is : {sub}\")\n",
    "\n",
    "elif operation==3:\n",
    "    mul=n1*n2\n",
    "    print(f\"The multiplication is : {mul}\")\n",
    "\n",
    "elif operation==4:\n",
    "    div=n1/n2\n",
    "    print(f\"The division is : {div}\")\n",
    "\n",
    "else:\n",
    "    print(\"Enter the valid operation\")"
   ]
  },
  {
   "cell_type": "code",
   "execution_count": null,
   "id": "72920e21-755d-443d-954d-54e4194f45d5",
   "metadata": {},
   "outputs": [],
   "source": [
    "# wap\n",
    "# ask the user enter the gender\n",
    "# if gender eqal to male\n",
    "#    ask the user enter the age\n",
    "#    if age grater than 30 then print middle age\n",
    "#    othewise print boy\n",
    "# elif gender eqal to female\n",
    "#    ask the user enter the age\n",
    "#    if age grater than 30 then print middle age women\n",
    "#    othewise print girl \n",
    "# else print enter the valid gender"
   ]
  },
  {
   "cell_type": "code",
   "execution_count": 8,
   "id": "c0b70581-4ec8-4bcf-a5ac-7fd5864497ed",
   "metadata": {},
   "outputs": [
    {
     "name": "stdin",
     "output_type": "stream",
     "text": [
      "Enter the gender: female\n",
      "Enter the age: 18\n"
     ]
    },
    {
     "name": "stdout",
     "output_type": "stream",
     "text": [
      "girl\n"
     ]
    }
   ],
   "source": [
    "gender=input('Enter the gender:')\n",
    "\n",
    "if gender=='male':\n",
    "    age=eval(input('Enter the age:'))\n",
    "    if age>=30:\n",
    "        print('MAM')\n",
    "    else:\n",
    "        print('boy')\n",
    "\n",
    "elif gender=='female':\n",
    "    age=eval(input('Enter the age:'))\n",
    "    if age>=30:\n",
    "        print('MAW')\n",
    "    else:\n",
    "        print('girl')\n",
    "\n",
    "else:\n",
    "    print('enter the valid gender')\n",
    "\n"
   ]
  },
  {
   "cell_type": "code",
   "execution_count": null,
   "id": "c4f7c3cf-3249-4962-9b08-bb8c15eb740e",
   "metadata": {},
   "outputs": [],
   "source": [
    "# wap\n",
    "# ask the user enter the gender\n",
    "# if gender eqal to female\n",
    "#      ask the user id card is there or not\n",
    "#      if id card is there\n",
    "#           print(\"enjoy the free ride\")\n",
    "#      else\n",
    "#      ask the user how much distance need to travel\n",
    "#      ask the user enter charge pr km\n",
    "#      print total charge\n",
    "# elif gender eqal to male:\n",
    "#      ask the user how much distance need to travel\n",
    "#      ask the user enter charge pr km\n",
    "#      print total charge\n",
    "# ese\n",
    "#    print valid enter"
   ]
  },
  {
   "cell_type": "code",
   "execution_count": 10,
   "id": "c5d214bc-63ad-4b61-8f8f-5e0cd2ed09df",
   "metadata": {},
   "outputs": [
    {
     "name": "stdin",
     "output_type": "stream",
     "text": [
      "Enter the gender: female\n",
      "Enter the id card is there or not: no\n",
      "Enter the distance in km: 9\n",
      "Enter the charge per km: 5\n"
     ]
    },
    {
     "name": "stdout",
     "output_type": "stream",
     "text": [
      "Total charge: 45\n"
     ]
    }
   ],
   "source": [
    "gender=input('Enter the gender:')\n",
    "\n",
    "if gender=='female':\n",
    "    id_card=input('Enter the id card is there or not:')\n",
    "    if id_card=='yes':\n",
    "        print('Enjoy the free ride')\n",
    "    else:\n",
    "        distance=eval(input('Enter the distance in km:'))\n",
    "        charge=eval(input('Enter the charge per km:'))\n",
    "        print(f'Total charge: {distance*charge}')\n",
    "\n",
    "elif gender=='male':\n",
    "    distance=eval(input('Enter the distance in km:'))\n",
    "    charge=eval(input('Enter the charge per km:'))\n",
    "    print(f'Total charge: {distance*charge}')\n",
    "\n",
    "else:\n",
    "    print('Enter the valid gender:')\n",
    "    "
   ]
  },
  {
   "cell_type": "code",
   "execution_count": null,
   "id": "52a73442-0f3b-4d34-80c1-b5c61b76df62",
   "metadata": {},
   "outputs": [],
   "source": [
    "# wap ask the user enter 3 number\n",
    "# find the biggest numbers"
   ]
  },
  {
   "cell_type": "code",
   "execution_count": 12,
   "id": "ce30ce5a-a9e0-4f43-8ed4-c21c6e54337d",
   "metadata": {},
   "outputs": [
    {
     "name": "stdin",
     "output_type": "stream",
     "text": [
      "Enter the number: 7\n",
      "Enter the number: 5\n",
      "Enter the number: 9\n"
     ]
    },
    {
     "name": "stdout",
     "output_type": "stream",
     "text": [
      "n3 is biggest\n"
     ]
    }
   ],
   "source": [
    "n1=eval(input('Enter the number:'))\n",
    "n2=eval(input('Enter the number:'))\n",
    "n3=eval(input('Enter the number:'))\n",
    "\n",
    "if n1>n2 and n1>n3:\n",
    "    print('n1 is biggest')\n",
    "\n",
    "elif n2>n3:\n",
    "    print('n2 is biggest')\n",
    "\n",
    "else:\n",
    "    print('n3 is biggest')\n",
    "    "
   ]
  },
  {
   "cell_type": "code",
   "execution_count": null,
   "id": "549bd203-c43f-4c74-a79c-64b306a03d85",
   "metadata": {},
   "outputs": [],
   "source": []
  }
 ],
 "metadata": {
  "kernelspec": {
   "display_name": "Python 3 (ipykernel)",
   "language": "python",
   "name": "python3"
  },
  "language_info": {
   "codemirror_mode": {
    "name": "ipython",
    "version": 3
   },
   "file_extension": ".py",
   "mimetype": "text/x-python",
   "name": "python",
   "nbconvert_exporter": "python",
   "pygments_lexer": "ipython3",
   "version": "3.11.7"
  }
 },
 "nbformat": 4,
 "nbformat_minor": 5
}
