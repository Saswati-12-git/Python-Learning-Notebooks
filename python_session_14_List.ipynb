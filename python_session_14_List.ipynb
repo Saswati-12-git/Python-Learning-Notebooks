{
 "cells": [
  {
   "cell_type": "markdown",
   "id": "53eb7034-373f-4dc7-932e-d88c035d6ccc",
   "metadata": {},
   "source": [
    "# List is array of elements\n",
    "\n",
    "- How to display\n",
    "\n",
    "- type\n",
    "\n",
    "- len\n",
    "\n",
    "- max\n",
    "\n",
    "- min\n",
    "\n",
    "- sum\n",
    "\n",
    "- reversed\n",
    "\n",
    "- sorted\n",
    "\n",
    "- in\n",
    "\n",
    "- not in\n",
    "\n",
    "- index\n",
    "\n",
    "- for loop\n",
    "\n",
    "- mutable\n",
    "\n",
    "- slice\n",
    "\n",
    "- concatenation\n",
    "\n",
    "- methods"
   ]
  },
  {
   "cell_type": "code",
   "execution_count": null,
   "id": "0a92fa15-f5cd-46dd-9052-77b4d62708b7",
   "metadata": {},
   "outputs": [],
   "source": [
    "list1=[1,2,3,4]      # array of element\n",
    "list1"
   ]
  },
  {
   "cell_type": "code",
   "execution_count": null,
   "id": "1045d0ef-83a0-41bb-b6f5-61d4dea974ea",
   "metadata": {},
   "outputs": [],
   "source": [
    "type(list1)"
   ]
  },
  {
   "cell_type": "code",
   "execution_count": null,
   "id": "ccb92c17-e09e-4424-b730-3f4618bfae53",
   "metadata": {},
   "outputs": [],
   "source": [
    "list2=['Apple','Ball','Cat']\n",
    "list2"
   ]
  },
  {
   "cell_type": "code",
   "execution_count": null,
   "id": "ed1ef46d-8c76-44c7-af80-765ba4d0df3f",
   "metadata": {},
   "outputs": [],
   "source": [
    "list3=[1,2,3,'Apple','Ball','Cat']        # list is heterogeneous \n",
    "list3"
   ]
  },
  {
   "cell_type": "code",
   "execution_count": null,
   "id": "bd86c1e1-8668-472e-b5d1-26033ec22ead",
   "metadata": {},
   "outputs": [],
   "source": [
    "list4=[1,'Apple',10.5,True]\n",
    "list4"
   ]
  },
  {
   "cell_type": "code",
   "execution_count": null,
   "id": "beeaffcf-7bb4-4b25-9361-ee923c946344",
   "metadata": {},
   "outputs": [],
   "source": [
    "list5=[100,100,100]\n",
    "list5                                   # list allows duplicates"
   ]
  },
  {
   "cell_type": "code",
   "execution_count": null,
   "id": "f57eaca0-1291-4467-adc5-f8843e6c7243",
   "metadata": {},
   "outputs": [],
   "source": [
    "list6=['Apple','Ball',[1,2,3]]\n",
    "list6                                   # list in list allowed"
   ]
  },
  {
   "cell_type": "markdown",
   "id": "0d3689e6-08c2-4095-b58f-018c9898d5c6",
   "metadata": {},
   "source": [
    "- List items can be heterogeous\n",
    "\n",
    "    - which means list items can be all data types\n",
    "\n",
    "- List items can be duplicate\n",
    "\n",
    "    - which means list can have same value multiple times\n",
    "\n",
    "- list can have another list inside : List in list"
   ]
  },
  {
   "cell_type": "code",
   "execution_count": null,
   "id": "57a0c89d-afbb-40b9-be72-49018a509afe",
   "metadata": {},
   "outputs": [],
   "source": [
    "list1=[1,2,3,4]\n",
    "list2=['Apple','Ball','Cat']\n",
    "list3=[1,2,3,'Apple','Ball','Cat'] \n",
    "list4=[1,'Apple',10.5,True]\n",
    "list5=[100,100,100]\n",
    "list6=['Apple','Ball',[1,2,3]]"
   ]
  },
  {
   "cell_type": "code",
   "execution_count": null,
   "id": "e8407f83-a381-4a59-bb83-df56b7ad42da",
   "metadata": {},
   "outputs": [],
   "source": [
    "len(list1)"
   ]
  },
  {
   "cell_type": "code",
   "execution_count": null,
   "id": "c90555f0-0dc6-4e23-8896-581dfea61ad9",
   "metadata": {},
   "outputs": [],
   "source": [
    "min(list1),max(list1)"
   ]
  },
  {
   "cell_type": "code",
   "execution_count": null,
   "id": "a24d9175-61a2-4ec0-845f-08401478fb2a",
   "metadata": {},
   "outputs": [],
   "source": [
    "min(list2),max(list2)    # ascii value"
   ]
  },
  {
   "cell_type": "code",
   "execution_count": null,
   "id": "22354520-ec0b-427f-aef2-4626e9f29ff2",
   "metadata": {},
   "outputs": [],
   "source": [
    "list3"
   ]
  },
  {
   "cell_type": "code",
   "execution_count": null,
   "id": "052b7075-72ca-4018-8ec7-c596aa6f4e23",
   "metadata": {},
   "outputs": [],
   "source": [
    "len(list3)"
   ]
  },
  {
   "cell_type": "code",
   "execution_count": null,
   "id": "71b2abf3-aa70-4dc8-941f-8497bc764ea1",
   "metadata": {},
   "outputs": [],
   "source": [
    "min(list3)         # as we compare str and int"
   ]
  },
  {
   "cell_type": "code",
   "execution_count": null,
   "id": "80ec51a5-329c-4719-a7d8-6e75e8cd3e08",
   "metadata": {},
   "outputs": [],
   "source": [
    "sorted(list1)"
   ]
  },
  {
   "cell_type": "code",
   "execution_count": null,
   "id": "7687b0fc-637e-42d8-a2b2-49ff0b0ec713",
   "metadata": {},
   "outputs": [],
   "source": [
    "sorted(list1,reverse=True)"
   ]
  },
  {
   "cell_type": "code",
   "execution_count": null,
   "id": "5b0bcb9e-1e31-4676-b85f-fa87b07b22bd",
   "metadata": {},
   "outputs": [],
   "source": [
    "val=reversed(list1)\n",
    "for i in val:\n",
    "    print(i)"
   ]
  },
  {
   "cell_type": "code",
   "execution_count": null,
   "id": "68bb0a79-ec95-49f7-9e3d-a2731fe5cef5",
   "metadata": {},
   "outputs": [],
   "source": [
    "list3"
   ]
  },
  {
   "cell_type": "code",
   "execution_count": null,
   "id": "ae02c0f8-2e41-4373-ba01-9f9ad8c04371",
   "metadata": {},
   "outputs": [],
   "source": [
    "val=reversed(list3)\n",
    "for i in val:\n",
    "    print(i,end=' ')"
   ]
  },
  {
   "cell_type": "code",
   "execution_count": null,
   "id": "13854321-85ff-448f-99f5-2355a9a2f22d",
   "metadata": {},
   "outputs": [],
   "source": [
    "list1"
   ]
  },
  {
   "cell_type": "code",
   "execution_count": null,
   "id": "4138ce06-6b90-44de-bd17-e65ee50848f4",
   "metadata": {},
   "outputs": [],
   "source": [
    "1 in list1\n",
    "2 in list1\n",
    "3 in list1"
   ]
  },
  {
   "cell_type": "code",
   "execution_count": null,
   "id": "976572c6-b58d-444f-92d1-74c04e9a2275",
   "metadata": {},
   "outputs": [],
   "source": [
    "for i in list1:\n",
    "    print(i)"
   ]
  },
  {
   "cell_type": "code",
   "execution_count": null,
   "id": "a932dc54-53da-4bfe-92d5-9e3f0f9ebfa1",
   "metadata": {},
   "outputs": [],
   "source": [
    "l1=['Apple','apple','APPLE','Ball','Cat','CAT']\n",
    "l1\n",
    "min(l1),max(l1)"
   ]
  },
  {
   "cell_type": "code",
   "execution_count": null,
   "id": "b54975d9-bc6c-4a48-9d57-8ab6e65d041f",
   "metadata": {},
   "outputs": [],
   "source": [
    "l2=['Apple','apple','Ball','ball']\n",
    "min(l2),max(l2)"
   ]
  },
  {
   "cell_type": "markdown",
   "id": "6d24d296-72e7-4c50-8774-7eb3e057d6ff",
   "metadata": {},
   "source": [
    "**index**"
   ]
  },
  {
   "cell_type": "code",
   "execution_count": null,
   "id": "ae154ef3-1e10-4a13-b28c-72f869517e8f",
   "metadata": {},
   "outputs": [],
   "source": [
    "-6    -5    -4    -3    -2    -1 \n",
    " 1     2     3     4     5     6\n",
    " 0     1     2     3     4     5"
   ]
  },
  {
   "cell_type": "code",
   "execution_count": null,
   "id": "accdbfee-55b3-453b-9b9e-76308b643f67",
   "metadata": {},
   "outputs": [],
   "source": [
    "list1=[10,20,30,40,50,60]\n",
    "list1[0],list1[1],list1[3]"
   ]
  },
  {
   "cell_type": "code",
   "execution_count": null,
   "id": "9f58b623-e296-4154-b253-1d487fce7773",
   "metadata": {},
   "outputs": [],
   "source": [
    "# positive index\n",
    "\n",
    "for i in range(len(list1)):\n",
    "    print(f'The positive index {list1[i]} is {i}')"
   ]
  },
  {
   "cell_type": "code",
   "execution_count": null,
   "id": "c37fe9d7-a317-40e1-859d-73414ce94162",
   "metadata": {},
   "outputs": [],
   "source": [
    "# negative index\n",
    "\n",
    "for i in range(-len(list1),0):\n",
    "    print(f'The negative index {list1[i]} is {i}')"
   ]
  },
  {
   "cell_type": "code",
   "execution_count": null,
   "id": "f8dbe476-c966-4f06-97ea-c07d2ee3de9c",
   "metadata": {},
   "outputs": [],
   "source": [
    "# positive and negative index\n",
    "\n",
    "for i in range(len(list1)):\n",
    "    print(f'The positive index {list1[i]} is {i} and the negative index {list1[i]} is {i-len(list1)}')"
   ]
  },
  {
   "cell_type": "code",
   "execution_count": null,
   "id": "919a4afb-dbc2-4e1d-a703-8d75bea088a5",
   "metadata": {},
   "outputs": [],
   "source": [
    "list1=[[1]]\n",
    "list1[0][0]"
   ]
  },
  {
   "cell_type": "code",
   "execution_count": null,
   "id": "e9557e41-2545-484b-93c4-22607ca564fb",
   "metadata": {},
   "outputs": [],
   "source": [
    "list1=[1,2,3,[10]]\n",
    "list1[3][0]"
   ]
  },
  {
   "cell_type": "code",
   "execution_count": null,
   "id": "1c69db62-be01-4af8-989e-b7141f589b95",
   "metadata": {},
   "outputs": [],
   "source": [
    "list1=[1,2,3,['A',['B']]]\n",
    "list1[-1][-1][0]"
   ]
  },
  {
   "cell_type": "code",
   "execution_count": null,
   "id": "49471d90-4dd1-47b6-8bb6-94ede089b16a",
   "metadata": {},
   "outputs": [],
   "source": [
    "len(list1)"
   ]
  },
  {
   "cell_type": "code",
   "execution_count": null,
   "id": "7919a1b6-53c8-459d-b7ea-86f5288df930",
   "metadata": {},
   "outputs": [],
   "source": [
    "list1[3][1][0]"
   ]
  },
  {
   "cell_type": "code",
   "execution_count": null,
   "id": "be288f45-d9c7-4625-aa01-8f655e58e141",
   "metadata": {},
   "outputs": [],
   "source": [
    "list1=[1,2,3,['Apple',['Fruits',['Cherry']]]]\n",
    "list1[-1][-1][-1][0]"
   ]
  },
  {
   "cell_type": "code",
   "execution_count": null,
   "id": "5e95a01c-b6a8-4bb8-b682-66cb80de9224",
   "metadata": {},
   "outputs": [],
   "source": [
    "list1=[1,2,3,['Apple',['Fruits',['Cherry']]]]\n",
    "list1[3][1][1][0]"
   ]
  },
  {
   "cell_type": "code",
   "execution_count": null,
   "id": "2ef94a88-4556-4513-90df-91619c3652be",
   "metadata": {},
   "outputs": [],
   "source": [
    "list1=[[[1,2,3,['Apple',['Fruites',['Mango',['Cherry']]]]]]]\n",
    "list1[0][0][3][1][1][1][0]"
   ]
  },
  {
   "cell_type": "code",
   "execution_count": null,
   "id": "3e15108c-a120-4dc9-956a-f45c96bedda1",
   "metadata": {},
   "outputs": [],
   "source": [
    "list1=[[[1,2,3,['Apple',['Fruites',['Mango',['Cherry']]]]]]]\n",
    "list1[0][0][-1][-1][-1][-1][0]"
   ]
  },
  {
   "cell_type": "code",
   "execution_count": null,
   "id": "39d2dbc2-c2c9-4a3c-90d2-20a6064f7df7",
   "metadata": {},
   "outputs": [],
   "source": [
    "list1=[[[1,2,3,['Apple',['Fruites',['Mango',['Cherry']]]]]]]\n",
    "list1[0][0][3][1][1][0]"
   ]
  },
  {
   "cell_type": "code",
   "execution_count": null,
   "id": "8f7eab61-c033-46f2-8df2-f1132d439669",
   "metadata": {},
   "outputs": [],
   "source": [
    "list1=[[[[[[[[['Orange']]]]]]]]]\n",
    "list1[0][0][0][0][0][0][0][0][0]"
   ]
  },
  {
   "cell_type": "code",
   "execution_count": null,
   "id": "9072b9a8-5710-4d52-b315-6188345b6c43",
   "metadata": {},
   "outputs": [],
   "source": [
    "list1=[[[[[[[['Fruites',[[['Banana']]]]]]]]]]]\n",
    "list1[0][0][0][0][0][0][0][1][0][0][0]"
   ]
  },
  {
   "cell_type": "code",
   "execution_count": null,
   "id": "f2b8b639-7dcb-4e53-acb6-242f7fc125bc",
   "metadata": {},
   "outputs": [],
   "source": [
    "3**3"
   ]
  },
  {
   "cell_type": "code",
   "execution_count": null,
   "id": "dab27ba7-b0d8-4fa0-99e6-452b0a3a5d29",
   "metadata": {},
   "outputs": [],
   "source": [
    "3*1**3 # first we have to find out (1**3=1), then (3*1=3)"
   ]
  },
  {
   "cell_type": "markdown",
   "id": "00cc632a-3b0b-41d1-ab04-ad880bc163f1",
   "metadata": {},
   "source": [
    "- Python mutable always based on index\n",
    "\n",
    "- List are mutable means we can change the values using index "
   ]
  },
  {
   "cell_type": "code",
   "execution_count": null,
   "id": "3641b20b-bc6d-449a-91bc-36e383d37635",
   "metadata": {},
   "outputs": [],
   "source": [
    "l=[1,2,3,4]\n",
    "l[0]=100\n",
    "l"
   ]
  },
  {
   "cell_type": "markdown",
   "id": "232fbe9f-09c8-4fa0-8726-57060a5c4592",
   "metadata": {},
   "source": [
    "- type\n",
    "\n",
    "- len\n",
    "\n",
    "- max\n",
    "\n",
    "- min\n",
    "\n",
    "- sum\n",
    "\n",
    "- reversed\n",
    "\n",
    "- sorted \n",
    "\n",
    "- in\n",
    "\n",
    "- not in\n",
    "\n",
    "- index\n",
    "\n",
    "- for loop\n",
    "\n",
    "- mutable\n",
    "\n",
    "- slice \n",
    "\n",
    "- concatenation\n",
    "\n",
    "- Methods"
   ]
  },
  {
   "cell_type": "markdown",
   "id": "b5aceaf2-7673-45b5-a6f5-2c497479723f",
   "metadata": {},
   "source": [
    "**Concatenation**"
   ]
  },
  {
   "cell_type": "code",
   "execution_count": 1,
   "id": "f35f4855-099b-4b08-9172-8b1e1875282e",
   "metadata": {},
   "outputs": [
    {
     "data": {
      "text/plain": [
       "[1, 2, 3, 4, 5, 6, 7, 8]"
      ]
     },
     "execution_count": 1,
     "metadata": {},
     "output_type": "execute_result"
    }
   ],
   "source": [
    "l1=[1,2,3,4]\n",
    "l2=[5,6,7,8]\n",
    "l1+l2"
   ]
  },
  {
   "cell_type": "code",
   "execution_count": null,
   "id": "2b8fe5da-533d-4953-85c7-ce506ec50328",
   "metadata": {},
   "outputs": [],
   "source": [
    "l1=[1,2.8,'apple',True]\n",
    "l2=[7.9,False,5,'Cat']\n",
    "l1+l2"
   ]
  },
  {
   "cell_type": "code",
   "execution_count": null,
   "id": "7d1e3d66-667b-4723-bf14-cf7eee03597f",
   "metadata": {},
   "outputs": [],
   "source": [
    "l1-l2   # fail\n",
    "l1*l2   # fail\n",
    "l1/l2   # fail"
   ]
  },
  {
   "cell_type": "code",
   "execution_count": null,
   "id": "abd5fdd8-451b-4650-97b9-22ee493da742",
   "metadata": {},
   "outputs": [],
   "source": [
    "l1=[1,2,3,4]\n",
    "l1*2"
   ]
  },
  {
   "cell_type": "code",
   "execution_count": null,
   "id": "c9343a90-436b-4511-b949-4690f0b5b49b",
   "metadata": {},
   "outputs": [],
   "source": [
    "# l1=[1,2,3]\n",
    "# l1=[10,20,30]\n",
    "# o=[11,22,33]\n",
    "\n",
    "# l1=[1,2,3]\n",
    "# l1=[10,20,30,40]\n",
    "# o=[11,22,33,40]\n",
    "\n",
    "# l1=[1,2,3,4]\n",
    "# l1=[10,20,30]\n",
    "# o=[11,22,33,4]"
   ]
  },
  {
   "cell_type": "markdown",
   "id": "11851808-a708-4888-baab-2da996fe2d5f",
   "metadata": {},
   "source": [
    "**methods**"
   ]
  },
  {
   "cell_type": "code",
   "execution_count": null,
   "id": "84c9ce97-f494-426f-99a7-f91cd639372a",
   "metadata": {},
   "outputs": [],
   "source": [
    "dir([])"
   ]
  },
  {
   "cell_type": "markdown",
   "id": "c4cd27a3-79ea-4c87-8b6c-a254578a535b",
   "metadata": {},
   "source": [
    "**append**\n",
    "\n",
    "- append means adding a number at the end of the list\n",
    "\n",
    "- append is a very basic method we will use many times in our code\n",
    "\n",
    "- append will use minly to store the result\n",
    "\n"
   ]
  },
  {
   "cell_type": "code",
   "execution_count": null,
   "id": "9b1cf84d-38a6-4770-8758-ab07d92cd420",
   "metadata": {},
   "outputs": [],
   "source": [
    "number=['one','two','three','four']\n",
    "number['four']\n",
    "\n",
    "# as we write 'four' instead of 3 because 'four' is string and 3 is int"
   ]
  },
  {
   "cell_type": "code",
   "execution_count": null,
   "id": "62d07f9c-bda4-4005-a0a3-48ed6e3ca3d1",
   "metadata": {},
   "outputs": [],
   "source": [
    "number[3]"
   ]
  },
  {
   "cell_type": "code",
   "execution_count": null,
   "id": "e4d870ac-85db-42fc-87c1-5d82eba2d55c",
   "metadata": {},
   "outputs": [],
   "source": [
    "l=[1,2,3,4]\n",
    "l.append(100)\n",
    "l\n",
    "\n",
    "# Append object to the end of the list"
   ]
  },
  {
   "cell_type": "code",
   "execution_count": null,
   "id": "5ba37f16-7eed-40f7-bee2-91686245257f",
   "metadata": {},
   "outputs": [],
   "source": [
    "l.append(100)\n",
    "l\n"
   ]
  },
  {
   "cell_type": "code",
   "execution_count": null,
   "id": "370f8d0b-4ae9-435f-a994-dd0095b18780",
   "metadata": {},
   "outputs": [],
   "source": [
    "l=[]\n",
    "l.append(10)\n",
    "l.append('apple')\n",
    "l"
   ]
  },
  {
   "cell_type": "code",
   "execution_count": null,
   "id": "6816dcb9-496f-4ba6-97c2-507eb503a4b2",
   "metadata": {},
   "outputs": [],
   "source": [
    "# Q.1) WAP ask the user print 1 to 5 numbers square\n",
    "#      save the result in a list\n",
    "\n",
    "l=[]\n",
    "for i in range(6):\n",
    "    l.append(i*i)\n"
   ]
  },
  {
   "cell_type": "code",
   "execution_count": null,
   "id": "e97ad05c-4e68-4e2c-b3fa-d0ab7b1501ab",
   "metadata": {},
   "outputs": [],
   "source": [
    "l"
   ]
  },
  {
   "cell_type": "code",
   "execution_count": null,
   "id": "531658f6-47a9-49f3-a96b-ec3e295f309e",
   "metadata": {},
   "outputs": [],
   "source": [
    "# Q.2) ['Hyd','blr','Chennai','pune']\n",
    "#      out=['Hyd','chennai']\n",
    "\n",
    "# is title\n",
    "# step-1: create an empty list\n",
    "# step-1: Iterate each word from list\n",
    "# step-2: apply istitle method if condition\n",
    "# step-3: if that condition is satisfy\n",
    "# step-4: then append the result in empty list\n",
    "\n",
    "'Hyd'.istitle()"
   ]
  },
  {
   "cell_type": "code",
   "execution_count": null,
   "id": "2c564fa5-c242-401e-aed9-8f59215499f3",
   "metadata": {},
   "outputs": [],
   "source": [
    "l1=['Hyd','blr','Chennai','pune']\n",
    "l2=[]\n",
    "for i in l1:\n",
    "    if i.istitle():\n",
    "        l2.append(i)\n",
    "l2    "
   ]
  },
  {
   "cell_type": "code",
   "execution_count": null,
   "id": "fdf141ff-b3ee-4a12-b416-f744559b9ecc",
   "metadata": {},
   "outputs": [],
   "source": [
    "# Q.3) ['HYD','blr','Chennai','PUNE']\n",
    "#      out=['HYD','PUNE']\n",
    "\n",
    "l1=['HYD','blr','Chennai','PUNE']\n",
    "l2=[]\n",
    "for i in l1:\n",
    "    if i.isupper():\n",
    "        l2.append(i)\n",
    "l2    "
   ]
  },
  {
   "cell_type": "code",
   "execution_count": null,
   "id": "09a73ec2-a7e4-433a-8d30-85674dd7063c",
   "metadata": {},
   "outputs": [],
   "source": [
    "# Q.4) ['HYD','bl#r','Che#nnai','PUNE']\n",
    "#      out=['bl#r','Che#nnai']\n",
    "\n",
    "l1=['HYD','bl#r','Che#nnai','PUNE']\n",
    "l2=[]\n",
    "for i in l1:\n",
    "    if '#' in i:\n",
    "        l2.append(i)\n",
    "l2    "
   ]
  },
  {
   "cell_type": "code",
   "execution_count": null,
   "id": "9ad3f308-1e84-4319-8b47-216f1e48df2e",
   "metadata": {},
   "outputs": [],
   "source": [
    "# Q.5) ['HYD','blr','Chennai','PUNE']\n",
    "#      out=['Chennai']\n",
    "\n",
    "l1=['HYD','blr','Chennai','PUNE']\n",
    "l2=[]\n",
    "for i in l1:\n",
    "    if len(i)>4:\n",
    "        l2.append(i)\n",
    "l2    "
   ]
  },
  {
   "cell_type": "code",
   "execution_count": 2,
   "id": "00db7735-8bee-4777-b0ab-1c482d2e7ff7",
   "metadata": {},
   "outputs": [
    {
     "name": "stdout",
     "output_type": "stream",
     "text": [
      "can=5\n",
      "canner=7\n",
      "can=7\n",
      "not=8\n",
      "a=10\n",
      "can=10\n",
      "but=11\n",
      "canner=11\n",
      "can=11\n",
      "you=12\n",
      "make=13\n",
      "a=13\n",
      "can=13\n"
     ]
    }
   ],
   "source": [
    "# Q.6) can canner can not a can but canner can you make a can\n",
    "# find out each word how many times\n",
    "# step-1: split it\n",
    "# step-2: iterate it\n",
    "# step-3: we have count method(count should not use)\n",
    "\n",
    "s='can canner can not a can but canner can you make a can'\n",
    "s1=s.split()\n",
    "l=[]\n",
    "count=0\n",
    "for i in s1:\n",
    "    for j in s1:\n",
    "        if i==j and i not in l:\n",
    "            count=count+1\n",
    "\n",
    "    l.append(i)\n",
    "    if(count>0):\n",
    "        print(f'{i}={count}')\n",
    "\n",
    "\n",
    "    "
   ]
  },
  {
   "cell_type": "code",
   "execution_count": null,
   "id": "553975d0-0ad6-4962-ad47-ad47d55f0826",
   "metadata": {},
   "outputs": [],
   "source": [
    "s='can canner can not a can but canner can you make a can'\n",
    "l=s.split()\n",
    "for i in l:       \n",
    "    count=0\n",
    "    for j in l:     \n",
    "        if i==j and i not in l:\n",
    "            count=count+1\n",
    "\n",
    "    l.append(i)\n",
    "    if(count>0):\n",
    "        print(f'{i}={count}')"
   ]
  },
  {
   "cell_type": "code",
   "execution_count": null,
   "id": "c2f26cc5-1e62-462b-be08-5dee4c53e068",
   "metadata": {},
   "outputs": [],
   "source": [
    "# Q.6) can canner can not a can but canner can you make a can\n",
    "# find out each word how many times\n",
    "# step-1: split it\n",
    "# step-2: iterate it\n",
    "# step-3: we have count method(count should not use)\n",
    "\n",
    "s='can canner can not a can but canner can you make a can'\n",
    "l=s.split()\n",
    "s1={}\n",
    "for i in l:\n",
    "    count=0\n",
    "    for j in l:\n",
    "        if i==j:\n",
    "            count=count+1\n",
    "\n",
    "        l.append(i)\n",
    "        if(count>0):\n",
    "            print(f'{i}={count}')\n"
   ]
  },
  {
   "cell_type": "code",
   "execution_count": 5,
   "id": "7fea2bd2-78a9-4b86-9cd9-bc8e838d861e",
   "metadata": {},
   "outputs": [
    {
     "name": "stdout",
     "output_type": "stream",
     "text": [
      "can=5\n",
      "canner=2\n",
      "not=1\n",
      "a=2\n",
      "but=1\n",
      "you=1\n",
      "make=1\n"
     ]
    }
   ],
   "source": [
    "s = 'can canner can not a can but canner can you make a can'\n",
    "s1 = s.split()\n",
    "l = {}\n",
    "\n",
    "for i in s1:\n",
    "    count = 0\n",
    "    \n",
    "    for j in s1:\n",
    "        if i == j:\n",
    "            count += 1\n",
    "    \n",
    "    l[i] = count\n",
    "\n",
    "\n",
    "for i, count in l.items():\n",
    "    print(f'{i}={count}')\n",
    "\n"
   ]
  },
  {
   "cell_type": "code",
   "execution_count": null,
   "id": "e693a34d-1b64-4bd0-842d-a97df67d8506",
   "metadata": {},
   "outputs": [],
   "source": [
    "l=[1,2,3]\n",
    "for i in l:\n",
    "    for j in l:\n",
    "        print(i,j)"
   ]
  },
  {
   "cell_type": "code",
   "execution_count": null,
   "id": "e4c851ce-0e47-4d44-907c-a72cc8dd494b",
   "metadata": {},
   "outputs": [],
   "source": [
    "# Q.7) wap ask the user get the even and odd numbers \n",
    "#      you want 5 numbers\n",
    "#      5 number randomly\n",
    "#      eventlist and odd list\n",
    "#      append the even numbers in even list\n",
    "#      append the even numbers in odd list\n",
    "\n",
    "import random\n",
    "even_list=[]\n",
    "odd_list=[]\n",
    "for i in range(5):\n",
    "    i=random.randint(1,20)\n",
    "    if i%2==0:\n",
    "        even_list.append(i)\n",
    "    else:\n",
    "        odd_list.append(i)\n",
    "\n",
    "print('even:',even_list)\n",
    "print('odd:',odd_list)"
   ]
  },
  {
   "cell_type": "code",
   "execution_count": null,
   "id": "1ab39ae6-32d1-4493-bab3-3b56a26b69cc",
   "metadata": {},
   "outputs": [],
   "source": []
  },
  {
   "cell_type": "code",
   "execution_count": null,
   "id": "754293ac-67a6-4fb4-bbe2-d738a67ae15a",
   "metadata": {},
   "outputs": [],
   "source": []
  }
 ],
 "metadata": {
  "kernelspec": {
   "display_name": "Python 3 (ipykernel)",
   "language": "python",
   "name": "python3"
  },
  "language_info": {
   "codemirror_mode": {
    "name": "ipython",
    "version": 3
   },
   "file_extension": ".py",
   "mimetype": "text/x-python",
   "name": "python",
   "nbconvert_exporter": "python",
   "pygments_lexer": "ipython3",
   "version": "3.11.7"
  }
 },
 "nbformat": 4,
 "nbformat_minor": 5
}
