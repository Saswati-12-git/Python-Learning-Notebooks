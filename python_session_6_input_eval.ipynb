{
 "cells": [
  {
   "cell_type": "markdown",
   "id": "4e0ccfca-1a57-4814-a58d-7c64b8fd82a1",
   "metadata": {},
   "source": [
    "**input**\n",
    "\n",
    "- input is a keyword , we can provide values from keyboard\n",
    "\n",
    "- which means user can give the own values\n",
    "\n",
    "- the kernel will be busy, untill unless you need to provide values inside the box\n",
    "\n",
    "- `mprovide the value and hit enter\n",
    "\n",
    "- make sure that * should gone\n",
    "\n",
    "- The default data type is **string data type**"
   ]
  },
  {
   "cell_type": "code",
   "execution_count": 2,
   "id": "1d19c725-8365-4a3d-b832-894e8d4d8314",
   "metadata": {},
   "outputs": [
    {
     "name": "stdin",
     "output_type": "stream",
     "text": [
      " hello\n"
     ]
    },
    {
     "data": {
      "text/plain": [
       "'hello'"
      ]
     },
     "execution_count": 2,
     "metadata": {},
     "output_type": "execute_result"
    }
   ],
   "source": [
    "input()"
   ]
  },
  {
   "cell_type": "code",
   "execution_count": 3,
   "id": "661eced6-11e3-4f9a-b23d-0f0a879fc9bc",
   "metadata": {},
   "outputs": [
    {
     "name": "stdin",
     "output_type": "stream",
     "text": [
      " python\n"
     ]
    },
    {
     "data": {
      "text/plain": [
       "'python'"
      ]
     },
     "execution_count": 3,
     "metadata": {},
     "output_type": "execute_result"
    }
   ],
   "source": [
    "input()"
   ]
  },
  {
   "cell_type": "code",
   "execution_count": 4,
   "id": "8076f0c0-d96b-408c-aa74-c1b6c927fba3",
   "metadata": {},
   "outputs": [
    {
     "name": "stdin",
     "output_type": "stream",
     "text": [
      " Saswati\n"
     ]
    },
    {
     "data": {
      "text/plain": [
       "'Saswati'"
      ]
     },
     "execution_count": 4,
     "metadata": {},
     "output_type": "execute_result"
    }
   ],
   "source": [
    "input()"
   ]
  },
  {
   "cell_type": "code",
   "execution_count": 5,
   "id": "17b81c1f-881e-4517-afd8-acffd6460a8f",
   "metadata": {},
   "outputs": [
    {
     "name": "stdin",
     "output_type": "stream",
     "text": [
      " 10\n"
     ]
    }
   ],
   "source": [
    "a=input()"
   ]
  },
  {
   "cell_type": "code",
   "execution_count": 6,
   "id": "806114a9-3c98-46d2-98ef-4c831fa89866",
   "metadata": {},
   "outputs": [
    {
     "name": "stdin",
     "output_type": "stream",
     "text": [
      " 100\n",
      " 200\n"
     ]
    },
    {
     "data": {
      "text/plain": [
       "'100200'"
      ]
     },
     "execution_count": 6,
     "metadata": {},
     "output_type": "execute_result"
    }
   ],
   "source": [
    "a=input()\n",
    "b=input()\n",
    "a+b"
   ]
  },
  {
   "cell_type": "code",
   "execution_count": 7,
   "id": "a21a34b7-c727-41a6-8c8e-a119afa1f917",
   "metadata": {},
   "outputs": [
    {
     "data": {
      "text/plain": [
       "str"
      ]
     },
     "execution_count": 7,
     "metadata": {},
     "output_type": "execute_result"
    }
   ],
   "source": [
    "type(a)"
   ]
  },
  {
   "cell_type": "code",
   "execution_count": 8,
   "id": "0d3e68fd-f817-4534-9253-38a894a18919",
   "metadata": {},
   "outputs": [
    {
     "data": {
      "text/plain": [
       "str"
      ]
     },
     "execution_count": 8,
     "metadata": {},
     "output_type": "execute_result"
    }
   ],
   "source": [
    "type(b)"
   ]
  },
  {
   "cell_type": "code",
   "execution_count": 9,
   "id": "34f7230d-25b3-4b58-a894-27acc6680004",
   "metadata": {},
   "outputs": [
    {
     "name": "stdin",
     "output_type": "stream",
     "text": [
      "enter the number: 100\n"
     ]
    }
   ],
   "source": [
    "num=input(\"enter the number:\")\n"
   ]
  },
  {
   "cell_type": "code",
   "execution_count": 10,
   "id": "16cba25d-77ef-473f-842c-d9900bccae41",
   "metadata": {},
   "outputs": [
    {
     "name": "stdin",
     "output_type": "stream",
     "text": [
      " 100\n",
      " 200\n"
     ]
    },
    {
     "data": {
      "text/plain": [
       "300"
      ]
     },
     "execution_count": 10,
     "metadata": {},
     "output_type": "execute_result"
    }
   ],
   "source": [
    "a=int(input())     # int('100')=100\n",
    "b=int(input())     # int('200')=200\n",
    "a+b                # 100+200=300"
   ]
  },
  {
   "cell_type": "code",
   "execution_count": 12,
   "id": "22ee8b9d-963e-4197-86eb-831c7f064d04",
   "metadata": {},
   "outputs": [
    {
     "name": "stdin",
     "output_type": "stream",
     "text": [
      "enter the num1: 500\n",
      "enter the num2: 800\n"
     ]
    },
    {
     "name": "stdout",
     "output_type": "stream",
     "text": [
      "the additon of 500 and 800 is 1300\n"
     ]
    }
   ],
   "source": [
    "a=int(input(\"enter the num1:\"))     \n",
    "b=int(input(\"enter the num2:\"))     \n",
    "c=a+b\n",
    "print(f\"the additon of {a} and {b} is {c}\")"
   ]
  },
  {
   "cell_type": "code",
   "execution_count": 1,
   "id": "3b7d9845-dd8e-45d0-b871-2bb6d22873df",
   "metadata": {},
   "outputs": [
    {
     "name": "stdin",
     "output_type": "stream",
     "text": [
      "enter the num1: 100.2\n",
      "enter the num2: 300.7\n"
     ]
    },
    {
     "name": "stdout",
     "output_type": "stream",
     "text": [
      "400.9\n"
     ]
    }
   ],
   "source": [
    "a=float(input(\"enter the num1:\"))     \n",
    "b=float(input(\"enter the num2:\"))     \n",
    "c=a+b\n",
    "print(c)\n",
    "\n",
    "# whenever int is there there donot give the float values\n",
    "# If you want to give float values then apply float conversion\n",
    "# If you want to give int values then apply int conversion"
   ]
  },
  {
   "cell_type": "markdown",
   "id": "79f9adb4-f745-4b17-ad99-08f65764933a",
   "metadata": {},
   "source": [
    "**eval**\n",
    "\n",
    "- eval meaning **evaluate**\n",
    "\n",
    "- evaluate will use for numbers only, not for english\n",
    "\n",
    "- evaluate will convert integer numbers to integer\n",
    "\n",
    "- evaluate will convert float numbers to float                                         "
   ]
  },
  {
   "cell_type": "code",
   "execution_count": 2,
   "id": "2904292e-b7b2-40d5-85b3-fa2a0f8c3b55",
   "metadata": {},
   "outputs": [
    {
     "name": "stdin",
     "output_type": "stream",
     "text": [
      "enter the num1: 100\n",
      "enter the num2: 200\n"
     ]
    },
    {
     "name": "stdout",
     "output_type": "stream",
     "text": [
      "300\n"
     ]
    }
   ],
   "source": [
    "a=eval(input(\"enter the num1:\"))     \n",
    "b=eval(input(\"enter the num2:\"))     \n",
    "c=a+b\n",
    "print(c)\n"
   ]
  },
  {
   "cell_type": "code",
   "execution_count": 3,
   "id": "326244d5-f19b-4f83-b879-555ea598a01e",
   "metadata": {},
   "outputs": [
    {
     "name": "stdin",
     "output_type": "stream",
     "text": [
      "enter the num1: 500.8\n",
      "enter the num2: 300.8\n"
     ]
    },
    {
     "name": "stdout",
     "output_type": "stream",
     "text": [
      "801.6\n"
     ]
    }
   ],
   "source": [
    "a=eval(input(\"enter the num1:\"))     \n",
    "b=eval(input(\"enter the num2:\"))     \n",
    "c=a+b\n",
    "print(c)"
   ]
  },
  {
   "cell_type": "code",
   "execution_count": 4,
   "id": "0f15ac06-d9e7-47bc-b6fc-227ecaeb7fd0",
   "metadata": {},
   "outputs": [
    {
     "name": "stdin",
     "output_type": "stream",
     "text": [
      "enter the num1: 300\n",
      "enter the num2: 800.5\n"
     ]
    },
    {
     "name": "stdout",
     "output_type": "stream",
     "text": [
      "1100.5\n"
     ]
    }
   ],
   "source": [
    "a=eval(input(\"enter the num1:\"))     \n",
    "b=eval(input(\"enter the num2:\"))     \n",
    "c=a+b\n",
    "print(c)"
   ]
  },
  {
   "cell_type": "code",
   "execution_count": 2,
   "id": "b2ae84dd-25a2-412b-be81-4c65eee16f16",
   "metadata": {},
   "outputs": [
    {
     "name": "stdin",
     "output_type": "stream",
     "text": [
      " Saswati\n",
      "Enter the name: Saswati\n",
      "Enter the number: 100\n"
     ]
    },
    {
     "data": {
      "text/plain": [
       "'100'"
      ]
     },
     "execution_count": 2,
     "metadata": {},
     "output_type": "execute_result"
    }
   ],
   "source": [
    "input()\n",
    "input(\"Enter the name:\")\n",
    "input(\"Enter the number:\")"
   ]
  },
  {
   "cell_type": "code",
   "execution_count": 3,
   "id": "639f1adb-0532-4720-8601-cd4465ee1457",
   "metadata": {},
   "outputs": [
    {
     "name": "stdin",
     "output_type": "stream",
     "text": [
      " Saswati\n",
      "Enter the name: Saswati\n",
      "Enter the number: 100\n"
     ]
    },
    {
     "name": "stdout",
     "output_type": "stream",
     "text": [
      "Saswati\n",
      "Saswati\n",
      "100\n"
     ]
    }
   ],
   "source": [
    "name1=input()\n",
    "name2=input(\"Enter the name:\")\n",
    "name3=input(\"Enter the number:\")\n",
    "print(name1)\n",
    "print(name2)\n",
    "print(name3)"
   ]
  },
  {
   "cell_type": "code",
   "execution_count": 4,
   "id": "be9b62df-3542-4db5-a4fa-9e9733917b75",
   "metadata": {},
   "outputs": [
    {
     "name": "stdin",
     "output_type": "stream",
     "text": [
      "Enter the number1: 100\n",
      "Enter the number2: 200\n"
     ]
    },
    {
     "name": "stdout",
     "output_type": "stream",
     "text": [
      "100200\n"
     ]
    }
   ],
   "source": [
    "n1=input(\"Enter the number1:\")\n",
    "n2=input(\"Enter the number2:\")\n",
    "add=n1+n2\n",
    "print(add)"
   ]
  },
  {
   "cell_type": "code",
   "execution_count": 5,
   "id": "9c794568-7666-46ba-b372-cd9915e05663",
   "metadata": {},
   "outputs": [
    {
     "name": "stdin",
     "output_type": "stream",
     "text": [
      "Enter the number1: 100\n",
      "Enter the number2: 200\n"
     ]
    },
    {
     "name": "stdout",
     "output_type": "stream",
     "text": [
      "The addition is: 300\n"
     ]
    }
   ],
   "source": [
    "n1=int(input(\"Enter the number1:\"))\n",
    "n2=int(input(\"Enter the number2:\"))\n",
    "add=n1+n2\n",
    "print(f\"The addition is: {add}\")"
   ]
  },
  {
   "cell_type": "code",
   "execution_count": null,
   "id": "0a813f93-6e44-484d-8a66-56e73b60e731",
   "metadata": {},
   "outputs": [],
   "source": [
    "n1=input(\"Enter the number1:\")       #'100'\n",
    "n2=input(\"Enter the number2:\")       #'200'\n",
    "add=int(n1)+int(n2)                  #int('100')+int('200')=100+200=300\n",
    "print(add)"
   ]
  }
 ],
 "metadata": {
  "kernelspec": {
   "display_name": "Python 3 (ipykernel)",
   "language": "python",
   "name": "python3"
  },
  "language_info": {
   "codemirror_mode": {
    "name": "ipython",
    "version": 3
   },
   "file_extension": ".py",
   "mimetype": "text/x-python",
   "name": "python",
   "nbconvert_exporter": "python",
   "pygments_lexer": "ipython3",
   "version": "3.11.7"
  }
 },
 "nbformat": 4,
 "nbformat_minor": 5
}
