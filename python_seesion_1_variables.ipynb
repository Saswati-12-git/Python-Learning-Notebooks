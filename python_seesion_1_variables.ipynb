{
 "cells": [
  {
   "cell_type": "markdown",
   "id": "9d1d027c-3315-40ae-b65b-779ccce116b1",
   "metadata": {},
   "source": [
    "## variables"
   ]
  },
  {
   "cell_type": "markdown",
   "id": "84d862f0-b73d-40d2-aaa8-04db8b863857",
   "metadata": {},
   "source": [
    "- Variable is used to store a value\n",
    "\n",
    "- Variables can change their values\n",
    "\n",
    "- In python latest value will be consider\n",
    "\n",
    "- Python is a step by step process"
   ]
  },
  {
   "cell_type": "code",
   "execution_count": 3,
   "id": "d0718631-08d5-495e-926b-e195585d5754",
   "metadata": {},
   "outputs": [
    {
     "data": {
      "text/plain": [
       "10"
      ]
     },
     "execution_count": 3,
     "metadata": {},
     "output_type": "execute_result"
    }
   ],
   "source": [
    "num=10\n",
    "num\n",
    "\n",
    "# comment\n",
    "# value 10 stored in variable called 'num'"
   ]
  },
  {
   "cell_type": "code",
   "execution_count": 4,
   "id": "4a17403a-65e6-49fb-96b3-2fd8766c6eb0",
   "metadata": {},
   "outputs": [
    {
     "data": {
      "text/plain": [
       "10"
      ]
     },
     "execution_count": 4,
     "metadata": {},
     "output_type": "execute_result"
    }
   ],
   "source": [
    "NUM=10\n",
    "NUM"
   ]
  },
  {
   "cell_type": "code",
   "execution_count": 5,
   "id": "e83b9fc6-0a94-4b22-a465-552c36ab256a",
   "metadata": {},
   "outputs": [
    {
     "data": {
      "text/plain": [
       "100"
      ]
     },
     "execution_count": 5,
     "metadata": {},
     "output_type": "execute_result"
    }
   ],
   "source": [
    "NUMber=100\n",
    "NUMber"
   ]
  },
  {
   "cell_type": "code",
   "execution_count": null,
   "id": "dbcccc1a-d175-418c-8ec9-553531c6a43d",
   "metadata": {},
   "outputs": [],
   "source": [
    "# whenever you run\n",
    "# new cell will be created\n",
    "\n",
    "# shift+enter"
   ]
  },
  {
   "cell_type": "code",
   "execution_count": 6,
   "id": "f8e9c047-5a36-4734-8ae9-33fc9e78c912",
   "metadata": {},
   "outputs": [],
   "source": [
    "number=100"
   ]
  },
  {
   "cell_type": "code",
   "execution_count": 7,
   "id": "56458329-3297-48dd-a776-9c827bda2e5a",
   "metadata": {},
   "outputs": [
    {
     "data": {
      "text/plain": [
       "100"
      ]
     },
     "execution_count": 7,
     "metadata": {},
     "output_type": "execute_result"
    }
   ],
   "source": [
    "number"
   ]
  },
  {
   "cell_type": "code",
   "execution_count": 10,
   "id": "1b8f85e5-cf7a-4c76-b29d-8b0efd77c9a4",
   "metadata": {},
   "outputs": [],
   "source": [
    "# num=10\n",
    "# NUM=10\n",
    "# NUMber=100"
   ]
  },
  {
   "cell_type": "code",
   "execution_count": 11,
   "id": "307595f4-0556-473e-894f-b91673ef3a3d",
   "metadata": {},
   "outputs": [
    {
     "data": {
      "text/plain": [
       "300"
      ]
     },
     "execution_count": 11,
     "metadata": {},
     "output_type": "execute_result"
    }
   ],
   "source": [
    "number123=300\n",
    "number123"
   ]
  },
  {
   "cell_type": "code",
   "execution_count": 15,
   "id": "532aa580-25d4-4382-9f85-54cf99fb720f",
   "metadata": {},
   "outputs": [
    {
     "ename": "SyntaxError",
     "evalue": "invalid decimal literal (2337568578.py, line 1)",
     "output_type": "error",
     "traceback": [
      "\u001b[1;36m  Cell \u001b[1;32mIn[15], line 1\u001b[1;36m\u001b[0m\n\u001b[1;33m    123saswati=100\u001b[0m\n\u001b[1;37m      ^\u001b[0m\n\u001b[1;31mSyntaxError\u001b[0m\u001b[1;31m:\u001b[0m invalid decimal literal\n"
     ]
    }
   ],
   "source": [
    "123saswati=100\n",
    "123saswati"
   ]
  },
  {
   "cell_type": "code",
   "execution_count": 17,
   "id": "ebbdbc70-576d-4c3c-ad48-3f26de65cb77",
   "metadata": {},
   "outputs": [
    {
     "ename": "NameError",
     "evalue": "name 'mama' is not defined",
     "output_type": "error",
     "traceback": [
      "\u001b[1;31m---------------------------------------------------------------------------\u001b[0m",
      "\u001b[1;31mNameError\u001b[0m                                 Traceback (most recent call last)",
      "Cell \u001b[1;32mIn[17], line 1\u001b[0m\n\u001b[1;32m----> 1\u001b[0m mama\n",
      "\u001b[1;31mNameError\u001b[0m: name 'mama' is not defined"
     ]
    }
   ],
   "source": [
    "mama"
   ]
  },
  {
   "cell_type": "code",
   "execution_count": 18,
   "id": "f2de23a3-0e66-478b-9d90-09279fbdf112",
   "metadata": {},
   "outputs": [],
   "source": [
    "mama=100"
   ]
  },
  {
   "cell_type": "code",
   "execution_count": 19,
   "id": "2f45f4d6-86e3-41a1-8ad6-2d08fba8f228",
   "metadata": {},
   "outputs": [
    {
     "data": {
      "text/plain": [
       "100"
      ]
     },
     "execution_count": 19,
     "metadata": {},
     "output_type": "execute_result"
    }
   ],
   "source": [
    "mama"
   ]
  },
  {
   "cell_type": "code",
   "execution_count": 20,
   "id": "23a29412-34e0-43bc-ab53-1d377b1936da",
   "metadata": {},
   "outputs": [
    {
     "ename": "SyntaxError",
     "evalue": "cannot assign to expression here. Maybe you meant '==' instead of '='? (3649041288.py, line 1)",
     "output_type": "error",
     "traceback": [
      "\u001b[1;36m  Cell \u001b[1;32mIn[20], line 1\u001b[1;36m\u001b[0m\n\u001b[1;33m    number@one=1\u001b[0m\n\u001b[1;37m    ^\u001b[0m\n\u001b[1;31mSyntaxError\u001b[0m\u001b[1;31m:\u001b[0m cannot assign to expression here. Maybe you meant '==' instead of '='?\n"
     ]
    }
   ],
   "source": [
    "number@one=1\n",
    "number@one"
   ]
  },
  {
   "cell_type": "code",
   "execution_count": 21,
   "id": "1c00730f-e28d-4aa3-9978-031e8c6faf09",
   "metadata": {},
   "outputs": [
    {
     "ename": "SyntaxError",
     "evalue": "invalid syntax (1103776505.py, line 1)",
     "output_type": "error",
     "traceback": [
      "\u001b[1;36m  Cell \u001b[1;32mIn[21], line 1\u001b[1;36m\u001b[0m\n\u001b[1;33m    number one=1\u001b[0m\n\u001b[1;37m           ^\u001b[0m\n\u001b[1;31mSyntaxError\u001b[0m\u001b[1;31m:\u001b[0m invalid syntax\n"
     ]
    }
   ],
   "source": [
    "number one=1\n",
    "number one"
   ]
  },
  {
   "cell_type": "code",
   "execution_count": 22,
   "id": "d65e23f2-bca0-4097-a29a-e6a4410a4100",
   "metadata": {},
   "outputs": [
    {
     "data": {
      "text/plain": [
       "200"
      ]
     },
     "execution_count": 22,
     "metadata": {},
     "output_type": "execute_result"
    }
   ],
   "source": [
    "number_one=200\n",
    "number_one"
   ]
  },
  {
   "cell_type": "code",
   "execution_count": 23,
   "id": "c50b321c-0824-4c7c-86be-91731575389f",
   "metadata": {},
   "outputs": [
    {
     "data": {
      "text/plain": [
       "800"
      ]
     },
     "execution_count": 23,
     "metadata": {},
     "output_type": "execute_result"
    }
   ],
   "source": [
    "_=800\n",
    "_"
   ]
  },
  {
   "cell_type": "code",
   "execution_count": 24,
   "id": "e52882d0-8db0-4695-83d5-069058d089ce",
   "metadata": {},
   "outputs": [
    {
     "ename": "SyntaxError",
     "evalue": "invalid syntax (3092338201.py, line 1)",
     "output_type": "error",
     "traceback": [
      "\u001b[1;36m  Cell \u001b[1;32mIn[24], line 1\u001b[1;36m\u001b[0m\n\u001b[1;33m    if=700\u001b[0m\n\u001b[1;37m      ^\u001b[0m\n\u001b[1;31mSyntaxError\u001b[0m\u001b[1;31m:\u001b[0m invalid syntax\n"
     ]
    }
   ],
   "source": [
    "if=700\n",
    "if"
   ]
  },
  {
   "cell_type": "code",
   "execution_count": 25,
   "id": "833d5808-1aef-4724-849f-4b121a938f08",
   "metadata": {},
   "outputs": [
    {
     "ename": "SyntaxError",
     "evalue": "invalid syntax (3456208707.py, line 1)",
     "output_type": "error",
     "traceback": [
      "\u001b[1;36m  Cell \u001b[1;32mIn[25], line 1\u001b[1;36m\u001b[0m\n\u001b[1;33m    while=600\u001b[0m\n\u001b[1;37m         ^\u001b[0m\n\u001b[1;31mSyntaxError\u001b[0m\u001b[1;31m:\u001b[0m invalid syntax\n"
     ]
    }
   ],
   "source": [
    "while=600\n",
    "while"
   ]
  },
  {
   "cell_type": "code",
   "execution_count": 26,
   "id": "656c0084-8110-4cd5-be1e-02b5ff54cdbb",
   "metadata": {},
   "outputs": [
    {
     "data": {
      "text/plain": [
       "300"
      ]
     },
     "execution_count": 26,
     "metadata": {},
     "output_type": "execute_result"
    }
   ],
   "source": [
    "s_a_s_w_a_t_i=300\n",
    "s_a_s_w_a_t_i"
   ]
  },
  {
   "cell_type": "markdown",
   "id": "eae96679-917e-4d88-bcc4-8184ab5dac57",
   "metadata": {},
   "source": [
    "- Variables are case sensitive\n",
    "\n",
    "- variables can be capital letters or small letters\n",
    "\n",
    "- variables does not allow special characters except only underscore\n",
    "\n",
    "- only underscore can be a variable\n",
    "\n",
    "- variables does not contain any space between the words\n",
    "\n",
    "- variables can not contain number as prefix ex:123num\n",
    "\n",
    "- variables can have number as suffix ex: num123\n",
    "\n",
    "- variable does not contain any keywords\n"
   ]
  },
  {
   "cell_type": "code",
   "execution_count": null,
   "id": "cf49b477-29a9-416c-9a84-52169bd925fc",
   "metadata": {},
   "outputs": [],
   "source": []
  }
 ],
 "metadata": {
  "kernelspec": {
   "display_name": "Python 3 (ipykernel)",
   "language": "python",
   "name": "python3"
  },
  "language_info": {
   "codemirror_mode": {
    "name": "ipython",
    "version": 3
   },
   "file_extension": ".py",
   "mimetype": "text/x-python",
   "name": "python",
   "nbconvert_exporter": "python",
   "pygments_lexer": "ipython3",
   "version": "3.11.7"
  }
 },
 "nbformat": 4,
 "nbformat_minor": 5
}
