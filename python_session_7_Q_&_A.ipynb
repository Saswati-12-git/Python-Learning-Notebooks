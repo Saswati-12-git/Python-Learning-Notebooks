{
 "cells": [
  {
   "cell_type": "code",
   "execution_count": 4,
   "id": "c5c47ac2-5857-4e4f-9021-21bae36bf054",
   "metadata": {},
   "outputs": [
    {
     "name": "stdin",
     "output_type": "stream",
     "text": [
      "enter a num1: 4\n",
      "enter a num2: 2\n"
     ]
    },
    {
     "name": "stdout",
     "output_type": "stream",
     "text": [
      "the addition of4 and 2 is: 6\n",
      "the substraction of4 and 2 is: 2\n",
      "the multiplication of4 and 2 is: 8\n",
      "the division of4 and 2 is: 2\n"
     ]
    }
   ],
   "source": [
    "n1=eval(input(\"enter a num1:\"))\n",
    "n2=eval(input(\"enter a num2:\"))\n",
    "add=n1+n2\n",
    "sub=n1-n2\n",
    "mul=n1*n2\n",
    "div=round(n1/n2)\n",
    "print(f\"the addition of{n1} and {n2} is: {add}\")\n",
    "print(f\"the substraction of{n1} and {n2} is: {sub}\")\n",
    "print(f\"the multiplication of{n1} and {n2} is: {mul}\")\n",
    "print(f\"the division of{n1} and {n2} is: {div}\")\n",
    "\n",
    "\n",
    "# WAP ask the user enter two number from keyboard\n",
    "#print addition\n",
    "#print substraction\n",
    "#print multiplication\n",
    "#print division\n",
    "# use fstring method for print the outputs\n"
   ]
  },
  {
   "cell_type": "code",
   "execution_count": null,
   "id": "eb15ddc4-c2cd-44ca-bb32-e0be7c62a307",
   "metadata": {},
   "outputs": [],
   "source": [
    "# Q2) Ask the user enter 3 numbers\n",
    "# find the average of those numbers"
   ]
  },
  {
   "cell_type": "code",
   "execution_count": 3,
   "id": "5ba60612-069d-4662-9aa4-a19d03d82203",
   "metadata": {},
   "outputs": [
    {
     "name": "stdin",
     "output_type": "stream",
     "text": [
      "enter a num1: 4\n",
      "enter a num2: 5\n",
      "enter a num3: 8\n"
     ]
    },
    {
     "name": "stdout",
     "output_type": "stream",
     "text": [
      "the average of 4, 5 and 8 is: 6\n"
     ]
    }
   ],
   "source": [
    "n1=eval(input(\"enter a num1:\"))\n",
    "n2=eval(input(\"enter a num2:\"))\n",
    "n3=eval(input(\"enter a num3:\"))\n",
    "avg=round((n1+n2+n3)/3)\n",
    "print(f\"the average of {n1}, {n2} and {n3} is: {avg}\")"
   ]
  },
  {
   "cell_type": "code",
   "execution_count": null,
   "id": "614f8603-eb27-45a4-9ccc-c24582150941",
   "metadata": {},
   "outputs": [],
   "source": [
    "# Q3) Ask the user enter the bill\n",
    "# Ask the user how much tip percentage\n",
    "# Calculate the total bill"
   ]
  },
  {
   "cell_type": "code",
   "execution_count": 13,
   "id": "fb562328-62eb-4693-89ce-78542dca8e1f",
   "metadata": {},
   "outputs": [
    {
     "name": "stdin",
     "output_type": "stream",
     "text": [
      "enter the bill 1000\n",
      "enter the tip in percentage: 10\n"
     ]
    },
    {
     "name": "stdout",
     "output_type": "stream",
     "text": [
      "the total bill is: 1100.0\n"
     ]
    }
   ],
   "source": [
    "bill=eval(input(\"enter the bill\"))\n",
    "tip_per=eval(input(\"enter the tip in percentage:\"))\n",
    "tip_amount=tip_per*bill/100\n",
    "total_bill=bill+tip_amount\n",
    "print(\"the total bill is:\",total_bill)"
   ]
  },
  {
   "cell_type": "code",
   "execution_count": null,
   "id": "5d0c9046-48be-44bc-ad5f-82f8809c6308",
   "metadata": {},
   "outputs": [],
   "source": [
    "# Ask the enter the weight in kgs\n",
    "# Display the answer in pounds\n",
    "# 1kg=2.2pounds"
   ]
  },
  {
   "cell_type": "code",
   "execution_count": 20,
   "id": "3b382243-c27a-4209-86ec-46252dc6f42f",
   "metadata": {},
   "outputs": [
    {
     "name": "stdin",
     "output_type": "stream",
     "text": [
      "enter the weight in kg: 100\n",
      "how many pounds for 1 kg: 2.2\n"
     ]
    },
    {
     "name": "stdout",
     "output_type": "stream",
     "text": [
      "the weight in pounds is 220.00000000000003\n"
     ]
    }
   ],
   "source": [
    "weight=eval(input(\"enter the weight in kg:\"))\n",
    "pounds=eval(input(\"how many pounds for 1 kg:\"))\n",
    "weight_pounds=weight*pounds\n",
    "print(f\"the weight in pounds is {weight_pounds}\")\n",
    "   "
   ]
  },
  {
   "cell_type": "code",
   "execution_count": null,
   "id": "2ee86640-0a63-4868-b956-7b9930b108f7",
   "metadata": {},
   "outputs": [],
   "source": [
    "# Take two random numbers and print their addition"
   ]
  },
  {
   "cell_type": "code",
   "execution_count": 12,
   "id": "cf2d1564-abc3-4849-88bd-063d31e33f85",
   "metadata": {},
   "outputs": [
    {
     "name": "stdout",
     "output_type": "stream",
     "text": [
      "the addition of40 and 76 is: 116\n"
     ]
    }
   ],
   "source": [
    "import random\n",
    "n1=random.randint(1,100)\n",
    "n2=random.randint(1,100)\n",
    "add=n1+n2\n",
    "print(f\"the addition of{n1} and {n2} is: {add}\")"
   ]
  },
  {
   "cell_type": "code",
   "execution_count": null,
   "id": "d1d6fe97-1001-465b-b0fc-1c6618b2aad2",
   "metadata": {},
   "outputs": [],
   "source": [
    "# WAP ask the user enter two number from keyboard\n",
    "#print addition\n",
    "#print substraction\n",
    "#print multiplication\n",
    "#print division\n",
    "# use fstring method for print the outputs\n",
    "# print all outputs in 2sec interval"
   ]
  },
  {
   "cell_type": "code",
   "execution_count": 15,
   "id": "863161bb-0913-4999-b4e7-71036401e4b5",
   "metadata": {},
   "outputs": [
    {
     "name": "stdin",
     "output_type": "stream",
     "text": [
      "enter a num1: 4\n",
      "enter a num2: 2\n"
     ]
    },
    {
     "name": "stdout",
     "output_type": "stream",
     "text": [
      "the addition of4 and 2 is: 6\n",
      "the substraction of4 and 2 is: 2\n",
      "the multiplication of4 and 2 is: 8\n",
      "the division of4 and 2 is: 2\n"
     ]
    }
   ],
   "source": [
    "import time\n",
    "n1=eval(input(\"enter a num1:\"))\n",
    "n2=eval(input(\"enter a num2:\"))\n",
    "add=n1+n2\n",
    "sub=n1-n2\n",
    "mul=n1*n2\n",
    "div=round(n1/n2)\n",
    "time.sleep(2)\n",
    "print(f\"the addition of{n1} and {n2} is: {add}\")\n",
    "time.sleep(2)\n",
    "print(f\"the substraction of{n1} and {n2} is: {sub}\")\n",
    "time.sleep(2)\n",
    "print(f\"the multiplication of{n1} and {n2} is: {mul}\")\n",
    "time.sleep(2)\n",
    "print(f\"the division of{n1} and {n2} is: {div}\")"
   ]
  },
  {
   "cell_type": "code",
   "execution_count": 7,
   "id": "663ff90c-d70e-4a72-be6a-ee57c77efe52",
   "metadata": {},
   "outputs": [
    {
     "name": "stdin",
     "output_type": "stream",
     "text": [
      "Enter the radius: 5\n"
     ]
    },
    {
     "name": "stdout",
     "output_type": "stream",
     "text": [
      "the area of circle is: 78.54\n"
     ]
    }
   ],
   "source": [
    "import math\n",
    "r=eval(input(\"Enter the radius:\"))\n",
    "pi=math.pi\n",
    "area=round(pi*r*r,2)\n",
    "print(f\"the area of circle is: {area}\")\n"
   ]
  },
  {
   "cell_type": "code",
   "execution_count": 8,
   "id": "0739a79c-5fec-46be-a252-ad88ae73ba24",
   "metadata": {},
   "outputs": [
    {
     "name": "stdin",
     "output_type": "stream",
     "text": [
      "Enter the radius: 5\n"
     ]
    },
    {
     "name": "stdout",
     "output_type": "stream",
     "text": [
      "the area of circle is: 78.54\n"
     ]
    }
   ],
   "source": [
    "import math\n",
    "r=eval(input(\"Enter the radius:\"))\n",
    "pi=math.pi\n",
    "area=round(pi*r**2,2)\n",
    "print(f\"the area of circle is: {area}\")"
   ]
  },
  {
   "cell_type": "code",
   "execution_count": null,
   "id": "d4dabf37-7e34-47ba-ac4a-25c0fc7d7a9a",
   "metadata": {},
   "outputs": [],
   "source": [
    "# Wap ask the user \n",
    "# Calculate the area of the circle\n",
    "# ask the user take radius from keyboard\n",
    "# area of circle = pi*r*r"
   ]
  },
  {
   "cell_type": "code",
   "execution_count": 32,
   "id": "4589bcf4-241e-48ae-b5bd-4ed6eb4746b9",
   "metadata": {},
   "outputs": [
    {
     "name": "stdout",
     "output_type": "stream",
     "text": [
      "Hardcode method starts:\n",
      "The area of circle is: 79\n",
      "----------------------------------\n",
      "keyboard method starts:\n"
     ]
    },
    {
     "name": "stdin",
     "output_type": "stream",
     "text": [
      "enter the radius: 5\n"
     ]
    },
    {
     "name": "stdout",
     "output_type": "stream",
     "text": [
      "The area of the circle is: 78.54\n",
      "------------------------------------\n",
      "Random method starts:\n",
      "The area of the circle is: 78.54\n"
     ]
    }
   ],
   "source": [
    "print(\"Hardcode method starts:\")\n",
    "#method-1 : Use the provided value\n",
    "import math\n",
    "r=5\n",
    "pi=math.pi\n",
    "area=round(pi*r**2)\n",
    "print(f\"The area of circle is: {area}\")\n",
    "\n",
    "print(\"----------------------------------\")\n",
    "print(\"keyboard method starts:\")\n",
    "#method-2 : Get the value from user\n",
    "import math\n",
    "r=eval(input(\"enter the radius:\"))\n",
    "pi=math.pi\n",
    "area=round(pi*r*r,2)\n",
    "print(f\"The area of the circle is: {area}\")\n",
    "\n",
    "print(\"------------------------------------\")\n",
    "print(\"Random method starts:\")\n",
    "#method-3 : Use the random values\n",
    "import math\n",
    "import random\n",
    "r=random.randint(1,10)\n",
    "pi=math.pi\n",
    "area=round(pi*r*r,2)\n",
    "print(f\"The area of the circle is: {area}\")"
   ]
  },
  {
   "cell_type": "code",
   "execution_count": null,
   "id": "f58f0c86-cd6d-4528-a9e1-f548f6d5c1a8",
   "metadata": {},
   "outputs": [],
   "source": [
    "# Wap ask the user \n",
    "# Calculate the area of the triangle\n",
    "# ask the user take breath,height from keyboard\n",
    "# area of triangle = 1/2*breath*height"
   ]
  },
  {
   "cell_type": "code",
   "execution_count": 5,
   "id": "128fdc81-3840-4510-8581-203179f62381",
   "metadata": {},
   "outputs": [
    {
     "name": "stdin",
     "output_type": "stream",
     "text": [
      "Enter the breath: 4\n",
      "Enter the height: 5\n"
     ]
    },
    {
     "name": "stdout",
     "output_type": "stream",
     "text": [
      "the area of tringle is: 10.0\n"
     ]
    }
   ],
   "source": [
    "breath=eval(input(\"Enter the breath:\"))\n",
    "height=eval(input(\"Enter the height:\"))\n",
    "area=0.5*breath*height\n",
    "print((f\"the area of tringle is: {area}\"))"
   ]
  },
  {
   "cell_type": "code",
   "execution_count": 6,
   "id": "ea2ffb09-e6d0-499a-8b47-80be8093b9d7",
   "metadata": {},
   "outputs": [
    {
     "name": "stdout",
     "output_type": "stream",
     "text": [
      "the area of tringle is: 15.0\n"
     ]
    }
   ],
   "source": [
    "import random\n",
    "breath=random.randint(1,10)\n",
    "height=random.randint(1,10)\n",
    "area=0.5*breath*height\n",
    "print((f\"the area of tringle is: {area}\"))"
   ]
  },
  {
   "cell_type": "code",
   "execution_count": 34,
   "id": "8e8c0e39-e79b-448d-86c5-0a3532138520",
   "metadata": {},
   "outputs": [
    {
     "name": "stdout",
     "output_type": "stream",
     "text": [
      "Hardcore method starts:\n",
      "The area of triangle is: 15\n",
      "--------------------------------------\n",
      "keyboard method starts:\n"
     ]
    },
    {
     "name": "stdin",
     "output_type": "stream",
     "text": [
      "enter the value: 5\n",
      "enter the value: 6\n"
     ]
    },
    {
     "name": "stdout",
     "output_type": "stream",
     "text": [
      "The area of triangle is: 15\n",
      "--------------------------------------\n",
      "random method starts:\n",
      "The area of triangle is: 1\n",
      "-----------------------------------------\n"
     ]
    },
    {
     "name": "stdin",
     "output_type": "stream",
     "text": [
      "enter the start value: 5\n",
      "enter the end value: 6\n"
     ]
    },
    {
     "name": "stdout",
     "output_type": "stream",
     "text": [
      "The area of triangle is: 12\n"
     ]
    }
   ],
   "source": [
    "print(\"Hardcore method starts:\")\n",
    "# method-1 : Use the provided values\n",
    "breath=5\n",
    "height=6\n",
    "area=round(0.5*breath*height)\n",
    "print(f\"The area of triangle is: {area}\")\n",
    "\n",
    "print(\"--------------------------------------\")\n",
    "print(\"keyboard method starts:\")\n",
    "# method-2 : get the values from keyboard\n",
    "breath=eval(input(\"enter the value:\"))\n",
    "height=eval(input(\"enter the value:\"))\n",
    "area=round(0.5*breath*height)\n",
    "print(f\"The area of triangle is: {area}\")\n",
    "\n",
    "print(\"--------------------------------------\")\n",
    "print(\"random method starts:\")\n",
    "# method-3 : Use the random values\n",
    "import random\n",
    "breath=random.randint(1,10)\n",
    "height=random.randint(1,10)\n",
    "area=round(0.5*breath*height)\n",
    "print(f\"The area of triangle is: {area}\")\n",
    "\n",
    "print(\"-----------------------------------------\")\n",
    "# Method-4 : Use the values from keyboard and random\n",
    "import random\n",
    "start=eval(input(\"enter the start value:\"))\n",
    "end=eval(input(\"enter the end value:\"))\n",
    "breath=random.randint(start,end)\n",
    "height=random.randint(start,end)\n",
    "area=round(0.5*breath*height)\n",
    "print(f\"The area of triangle is: {area}\")"
   ]
  },
  {
   "cell_type": "code",
   "execution_count": null,
   "id": "40f1ca2a-554e-4636-9bb9-574fc62136d0",
   "metadata": {},
   "outputs": [],
   "source": [
    "# Wap ask the user \n",
    "# Calculate the area & perimeter of the rectangle\n",
    "# ask the user take breath,length from keyboard\n",
    "# area of rectangle = breath*height\n",
    "# perimeter of rectangle = 2*(length+breath)"
   ]
  },
  {
   "cell_type": "code",
   "execution_count": 16,
   "id": "7eea5c64-6031-4f3f-a0ef-86419b0764e9",
   "metadata": {},
   "outputs": [
    {
     "name": "stdin",
     "output_type": "stream",
     "text": [
      "enter the start value: 5\n",
      "enter the start value: 6\n"
     ]
    },
    {
     "name": "stdout",
     "output_type": "stream",
     "text": [
      "the area of rectangle is: 36\n",
      "the perimeter of rectangle is: 24\n"
     ]
    }
   ],
   "source": [
    "import random\n",
    "start=eval(input(\"enter the start value:\"))\n",
    "end=eval(input(\"enter the start value:\"))\n",
    "breath=random.randint(start,end)\n",
    "length=random.randint(start,end)\n",
    "area=breath*length\n",
    "perimeter=2*(breath+length)\n",
    "print(f\"the area of rectangle is: {area}\")\n",
    "print(f\"the perimeter of rectangle is: {perimeter}\")      "
   ]
  },
  {
   "cell_type": "code",
   "execution_count": 17,
   "id": "5f22b74f-20c4-4822-9948-4f00059c30d5",
   "metadata": {},
   "outputs": [
    {
     "name": "stdout",
     "output_type": "stream",
     "text": [
      "the area of rectangle is: 30\n",
      "the perimeter of rectangle is: 18\n"
     ]
    }
   ],
   "source": [
    "import random\n",
    "breath=random.randint(1,10)\n",
    "length=random.randint(1,10)\n",
    "area=breath*height\n",
    "perimeter=2*(breath+length)\n",
    "print(f\"the area of rectangle is: {area}\")\n",
    "print(f\"the perimeter of rectangle is: {perimeter}\")"
   ]
  },
  {
   "cell_type": "code",
   "execution_count": 18,
   "id": "da5e1d12-e76b-4bca-8161-bc47be71949a",
   "metadata": {},
   "outputs": [
    {
     "name": "stdin",
     "output_type": "stream",
     "text": [
      "Enter the breath: 5\n",
      "Enter the height: 6\n"
     ]
    },
    {
     "name": "stdout",
     "output_type": "stream",
     "text": [
      "the area of rectangle is: 30\n",
      "the perimeter of rectangle is: 22\n"
     ]
    }
   ],
   "source": [
    "breath=eval(input(\"Enter the breath:\"))\n",
    "length=eval(input(\"Enter the height:\"))\n",
    "area=breath*length\n",
    "perimeter=2*(breath+length)\n",
    "print(f\"the area of rectangle is: {area}\")\n",
    "print(f\"the perimeter of rectangle is: {perimeter}\")    "
   ]
  },
  {
   "cell_type": "code",
   "execution_count": 38,
   "id": "424bc925-9b84-4c75-95a6-a8afbbe66a71",
   "metadata": {},
   "outputs": [
    {
     "name": "stdout",
     "output_type": "stream",
     "text": [
      "Hardcode method\n",
      "The area of rectangle is: 20\n",
      "The perimeter of rectangle is: 18\n",
      "-----------------------------------------------\n",
      "Keyboard method\n"
     ]
    },
    {
     "name": "stdin",
     "output_type": "stream",
     "text": [
      "enter the value: 4\n",
      "enter the value: 5\n"
     ]
    },
    {
     "name": "stdout",
     "output_type": "stream",
     "text": [
      "The area of rectangle is: 20\n",
      "The perimeter of rectangle is: 18\n",
      "-----------------------------------------------\n",
      "Random method\n",
      "The area of rectangle is: 63\n",
      "The perimeter of rectangle is: 32\n",
      "-----------------------------------------------\n"
     ]
    },
    {
     "name": "stdin",
     "output_type": "stream",
     "text": [
      "enter the start value: 4\n",
      "enter the end value: 5\n"
     ]
    },
    {
     "name": "stdout",
     "output_type": "stream",
     "text": [
      "The area of rectangle is: 16\n",
      "The perimeter of rectangle is: 16\n"
     ]
    }
   ],
   "source": [
    "print(\"Hardcode method\")\n",
    "# Method-1 :Use the values that provided\n",
    "length=4\n",
    "breadth=5\n",
    "area=round(length*breadth)\n",
    "perimeter=round(2*(length+breadth))\n",
    "print(f\"The area of rectangle is: {area}\")\n",
    "print(f\"The perimeter of rectangle is: {perimeter}\")\n",
    "\n",
    "print(\"-----------------------------------------------\")\n",
    "print(\"Keyboard method\")\n",
    "# Method-2 : Use the values from user\n",
    "length=eval(input(\"enter the value:\"))\n",
    "breadth=eval(input(\"enter the value:\"))\n",
    "area=round(length*breadth)\n",
    "perimeter=round(2*(length+breadth))\n",
    "print(f\"The area of rectangle is: {area}\")\n",
    "print(f\"The perimeter of rectangle is: {perimeter}\")\n",
    "\n",
    "print(\"-----------------------------------------------\")\n",
    "print(\"Random method\")\n",
    "# Method-3 : Use the values from random\n",
    "import random\n",
    "length=random.randint(1,10)\n",
    "breadth=random.randint(1,10)\n",
    "area=round(length*breadth)\n",
    "perimeter=round(2*(length+breadth))\n",
    "print(f\"The area of rectangle is: {area}\")\n",
    "print(f\"The perimeter of rectangle is: {perimeter}\")\n",
    "\n",
    "\n",
    "print(\"-----------------------------------------------\")\n",
    "# Method-4 : Use the values from random and keyboard\n",
    "import random\n",
    "start=eval(input(\"enter the start value:\"))\n",
    "end=eval(input(\"enter the end value:\"))\n",
    "length=random.randint(start,end)\n",
    "breadth=random.randint(start,end)\n",
    "area=round(length*breadth)\n",
    "perimeter=round(2*(length+breadth))\n",
    "print(f\"The area of rectangle is: {area}\")\n",
    "print(f\"The perimeter of rectangle is: {perimeter}\")"
   ]
  },
  {
   "cell_type": "code",
   "execution_count": null,
   "id": "d34c1c8b-6d24-4e86-a072-252338b9ca0b",
   "metadata": {},
   "outputs": [],
   "source": [
    "# Wap ask the user \n",
    "# Calculate the volume of the cylinder\n",
    "# ask the user take radius,height from keyboard\n",
    "# volume of cylinder = pi*r*r*h"
   ]
  },
  {
   "cell_type": "code",
   "execution_count": 40,
   "id": "dd7b8957-55c3-40fd-892b-2939638e4fd5",
   "metadata": {},
   "outputs": [
    {
     "name": "stdin",
     "output_type": "stream",
     "text": [
      "Enter the radius: 6\n",
      "Enter the radius: 5\n"
     ]
    },
    {
     "name": "stdout",
     "output_type": "stream",
     "text": [
      ":The volume of cylinder is: 565\n"
     ]
    }
   ],
   "source": [
    "import math\n",
    "r=eval(input(\"Enter the radius:\"))\n",
    "h=eval(input(\"Enter the radius:\"))\n",
    "pi=math.pi\n",
    "volume=round(pi*r*r*h)\n",
    "print(f\":The volume of cylinder is: {volume}\")"
   ]
  },
  {
   "cell_type": "code",
   "execution_count": 21,
   "id": "1a30557c-d77e-42c1-b04f-47435d8065db",
   "metadata": {},
   "outputs": [
    {
     "name": "stdout",
     "output_type": "stream",
     "text": [
      "The volume of cylinder is: 904.78\n"
     ]
    }
   ],
   "source": [
    "import random\n",
    "import math\n",
    "r=random.randint(1,10)\n",
    "h=random.randint(1,10)\n",
    "math.pi\n",
    "volume=round(pi*r**2*h,2)\n",
    "print(f\"The volume of cylinder is: {volume}\")\n"
   ]
  },
  {
   "cell_type": "code",
   "execution_count": 41,
   "id": "76ce8030-995f-4a3c-a5b6-e8d04617e565",
   "metadata": {},
   "outputs": [
    {
     "name": "stdout",
     "output_type": "stream",
     "text": [
      "Hardcode method\n",
      "The volume of cylinder is: 565\n",
      "-----------------------------------------------\n",
      "Keyboard method\n"
     ]
    },
    {
     "name": "stdin",
     "output_type": "stream",
     "text": [
      "enter the value: 5\n",
      "enter the value: 6\n"
     ]
    },
    {
     "name": "stdout",
     "output_type": "stream",
     "text": [
      "The volume of cylinder is: 565\n",
      "-----------------------------------------------\n",
      "Random method\n",
      "The volume of cylinder is: 565\n",
      "-----------------------------------------------\n"
     ]
    },
    {
     "name": "stdin",
     "output_type": "stream",
     "text": [
      "enter the start value: 5\n",
      "enter the end value: 6\n"
     ]
    },
    {
     "name": "stdout",
     "output_type": "stream",
     "text": [
      "The volume of cylinder is: 565\n"
     ]
    }
   ],
   "source": [
    "print(\"Hardcode method\")\n",
    "# Method-1 :Use the values that provided\n",
    "radius=5\n",
    "height=6\n",
    "volume=round(pi*r**2*h)\n",
    "print(f\"The volume of cylinder is: {volume}\")\n",
    "\n",
    "print(\"-----------------------------------------------\")\n",
    "print(\"Keyboard method\")\n",
    "# Method-2 : Use the values from user\n",
    "radius=eval(input(\"enter the value:\"))\n",
    "height=eval(input(\"enter the value:\"))\n",
    "volume=round(pi*r**2*h)\n",
    "print(f\"The volume of cylinder is: {volume}\")\n",
    "\n",
    "print(\"-----------------------------------------------\")\n",
    "print(\"Random method\")\n",
    "# Method-3 : Use the values from random\n",
    "import random\n",
    "height=random.randint(1,10)\n",
    "radius=random.randint(1,10)\n",
    "volume=round(pi*r**2*h)\n",
    "print(f\"The volume of cylinder is: {volume}\")\n",
    "\n",
    "\n",
    "print(\"-----------------------------------------------\")\n",
    "# Method-4 : Use the values from random and keyboard\n",
    "import random\n",
    "start=eval(input(\"enter the start value:\"))\n",
    "end=eval(input(\"enter the end value:\"))\n",
    "radius=random.randint(start,end)\n",
    "height=random.randint(start,end)\n",
    "volume=round(pi*r**2*h)\n",
    "print(f\"The volume of cylinder is: {volume}\")"
   ]
  },
  {
   "cell_type": "markdown",
   "id": "512a5c48-84d1-4466-a52d-d350f803157e",
   "metadata": {},
   "source": [
    "**Conversation**"
   ]
  },
  {
   "cell_type": "code",
   "execution_count": 31,
   "id": "8d96758e-5e59-4dab-8494-9ce7f9e7a6f8",
   "metadata": {},
   "outputs": [
    {
     "name": "stdin",
     "output_type": "stream",
     "text": [
      "Daughter: hey mom\n",
      "Mom: hello beta\n",
      "Daughter: do you know the TS govt implemented the free bus ride\n",
      "Mom: oh wow super\n",
      "Daughter: let's go to granny home\n",
      "Conductor: where you want to go\n",
      "Conductor: show me the id cards\n",
      "Mom: we dont have any id cards\n",
      "Conductor: then you need to pay money\n",
      "Mom: how much per km\n",
      "Conductor: 5\n",
      "Mom: how many km\n",
      "Conductor: 100\n",
      "Mom: how much money\n"
     ]
    },
    {
     "name": "stdout",
     "output_type": "stream",
     "text": [
      "Conductor: you need to pay 500\n"
     ]
    },
    {
     "name": "stdin",
     "output_type": "stream",
     "text": [
      "Daughter: i have id cards\n",
      "Conductor: enjoy your ride\n"
     ]
    },
    {
     "data": {
      "text/plain": [
       "'enjoy your ride'"
      ]
     },
     "execution_count": 31,
     "metadata": {},
     "output_type": "execute_result"
    }
   ],
   "source": [
    "input(\"Daughter:\")\n",
    "input(\"Mom:\")\n",
    "input(\"Daughter:\")\n",
    "input(\"Mom:\")\n",
    "input(\"Daughter:\")\n",
    "\n",
    "input(\"Conductor:\")\n",
    "input(\"Conductor:\")\n",
    "input(\"Mom:\")\n",
    "input(\"Conductor:\")\n",
    "input(\"Mom:\")\n",
    "variable1=eval(input(\"Conductor:\"))\n",
    "input(\"Mom:\")\n",
    "variable2=eval(input(\"Conductor:\"))\n",
    "input(\"Mom:\")\n",
    "variable3=variable1*variable2\n",
    "print(f\"Conductor: you need to pay {variable3}\")\n",
    "input(\"Daughter:\")\n",
    "input(\"Conductor:\")\n",
    "\n"
   ]
  }
 ],
 "metadata": {
  "kernelspec": {
   "display_name": "Python 3 (ipykernel)",
   "language": "python",
   "name": "python3"
  },
  "language_info": {
   "codemirror_mode": {
    "name": "ipython",
    "version": 3
   },
   "file_extension": ".py",
   "mimetype": "text/x-python",
   "name": "python",
   "nbconvert_exporter": "python",
   "pygments_lexer": "ipython3",
   "version": "3.11.7"
  }
 },
 "nbformat": 4,
 "nbformat_minor": 5
}
