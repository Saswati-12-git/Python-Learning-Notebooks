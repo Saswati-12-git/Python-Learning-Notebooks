{
 "cells": [
  {
   "cell_type": "markdown",
   "id": "2225dded-ef91-4919-874c-f1257550fba0",
   "metadata": {},
   "source": [
    "- Strings\n",
    "\n",
    "- Lists\n",
    "\n",
    "- Dictionary\n",
    "\n",
    "- tuples\n",
    "\n",
    "- sets\n",
    "\n",
    "- Lambda function\n",
    "\n",
    "- File handling"
   ]
  },
  {
   "cell_type": "markdown",
   "id": "aa3d29bf-2845-485a-8724-af84f2f3d88b",
   "metadata": {},
   "source": [
    "## Strings\n",
    "\n",
    "- Strings can initialize in three ways\n",
    "\n",
    "     - single quotes\n",
    "\n",
    "       - very common way to present\n",
    "\n",
    "     - double quotes\n",
    "\n",
    "       - Double quotes also very common way to present\n",
    "\n",
    "     - triple quotes\n",
    "\n",
    "       - Triple quotes means **doc string**\n",
    "     "
   ]
  },
  {
   "cell_type": "code",
   "execution_count": 2,
   "id": "48bc7db2-79b4-494c-95b6-d61e75e73eb4",
   "metadata": {},
   "outputs": [
    {
     "data": {
      "text/plain": [
       "'python'"
      ]
     },
     "execution_count": 2,
     "metadata": {},
     "output_type": "execute_result"
    }
   ],
   "source": [
    "str1='python'\n",
    "str1"
   ]
  },
  {
   "cell_type": "code",
   "execution_count": 3,
   "id": "aa64bab6-b26c-453b-a263-f00284e7ce4c",
   "metadata": {},
   "outputs": [
    {
     "data": {
      "text/plain": [
       "str"
      ]
     },
     "execution_count": 3,
     "metadata": {},
     "output_type": "execute_result"
    }
   ],
   "source": [
    "type(str1)"
   ]
  },
  {
   "cell_type": "code",
   "execution_count": 4,
   "id": "25bdd4b8-f304-4dff-84e1-285e01c6222c",
   "metadata": {},
   "outputs": [],
   "source": [
    "str2='PYTHON'\n",
    "str2='10.5'\n",
    "str2='10'\n",
    "str2='True'\n",
    "str2='&$'"
   ]
  },
  {
   "cell_type": "markdown",
   "id": "2c8fd3b9-c8b0-464c-9c65-76897da5698e",
   "metadata": {},
   "source": [
    "**triple quotes**\n",
    "\n",
    "- triple quotes is used to convey the information\n",
    "\n",
    "- it is also called as **doc string**\n",
    "\n",
    "- it is also called as **multiline**"
   ]
  },
  {
   "cell_type": "code",
   "execution_count": 5,
   "id": "0e964928-3c0a-4652-859e-6d9886efbbc9",
   "metadata": {},
   "outputs": [
    {
     "name": "stdout",
     "output_type": "stream",
     "text": [
      "Hello how are you\n",
      "      Im good\n"
     ]
    }
   ],
   "source": [
    "str7=\"\"\"Hello how are you\n",
    "      Im good\"\"\"\n",
    "print(str7)"
   ]
  },
  {
   "cell_type": "code",
   "execution_count": 6,
   "id": "df87b87e-9572-4338-8ddd-0b6e68ecc78c",
   "metadata": {},
   "outputs": [
    {
     "data": {
      "text/plain": [
       "\"I like 'python'\""
      ]
     },
     "execution_count": 6,
     "metadata": {},
     "output_type": "execute_result"
    }
   ],
   "source": [
    "str8=\"I like 'python'\"\n",
    "str8"
   ]
  },
  {
   "cell_type": "markdown",
   "id": "6abf1178-9387-4f0e-b001-8d58b0d24a0a",
   "metadata": {},
   "source": [
    "- type\n",
    "\n",
    "- print\n",
    "\n",
    "- len\n",
    "\n",
    "- max\n",
    "\n",
    "- min\n",
    "\n",
    "- reversed\n",
    "\n",
    "- sorted\n",
    "\n",
    "- in\n",
    "\n",
    "- index\n",
    "\n",
    "- slice\n"
   ]
  },
  {
   "cell_type": "markdown",
   "id": "c7f8d58a-ae56-4671-b232-9219e30289d8",
   "metadata": {},
   "source": [
    "**type**\n",
    "\n",
    "- type is a keyword , it will give the type of value"
   ]
  },
  {
   "cell_type": "code",
   "execution_count": 7,
   "id": "bf706777-f5a1-42fc-b94b-3669986d33b1",
   "metadata": {},
   "outputs": [
    {
     "data": {
      "text/plain": [
       "str"
      ]
     },
     "execution_count": 7,
     "metadata": {},
     "output_type": "execute_result"
    }
   ],
   "source": [
    "str1='python'\n",
    "type(str1)"
   ]
  },
  {
   "cell_type": "markdown",
   "id": "72dd245e-7195-4986-bba3-256f92e97087",
   "metadata": {},
   "source": [
    "**what is the difference between keywords and package methods**\n",
    "\n",
    "- keyword is reserved word \n",
    "\n",
    "- different method are available on different packages\n",
    "\n",
    "- we have limited keywords are there : 35 keywords are there \n",
    "   these are fixed\n",
    "\n",
    "- whenever any keyword : keyword(value)\n",
    "\n",
    "- before keyword there is no another statement\n",
    "\n",
    "- there is no dot before keyword\n",
    "\n",
    "    - eval()\n",
    "\n",
    "    - input()\n",
    "\n",
    "    - type()\n",
    "\n",
    "    - range()\n",
    "\n",
    "    - print()\n",
    "\n",
    "- If you want to use methods from packages\n",
    "\n",
    "    - you need to import the package\n",
    "\n",
    "    - or packagename.methodname"
   ]
  },
  {
   "cell_type": "code",
   "execution_count": null,
   "id": "a631a3af-1136-4c89-8bc4-d8b2526f3f8d",
   "metadata": {},
   "outputs": [],
   "source": [
    "# keywords are the starting point, we can used directly\n",
    "eval()\n",
    "input()\n",
    "type()\n",
    "print()\n",
    "\n",
    "# methods we can used by .method\n",
    "random.randint\n",
    "time.sleep"
   ]
  },
  {
   "cell_type": "markdown",
   "id": "7d79653a-3e21-4db3-ba74-ae44c890914c",
   "metadata": {},
   "source": [
    "**len**"
   ]
  },
  {
   "cell_type": "code",
   "execution_count": 9,
   "id": "4779d337-d829-4974-aed7-c5a16048fd99",
   "metadata": {},
   "outputs": [
    {
     "data": {
      "text/plain": [
       "(6, 9)"
      ]
     },
     "execution_count": 9,
     "metadata": {},
     "output_type": "execute_result"
    }
   ],
   "source": [
    "str1='python'\n",
    "len(str1), len('naresh it')"
   ]
  },
  {
   "cell_type": "code",
   "execution_count": 13,
   "id": "9169f1d7-6d54-4c70-923d-410f58868e5a",
   "metadata": {},
   "outputs": [
    {
     "data": {
      "text/plain": [
       "2"
      ]
     },
     "execution_count": 13,
     "metadata": {},
     "output_type": "execute_result"
    }
   ],
   "source": [
    "len('  ')\n",
    "\n",
    "# space also matter in length"
   ]
  },
  {
   "cell_type": "markdown",
   "id": "edac121c-4689-48d1-b07d-2b3d1aa7fb1e",
   "metadata": {},
   "source": [
    "**max**\n",
    "\n",
    "- it will retrive the maximum character based on ascii value"
   ]
  },
  {
   "cell_type": "code",
   "execution_count": 14,
   "id": "0b928e3c-55e6-419e-a96c-03b51c6d7b6e",
   "metadata": {},
   "outputs": [
    {
     "data": {
      "text/plain": [
       "'y'"
      ]
     },
     "execution_count": 14,
     "metadata": {},
     "output_type": "execute_result"
    }
   ],
   "source": [
    "s1='python'\n",
    "max(s1)"
   ]
  },
  {
   "cell_type": "code",
   "execution_count": 15,
   "id": "164c0cbb-7bb2-4463-8669-e6c0a961dc21",
   "metadata": {},
   "outputs": [
    {
     "data": {
      "text/plain": [
       "(112, 121, 116, 104, 111, 110)"
      ]
     },
     "execution_count": 15,
     "metadata": {},
     "output_type": "execute_result"
    }
   ],
   "source": [
    "ord('p'),ord('y'),ord('t'),ord('h'),ord('o'),ord('n')"
   ]
  },
  {
   "cell_type": "markdown",
   "id": "eec4aa2f-4f01-406b-b7b4-cd7859f235ab",
   "metadata": {},
   "source": [
    "**min**\n",
    "\n",
    "- it will retrive the minimum character based on ascii value"
   ]
  },
  {
   "cell_type": "code",
   "execution_count": 16,
   "id": "6d2193f9-dae1-4ae5-87db-d5c1fb55f544",
   "metadata": {},
   "outputs": [
    {
     "data": {
      "text/plain": [
       "'h'"
      ]
     },
     "execution_count": 16,
     "metadata": {},
     "output_type": "execute_result"
    }
   ],
   "source": [
    "s1='python'\n",
    "min(s1)"
   ]
  },
  {
   "cell_type": "code",
   "execution_count": 17,
   "id": "cda66ce0-c3d5-458e-bb45-e97af5026790",
   "metadata": {},
   "outputs": [
    {
     "data": {
      "text/plain": [
       "'S'"
      ]
     },
     "execution_count": 17,
     "metadata": {},
     "output_type": "execute_result"
    }
   ],
   "source": [
    "s1='Saswati'\n",
    "min(s1)"
   ]
  },
  {
   "cell_type": "markdown",
   "id": "f4593bd4-fd5d-467b-af73-11fcac8ff1ba",
   "metadata": {},
   "source": [
    "**sum**\n",
    "\n",
    "- it will return the sum of the values\n",
    "\n",
    "- it will not work for strings\n",
    "\n",
    "- it will works for numbers"
   ]
  },
  {
   "cell_type": "code",
   "execution_count": 18,
   "id": "7a90e914-5ec8-41e8-af9f-626a2bf1ebbc",
   "metadata": {},
   "outputs": [
    {
     "ename": "TypeError",
     "evalue": "unsupported operand type(s) for +: 'int' and 'str'",
     "output_type": "error",
     "traceback": [
      "\u001b[1;31m---------------------------------------------------------------------------\u001b[0m",
      "\u001b[1;31mTypeError\u001b[0m                                 Traceback (most recent call last)",
      "Cell \u001b[1;32mIn[18], line 1\u001b[0m\n\u001b[1;32m----> 1\u001b[0m \u001b[38;5;28msum\u001b[39m(\u001b[38;5;124m'\u001b[39m\u001b[38;5;124m123\u001b[39m\u001b[38;5;124m'\u001b[39m),\u001b[38;5;28msum\u001b[39m(\u001b[38;5;124m'\u001b[39m\u001b[38;5;124mpython\u001b[39m\u001b[38;5;124m'\u001b[39m)\n",
      "\u001b[1;31mTypeError\u001b[0m: unsupported operand type(s) for +: 'int' and 'str'"
     ]
    }
   ],
   "source": [
    "sum('123'),sum('python')"
   ]
  },
  {
   "cell_type": "markdown",
   "id": "4d5a3cef-04b9-41b0-9a23-8c218cd3d3e2",
   "metadata": {},
   "source": [
    "**reversed**"
   ]
  },
  {
   "cell_type": "code",
   "execution_count": 19,
   "id": "289337ae-4562-4481-9356-e1014a02968f",
   "metadata": {},
   "outputs": [
    {
     "data": {
      "text/plain": [
       "<reversed at 0x161a178f310>"
      ]
     },
     "execution_count": 19,
     "metadata": {},
     "output_type": "execute_result"
    }
   ],
   "source": [
    "reversed('python')"
   ]
  },
  {
   "cell_type": "markdown",
   "id": "7f92ab45-f371-42ab-87cb-27d5b92fb228",
   "metadata": {},
   "source": [
    "**note**\n",
    "\n",
    "- whenever you see the output inside greater than less than symbol\n",
    "\n",
    "- Means the output is stored inside that\n",
    "\n",
    "- It is nothing but a iterator\n",
    "\n",
    "- Iterator means the output we can see using loop only"
   ]
  },
  {
   "cell_type": "code",
   "execution_count": 20,
   "id": "05aa98c0-5de7-47e8-a936-0dd3f1c868a2",
   "metadata": {},
   "outputs": [
    {
     "name": "stdout",
     "output_type": "stream",
     "text": [
      "n\n",
      "o\n",
      "h\n",
      "t\n",
      "y\n",
      "p\n"
     ]
    }
   ],
   "source": [
    "str1=reversed('python')\n",
    "for i in str1:\n",
    "    print(i)"
   ]
  },
  {
   "cell_type": "markdown",
   "id": "98b9877e-6282-4a98-8968-b93f2aa84633",
   "metadata": {},
   "source": [
    "**sorted**\n",
    "\n",
    "- will give the output ascending order or descending order based on ascii values\n",
    "\n",
    "- sorted has one argument called reverse\n",
    "\n",
    "- reverse is a default argument with value false\n",
    "\n",
    "- False means it returns in ascending orders\n",
    "\n",
    "- ascending means small to big\n",
    "\n",
    "- Now give reverse=True and check the order\n",
    "\n",
    "- It should be descending order\n",
    "\n",
    "- descending means big to small"
   ]
  },
  {
   "cell_type": "code",
   "execution_count": 23,
   "id": "d1dd605e-dd86-410d-97cb-18b71753c00c",
   "metadata": {},
   "outputs": [
    {
     "data": {
      "text/plain": [
       "(112, 121, 116, 104, 111, 110)"
      ]
     },
     "execution_count": 23,
     "metadata": {},
     "output_type": "execute_result"
    }
   ],
   "source": [
    "ord('p'),ord('y'),ord('t'),ord('h'),ord('o'),ord('n')"
   ]
  },
  {
   "cell_type": "code",
   "execution_count": 22,
   "id": "a6c010b4-9dbd-4570-96ab-29b86c788cf5",
   "metadata": {},
   "outputs": [
    {
     "data": {
      "text/plain": [
       "['h', 'n', 'o', 'p', 't', 'y']"
      ]
     },
     "execution_count": 22,
     "metadata": {},
     "output_type": "execute_result"
    }
   ],
   "source": [
    "sorted('python')\n",
    "\n",
    "# [104,110,111,112,116,121]\n",
    "# it will give ascending order"
   ]
  },
  {
   "cell_type": "code",
   "execution_count": 25,
   "id": "a7f43cd8-5c5a-4ac2-ad6f-330035767600",
   "metadata": {},
   "outputs": [
    {
     "data": {
      "text/plain": [
       "['y', 't', 'p', 'o', 'n', 'h']"
      ]
     },
     "execution_count": 25,
     "metadata": {},
     "output_type": "execute_result"
    }
   ],
   "source": [
    "sorted('python',reverse=True)\n",
    "\n",
    "# it will give descending order"
   ]
  },
  {
   "cell_type": "code",
   "execution_count": 28,
   "id": "58ef3038-a622-4321-a421-2fb1b8683e10",
   "metadata": {},
   "outputs": [
    {
     "ename": "TypeError",
     "evalue": "sorted expected 1 argument, got 0",
     "output_type": "error",
     "traceback": [
      "\u001b[1;31m---------------------------------------------------------------------------\u001b[0m",
      "\u001b[1;31mTypeError\u001b[0m                                 Traceback (most recent call last)",
      "Cell \u001b[1;32mIn[28], line 1\u001b[0m\n\u001b[1;32m----> 1\u001b[0m \u001b[38;5;28msorted\u001b[39m(iterable\u001b[38;5;241m=\u001b[39m\u001b[38;5;124m'\u001b[39m\u001b[38;5;124mpython\u001b[39m\u001b[38;5;124m'\u001b[39m,reverse\u001b[38;5;241m=\u001b[39m\u001b[38;5;28;01mTrue\u001b[39;00m)\n",
      "\u001b[1;31mTypeError\u001b[0m: sorted expected 1 argument, got 0"
     ]
    }
   ],
   "source": [
    "sorted(iterable='python',reverse=True)\n",
    "\n",
    "# if you see any /\n",
    "# donot assign any arguments before the /"
   ]
  },
  {
   "cell_type": "code",
   "execution_count": 30,
   "id": "c9dd2217-4c75-4554-aeec-ae6c430f0f7d",
   "metadata": {},
   "outputs": [
    {
     "data": {
      "text/plain": [
       "0j"
      ]
     },
     "execution_count": 30,
     "metadata": {},
     "output_type": "execute_result"
    }
   ],
   "source": [
    "complex()"
   ]
  },
  {
   "cell_type": "code",
   "execution_count": null,
   "id": "97465843-5613-42ef-acaa-4f6ad7d5d30e",
   "metadata": {},
   "outputs": [],
   "source": [
    "complex()              # it is written\n",
    "complex(2,3)           # w\n",
    "complex(real=2,imag=3) # w\n",
    "complex(real=2,3)      # f\n",
    "complex(2,imag=3)      # w\n",
    "\n",
    "# why failed for complex(real=2,3)"
   ]
  },
  {
   "cell_type": "code",
   "execution_count": 35,
   "id": "b3c5f7e2-9c05-41ce-bd5e-63a7347081ae",
   "metadata": {},
   "outputs": [
    {
     "data": {
      "text/plain": [
       "(2+3j)"
      ]
     },
     "execution_count": 35,
     "metadata": {},
     "output_type": "execute_result"
    }
   ],
   "source": [
    "complex(2,3)  "
   ]
  },
  {
   "cell_type": "code",
   "execution_count": 36,
   "id": "bc1a59fb-1651-4a6a-a6c2-fde4c87e7467",
   "metadata": {},
   "outputs": [
    {
     "data": {
      "text/plain": [
       "(2+3j)"
      ]
     },
     "execution_count": 36,
     "metadata": {},
     "output_type": "execute_result"
    }
   ],
   "source": [
    "complex(real=2,imag=3)"
   ]
  },
  {
   "cell_type": "code",
   "execution_count": 37,
   "id": "b800a470-8fbf-448a-b363-d7ad77823ef6",
   "metadata": {},
   "outputs": [
    {
     "ename": "SyntaxError",
     "evalue": "positional argument follows keyword argument (2953039683.py, line 1)",
     "output_type": "error",
     "traceback": [
      "\u001b[1;36m  Cell \u001b[1;32mIn[37], line 1\u001b[1;36m\u001b[0m\n\u001b[1;33m    complex(real=2,3)\u001b[0m\n\u001b[1;37m                    ^\u001b[0m\n\u001b[1;31mSyntaxError\u001b[0m\u001b[1;31m:\u001b[0m positional argument follows keyword argument\n"
     ]
    }
   ],
   "source": [
    "complex(real=2,3)  "
   ]
  },
  {
   "cell_type": "code",
   "execution_count": 38,
   "id": "40ba2746-da07-4de4-8cfb-86babf376477",
   "metadata": {},
   "outputs": [
    {
     "data": {
      "text/plain": [
       "(2+3j)"
      ]
     },
     "execution_count": 38,
     "metadata": {},
     "output_type": "execute_result"
    }
   ],
   "source": [
    "complex(2,imag=3)"
   ]
  },
  {
   "cell_type": "code",
   "execution_count": null,
   "id": "ea32f1fb-b83c-4c4b-bdd9-a13b0dc36e13",
   "metadata": {},
   "outputs": [],
   "source": [
    "import random\n",
    "random.randint()           # f\n",
    "random.randint(10,20)      # w\n",
    "random.randint(a=10,b=20)  # w\n",
    "random.randint(c=20,d=50)  # f\n",
    "random.randint(a=10,20)\n",
    "random.randint(10,b=20)"
   ]
  },
  {
   "cell_type": "code",
   "execution_count": null,
   "id": "90afc99e-2269-4176-b3a4-01b0d168d845",
   "metadata": {},
   "outputs": [],
   "source": [
    "0+0j\n",
    "0j(This is the answer)\n",
    "0\n",
    "Nt"
   ]
  },
  {
   "cell_type": "markdown",
   "id": "e6f99ab4-94e9-4f8c-b423-75d004f6f75c",
   "metadata": {},
   "source": [
    "**in**"
   ]
  },
  {
   "cell_type": "code",
   "execution_count": null,
   "id": "76b92888-4bd0-472a-ab4e-811e9d304b6a",
   "metadata": {},
   "outputs": [],
   "source": [
    "# wap ask the user get the number of 'a' in a given string\n",
    "str1='hello how are you, im saswati'\n",
    "# count=0\n",
    "# iterate through each letter\n",
    "# if that letter equal to 'a'\n",
    "# then count=count+1"
   ]
  },
  {
   "cell_type": "code",
   "execution_count": 45,
   "id": "ebb2b662-8a57-430c-ae49-8609e5d8111f",
   "metadata": {},
   "outputs": [
    {
     "name": "stdout",
     "output_type": "stream",
     "text": [
      "a\n",
      "a\n",
      "a\n",
      "3\n"
     ]
    }
   ],
   "source": [
    "count=0\n",
    "str1='hello how are you, im saswati'\n",
    "for i in str1:\n",
    "    if i=='a':\n",
    "        print(i)\n",
    "        count=count+1\n",
    "\n",
    "print(count)"
   ]
  },
  {
   "cell_type": "markdown",
   "id": "1bf8ad89-5eeb-4363-8f3c-9b9a27ed8ebb",
   "metadata": {},
   "source": [
    "- initialisation of strings\n",
    "\n",
    "- type\n",
    "\n",
    "- print\n",
    "\n",
    "- len\n",
    "\n",
    "- min\n",
    "\n",
    "- max\n",
    "\n",
    "- in\n",
    "\n",
    "- sorted\n",
    "\n",
    "- reversed"
   ]
  },
  {
   "cell_type": "markdown",
   "id": "187673d7-f87c-4121-bb5e-14ca56bf77d4",
   "metadata": {},
   "source": [
    "**index**"
   ]
  },
  {
   "cell_type": "code",
   "execution_count": 1,
   "id": "3c9cb813-1ca1-4b46-8d6c-2677973ea283",
   "metadata": {},
   "outputs": [
    {
     "data": {
      "text/plain": [
       "'h'"
      ]
     },
     "execution_count": 1,
     "metadata": {},
     "output_type": "execute_result"
    }
   ],
   "source": [
    "str1='hello python'\n",
    "# In python index start with zero\n",
    "str1[0]"
   ]
  },
  {
   "cell_type": "code",
   "execution_count": null,
   "id": "dc9d533c-fb29-4653-bee7-1ea4eec08412",
   "metadata": {},
   "outputs": [],
   "source": [
    "-12  -11  -10  -9  -8  -7  -6   -5   -4   -3   -2   -1\n",
    "h     e    l    l   o       p    y    t    h    o    n\n",
    "0     1    2    3   4   5   6    7    8    9   10    11"
   ]
  },
  {
   "cell_type": "code",
   "execution_count": null,
   "id": "9207901f-873e-4e61-b819-914fb74e4fa0",
   "metadata": {},
   "outputs": [],
   "source": [
    "str1='hello python'\n",
    "str1[1]\n",
    "str1[2]\n",
    "str1[3]\n",
    "str1[4]\n",
    "\n",
    "str1[11]\n",
    "\n",
    "# here str1 and [] are constant and the index numbers are changing"
   ]
  },
  {
   "cell_type": "code",
   "execution_count": 2,
   "id": "60e0def3-7f3a-4ab1-8aec-71a018c011a8",
   "metadata": {},
   "outputs": [
    {
     "name": "stdout",
     "output_type": "stream",
     "text": [
      "0 h\n",
      "1 e\n",
      "2 l\n",
      "3 l\n",
      "4 o\n",
      "5  \n",
      "6 p\n",
      "7 y\n",
      "8 t\n",
      "9 h\n",
      "10 o\n",
      "11 n\n"
     ]
    }
   ],
   "source": [
    "str1='hello python'\n",
    "for i in range(12):\n",
    "    print(i,str1[i])\n",
    "    "
   ]
  },
  {
   "cell_type": "code",
   "execution_count": 3,
   "id": "a4cab259-f870-4e70-b21c-6c312f26f6a5",
   "metadata": {},
   "outputs": [
    {
     "name": "stdout",
     "output_type": "stream",
     "text": [
      "0 n\n",
      "1 a\n",
      "2 r\n",
      "3 e\n",
      "4 s\n",
      "5 h\n",
      "6  \n",
      "7 i\n",
      "8 t\n"
     ]
    }
   ],
   "source": [
    "str1='naresh it'\n",
    "n=len(str1)\n",
    "for i in range(n):\n",
    "    print(i,str1[i])"
   ]
  },
  {
   "cell_type": "code",
   "execution_count": 4,
   "id": "04dffd15-5920-4692-8919-e6bee63f59dd",
   "metadata": {},
   "outputs": [
    {
     "name": "stdout",
     "output_type": "stream",
     "text": [
      "0 n\n",
      "1 a\n",
      "2 r\n",
      "3 e\n",
      "4 s\n",
      "5 h\n",
      "6  \n",
      "7 i\n",
      "8 t\n"
     ]
    }
   ],
   "source": [
    "for i in range(len('naresh it')):\n",
    "    print(i,str1[i])"
   ]
  },
  {
   "cell_type": "code",
   "execution_count": 6,
   "id": "ea28dc6a-7fe9-4e57-a0a0-17d564d3f76c",
   "metadata": {},
   "outputs": [
    {
     "data": {
      "text/plain": [
       "('h', 'h')"
      ]
     },
     "execution_count": 6,
     "metadata": {},
     "output_type": "execute_result"
    }
   ],
   "source": [
    "str1='hello python'\n",
    "str1[-12],str1[0]"
   ]
  },
  {
   "cell_type": "code",
   "execution_count": null,
   "id": "988a7351-8f65-4a3f-b4e3-7bff0dad01a4",
   "metadata": {},
   "outputs": [],
   "source": [
    "str1[-12]\n",
    "str1[-11]\n",
    "str1[-10]\n",
    "str1[-9]\n",
    "\n",
    "# hello python\n",
    "# -12    -1"
   ]
  },
  {
   "cell_type": "code",
   "execution_count": 8,
   "id": "c6b427c9-2868-4f1e-a166-d98a843bf588",
   "metadata": {},
   "outputs": [
    {
     "name": "stdout",
     "output_type": "stream",
     "text": [
      "-12 h\n",
      "-11 e\n",
      "-10 l\n",
      "-9 l\n",
      "-8 o\n",
      "-7  \n",
      "-6 p\n",
      "-5 y\n",
      "-4 t\n",
      "-3 h\n",
      "-2 o\n",
      "-1 n\n"
     ]
    }
   ],
   "source": [
    "n=len(str1)\n",
    "for i in range(-n,0):\n",
    "    print(i,str1[i])"
   ]
  },
  {
   "cell_type": "markdown",
   "id": "14c0f6c0-66cd-4762-a749-e363570df889",
   "metadata": {},
   "source": [
    "**positive index**"
   ]
  },
  {
   "cell_type": "code",
   "execution_count": null,
   "id": "662fb5a7-df99-4aba-96a8-a162a0dd2607",
   "metadata": {},
   "outputs": [],
   "source": [
    "str1='hello python'\n",
    "for i in range(12):\n",
    "    print(i,str1[i])"
   ]
  },
  {
   "cell_type": "markdown",
   "id": "5701b17f-fd3a-4463-9649-d401a83c9180",
   "metadata": {},
   "source": [
    "**negative index**"
   ]
  },
  {
   "cell_type": "code",
   "execution_count": null,
   "id": "575d662c-31e1-40c0-8bf8-50ef8b848ba8",
   "metadata": {},
   "outputs": [],
   "source": [
    "n=len(str1)\n",
    "for i in range(-n,0):\n",
    "    print(i,str1[i])"
   ]
  },
  {
   "cell_type": "code",
   "execution_count": null,
   "id": "9c574d03-25b5-43d0-82b6-8bfc21a4392a",
   "metadata": {},
   "outputs": [],
   "source": [
    "# Q.2) wap to print the each letter index positive way\n",
    "#      the positive index of h is 0\n",
    "#      the positive index of e is 1\n",
    "\n",
    "\n",
    "# Q.3) wap to print the each letter index negative way\n",
    "#      the negative index of h is -12\n",
    "#      the negative index of e is -11\n",
    "\n",
    "\n",
    "# Q.4) wap to print the each letter index positive and negative way(single for loop)\n",
    "#      the positive index of h is 0 and negative index of h is -12\n",
    "#      the positive index of e is 1 and negative index of e is -11"
   ]
  },
  {
   "cell_type": "code",
   "execution_count": 10,
   "id": "855dc070-cfaa-49ba-9cf8-884236405a91",
   "metadata": {},
   "outputs": [
    {
     "name": "stdout",
     "output_type": "stream",
     "text": [
      "The positive index of h is 0\n",
      "The positive index of e is 1\n",
      "The positive index of l is 2\n",
      "The positive index of l is 3\n",
      "The positive index of o is 4\n",
      "The positive index of   is 5\n",
      "The positive index of p is 6\n",
      "The positive index of y is 7\n",
      "The positive index of t is 8\n",
      "The positive index of h is 9\n",
      "The positive index of o is 10\n",
      "The positive index of n is 11\n"
     ]
    }
   ],
   "source": [
    "str1='hello python'\n",
    "n=len(str1)\n",
    "for i in range(n):\n",
    "    print(f'The positive index of {str1[i]} is {i}') "
   ]
  },
  {
   "cell_type": "code",
   "execution_count": 11,
   "id": "41c147e2-1285-457b-a553-78ef6259f1c8",
   "metadata": {},
   "outputs": [
    {
     "name": "stdout",
     "output_type": "stream",
     "text": [
      "The negative index of h is -12\n",
      "The negative index of e is -11\n",
      "The negative index of l is -10\n",
      "The negative index of l is -9\n",
      "The negative index of o is -8\n",
      "The negative index of   is -7\n",
      "The negative index of p is -6\n",
      "The negative index of y is -5\n",
      "The negative index of t is -4\n",
      "The negative index of h is -3\n",
      "The negative index of o is -2\n",
      "The negative index of n is -1\n"
     ]
    }
   ],
   "source": [
    "str1='hello python'\n",
    "n=len(str1)\n",
    "for i in range(-n,0):\n",
    "    print(f'The negative index of {str1[i]} is {i}')"
   ]
  },
  {
   "cell_type": "code",
   "execution_count": 13,
   "id": "9b52e272-80bd-41be-b2ca-beb6566474ea",
   "metadata": {},
   "outputs": [
    {
     "name": "stdout",
     "output_type": "stream",
     "text": [
      "The positive index of h is 0 and the negative index of h is -12\n",
      "The positive index of e is 1 and the negative index of e is -11\n",
      "The positive index of l is 2 and the negative index of l is -10\n",
      "The positive index of l is 3 and the negative index of l is -9\n",
      "The positive index of o is 4 and the negative index of o is -8\n",
      "The positive index of   is 5 and the negative index of   is -7\n",
      "The positive index of p is 6 and the negative index of p is -6\n",
      "The positive index of y is 7 and the negative index of y is -5\n",
      "The positive index of t is 8 and the negative index of t is -4\n",
      "The positive index of h is 9 and the negative index of h is -3\n",
      "The positive index of o is 10 and the negative index of o is -2\n",
      "The positive index of n is 11 and the negative index of n is -1\n"
     ]
    }
   ],
   "source": [
    "for i in range(n):\n",
    "    print(f'The positive index of {str1[i]} is {i} and the negative index of {str1[i]} is {i-12}')"
   ]
  },
  {
   "cell_type": "code",
   "execution_count": null,
   "id": "149c3978-f394-453b-8fda-9c4885b353bb",
   "metadata": {},
   "outputs": [],
   "source": [
    "# case-1:\n",
    "str1='hello python'\n",
    "n=len(str1)\n",
    "for i in range(n):\n",
    "    print(f'The positive index of {str1[i]} is {i}') \n",
    "\n",
    "\n",
    "# case-2:\n",
    "str1='hello python'\n",
    "n=len(str1)\n",
    "for i in range(-n,0):\n",
    "    print(f'The negative index of {str1[i]} is {i}')\n",
    "\n",
    "\n",
    "# case-3:\n",
    "for i in range(n):\n",
    "    print(f'The positive index of {str1[i]} is {i} and the negative index of {str1[i]} is {i-12}')"
   ]
  },
  {
   "cell_type": "code",
   "execution_count": null,
   "id": "98556f99-f723-4c66-9a1e-bb3f9f09ffc1",
   "metadata": {},
   "outputs": [],
   "source": [
    "# Q.5) wap ask the user get the indexes of occurence of 'a' in a given string\n",
    "# str1='available'\n",
    "\n",
    "# Iterate through str1\n",
    "# apply the if condition if character == 0\n",
    "# then print i"
   ]
  },
  {
   "cell_type": "markdown",
   "id": "d71a8842-c829-4bfa-aa98-878ff8383cfc",
   "metadata": {},
   "source": [
    "**when to use in and when to use range operator**"
   ]
  },
  {
   "cell_type": "code",
   "execution_count": 14,
   "id": "abfb6b9a-3bfa-4685-80ff-0bf41cdef35a",
   "metadata": {},
   "outputs": [
    {
     "name": "stdout",
     "output_type": "stream",
     "text": [
      "a\n",
      "v\n",
      "a\n",
      "i\n",
      "l\n",
      "a\n",
      "b\n",
      "l\n",
      "e\n"
     ]
    }
   ],
   "source": [
    "# in this case i=====> represent letters\n",
    "for i in str1:\n",
    "    print(i)\n",
    "\n",
    "# if you want to get characters use in operator"
   ]
  },
  {
   "cell_type": "code",
   "execution_count": 15,
   "id": "89ba0ce2-5507-47c0-b9e9-799f19188df8",
   "metadata": {},
   "outputs": [
    {
     "name": "stdout",
     "output_type": "stream",
     "text": [
      "a\n",
      "v\n",
      "a\n",
      "i\n",
      "l\n",
      "a\n",
      "b\n",
      "l\n",
      "e\n"
     ]
    }
   ],
   "source": [
    "# in this case i=====> represent a number i.e. Index\n",
    "str1='available'\n",
    "for i in range(len(str1)):\n",
    "    print(str1[i])\n",
    "\n",
    "# if you want to get numbers use range operator"
   ]
  },
  {
   "cell_type": "code",
   "execution_count": 17,
   "id": "3aedd300-119c-4e05-9034-0f96300ab605",
   "metadata": {},
   "outputs": [
    {
     "name": "stdout",
     "output_type": "stream",
     "text": [
      "0\n",
      "2\n",
      "5\n"
     ]
    }
   ],
   "source": [
    "str1='available'\n",
    "for i in range(len(str1)):\n",
    "    if str1[i]=='a':\n",
    "        print(i)\n",
    "\n",
    "# i=o    str1[0]='a'     a=='a'    True     print(0)\n",
    "# i=1    str1[1]='a'     a=='a'    False\n",
    "# i=2    str1[2]='a'     a=='a'    True     print(2)"
   ]
  },
  {
   "cell_type": "code",
   "execution_count": null,
   "id": "e32cee8b-659d-4969-bbe6-6a3936477d80",
   "metadata": {},
   "outputs": [],
   "source": [
    "# Q.6)  print 1 occurence of 'a' index is 0\n",
    "#             2 occurence of 'a' index is 2\n",
    "#             3 occurence of 'a' index is 5"
   ]
  },
  {
   "cell_type": "code",
   "execution_count": 19,
   "id": "3d359375-21f0-4055-8eee-26d4456498e8",
   "metadata": {},
   "outputs": [
    {
     "name": "stdout",
     "output_type": "stream",
     "text": [
      "The 1 occurence of \"a\" index is 0\n",
      "The 2 occurence of \"a\" index is 2\n",
      "The 3 occurence of \"a\" index is 5\n"
     ]
    }
   ],
   "source": [
    "count=0\n",
    "str1='available'\n",
    "for i in range(len(str1)):\n",
    "    if str1[i]=='a':\n",
    "        count=count+1\n",
    "        print(f'The {count} occurence of \"a\" index is {i}')\n",
    "        "
   ]
  },
  {
   "cell_type": "code",
   "execution_count": 22,
   "id": "72cb961c-68de-4b88-8786-5284c195c850",
   "metadata": {},
   "outputs": [
    {
     "name": "stdout",
     "output_type": "stream",
     "text": [
      "The sum of all occurence of \"a\" is 7\n",
      "The count of all occurence of \"a\" is 3\n"
     ]
    }
   ],
   "source": [
    "# Q.7) Get the sum of all the indexes\n",
    "#      get the count of all occurences :3\n",
    "\n",
    "count=0\n",
    "summ=0\n",
    "str1='available'\n",
    "for i in range(len(str1)):\n",
    "    if str1[i]=='a':\n",
    "        count=count+1\n",
    "        summ=summ+i\n",
    "        \n",
    "print(f'The sum of all occurence of \"a\" is {summ}')\n",
    "print(f'The count of all occurence of \"a\" is {count}')"
   ]
  },
  {
   "cell_type": "code",
   "execution_count": null,
   "id": "6fcad355-1b3c-47ef-bc0d-4b5ec9c3c36a",
   "metadata": {},
   "outputs": [],
   "source": [
    "# Q.8) find the vowels in the given string\n",
    "# str1: hai how are you\n",
    "# find the indexs of vowels\n",
    "# find the count of vowels\n",
    "# find the sum of before index of vowels"
   ]
  },
  {
   "cell_type": "code",
   "execution_count": 31,
   "id": "589010e3-6e14-4681-9dd8-b457a8732fd8",
   "metadata": {},
   "outputs": [
    {
     "name": "stdout",
     "output_type": "stream",
     "text": [
      "The indexes of vowel a is 1\n",
      "The indexes of vowel i is 2\n",
      "The indexes of vowel o is 5\n",
      "The indexes of vowel a is 8\n",
      "The indexes of vowel e is 10\n",
      "The indexes of vowel o is 13\n",
      "The indexes of vowel u is 14\n",
      "The count of vowels is 7\n",
      "The sum of vowels is 53\n"
     ]
    }
   ],
   "source": [
    "count=0\n",
    "summ=0\n",
    "str1='hai how are you'\n",
    "for i in range(len(str1)):\n",
    "    if str1[i] in 'aeiou':\n",
    "        count=count+1\n",
    "        summ=summ+i\n",
    "        print(f'The indexes of vowel {str1[i]} is {i}')\n",
    "\n",
    "print(f'The count of vowels is {count}')\n",
    "print(f'The sum of vowels is {summ}')"
   ]
  },
  {
   "cell_type": "markdown",
   "id": "ffebef8d-1286-4692-8cfb-cf60257f7b57",
   "metadata": {},
   "source": [
    "**mutable-immutable**\n",
    "\n",
    "- Values can not change using Index operations called as **immutable**\n",
    "\n",
    "- **STRINGS ARE IMMUTABLE**"
   ]
  },
  {
   "cell_type": "code",
   "execution_count": 2,
   "id": "7716d7b5-5ad6-47bf-98c7-10b390fab493",
   "metadata": {},
   "outputs": [
    {
     "ename": "TypeError",
     "evalue": "'str' object does not support item assignment",
     "output_type": "error",
     "traceback": [
      "\u001b[1;31m---------------------------------------------------------------------------\u001b[0m",
      "\u001b[1;31mTypeError\u001b[0m                                 Traceback (most recent call last)",
      "Cell \u001b[1;32mIn[2], line 3\u001b[0m\n\u001b[0;32m      1\u001b[0m \u001b[38;5;66;03m# I want to replace 'p' with 'P'\u001b[39;00m\n\u001b[0;32m      2\u001b[0m str1\u001b[38;5;241m=\u001b[39m\u001b[38;5;124m'\u001b[39m\u001b[38;5;124mpython\u001b[39m\u001b[38;5;124m'\u001b[39m\n\u001b[1;32m----> 3\u001b[0m str1[\u001b[38;5;241m0\u001b[39m]\u001b[38;5;241m=\u001b[39m\u001b[38;5;124m'\u001b[39m\u001b[38;5;124mP\u001b[39m\u001b[38;5;124m'\u001b[39m\n",
      "\u001b[1;31mTypeError\u001b[0m: 'str' object does not support item assignment"
     ]
    }
   ],
   "source": [
    "# I want to replace 'p' with 'P'\n",
    "str1='python'\n",
    "str1[0]='P'\n",
    "\n",
    "# I can't change using index operations"
   ]
  },
  {
   "cell_type": "markdown",
   "id": "89ebdef5-0151-4356-869c-967ee9214b8f",
   "metadata": {},
   "source": [
    "### STRINGS ARE IMMUTABLE"
   ]
  },
  {
   "cell_type": "code",
   "execution_count": 3,
   "id": "09ddf1bc-92ac-4e5c-8ecd-ab2bd4a411cd",
   "metadata": {},
   "outputs": [
    {
     "data": {
      "text/plain": [
       "[100, 20, 30]"
      ]
     },
     "execution_count": 3,
     "metadata": {},
     "output_type": "execute_result"
    }
   ],
   "source": [
    "l=[10,20,30]\n",
    "l[0]=100\n",
    "l\n",
    "\n",
    "# List are mutable"
   ]
  },
  {
   "cell_type": "markdown",
   "id": "7f8d5320-4c49-402c-926a-195244f02b5f",
   "metadata": {},
   "source": [
    "**slice**\n",
    "\n",
    "- cut into pieces\n",
    "\n",
    "- which means we can extract some part of string\n",
    "\n",
    "- for that we need to understand the start,stop,step\n",
    "\n",
    "- s[start:stop:step]\n",
    "\n"
   ]
  },
  {
   "cell_type": "code",
   "execution_count": 4,
   "id": "1167eeda-50ec-4f53-97d3-43576baef844",
   "metadata": {},
   "outputs": [
    {
     "data": {
      "text/plain": [
       "'llo pyth'"
      ]
     },
     "execution_count": 4,
     "metadata": {},
     "output_type": "execute_result"
    }
   ],
   "source": [
    "# -12  -11  -10  -9   -8  -7  -6   -5   -4   -3   -2   -1\n",
    "#  h     e    l    l   o       p    y    t    h    o    n\n",
    "#  0     1    2    3   4   5   6    7    8    9   10    11\n",
    "\n",
    "str='hello python'\n",
    "str[2:10]\n",
    "\n",
    "# start=2\n",
    "# dir=positive\n",
    "# last=stop-1=10-1=9"
   ]
  },
  {
   "cell_type": "code",
   "execution_count": 5,
   "id": "d9794a6b-5f12-4905-851e-5c79a859bff5",
   "metadata": {},
   "outputs": [
    {
     "data": {
      "text/plain": [
       "'lopt'"
      ]
     },
     "execution_count": 5,
     "metadata": {},
     "output_type": "execute_result"
    }
   ],
   "source": [
    "str='hello python'\n",
    "str[2:10:2]\n",
    "\n",
    "# start=2\n",
    "# dir=positive=2\n",
    "# last=stop-1=10-1=9"
   ]
  },
  {
   "cell_type": "code",
   "execution_count": 6,
   "id": "7dd3a49e-367a-4c44-be99-02a1eb2b87c6",
   "metadata": {},
   "outputs": [
    {
     "data": {
      "text/plain": [
       "''"
      ]
     },
     "execution_count": 6,
     "metadata": {},
     "output_type": "execute_result"
    }
   ],
   "source": [
    "str='hello python'\n",
    "str[2:10:-2]\n",
    "\n",
    "# start=2\n",
    "# dir=negative=2\n",
    "# last=stop+1=10+1=11\n",
    "# 2=======11(actual positive)\n",
    "# code says negative it is not possible\n",
    "# it doesnot give error but it provide a empty string"
   ]
  },
  {
   "cell_type": "code",
   "execution_count": 7,
   "id": "4eaa085d-c77b-45f0-b4a2-3e80e7bbd31c",
   "metadata": {},
   "outputs": [
    {
     "data": {
      "text/plain": [
       "''"
      ]
     },
     "execution_count": 7,
     "metadata": {},
     "output_type": "execute_result"
    }
   ],
   "source": [
    "# -12  -11  -10  -9   -8  -7  -6   -5   -4   -3   -2   -1\n",
    "#  h     e    l    l   o       p    y    t    h    o    n\n",
    "#  0     1    2    3   4   5   6    7    8    9   10    11\n",
    "\n",
    "str='hello python'\n",
    "str[7:-12:2]\n",
    "\n",
    "# start=7\n",
    "# dir=positive=2\n",
    "# last=stop-1=-12-1=-13\n",
    "# 2=======-13(actual negativetive)\n",
    "# code says positive it is not possible\n",
    "# it doesnot give error but it provide a empty string"
   ]
  },
  {
   "cell_type": "code",
   "execution_count": 8,
   "id": "1127fe0f-54e7-43db-a691-541d1d0f0bc7",
   "metadata": {},
   "outputs": [
    {
     "data": {
      "text/plain": [
       "'y le'"
      ]
     },
     "execution_count": 8,
     "metadata": {},
     "output_type": "execute_result"
    }
   ],
   "source": [
    "str='hello python'\n",
    "str[7:-12:-2]"
   ]
  },
  {
   "cell_type": "code",
   "execution_count": 9,
   "id": "b5507a93-da40-4a79-9e66-7c5382f32821",
   "metadata": {},
   "outputs": [
    {
     "data": {
      "text/plain": [
       "'lopto'"
      ]
     },
     "execution_count": 9,
     "metadata": {},
     "output_type": "execute_result"
    }
   ],
   "source": [
    "# -12  -11  -10  -9   -8  -7  -6   -5   -4   -3   -2   -1\n",
    "#  h     e    l    l   o       p    y    t    h    o    n\n",
    "#  0     1    2    3   4   5   6    7    8    9   10    11\n",
    "\n",
    "str='hello python'\n",
    "str[2:-1:2]\n",
    "\n",
    "# start=2\n",
    "# dir=positive=2\n",
    "# last=stop-1=-1-1=-2 \n",
    "\n",
    "# here stand is in 2 you go to -1 so it is possible"
   ]
  },
  {
   "cell_type": "code",
   "execution_count": 10,
   "id": "74afa9ab-7a5d-45b5-9709-15f7e6bde493",
   "metadata": {},
   "outputs": [
    {
     "data": {
      "text/plain": [
       "'lop'"
      ]
     },
     "execution_count": 10,
     "metadata": {},
     "output_type": "execute_result"
    }
   ],
   "source": [
    "str='hello python'\n",
    "str[2:-4:2]"
   ]
  },
  {
   "cell_type": "code",
   "execution_count": null,
   "id": "79c659ce-056f-492f-bd63-9c6fbd9caea7",
   "metadata": {},
   "outputs": [],
   "source": [
    "# -12  -11  -10  -9   -8  -7  -6   -5   -4   -3   -2   -1\n",
    "#  h     e    l    l   o       p    y    t    h    o    n\n",
    "#  0     1    2    3   4   5   6    7    8    9   10    11\n",
    "\n",
    "str1[2:12:2]         # p\n",
    "str1[2:12:-2]        # np\n",
    "str1[2:-12:2]        # np\n",
    "str1[2:-12:-2]       # p\n",
    "str1[-2:-12:-2]      # p\n",
    "str1[-2:12:2]        # p =========== special case\n",
    "str1[-2:-12:2]       # np\n",
    "str1[:]              # p (all)\n",
    "str1[2:]             # p (start=2  last=last)\n",
    "str1[:12]            # p (start=0  last=11)\n",
    "str1[::]             # p (start=0  last=last  step=1)\n",
    "str1[::-1]           # reverse string"
   ]
  },
  {
   "cell_type": "code",
   "execution_count": 23,
   "id": "4546dc7a-f545-4dd2-a401-da84258748f7",
   "metadata": {},
   "outputs": [
    {
     "data": {
      "text/plain": [
       "'lopto'"
      ]
     },
     "execution_count": 23,
     "metadata": {},
     "output_type": "execute_result"
    }
   ],
   "source": [
    "str1='hello python'\n",
    "str1[2:12:2]  "
   ]
  },
  {
   "cell_type": "code",
   "execution_count": 24,
   "id": "3ccc411d-3f8b-4f32-8d76-e6079cfb53af",
   "metadata": {},
   "outputs": [
    {
     "data": {
      "text/plain": [
       "''"
      ]
     },
     "execution_count": 24,
     "metadata": {},
     "output_type": "execute_result"
    }
   ],
   "source": [
    "str1[2:12:-2]"
   ]
  },
  {
   "cell_type": "code",
   "execution_count": 25,
   "id": "51af5b7e-952f-409c-b0e3-0cfe086a1d55",
   "metadata": {},
   "outputs": [
    {
     "data": {
      "text/plain": [
       "''"
      ]
     },
     "execution_count": 25,
     "metadata": {},
     "output_type": "execute_result"
    }
   ],
   "source": [
    "str1[2:-12:2] "
   ]
  },
  {
   "cell_type": "code",
   "execution_count": 26,
   "id": "c82a9d1a-cc4d-4bb3-abce-e1e1302db298",
   "metadata": {},
   "outputs": [
    {
     "data": {
      "text/plain": [
       "'l'"
      ]
     },
     "execution_count": 26,
     "metadata": {},
     "output_type": "execute_result"
    }
   ],
   "source": [
    "str1[2:-12:-2] "
   ]
  },
  {
   "cell_type": "code",
   "execution_count": 27,
   "id": "fbe273b4-72c2-4da8-8c79-5476ac346fea",
   "metadata": {},
   "outputs": [
    {
     "data": {
      "text/plain": [
       "'otpol'"
      ]
     },
     "execution_count": 27,
     "metadata": {},
     "output_type": "execute_result"
    }
   ],
   "source": [
    "str1[-2:-12:-2]"
   ]
  },
  {
   "cell_type": "code",
   "execution_count": 28,
   "id": "0d071563-b292-4b5f-9f60-db411b446311",
   "metadata": {},
   "outputs": [
    {
     "data": {
      "text/plain": [
       "'o'"
      ]
     },
     "execution_count": 28,
     "metadata": {},
     "output_type": "execute_result"
    }
   ],
   "source": [
    "str1[-2:12:2]"
   ]
  },
  {
   "cell_type": "code",
   "execution_count": 29,
   "id": "9391ba2f-e167-4c92-bf35-c02a75317033",
   "metadata": {},
   "outputs": [
    {
     "data": {
      "text/plain": [
       "''"
      ]
     },
     "execution_count": 29,
     "metadata": {},
     "output_type": "execute_result"
    }
   ],
   "source": [
    "str1[-2:-12:2]"
   ]
  },
  {
   "cell_type": "code",
   "execution_count": 30,
   "id": "437e57dc-ce1b-47ad-948c-740f198ebac6",
   "metadata": {},
   "outputs": [
    {
     "data": {
      "text/plain": [
       "'hello python'"
      ]
     },
     "execution_count": 30,
     "metadata": {},
     "output_type": "execute_result"
    }
   ],
   "source": [
    "str1[:]    "
   ]
  },
  {
   "cell_type": "code",
   "execution_count": 31,
   "id": "635a96b0-b5e9-4820-a5f8-1b9a0a8f6ce8",
   "metadata": {},
   "outputs": [
    {
     "data": {
      "text/plain": [
       "'llo python'"
      ]
     },
     "execution_count": 31,
     "metadata": {},
     "output_type": "execute_result"
    }
   ],
   "source": [
    "str1[2:]    "
   ]
  },
  {
   "cell_type": "code",
   "execution_count": 32,
   "id": "25080b4e-f256-46b1-ad33-30699810f429",
   "metadata": {},
   "outputs": [
    {
     "data": {
      "text/plain": [
       "'hello python'"
      ]
     },
     "execution_count": 32,
     "metadata": {},
     "output_type": "execute_result"
    }
   ],
   "source": [
    "str1[:12]  "
   ]
  },
  {
   "cell_type": "code",
   "execution_count": 33,
   "id": "6b10400a-88a2-4b1e-8055-0eb58743f4bc",
   "metadata": {},
   "outputs": [
    {
     "data": {
      "text/plain": [
       "'hello python'"
      ]
     },
     "execution_count": 33,
     "metadata": {},
     "output_type": "execute_result"
    }
   ],
   "source": [
    "str1[::]"
   ]
  },
  {
   "cell_type": "code",
   "execution_count": 34,
   "id": "4498f008-73b3-4c83-9a5a-ad07b832f731",
   "metadata": {},
   "outputs": [
    {
     "data": {
      "text/plain": [
       "'nohtyp olleh'"
      ]
     },
     "execution_count": 34,
     "metadata": {},
     "output_type": "execute_result"
    }
   ],
   "source": [
    "str1[::-1]  \n",
    "# reverse string"
   ]
  },
  {
   "cell_type": "code",
   "execution_count": 35,
   "id": "56b51f8b-d396-4333-a7e6-ddd14ff91f76",
   "metadata": {},
   "outputs": [
    {
     "data": {
      "text/plain": [
       "'lh'"
      ]
     },
     "execution_count": 35,
     "metadata": {},
     "output_type": "execute_result"
    }
   ],
   "source": [
    "str1[2::-2]\n",
    "\n",
    "# start=2\n",
    "# last=-12\n",
    "# step=-2"
   ]
  },
  {
   "cell_type": "markdown",
   "id": "1f11ae5f-351f-4dec-a9da-1bd55db6d900",
   "metadata": {},
   "source": [
    "- type\n",
    "\n",
    "- len\n",
    "\n",
    "- max\n",
    "\n",
    "- min\n",
    "\n",
    "- sum\n",
    "\n",
    "- reveresed\n",
    "\n",
    "- sorted\n",
    "\n",
    "- in\n",
    "\n",
    "- not in\n",
    "\n",
    "- for loop iterate\n",
    "\n",
    "- index\n",
    "\n",
    "- mutable immutable\n",
    "\n",
    "- slice\n",
    "\n",
    "**All are implemented in list, dictionary and set**"
   ]
  },
  {
   "cell_type": "markdown",
   "id": "76dc249d-9180-44c2-8f7a-6db45f32015c",
   "metadata": {},
   "source": [
    "**concatenation**"
   ]
  },
  {
   "cell_type": "code",
   "execution_count": 36,
   "id": "6240e571-5e83-4504-a4dd-a6e4308907f8",
   "metadata": {},
   "outputs": [
    {
     "data": {
      "text/plain": [
       "'hellopython'"
      ]
     },
     "execution_count": 36,
     "metadata": {},
     "output_type": "execute_result"
    }
   ],
   "source": [
    "str1='hello'\n",
    "str2='python'\n",
    "str1+str2"
   ]
  },
  {
   "cell_type": "code",
   "execution_count": 37,
   "id": "702ed3c4-9a85-49de-b194-6c8970b25ea3",
   "metadata": {},
   "outputs": [
    {
     "data": {
      "text/plain": [
       "'hello python'"
      ]
     },
     "execution_count": 37,
     "metadata": {},
     "output_type": "execute_result"
    }
   ],
   "source": [
    "str1='hello'\n",
    "str2='python'\n",
    "str1+' '+str2"
   ]
  },
  {
   "cell_type": "code",
   "execution_count": null,
   "id": "80b97047-5a09-422c-bf33-6a5225e92fe1",
   "metadata": {},
   "outputs": [],
   "source": [
    "str1*str2\n",
    "str1-str2\n",
    "str1/str2\n",
    "\n",
    "# All are not work as string is not numbers"
   ]
  },
  {
   "cell_type": "code",
   "execution_count": 38,
   "id": "42053e02-40ad-4236-b9af-07b1f475d3f6",
   "metadata": {},
   "outputs": [
    {
     "ename": "TypeError",
     "evalue": "can't multiply sequence by non-int of type 'str'",
     "output_type": "error",
     "traceback": [
      "\u001b[1;31m---------------------------------------------------------------------------\u001b[0m",
      "\u001b[1;31mTypeError\u001b[0m                                 Traceback (most recent call last)",
      "Cell \u001b[1;32mIn[38], line 1\u001b[0m\n\u001b[1;32m----> 1\u001b[0m str1\u001b[38;5;241m*\u001b[39mstr2\n",
      "\u001b[1;31mTypeError\u001b[0m: can't multiply sequence by non-int of type 'str'"
     ]
    }
   ],
   "source": [
    "str1*str2"
   ]
  },
  {
   "cell_type": "code",
   "execution_count": 39,
   "id": "807fe4b5-7c7c-42cb-80fc-fc3ce87c1da8",
   "metadata": {},
   "outputs": [
    {
     "ename": "TypeError",
     "evalue": "unsupported operand type(s) for -: 'str' and 'str'",
     "output_type": "error",
     "traceback": [
      "\u001b[1;31m---------------------------------------------------------------------------\u001b[0m",
      "\u001b[1;31mTypeError\u001b[0m                                 Traceback (most recent call last)",
      "Cell \u001b[1;32mIn[39], line 1\u001b[0m\n\u001b[1;32m----> 1\u001b[0m str1\u001b[38;5;241m-\u001b[39mstr2\n",
      "\u001b[1;31mTypeError\u001b[0m: unsupported operand type(s) for -: 'str' and 'str'"
     ]
    }
   ],
   "source": [
    "str1-str2"
   ]
  },
  {
   "cell_type": "code",
   "execution_count": 40,
   "id": "acedb906-5dd8-4a7d-9939-bd09a8a93c47",
   "metadata": {},
   "outputs": [
    {
     "ename": "TypeError",
     "evalue": "unsupported operand type(s) for /: 'str' and 'str'",
     "output_type": "error",
     "traceback": [
      "\u001b[1;31m---------------------------------------------------------------------------\u001b[0m",
      "\u001b[1;31mTypeError\u001b[0m                                 Traceback (most recent call last)",
      "Cell \u001b[1;32mIn[40], line 1\u001b[0m\n\u001b[1;32m----> 1\u001b[0m str1\u001b[38;5;241m/\u001b[39mstr2\n",
      "\u001b[1;31mTypeError\u001b[0m: unsupported operand type(s) for /: 'str' and 'str'"
     ]
    }
   ],
   "source": [
    "str1/str2"
   ]
  },
  {
   "cell_type": "code",
   "execution_count": 41,
   "id": "e72a7ee5-174e-49bd-85a5-c59a9ece2b42",
   "metadata": {},
   "outputs": [
    {
     "data": {
      "text/plain": [
       "'hellohellohello'"
      ]
     },
     "execution_count": 41,
     "metadata": {},
     "output_type": "execute_result"
    }
   ],
   "source": [
    "str1*3\n",
    "\n",
    "# multiply by integer type\n",
    "# as (str1+str1+str1)"
   ]
  },
  {
   "cell_type": "markdown",
   "id": "30b85a47-c400-4c7e-a7f5-14ed00bb1fb5",
   "metadata": {},
   "source": [
    "**strings part-2**\n",
    "\n",
    "**string methods**"
   ]
  },
  {
   "cell_type": "markdown",
   "id": "1efd69e3-c6ab-41da-8e70-a812036aad4c",
   "metadata": {},
   "source": [
    "- you need to treat strings is a package\n",
    "\n",
    "- so apply dir on any string we will get the methods"
   ]
  },
  {
   "cell_type": "code",
   "execution_count": 42,
   "id": "c0febb27-8d00-42c0-ae1b-3cca74c2e28f",
   "metadata": {},
   "outputs": [
    {
     "data": {
      "text/plain": [
       "['__add__',\n",
       " '__class__',\n",
       " '__contains__',\n",
       " '__delattr__',\n",
       " '__dir__',\n",
       " '__doc__',\n",
       " '__eq__',\n",
       " '__format__',\n",
       " '__ge__',\n",
       " '__getattribute__',\n",
       " '__getitem__',\n",
       " '__getnewargs__',\n",
       " '__getstate__',\n",
       " '__gt__',\n",
       " '__hash__',\n",
       " '__init__',\n",
       " '__init_subclass__',\n",
       " '__iter__',\n",
       " '__le__',\n",
       " '__len__',\n",
       " '__lt__',\n",
       " '__mod__',\n",
       " '__mul__',\n",
       " '__ne__',\n",
       " '__new__',\n",
       " '__reduce__',\n",
       " '__reduce_ex__',\n",
       " '__repr__',\n",
       " '__rmod__',\n",
       " '__rmul__',\n",
       " '__setattr__',\n",
       " '__sizeof__',\n",
       " '__str__',\n",
       " '__subclasshook__',\n",
       " 'capitalize',\n",
       " 'casefold',\n",
       " 'center',\n",
       " 'count',\n",
       " 'encode',\n",
       " 'endswith',\n",
       " 'expandtabs',\n",
       " 'find',\n",
       " 'format',\n",
       " 'format_map',\n",
       " 'index',\n",
       " 'isalnum',\n",
       " 'isalpha',\n",
       " 'isascii',\n",
       " 'isdecimal',\n",
       " 'isdigit',\n",
       " 'isidentifier',\n",
       " 'islower',\n",
       " 'isnumeric',\n",
       " 'isprintable',\n",
       " 'isspace',\n",
       " 'istitle',\n",
       " 'isupper',\n",
       " 'join',\n",
       " 'ljust',\n",
       " 'lower',\n",
       " 'lstrip',\n",
       " 'maketrans',\n",
       " 'partition',\n",
       " 'removeprefix',\n",
       " 'removesuffix',\n",
       " 'replace',\n",
       " 'rfind',\n",
       " 'rindex',\n",
       " 'rjust',\n",
       " 'rpartition',\n",
       " 'rsplit',\n",
       " 'rstrip',\n",
       " 'split',\n",
       " 'splitlines',\n",
       " 'startswith',\n",
       " 'strip',\n",
       " 'swapcase',\n",
       " 'title',\n",
       " 'translate',\n",
       " 'upper',\n",
       " 'zfill']"
      ]
     },
     "execution_count": 42,
     "metadata": {},
     "output_type": "execute_result"
    }
   ],
   "source": [
    "s='python'\n",
    "dir(s)"
   ]
  },
  {
   "cell_type": "code",
   "execution_count": 43,
   "id": "8ddc8d42-50c0-41ba-a6da-9c8ef4f65045",
   "metadata": {},
   "outputs": [
    {
     "data": {
      "text/plain": [
       "['__add__',\n",
       " '__class__',\n",
       " '__contains__',\n",
       " '__delattr__',\n",
       " '__dir__',\n",
       " '__doc__',\n",
       " '__eq__',\n",
       " '__format__',\n",
       " '__ge__',\n",
       " '__getattribute__',\n",
       " '__getitem__',\n",
       " '__getnewargs__',\n",
       " '__getstate__',\n",
       " '__gt__',\n",
       " '__hash__',\n",
       " '__init__',\n",
       " '__init_subclass__',\n",
       " '__iter__',\n",
       " '__le__',\n",
       " '__len__',\n",
       " '__lt__',\n",
       " '__mod__',\n",
       " '__mul__',\n",
       " '__ne__',\n",
       " '__new__',\n",
       " '__reduce__',\n",
       " '__reduce_ex__',\n",
       " '__repr__',\n",
       " '__rmod__',\n",
       " '__rmul__',\n",
       " '__setattr__',\n",
       " '__sizeof__',\n",
       " '__str__',\n",
       " '__subclasshook__',\n",
       " 'capitalize',\n",
       " 'casefold',\n",
       " 'center',\n",
       " 'count',\n",
       " 'encode',\n",
       " 'endswith',\n",
       " 'expandtabs',\n",
       " 'find',\n",
       " 'format',\n",
       " 'format_map',\n",
       " 'index',\n",
       " 'isalnum',\n",
       " 'isalpha',\n",
       " 'isascii',\n",
       " 'isdecimal',\n",
       " 'isdigit',\n",
       " 'isidentifier',\n",
       " 'islower',\n",
       " 'isnumeric',\n",
       " 'isprintable',\n",
       " 'isspace',\n",
       " 'istitle',\n",
       " 'isupper',\n",
       " 'join',\n",
       " 'ljust',\n",
       " 'lower',\n",
       " 'lstrip',\n",
       " 'maketrans',\n",
       " 'partition',\n",
       " 'removeprefix',\n",
       " 'removesuffix',\n",
       " 'replace',\n",
       " 'rfind',\n",
       " 'rindex',\n",
       " 'rjust',\n",
       " 'rpartition',\n",
       " 'rsplit',\n",
       " 'rstrip',\n",
       " 'split',\n",
       " 'splitlines',\n",
       " 'startswith',\n",
       " 'strip',\n",
       " 'swapcase',\n",
       " 'title',\n",
       " 'translate',\n",
       " 'upper',\n",
       " 'zfill']"
      ]
     },
     "execution_count": 43,
     "metadata": {},
     "output_type": "execute_result"
    }
   ],
   "source": [
    "dir('')"
   ]
  },
  {
   "cell_type": "code",
   "execution_count": null,
   "id": "9a4fed73-814c-4ce1-a423-548230633361",
   "metadata": {},
   "outputs": [],
   "source": [
    "# how to call the keyword\n",
    "# keyword()\n",
    "# methods\n",
    "# package.method"
   ]
  },
  {
   "cell_type": "markdown",
   "id": "3efac3b5-1d31-4627-89ad-978284213e9d",
   "metadata": {},
   "source": [
    "$capitalize$\n",
    "\n",
    "Return a capitalized version of the string.\n",
    "\n",
    "More specifically, make the first character have upper case and the rest lower"
   ]
  },
  {
   "cell_type": "code",
   "execution_count": 44,
   "id": "97c1057c-6ec6-4ce3-abc8-b71f27d33ad2",
   "metadata": {},
   "outputs": [
    {
     "data": {
      "text/plain": [
       "'Python'"
      ]
     },
     "execution_count": 44,
     "metadata": {},
     "output_type": "execute_result"
    }
   ],
   "source": [
    "str='python'\n",
    "str.capitalize()"
   ]
  },
  {
   "cell_type": "code",
   "execution_count": 2,
   "id": "4ca6686a-42f3-4401-8495-aee3086e8439",
   "metadata": {},
   "outputs": [
    {
     "data": {
      "text/plain": [
       "'Data analyst'"
      ]
     },
     "execution_count": 2,
     "metadata": {},
     "output_type": "execute_result"
    }
   ],
   "source": [
    "Str='data analyst' \n",
    "Str.capitalize()"
   ]
  },
  {
   "cell_type": "code",
   "execution_count": 45,
   "id": "dc30d67d-c7bc-4340-815c-37ad617e8e40",
   "metadata": {},
   "outputs": [
    {
     "data": {
      "text/plain": [
       "17"
      ]
     },
     "execution_count": 45,
     "metadata": {},
     "output_type": "execute_result"
    }
   ],
   "source": [
    "import random\n",
    "random.randint(10,20)"
   ]
  },
  {
   "cell_type": "code",
   "execution_count": 51,
   "id": "49f4682b-2cc7-4262-9b4e-d4f846a93e65",
   "metadata": {},
   "outputs": [
    {
     "data": {
      "text/plain": [
       "0j"
      ]
     },
     "execution_count": 51,
     "metadata": {},
     "output_type": "execute_result"
    }
   ],
   "source": [
    "complex()"
   ]
  },
  {
   "cell_type": "markdown",
   "id": "e5fb04ab-d812-43ed-8709-fa865f0e59c4",
   "metadata": {},
   "source": [
    "$upper$"
   ]
  },
  {
   "cell_type": "code",
   "execution_count": 47,
   "id": "5b156ef4-5eb9-4754-906d-a59ee90e18fc",
   "metadata": {},
   "outputs": [
    {
     "data": {
      "text/plain": [
       "'PYTHON'"
      ]
     },
     "execution_count": 47,
     "metadata": {},
     "output_type": "execute_result"
    }
   ],
   "source": [
    "str='python'\n",
    "str.upper()"
   ]
  },
  {
   "cell_type": "markdown",
   "id": "8775f021-533c-4c57-a638-1a1fa99e6300",
   "metadata": {},
   "source": [
    "$lower$"
   ]
  },
  {
   "cell_type": "code",
   "execution_count": 48,
   "id": "70d6ae86-767b-4da8-93e9-0697109e9d0e",
   "metadata": {},
   "outputs": [
    {
     "data": {
      "text/plain": [
       "'python'"
      ]
     },
     "execution_count": 48,
     "metadata": {},
     "output_type": "execute_result"
    }
   ],
   "source": [
    "str='python'\n",
    "str.lower()"
   ]
  },
  {
   "cell_type": "markdown",
   "id": "f49ca292-edf7-4b35-ae00-97ba6653e060",
   "metadata": {},
   "source": [
    "$casefold$"
   ]
  },
  {
   "cell_type": "code",
   "execution_count": 49,
   "id": "6612c0ed-2481-4029-834b-edc796a67efd",
   "metadata": {},
   "outputs": [
    {
     "data": {
      "text/plain": [
       "'python'"
      ]
     },
     "execution_count": 49,
     "metadata": {},
     "output_type": "execute_result"
    }
   ],
   "source": [
    "str='python'\n",
    "str.casefold()\n",
    "\n",
    "# Return a version of the string suitable for caseless comparisons   (always lower case)"
   ]
  },
  {
   "cell_type": "markdown",
   "id": "b953d561-64b6-48a4-8457-c9a7878403c1",
   "metadata": {},
   "source": [
    "$center$"
   ]
  },
  {
   "cell_type": "code",
   "execution_count": 53,
   "id": "c95a8959-1cd3-4c2f-a1ec-793cea8afe3f",
   "metadata": {},
   "outputs": [
    {
     "data": {
      "text/plain": [
       "'$$python$$'"
      ]
     },
     "execution_count": 53,
     "metadata": {},
     "output_type": "execute_result"
    }
   ],
   "source": [
    "str='python'\n",
    "str.center(10,'$')\n",
    "# total new string width = 10\n",
    "# already given string len=6\n",
    "# so extra 4 $ will add\n",
    "# string should be in center\n",
    "# 2$ are left side 2$ are right side"
   ]
  },
  {
   "cell_type": "code",
   "execution_count": 54,
   "id": "230fd751-2bfb-4c96-be9d-acd852e94b0e",
   "metadata": {},
   "outputs": [
    {
     "data": {
      "text/plain": [
       "'python'"
      ]
     },
     "execution_count": 54,
     "metadata": {},
     "output_type": "execute_result"
    }
   ],
   "source": [
    "str='python'\n",
    "str.center(3,'$')\n",
    "# provided string length is 6\n",
    "# so it is not changable"
   ]
  },
  {
   "cell_type": "code",
   "execution_count": 55,
   "id": "ff6bb3b8-e255-4bd6-888a-ed6045142f39",
   "metadata": {},
   "outputs": [
    {
     "data": {
      "text/plain": [
       "'$$$python$$'"
      ]
     },
     "execution_count": 55,
     "metadata": {},
     "output_type": "execute_result"
    }
   ],
   "source": [
    "str.center(11,'$')\n",
    "# starting is always max"
   ]
  },
  {
   "cell_type": "code",
   "execution_count": 56,
   "id": "3ad6c4d4-b94b-408c-af61-e92a5084fe89",
   "metadata": {},
   "outputs": [
    {
     "data": {
      "text/plain": [
       "'$$$$$  $$$$'"
      ]
     },
     "execution_count": 56,
     "metadata": {},
     "output_type": "execute_result"
    }
   ],
   "source": [
    "'  '.center(11,'$')"
   ]
  },
  {
   "cell_type": "code",
   "execution_count": 57,
   "id": "459a845b-9bf9-4d98-9389-9d46943511f6",
   "metadata": {},
   "outputs": [
    {
     "data": {
      "text/plain": [
       "'python'"
      ]
     },
     "execution_count": 57,
     "metadata": {},
     "output_type": "execute_result"
    }
   ],
   "source": [
    "'python'.center(2,'$')"
   ]
  },
  {
   "cell_type": "code",
   "execution_count": 58,
   "id": "27bd3b72-f64b-4cbe-a306-24a1857d64d7",
   "metadata": {},
   "outputs": [
    {
     "data": {
      "text/plain": [
       "'$python'"
      ]
     },
     "execution_count": 58,
     "metadata": {},
     "output_type": "execute_result"
    }
   ],
   "source": [
    "'python'.center(7,'$')"
   ]
  },
  {
   "cell_type": "code",
   "execution_count": 2,
   "id": "8e730e2e-aeae-4e94-a3c3-e40b08900d89",
   "metadata": {},
   "outputs": [
    {
     "data": {
      "text/plain": [
       "'Hello How Are You'"
      ]
     },
     "execution_count": 2,
     "metadata": {},
     "output_type": "execute_result"
    }
   ],
   "source": [
    "str='hello how are you'\n",
    "str.title()"
   ]
  },
  {
   "cell_type": "markdown",
   "id": "9dfb10d5-e8d9-421b-9af7-6abd3c2ff0ea",
   "metadata": {},
   "source": [
    "**unique vowels or items**\n",
    "\n",
    "- always make an empty string\n",
    "\n",
    "- iterate the letters through of original string through for loop\n",
    "\n",
    "- whenever vowels condition match keep that letter in empty string\n",
    "\n",
    "- now onwards do the two checks\n",
    "\n",
    "    - is that vowels\n",
    "\n",
    "    - is that present in that new string"
   ]
  },
  {
   "cell_type": "code",
   "execution_count": 8,
   "id": "b14b9a3f-42bd-4d17-b91b-431df63cb09a",
   "metadata": {},
   "outputs": [
    {
     "data": {
      "text/plain": [
       "2"
      ]
     },
     "execution_count": 8,
     "metadata": {},
     "output_type": "execute_result"
    }
   ],
   "source": [
    "str1='aabbccddee'\n",
    "str2=''\n",
    "for i in str1:\n",
    "    if i in 'aeiou' and i not in str2:\n",
    "        str2=str2+i\n",
    "        \n",
    "len(str2)\n",
    "\n",
    "# i='a'    if  'a'  in  'aeiou'  and 'a'  not in  ''     True     str2=''+'a'='a'\n",
    "# i='a'    if  'a'  in  'aeiou'  and 'a'  not in  ''     False"
   ]
  },
  {
   "cell_type": "markdown",
   "id": "bf8397d1-305d-4365-ad9f-5a02cf92031b",
   "metadata": {},
   "source": [
    "- capitalize\n",
    "\n",
    "- upper\n",
    "\n",
    "- lower\n",
    "\n",
    "- centre\n",
    "\n",
    "- casefold\n",
    "\n",
    "- title"
   ]
  },
  {
   "cell_type": "markdown",
   "id": "b201403f-da7e-4770-b3d8-24f203fc3361",
   "metadata": {},
   "source": [
    "$title$"
   ]
  },
  {
   "cell_type": "code",
   "execution_count": 9,
   "id": "1ad2f663-bea2-4a53-9a99-ad8370a286d8",
   "metadata": {},
   "outputs": [
    {
     "data": {
      "text/plain": [
       "'Python'"
      ]
     },
     "execution_count": 9,
     "metadata": {},
     "output_type": "execute_result"
    }
   ],
   "source": [
    "str='python'\n",
    "str.title()"
   ]
  },
  {
   "cell_type": "code",
   "execution_count": 10,
   "id": "12902214-05e2-4516-acc2-dacba3cb0fd3",
   "metadata": {},
   "outputs": [
    {
     "data": {
      "text/plain": [
       "'Hello How Are You'"
      ]
     },
     "execution_count": 10,
     "metadata": {},
     "output_type": "execute_result"
    }
   ],
   "source": [
    "# Q.12) str='hello how are you'\n",
    "# op: 'Hello How Are You'\n",
    "\n",
    "str='hello how are you'\n",
    "str.title()"
   ]
  },
  {
   "cell_type": "markdown",
   "id": "1e03a657-7c5b-495b-9470-2801a475f13c",
   "metadata": {},
   "source": [
    "$Count$"
   ]
  },
  {
   "cell_type": "code",
   "execution_count": 11,
   "id": "a31d4267-d907-4617-8afa-abf787816d1d",
   "metadata": {},
   "outputs": [
    {
     "data": {
      "text/plain": [
       "2"
      ]
     },
     "execution_count": 11,
     "metadata": {},
     "output_type": "execute_result"
    }
   ],
   "source": [
    "str1='hai how are you'\n",
    "str1.count('a')"
   ]
  },
  {
   "cell_type": "code",
   "execution_count": 12,
   "id": "88d443a3-294a-4a72-a3fc-ba6e21f7745b",
   "metadata": {},
   "outputs": [
    {
     "data": {
      "text/plain": [
       "2"
      ]
     },
     "execution_count": 12,
     "metadata": {},
     "output_type": "execute_result"
    }
   ],
   "source": [
    "count=0\n",
    "for i in str1:\n",
    "    if i=='a':\n",
    "        count=count+1\n",
    "count"
   ]
  },
  {
   "cell_type": "code",
   "execution_count": 13,
   "id": "a16d8069-435f-4991-8a49-1061221bcf4b",
   "metadata": {},
   "outputs": [
    {
     "data": {
      "text/plain": [
       "3"
      ]
     },
     "execution_count": 13,
     "metadata": {},
     "output_type": "execute_result"
    }
   ],
   "source": [
    "str1='ola ola ola'\n",
    "str1.count('ola')"
   ]
  },
  {
   "cell_type": "code",
   "execution_count": 14,
   "id": "c78ddbdb-36af-4aac-ba72-bfeaac00e15c",
   "metadata": {},
   "outputs": [
    {
     "data": {
      "text/plain": [
       "2"
      ]
     },
     "execution_count": 14,
     "metadata": {},
     "output_type": "execute_result"
    }
   ],
   "source": [
    "str1='ola ola ola'\n",
    "str1.count('ola ')"
   ]
  },
  {
   "cell_type": "code",
   "execution_count": 15,
   "id": "729ce188-b5b3-48b0-9325-e4a09d274405",
   "metadata": {},
   "outputs": [
    {
     "data": {
      "text/plain": [
       "12"
      ]
     },
     "execution_count": 15,
     "metadata": {},
     "output_type": "execute_result"
    }
   ],
   "source": [
    "str1='ola ola ola'\n",
    "str1.count('')"
   ]
  },
  {
   "cell_type": "code",
   "execution_count": 16,
   "id": "b2b18e53-3d4a-4289-804b-140530622c44",
   "metadata": {},
   "outputs": [
    {
     "data": {
      "text/plain": [
       "0"
      ]
     },
     "execution_count": 16,
     "metadata": {},
     "output_type": "execute_result"
    }
   ],
   "source": [
    "str1='ola ola ola'\n",
    "str1.count('z')"
   ]
  },
  {
   "cell_type": "code",
   "execution_count": 17,
   "id": "fbdeb5b6-6bdf-4285-8d7d-49a7ddb84313",
   "metadata": {},
   "outputs": [
    {
     "data": {
      "text/plain": [
       "2"
      ]
     },
     "execution_count": 17,
     "metadata": {},
     "output_type": "execute_result"
    }
   ],
   "source": [
    "str1='ola ola ola'\n",
    "str1.count(' ')"
   ]
  },
  {
   "cell_type": "code",
   "execution_count": 20,
   "id": "36a8588a-444f-4f30-b028-a40471cc2490",
   "metadata": {},
   "outputs": [
    {
     "data": {
      "text/plain": [
       "2"
      ]
     },
     "execution_count": 20,
     "metadata": {},
     "output_type": "execute_result"
    }
   ],
   "source": [
    "# you want count the number of 'a' after 5th index\n",
    "# you want count the number of 'a' between 5th and 10th index\n",
    "str1='ola ola ola'\n",
    "str1.count('a',5)"
   ]
  },
  {
   "cell_type": "code",
   "execution_count": 21,
   "id": "4547829a-e669-4a68-8577-69402705aec5",
   "metadata": {},
   "outputs": [
    {
     "data": {
      "text/plain": [
       "1"
      ]
     },
     "execution_count": 21,
     "metadata": {},
     "output_type": "execute_result"
    }
   ],
   "source": [
    "str1='ola ola ola'\n",
    "str1.count('a',7)"
   ]
  },
  {
   "cell_type": "code",
   "execution_count": 27,
   "id": "6bc3d5c6-85b6-416a-9242-8fbd548fb24b",
   "metadata": {},
   "outputs": [
    {
     "data": {
      "text/plain": [
       "'la ola ol'"
      ]
     },
     "execution_count": 27,
     "metadata": {},
     "output_type": "execute_result"
    }
   ],
   "source": [
    "str1='ola ola ola'\n",
    "str1.count('a',1,10)\n",
    "\n",
    "# 10-1=9\n",
    "str1[1:10]"
   ]
  },
  {
   "cell_type": "code",
   "execution_count": 24,
   "id": "95aa110b-771d-40b2-9a67-a5dd75b58cac",
   "metadata": {},
   "outputs": [
    {
     "data": {
      "text/plain": [
       "2"
      ]
     },
     "execution_count": 24,
     "metadata": {},
     "output_type": "execute_result"
    }
   ],
   "source": [
    "str1='ola ola ola'\n",
    "str1.count('a',4,11)"
   ]
  },
  {
   "cell_type": "code",
   "execution_count": 25,
   "id": "60d94be0-33b4-4a9b-bd93-63d3da34956c",
   "metadata": {},
   "outputs": [
    {
     "data": {
      "text/plain": [
       "2"
      ]
     },
     "execution_count": 25,
     "metadata": {},
     "output_type": "execute_result"
    }
   ],
   "source": [
    "str1='ola ola ola'\n",
    "str1.count('a',0,-1)"
   ]
  },
  {
   "cell_type": "code",
   "execution_count": 26,
   "id": "8911e3e8-0f4f-4080-82cd-926cdcdaeb52",
   "metadata": {},
   "outputs": [
    {
     "data": {
      "text/plain": [
       "2"
      ]
     },
     "execution_count": 26,
     "metadata": {},
     "output_type": "execute_result"
    }
   ],
   "source": [
    "str1='ola ola ola'\n",
    "str1.count('a',4,21)"
   ]
  },
  {
   "cell_type": "markdown",
   "id": "ef4b6a84-8ca3-4f9b-b5b6-30191ec625ec",
   "metadata": {},
   "source": [
    "- Note : There is no error in count"
   ]
  },
  {
   "cell_type": "code",
   "execution_count": 30,
   "id": "6a7d2857-e887-4470-8854-2bf5eb269959",
   "metadata": {},
   "outputs": [
    {
     "name": "stdout",
     "output_type": "stream",
     "text": [
      "3\n"
     ]
    }
   ],
   "source": [
    "# Q.13) without using count find the number of 'ola'\n",
    "# ans: 3\n",
    "\n",
    "str1='ola ola ola'\n",
    "count=0\n",
    "for i in range(len(str1)):\n",
    "    str2=str1[i:i+3:]\n",
    "    if str2=='ola':\n",
    "        count=count+1\n",
    "        \n",
    "print(count)\n",
    "\n",
    "# index operaration works\n",
    "# i=i+3"
   ]
  },
  {
   "cell_type": "markdown",
   "id": "bb98ef42-d430-42f8-90e7-714653f7f191",
   "metadata": {},
   "source": [
    "$replace$"
   ]
  },
  {
   "cell_type": "code",
   "execution_count": 33,
   "id": "6271e32c-3167-46e8-b2fb-90ae38cf20f6",
   "metadata": {},
   "outputs": [],
   "source": [
    "str1='helo'\n",
    "# i want to replace 'l' to 'L'\n",
    "# This we are not able to do with index operation\n",
    "# That's why we are calling strings are immutable\n",
    "\n",
    "# But this is possible using replace operation\n"
   ]
  },
  {
   "cell_type": "code",
   "execution_count": 34,
   "id": "0a92f962-b9ff-4243-b1eb-0c60961c604a",
   "metadata": {},
   "outputs": [
    {
     "data": {
      "text/plain": [
       "'heLo'"
      ]
     },
     "execution_count": 34,
     "metadata": {},
     "output_type": "execute_result"
    }
   ],
   "source": [
    "str1.replace('l','L')"
   ]
  },
  {
   "cell_type": "markdown",
   "id": "791f7d91-040f-4b4e-84c7-3b66da2e5950",
   "metadata": {},
   "source": [
    "- In replace count= -1 as default value\n",
    "\n",
    "- which means it will replace all the letters\n",
    "\n",
    "- so If i want to replace only one letter can i give the count value? yes\n",
    "\n",
    "- / means do not give the argument names, directly provide the value"
   ]
  },
  {
   "cell_type": "code",
   "execution_count": 37,
   "id": "b9432fee-da47-4eb6-852e-2d985c2dfd07",
   "metadata": {},
   "outputs": [
    {
     "data": {
      "text/plain": [
       "'heLLLLo'"
      ]
     },
     "execution_count": 37,
     "metadata": {},
     "output_type": "execute_result"
    }
   ],
   "source": [
    "str1='hellllo'\n",
    "str1.replace('l','L')      # count=-1"
   ]
  },
  {
   "cell_type": "code",
   "execution_count": 38,
   "id": "8b7f7a27-0b5a-48ca-b52b-0538958fa461",
   "metadata": {},
   "outputs": [
    {
     "data": {
      "text/plain": [
       "'heLlllo'"
      ]
     },
     "execution_count": 38,
     "metadata": {},
     "output_type": "execute_result"
    }
   ],
   "source": [
    "str1='hellllo'\n",
    "str1.replace('l','L',1)      # count=1\n"
   ]
  },
  {
   "cell_type": "code",
   "execution_count": 39,
   "id": "83bea18b-3a45-4297-8237-1a15bbfdb0fa",
   "metadata": {},
   "outputs": [
    {
     "data": {
      "text/plain": [
       "'heLLllo'"
      ]
     },
     "execution_count": 39,
     "metadata": {},
     "output_type": "execute_result"
    }
   ],
   "source": [
    "str1='hellllo'\n",
    "str1.replace('l','L',2)      # count=2"
   ]
  },
  {
   "cell_type": "code",
   "execution_count": 40,
   "id": "050aa381-0ac3-4e87-94bc-da811b81dccc",
   "metadata": {},
   "outputs": [
    {
     "data": {
      "text/plain": [
       "'hellllo'"
      ]
     },
     "execution_count": 40,
     "metadata": {},
     "output_type": "execute_result"
    }
   ],
   "source": [
    "str1='hellllo'\n",
    "str1.replace('z','L')"
   ]
  },
  {
   "cell_type": "markdown",
   "id": "81b19210-b4d3-4f95-9fb9-bf30b3a0e168",
   "metadata": {},
   "source": [
    "- Read the doc string carefully\n",
    "\n",
    "- In that it will mention we will get error at perticular incident\n",
    "\n",
    "- For count method we will not get any error\n",
    "\n",
    "- There is no substring found ans will be zero\n",
    "\n",
    "- For replace also we will not get any error\n",
    "\n",
    "- I f there is no substring found, then the ans will be original string"
   ]
  },
  {
   "cell_type": "code",
   "execution_count": 47,
   "id": "43a53c35-d72a-4b77-ada7-3536aa4128a4",
   "metadata": {},
   "outputs": [
    {
     "data": {
      "text/plain": [
       "'resta$t'"
      ]
     },
     "execution_count": 47,
     "metadata": {},
     "output_type": "execute_result"
    }
   ],
   "source": [
    "# Q.14) Wap ask the user replace the string\n",
    "# input str: 'restart'\n",
    "# op: 'resta$t'\n",
    "\n",
    "# method-1\n",
    "\n",
    "str1='restart'\n",
    "str2=str1[::-1]      # Reverse\n",
    "str3=str2.replace('r','$',1)   # replace 1st occurence\n",
    "str4=str3[::-1]     # again reverse it\n",
    "str4"
   ]
  },
  {
   "cell_type": "code",
   "execution_count": 48,
   "id": "a9f065f6-360b-48ee-8385-c4203ad2b8da",
   "metadata": {},
   "outputs": [
    {
     "data": {
      "text/plain": [
       "'resta$t'"
      ]
     },
     "execution_count": 48,
     "metadata": {},
     "output_type": "execute_result"
    }
   ],
   "source": [
    "# method-2\n",
    "\n",
    "str1[::-1].replace('r','$',1)[::-1] "
   ]
  },
  {
   "cell_type": "code",
   "execution_count": 54,
   "id": "40fa30fa-26e5-4b22-b473-990d92fdef76",
   "metadata": {},
   "outputs": [
    {
     "data": {
      "text/plain": [
       "'resta$t'"
      ]
     },
     "execution_count": 54,
     "metadata": {},
     "output_type": "execute_result"
    }
   ],
   "source": [
    "# method-3\n",
    "\n",
    "s1=str1[0]  # 'r'\n",
    "s2=str1[1:]  #'estart'\n",
    "s3=s2.replace('r','$')  # 'esta$t'\n",
    "s1+s3    # 'resta$t'"
   ]
  },
  {
   "cell_type": "markdown",
   "id": "25ccaff4-2ab4-40ac-9985-c0593aabe5d1",
   "metadata": {},
   "source": [
    "$index$\n",
    "\n",
    "- index will give the index of letter in a given string\n",
    "\n",
    "- By default It will provide the first occurence of letter only\n",
    "\n",
    "- If you want next occurence index of same letter you need to give start,stop\n",
    "\n",
    "- like we given in count method "
   ]
  },
  {
   "cell_type": "code",
   "execution_count": 55,
   "id": "bff1de3d-951e-4132-a5c7-198defff8278",
   "metadata": {},
   "outputs": [
    {
     "data": {
      "text/plain": [
       "0"
      ]
     },
     "execution_count": 55,
     "metadata": {},
     "output_type": "execute_result"
    }
   ],
   "source": [
    "str1='restart'\n",
    "str1.index('r')"
   ]
  },
  {
   "cell_type": "code",
   "execution_count": 57,
   "id": "bd3a9c13-7106-4665-926b-b472a04b686b",
   "metadata": {},
   "outputs": [
    {
     "data": {
      "text/plain": [
       "5"
      ]
     },
     "execution_count": 57,
     "metadata": {},
     "output_type": "execute_result"
    }
   ],
   "source": [
    "# I want second r\n",
    "\n",
    "str1.index('r',1)"
   ]
  },
  {
   "cell_type": "code",
   "execution_count": null,
   "id": "83f50ca8-41db-4b99-bd82-05f791196a9d",
   "metadata": {},
   "outputs": [],
   "source": [
    "r   e   s   t   a   r   t\n",
    "0   1   2   3   4   5   6\n",
    "\n",
    "my eyes will not consider first 'r'  0\n",
    "my eyes are looking from index 1"
   ]
  },
  {
   "cell_type": "code",
   "execution_count": 58,
   "id": "a628caa7-15a2-4acf-a77b-02a3d891edf8",
   "metadata": {},
   "outputs": [
    {
     "data": {
      "text/plain": [
       "1"
      ]
     },
     "execution_count": 58,
     "metadata": {},
     "output_type": "execute_result"
    }
   ],
   "source": [
    "str1='hai hai hai hai'\n",
    "str1.index('a')"
   ]
  },
  {
   "cell_type": "code",
   "execution_count": 60,
   "id": "3b545d6c-1e73-42d3-9677-f4b851eb3f68",
   "metadata": {},
   "outputs": [
    {
     "data": {
      "text/plain": [
       "5"
      ]
     },
     "execution_count": 60,
     "metadata": {},
     "output_type": "execute_result"
    }
   ],
   "source": [
    "str1='hai hai hai hai'\n",
    "str1.index('a',2)"
   ]
  },
  {
   "cell_type": "code",
   "execution_count": 61,
   "id": "2c202343-e7db-452c-b2f0-9e6aa9f040a5",
   "metadata": {},
   "outputs": [
    {
     "data": {
      "text/plain": [
       "9"
      ]
     },
     "execution_count": 61,
     "metadata": {},
     "output_type": "execute_result"
    }
   ],
   "source": [
    "str1='hai hai hai hai'\n",
    "str1.index('a',6)"
   ]
  },
  {
   "cell_type": "code",
   "execution_count": 62,
   "id": "10b40aa4-ec8e-4c0c-af53-575b6896ca2b",
   "metadata": {},
   "outputs": [
    {
     "data": {
      "text/plain": [
       "13"
      ]
     },
     "execution_count": 62,
     "metadata": {},
     "output_type": "execute_result"
    }
   ],
   "source": [
    "str1='hai hai hai hai'\n",
    "str1.index('a',10)"
   ]
  },
  {
   "cell_type": "code",
   "execution_count": null,
   "id": "5c9becad-7d48-429b-ba07-6b62ee8cb9b3",
   "metadata": {},
   "outputs": [],
   "source": [
    "'hai hai hai hai'\n",
    "a=1\n",
    "hai hai hai hai\n",
    "  i hai hai hai  a= 5\n",
    "      i hai hai  a=9\n",
    "          i hai  a=13"
   ]
  },
  {
   "cell_type": "code",
   "execution_count": 64,
   "id": "ba722b22-b4d1-442d-832d-6c2c35df005f",
   "metadata": {},
   "outputs": [
    {
     "data": {
      "text/plain": [
       "(1, 5, 9, 13, 17)"
      ]
     },
     "execution_count": 64,
     "metadata": {},
     "output_type": "execute_result"
    }
   ],
   "source": [
    "str1='hai hai hai hai hai'\n",
    "      \n",
    "i1=str1.index('a')  # 1\n",
    "i2=str1.index('a',i1+1) # 5\n",
    "i3=str1.index('a',i2+1) # 9\n",
    "i4=str1.index('a',i3+1) # 13\n",
    "i5=str1.index('a',i4+1) # 17\n",
    "\n",
    "i1,i2,i3,i4,i5"
   ]
  },
  {
   "cell_type": "markdown",
   "id": "c7b9b878-4fd8-4a5f-bb86-6c1a6709bbc2",
   "metadata": {},
   "source": [
    "$count$-$replace$-$index$"
   ]
  },
  {
   "cell_type": "code",
   "execution_count": 1,
   "id": "3d2690f2-965f-4bc8-821c-ea9c6c0e9c92",
   "metadata": {},
   "outputs": [
    {
     "data": {
      "text/plain": [
       "0"
      ]
     },
     "execution_count": 1,
     "metadata": {},
     "output_type": "execute_result"
    }
   ],
   "source": [
    "str1='python'\n",
    "str1.count('z')"
   ]
  },
  {
   "cell_type": "code",
   "execution_count": 3,
   "id": "74a8ad09-19ab-4622-96d8-83ce0a61e178",
   "metadata": {},
   "outputs": [
    {
     "data": {
      "text/plain": [
       "'python'"
      ]
     },
     "execution_count": 3,
     "metadata": {},
     "output_type": "execute_result"
    }
   ],
   "source": [
    "str1='python'\n",
    "str1.replace('z','s')"
   ]
  },
  {
   "cell_type": "code",
   "execution_count": 4,
   "id": "ac7fcb26-ce28-4690-8fe9-83e9401bc748",
   "metadata": {},
   "outputs": [
    {
     "ename": "ValueError",
     "evalue": "substring not found",
     "output_type": "error",
     "traceback": [
      "\u001b[1;31m---------------------------------------------------------------------------\u001b[0m",
      "\u001b[1;31mValueError\u001b[0m                                Traceback (most recent call last)",
      "Cell \u001b[1;32mIn[4], line 2\u001b[0m\n\u001b[0;32m      1\u001b[0m str1\u001b[38;5;241m=\u001b[39m\u001b[38;5;124m'\u001b[39m\u001b[38;5;124mpython\u001b[39m\u001b[38;5;124m'\u001b[39m\n\u001b[1;32m----> 2\u001b[0m str1\u001b[38;5;241m.\u001b[39mindex(\u001b[38;5;124m'\u001b[39m\u001b[38;5;124mz\u001b[39m\u001b[38;5;124m'\u001b[39m)\n",
      "\u001b[1;31mValueError\u001b[0m: substring not found"
     ]
    }
   ],
   "source": [
    "str1='python'\n",
    "str1.index('z')\n",
    "\n",
    "# z= substring\n",
    "# z is not present in python"
   ]
  },
  {
   "cell_type": "code",
   "execution_count": 5,
   "id": "b9d5f2f9-8837-48e9-9b37-7fce9c91b4fb",
   "metadata": {},
   "outputs": [
    {
     "data": {
      "text/plain": [
       "4"
      ]
     },
     "execution_count": 5,
     "metadata": {},
     "output_type": "execute_result"
    }
   ],
   "source": [
    "str1='hai hai hai hai'\n",
    "str1.count('a')     # total 'a'"
   ]
  },
  {
   "cell_type": "code",
   "execution_count": 7,
   "id": "753dfb8d-8ea3-45fe-8c79-5ea0fc50ff14",
   "metadata": {},
   "outputs": [
    {
     "data": {
      "text/plain": [
       "3"
      ]
     },
     "execution_count": 7,
     "metadata": {},
     "output_type": "execute_result"
    }
   ],
   "source": [
    "str1='hai hai hai hai'\n",
    "str1.count('a',2)   # we want to count 'a' from index 2"
   ]
  },
  {
   "cell_type": "code",
   "execution_count": 8,
   "id": "3de3ec41-d3fc-4db6-b920-a449e7b4e189",
   "metadata": {},
   "outputs": [
    {
     "data": {
      "text/plain": [
       "1"
      ]
     },
     "execution_count": 8,
     "metadata": {},
     "output_type": "execute_result"
    }
   ],
   "source": [
    "str1='hai hai hai hai'\n",
    "str1.count('a',2,9)  # start at 5 and end at 9-1=8"
   ]
  },
  {
   "cell_type": "code",
   "execution_count": 9,
   "id": "56ee0e9e-546a-4b19-bf90-cb7dd5025912",
   "metadata": {},
   "outputs": [
    {
     "data": {
      "text/plain": [
       "1"
      ]
     },
     "execution_count": 9,
     "metadata": {},
     "output_type": "execute_result"
    }
   ],
   "source": [
    "str1='hai hai hai hai'\n",
    "str1.find('a') \n",
    "\n",
    "# index of 'a'\n",
    "# but so many 'a' are there\n",
    "# by default it will give first occurence "
   ]
  },
  {
   "cell_type": "code",
   "execution_count": 10,
   "id": "d59c1a20-3ace-4941-9f88-d9dec20a0f4e",
   "metadata": {},
   "outputs": [
    {
     "data": {
      "text/plain": [
       "5"
      ]
     },
     "execution_count": 10,
     "metadata": {},
     "output_type": "execute_result"
    }
   ],
   "source": [
    "str1='hai hai hai hai'\n",
    "str1.find('a',2) "
   ]
  },
  {
   "cell_type": "code",
   "execution_count": 11,
   "id": "b320fa82-651d-4fc3-85b9-b8d1b9b8b21a",
   "metadata": {},
   "outputs": [
    {
     "data": {
      "text/plain": [
       "9"
      ]
     },
     "execution_count": 11,
     "metadata": {},
     "output_type": "execute_result"
    }
   ],
   "source": [
    "str1='hai hai hai hai'\n",
    "str1.find('a',6) "
   ]
  },
  {
   "cell_type": "code",
   "execution_count": 12,
   "id": "d133354a-3698-4b43-b893-609b07cfb5c2",
   "metadata": {},
   "outputs": [
    {
     "data": {
      "text/plain": [
       "13"
      ]
     },
     "execution_count": 12,
     "metadata": {},
     "output_type": "execute_result"
    }
   ],
   "source": [
    "str1='hai hai hai hai'\n",
    "str1.find('a',10) "
   ]
  },
  {
   "cell_type": "code",
   "execution_count": 14,
   "id": "6a27b842-293a-4278-951d-838892e54a5f",
   "metadata": {},
   "outputs": [
    {
     "data": {
      "text/plain": [
       "(1, 5, 9, 13)"
      ]
     },
     "execution_count": 14,
     "metadata": {},
     "output_type": "execute_result"
    }
   ],
   "source": [
    "str1='hai hai hai hai'\n",
    "i1=str1.find('a')  # 1\n",
    "i2=str1.find('a',i1+1)  # 5\n",
    "i3=str1.find('a',i2+1)  # 9\n",
    "i4=str1.find('a',i3+1)  # 13\n",
    "i1,i2,i3,i4"
   ]
  },
  {
   "cell_type": "code",
   "execution_count": 16,
   "id": "4e98b6b2-fd91-4a49-a6d5-1b41097e41a2",
   "metadata": {},
   "outputs": [
    {
     "name": "stdout",
     "output_type": "stream",
     "text": [
      "3\n"
     ]
    }
   ],
   "source": [
    "count=0\n",
    "str1='ola ola ola'\n",
    "for i in range(len(str1)):\n",
    "    if str1[i:i+3]=='ola':\n",
    "        count=count+1\n",
    "print(count)\n",
    "\n",
    "# step-1 : i=0  if str1[0:3] == 'ola'   True   count=1\n",
    "# step-2 : i=1  if str1[1:4] == 'la'   false"
   ]
  },
  {
   "cell_type": "code",
   "execution_count": 18,
   "id": "9068ec1f-7535-41df-ab26-40bc420f6f98",
   "metadata": {},
   "outputs": [
    {
     "name": "stdout",
     "output_type": "stream",
     "text": [
      "3\n"
     ]
    }
   ],
   "source": [
    "count=0\n",
    "str1='saswati saswati saswati'\n",
    "for i in range(len(str1)):\n",
    "    if str1[i:i+7]=='saswati':\n",
    "        count=count+1\n",
    "print(count)"
   ]
  },
  {
   "cell_type": "code",
   "execution_count": 19,
   "id": "867b67fa-9e27-417e-9a7f-0e653f9c5a69",
   "metadata": {},
   "outputs": [
    {
     "data": {
      "text/plain": [
       "6"
      ]
     },
     "execution_count": 19,
     "metadata": {},
     "output_type": "execute_result"
    }
   ],
   "source": [
    "str1='saswati saswati saswati'\n",
    "str1.count('a')"
   ]
  },
  {
   "cell_type": "code",
   "execution_count": 20,
   "id": "41b3c0fa-5a27-4411-93e0-636c838c59a2",
   "metadata": {},
   "outputs": [
    {
     "data": {
      "text/plain": [
       "5"
      ]
     },
     "execution_count": 20,
     "metadata": {},
     "output_type": "execute_result"
    }
   ],
   "source": [
    "str1='saswati saswati saswati'\n",
    "str1.count('a',2)"
   ]
  },
  {
   "cell_type": "code",
   "execution_count": 21,
   "id": "11422e70-3a59-4cea-8440-3c82acf0e3ef",
   "metadata": {},
   "outputs": [
    {
     "data": {
      "text/plain": [
       "1"
      ]
     },
     "execution_count": 21,
     "metadata": {},
     "output_type": "execute_result"
    }
   ],
   "source": [
    "str1='saswati saswati saswati'\n",
    "str1.find('a')"
   ]
  },
  {
   "cell_type": "markdown",
   "id": "9d87f59d-1d96-4fab-b73e-d85fcc9cecb2",
   "metadata": {},
   "source": [
    "$find$"
   ]
  },
  {
   "cell_type": "code",
   "execution_count": 26,
   "id": "acaaa50c-1a72-42d0-a5d9-4650ff26ab93",
   "metadata": {},
   "outputs": [
    {
     "data": {
      "text/plain": [
       "-1"
      ]
     },
     "execution_count": 26,
     "metadata": {},
     "output_type": "execute_result"
    }
   ],
   "source": [
    "str1='hai hai hai hai'\n",
    "str1.find('z')"
   ]
  },
  {
   "cell_type": "code",
   "execution_count": 27,
   "id": "5a654587-260e-4242-98d8-3b019613c2b8",
   "metadata": {},
   "outputs": [
    {
     "ename": "ValueError",
     "evalue": "substring not found",
     "output_type": "error",
     "traceback": [
      "\u001b[1;31m---------------------------------------------------------------------------\u001b[0m",
      "\u001b[1;31mValueError\u001b[0m                                Traceback (most recent call last)",
      "Cell \u001b[1;32mIn[27], line 2\u001b[0m\n\u001b[0;32m      1\u001b[0m str1\u001b[38;5;241m=\u001b[39m\u001b[38;5;124m'\u001b[39m\u001b[38;5;124mhai hai hai hai\u001b[39m\u001b[38;5;124m'\u001b[39m\n\u001b[1;32m----> 2\u001b[0m str1\u001b[38;5;241m.\u001b[39mindex(\u001b[38;5;124m'\u001b[39m\u001b[38;5;124mz\u001b[39m\u001b[38;5;124m'\u001b[39m)\n",
      "\u001b[1;31mValueError\u001b[0m: substring not found"
     ]
    }
   ],
   "source": [
    "str1='hai hai hai hai'\n",
    "str1.index('z')"
   ]
  },
  {
   "cell_type": "code",
   "execution_count": 28,
   "id": "f68d8f09-0043-4892-8878-6db6e240cd4b",
   "metadata": {},
   "outputs": [
    {
     "data": {
      "text/plain": [
       "(1, 5, 9, 13, -1)"
      ]
     },
     "execution_count": 28,
     "metadata": {},
     "output_type": "execute_result"
    }
   ],
   "source": [
    "str1='hai hai hai hai'\n",
    "i1=str1.find('a')  # 1\n",
    "i2=str1.find('a',i1+1)  # 5\n",
    "i3=str1.find('a',i2+1)  # 9\n",
    "i4=str1.find('a',i3+1)  # 13\n",
    "i5=str1.find('a',i4+1)\n",
    "i1,i2,i3,i4,i5"
   ]
  },
  {
   "cell_type": "code",
   "execution_count": 29,
   "id": "0bb57b14-aad4-465d-912d-317ff8191b09",
   "metadata": {},
   "outputs": [
    {
     "ename": "ValueError",
     "evalue": "substring not found",
     "output_type": "error",
     "traceback": [
      "\u001b[1;31m---------------------------------------------------------------------------\u001b[0m",
      "\u001b[1;31mValueError\u001b[0m                                Traceback (most recent call last)",
      "Cell \u001b[1;32mIn[29], line 6\u001b[0m\n\u001b[0;32m      4\u001b[0m i3\u001b[38;5;241m=\u001b[39mstr1\u001b[38;5;241m.\u001b[39mindex(\u001b[38;5;124m'\u001b[39m\u001b[38;5;124ma\u001b[39m\u001b[38;5;124m'\u001b[39m,i2\u001b[38;5;241m+\u001b[39m\u001b[38;5;241m1\u001b[39m)  \u001b[38;5;66;03m# 9\u001b[39;00m\n\u001b[0;32m      5\u001b[0m i4\u001b[38;5;241m=\u001b[39mstr1\u001b[38;5;241m.\u001b[39mindex(\u001b[38;5;124m'\u001b[39m\u001b[38;5;124ma\u001b[39m\u001b[38;5;124m'\u001b[39m,i3\u001b[38;5;241m+\u001b[39m\u001b[38;5;241m1\u001b[39m)  \u001b[38;5;66;03m# 13\u001b[39;00m\n\u001b[1;32m----> 6\u001b[0m i5\u001b[38;5;241m=\u001b[39mstr1\u001b[38;5;241m.\u001b[39mindex(\u001b[38;5;124m'\u001b[39m\u001b[38;5;124ma\u001b[39m\u001b[38;5;124m'\u001b[39m,i4\u001b[38;5;241m+\u001b[39m\u001b[38;5;241m1\u001b[39m)\n\u001b[0;32m      7\u001b[0m i1,i2,i3,i4,i5\n",
      "\u001b[1;31mValueError\u001b[0m: substring not found"
     ]
    }
   ],
   "source": [
    "str1='hai hai hai hai'\n",
    "i1=str1.index('a')  # 1\n",
    "i2=str1.index('a',i1+1)  # 5\n",
    "i3=str1.index('a',i2+1)  # 9\n",
    "i4=str1.index('a',i3+1)  # 13\n",
    "i5=str1.index('a',i4+1)\n",
    "i1,i2,i3,i4,i5"
   ]
  },
  {
   "cell_type": "markdown",
   "id": "06323874-176a-4909-95e6-3b93deee5817",
   "metadata": {},
   "source": [
    "**Note**\n",
    "\n",
    "**if substring not found**\n",
    "\n",
    "do the shift+tab understand the **doc string**\n",
    "\n",
    "if they mentioned any error or not\n",
    "\n",
    "for count and replace they did not mention any error\n",
    "\n",
    "for index the error is mentioned\n",
    "\n",
    "for find it is mentioned as -1\n",
    "\n",
    "- Count will give zero\n",
    "\n",
    "- replace will give same string\n",
    "\n",
    "- index will give error\n",
    "\n",
    "- find will give -1"
   ]
  },
  {
   "cell_type": "code",
   "execution_count": 30,
   "id": "43e5805d-f9da-4d4a-bbbe-28fbfd011afb",
   "metadata": {},
   "outputs": [
    {
     "data": {
      "text/plain": [
       "3"
      ]
     },
     "execution_count": 30,
     "metadata": {},
     "output_type": "execute_result"
    }
   ],
   "source": [
    "count=0\n",
    "str1='python python python'\n",
    "s='py'\n",
    "for i in range(len(str1)):\n",
    "    if str1[i:i+len(s)]==s:\n",
    "        count=count+1\n",
    "count"
   ]
  },
  {
   "cell_type": "code",
   "execution_count": 33,
   "id": "4d8b5300-bc4c-4a20-918c-22ddf7d40512",
   "metadata": {},
   "outputs": [
    {
     "name": "stdout",
     "output_type": "stream",
     "text": [
      "3\n"
     ]
    }
   ],
   "source": [
    "def substring(main_string,sub_string):\n",
    "    count=0\n",
    "    for i in range(len(main_string)):\n",
    "        if main_string[i:i+len(sub_string)]==sub_string:\n",
    "            count=count+1\n",
    "    return(count)\n",
    "    \n",
    "count=substring('python python, python','py')\n",
    "print(count)"
   ]
  },
  {
   "cell_type": "code",
   "execution_count": 50,
   "id": "c3534e3e-5d05-4681-a9ad-3fc1079f70e5",
   "metadata": {},
   "outputs": [
    {
     "data": {
      "text/plain": [
       "('omkar', 'nallagoni', 'cognizant')"
      ]
     },
     "execution_count": 50,
     "metadata": {},
     "output_type": "execute_result"
    }
   ],
   "source": [
    "# Q.15) name extraction\n",
    "\n",
    "name='omkar.nallagoni@cognizant.com'\n",
    "# first name='omkar'\n",
    "# s_name='nallagoni'\n",
    "# c_name='cognizant'\n",
    "i1=name.find('.')\n",
    "i2=name.find('@')\n",
    "i3=name.find('.',i1+1)\n",
    "\n",
    "f_name=name[0:i1]\n",
    "s_name=name[i1+1:i2]\n",
    "c_name=name[i2+1:i3]\n",
    "\n",
    "f_name,s_name,c_name"
   ]
  },
  {
   "cell_type": "code",
   "execution_count": 51,
   "id": "d795131d-1fe3-42f6-92ae-bd74b585e7bf",
   "metadata": {},
   "outputs": [
    {
     "name": "stdout",
     "output_type": "stream",
     "text": [
      "saswati puhan microsoft\n"
     ]
    }
   ],
   "source": [
    "def name_extraction(name):\n",
    "    i1=name.find('.')\n",
    "    i2=name.find('@')\n",
    "    i3=name.find('.',i1+1)\n",
    "    \n",
    "    f_name=name[0:i1]\n",
    "    s_name=name[i1+1:i2]\n",
    "    c_name=name[i2+1:i3]\n",
    "    \n",
    "    print(f_name,s_name,c_name)\n",
    "\n",
    "name_extraction('saswati.puhan@microsoft.com')"
   ]
  },
  {
   "cell_type": "markdown",
   "id": "9b027342-e72e-468f-9ec4-282133b20db2",
   "metadata": {},
   "source": [
    "- capitalize/title\n",
    "\n",
    "- center\n",
    "\n",
    "- upper/lower/casefold\n",
    "\n",
    "- count\n",
    "\n",
    "- replace\n",
    "\n",
    "- index/find"
   ]
  },
  {
   "cell_type": "code",
   "execution_count": 52,
   "id": "2fdf574f-6abd-449f-8d71-f3c3c241ca1f",
   "metadata": {},
   "outputs": [
    {
     "data": {
      "text/plain": [
       "['__add__',\n",
       " '__class__',\n",
       " '__contains__',\n",
       " '__delattr__',\n",
       " '__dir__',\n",
       " '__doc__',\n",
       " '__eq__',\n",
       " '__format__',\n",
       " '__ge__',\n",
       " '__getattribute__',\n",
       " '__getitem__',\n",
       " '__getnewargs__',\n",
       " '__getstate__',\n",
       " '__gt__',\n",
       " '__hash__',\n",
       " '__init__',\n",
       " '__init_subclass__',\n",
       " '__iter__',\n",
       " '__le__',\n",
       " '__len__',\n",
       " '__lt__',\n",
       " '__mod__',\n",
       " '__mul__',\n",
       " '__ne__',\n",
       " '__new__',\n",
       " '__reduce__',\n",
       " '__reduce_ex__',\n",
       " '__repr__',\n",
       " '__rmod__',\n",
       " '__rmul__',\n",
       " '__setattr__',\n",
       " '__sizeof__',\n",
       " '__str__',\n",
       " '__subclasshook__',\n",
       " 'capitalize',\n",
       " 'casefold',\n",
       " 'center',\n",
       " 'count',\n",
       " 'encode',\n",
       " 'endswith',\n",
       " 'expandtabs',\n",
       " 'find',\n",
       " 'format',\n",
       " 'format_map',\n",
       " 'index',\n",
       " 'isalnum',\n",
       " 'isalpha',\n",
       " 'isascii',\n",
       " 'isdecimal',\n",
       " 'isdigit',\n",
       " 'isidentifier',\n",
       " 'islower',\n",
       " 'isnumeric',\n",
       " 'isprintable',\n",
       " 'isspace',\n",
       " 'istitle',\n",
       " 'isupper',\n",
       " 'join',\n",
       " 'ljust',\n",
       " 'lower',\n",
       " 'lstrip',\n",
       " 'maketrans',\n",
       " 'partition',\n",
       " 'removeprefix',\n",
       " 'removesuffix',\n",
       " 'replace',\n",
       " 'rfind',\n",
       " 'rindex',\n",
       " 'rjust',\n",
       " 'rpartition',\n",
       " 'rsplit',\n",
       " 'rstrip',\n",
       " 'split',\n",
       " 'splitlines',\n",
       " 'startswith',\n",
       " 'strip',\n",
       " 'swapcase',\n",
       " 'title',\n",
       " 'translate',\n",
       " 'upper',\n",
       " 'zfill']"
      ]
     },
     "execution_count": 52,
     "metadata": {},
     "output_type": "execute_result"
    }
   ],
   "source": [
    "dir('')"
   ]
  },
  {
   "cell_type": "code",
   "execution_count": null,
   "id": "c41faa0b-ed44-485a-ba62-3ead71c64828",
   "metadata": {},
   "outputs": [],
   "source": [
    "'index',\n",
    " 'isalnum',\n",
    " 'isalpha',\n",
    " 'isascii',\n",
    " 'isdecimal',\n",
    " 'isdigit',\n",
    " 'isidentifier',\n",
    " 'islower',\n",
    " 'isnumeric',\n",
    " 'isprintable',\n",
    " 'isspace',\n",
    " 'istitle',\n",
    " 'isupper',"
   ]
  },
  {
   "cell_type": "code",
   "execution_count": 54,
   "id": "d2e1d021-82e1-4193-b5f5-c26990cbc41f",
   "metadata": {},
   "outputs": [
    {
     "data": {
      "text/plain": [
       "1"
      ]
     },
     "execution_count": 54,
     "metadata": {},
     "output_type": "execute_result"
    }
   ],
   "source": [
    "s1='saswati'\n",
    "s1.index('a')"
   ]
  },
  {
   "cell_type": "code",
   "execution_count": 60,
   "id": "9e728567-8038-464a-b1c7-9dd80928b7e7",
   "metadata": {},
   "outputs": [
    {
     "data": {
      "text/plain": [
       "True"
      ]
     },
     "execution_count": 60,
     "metadata": {},
     "output_type": "execute_result"
    }
   ],
   "source": [
    "s2='sas123'\n",
    "s2.isalnum()\n",
    "\n",
    "# Return True if the string is an alpha-numeric string, False otherwise"
   ]
  },
  {
   "cell_type": "code",
   "execution_count": 67,
   "id": "7282077e-4544-4c86-a8cb-f7f4c1f0cfbb",
   "metadata": {},
   "outputs": [
    {
     "data": {
      "text/plain": [
       "False"
      ]
     },
     "execution_count": 67,
     "metadata": {},
     "output_type": "execute_result"
    }
   ],
   "source": [
    "s3='m_ama'\n",
    "s3.isalpha()\n",
    "\n",
    "# Return True if the string is an alphabetic string, False otherwise.\n",
    "    "
   ]
  },
  {
   "cell_type": "code",
   "execution_count": 69,
   "id": "6ab1e079-95cc-47b0-b75a-bc1b1c143f92",
   "metadata": {},
   "outputs": [
    {
     "data": {
      "text/plain": [
       "True"
      ]
     },
     "execution_count": 69,
     "metadata": {},
     "output_type": "execute_result"
    }
   ],
   "source": [
    "s3='mama'\n",
    "s3.isalpha()"
   ]
  },
  {
   "cell_type": "code",
   "execution_count": 68,
   "id": "a57f814a-a24e-4a7d-935b-850fd02a58e8",
   "metadata": {},
   "outputs": [
    {
     "data": {
      "text/plain": [
       "True"
      ]
     },
     "execution_count": 68,
     "metadata": {},
     "output_type": "execute_result"
    }
   ],
   "source": [
    "s3.isascii()\n",
    "\n",
    "# Return True if all characters in the string are ASCII, False otherwise"
   ]
  },
  {
   "cell_type": "code",
   "execution_count": 66,
   "id": "3ccd9382-108d-4793-8710-d3218074da1a",
   "metadata": {},
   "outputs": [
    {
     "data": {
      "text/plain": [
       "True"
      ]
     },
     "execution_count": 66,
     "metadata": {},
     "output_type": "execute_result"
    }
   ],
   "source": [
    "s4='3'\n",
    "s4.isdecimal()"
   ]
  },
  {
   "cell_type": "code",
   "execution_count": 73,
   "id": "649a8d72-affa-4cb9-a7c7-f6b56eeb80ff",
   "metadata": {},
   "outputs": [
    {
     "data": {
      "text/plain": [
       "False"
      ]
     },
     "execution_count": 73,
     "metadata": {},
     "output_type": "execute_result"
    }
   ],
   "source": [
    "s4='3.55'\n",
    "s4.isdecimal()\n",
    "\n",
    "# Return True if the string is a decimal string, False otherwise."
   ]
  },
  {
   "cell_type": "code",
   "execution_count": 74,
   "id": "4a269abd-6ada-4b46-8483-3cbc007b45d0",
   "metadata": {},
   "outputs": [
    {
     "data": {
      "text/plain": [
       "True"
      ]
     },
     "execution_count": 74,
     "metadata": {},
     "output_type": "execute_result"
    }
   ],
   "source": [
    "s5='3'\n",
    "s5.isdigit()\n",
    "\n",
    "# Return True if the string is a digit string, False otherwise."
   ]
  },
  {
   "cell_type": "code",
   "execution_count": 76,
   "id": "c00d847b-bbf5-40a2-b264-b1368e62334f",
   "metadata": {},
   "outputs": [
    {
     "data": {
      "text/plain": [
       "False"
      ]
     },
     "execution_count": 76,
     "metadata": {},
     "output_type": "execute_result"
    }
   ],
   "source": [
    "s5='hi'\n",
    "s5.isdigit()"
   ]
  },
  {
   "cell_type": "code",
   "execution_count": 79,
   "id": "e7067954-5c35-4b9f-b1bb-23118021a514",
   "metadata": {},
   "outputs": [
    {
     "data": {
      "text/plain": [
       "False"
      ]
     },
     "execution_count": 79,
     "metadata": {},
     "output_type": "execute_result"
    }
   ],
   "source": [
    "s6='sas wati'\n",
    "s6.isidentifier()\n",
    "\n",
    "# Return True if the string is a valid Python identifier, False otherwise."
   ]
  },
  {
   "cell_type": "code",
   "execution_count": 80,
   "id": "9bd63a2f-ef08-4f88-9389-02b475ba1ff6",
   "metadata": {},
   "outputs": [
    {
     "data": {
      "text/plain": [
       "True"
      ]
     },
     "execution_count": 80,
     "metadata": {},
     "output_type": "execute_result"
    }
   ],
   "source": [
    "s6='True'\n",
    "s6.isidentifier()"
   ]
  },
  {
   "cell_type": "code",
   "execution_count": 81,
   "id": "b579a2be-3959-4593-9a79-6ad404c957b6",
   "metadata": {},
   "outputs": [
    {
     "data": {
      "text/plain": [
       "False"
      ]
     },
     "execution_count": 81,
     "metadata": {},
     "output_type": "execute_result"
    }
   ],
   "source": [
    "s7='Hai how are You'\n",
    "s7.islower()\n",
    "\n",
    "# Return True if the string is a lowercase string, False otherwise.\n"
   ]
  },
  {
   "cell_type": "code",
   "execution_count": 84,
   "id": "667ca492-9204-4ed5-b26a-8382b6a61dcf",
   "metadata": {},
   "outputs": [
    {
     "data": {
      "text/plain": [
       "True"
      ]
     },
     "execution_count": 84,
     "metadata": {},
     "output_type": "execute_result"
    }
   ],
   "source": [
    "s7='fine bro'\n",
    "s7.islower()"
   ]
  },
  {
   "cell_type": "code",
   "execution_count": 85,
   "id": "7b9ff5b0-bb1e-4bd3-a4c2-8023ebe17ac3",
   "metadata": {},
   "outputs": [
    {
     "data": {
      "text/plain": [
       "False"
      ]
     },
     "execution_count": 85,
     "metadata": {},
     "output_type": "execute_result"
    }
   ],
   "source": [
    "s8='artificial intelligence'\n",
    "s8.isnumeric()\n",
    "\n",
    "# Return True if the string is a numeric string, False otherwise."
   ]
  },
  {
   "cell_type": "code",
   "execution_count": 86,
   "id": "ca653e2e-22d4-417d-b696-fb49f17eca67",
   "metadata": {},
   "outputs": [
    {
     "data": {
      "text/plain": [
       "True"
      ]
     },
     "execution_count": 86,
     "metadata": {},
     "output_type": "execute_result"
    }
   ],
   "source": [
    "s8='46764354767544666'\n",
    "s8.isnumeric()"
   ]
  },
  {
   "cell_type": "code",
   "execution_count": 87,
   "id": "0f790681-1af1-421c-8bf3-fd1b0a004dce",
   "metadata": {},
   "outputs": [
    {
     "data": {
      "text/plain": [
       "True"
      ]
     },
     "execution_count": 87,
     "metadata": {},
     "output_type": "execute_result"
    }
   ],
   "source": [
    "s9='hai saswati'\n",
    "s9.isprintable()\n",
    "\n",
    "# Return True if the string is printable, False otherwise."
   ]
  },
  {
   "cell_type": "code",
   "execution_count": 88,
   "id": "756733eb-ac95-4d47-8a62-8186df4961ed",
   "metadata": {},
   "outputs": [
    {
     "data": {
      "text/plain": [
       "True"
      ]
     },
     "execution_count": 88,
     "metadata": {},
     "output_type": "execute_result"
    }
   ],
   "source": [
    "s9=' '\n",
    "s9.isprintable()"
   ]
  },
  {
   "cell_type": "code",
   "execution_count": 89,
   "id": "9f98b96f-5c46-4e2e-bebe-5411f61525db",
   "metadata": {},
   "outputs": [
    {
     "data": {
      "text/plain": [
       "False"
      ]
     },
     "execution_count": 89,
     "metadata": {},
     "output_type": "execute_result"
    }
   ],
   "source": [
    "s10='hello python'\n",
    "s10.isspace()"
   ]
  },
  {
   "cell_type": "code",
   "execution_count": 90,
   "id": "a59a1f05-8436-4170-886a-6b0ab329ccf0",
   "metadata": {},
   "outputs": [
    {
     "data": {
      "text/plain": [
       "True"
      ]
     },
     "execution_count": 90,
     "metadata": {},
     "output_type": "execute_result"
    }
   ],
   "source": [
    "s10='  '\n",
    "s10.isspace()\n",
    "\n",
    "# Return True if the string is a whitespace string, False otherwise.\n"
   ]
  },
  {
   "cell_type": "code",
   "execution_count": 91,
   "id": "97281cbc-1e9e-4811-87d4-0f37f69b8a3f",
   "metadata": {},
   "outputs": [
    {
     "data": {
      "text/plain": [
       "False"
      ]
     },
     "execution_count": 91,
     "metadata": {},
     "output_type": "execute_result"
    }
   ],
   "source": [
    "s11='hello python'\n",
    "s11.istitle()"
   ]
  },
  {
   "cell_type": "code",
   "execution_count": 92,
   "id": "adc018f7-88b1-428f-abbc-4648f639a34c",
   "metadata": {},
   "outputs": [
    {
     "data": {
      "text/plain": [
       "True"
      ]
     },
     "execution_count": 92,
     "metadata": {},
     "output_type": "execute_result"
    }
   ],
   "source": [
    "s11='Hello Python'\n",
    "s11.istitle()\n",
    "\n",
    "# Return True if the string is a title-cased string, False otherwise.\n"
   ]
  },
  {
   "cell_type": "code",
   "execution_count": 93,
   "id": "ea1a64ad-f62a-4036-b760-1fa9f24ece37",
   "metadata": {},
   "outputs": [
    {
     "data": {
      "text/plain": [
       "False"
      ]
     },
     "execution_count": 93,
     "metadata": {},
     "output_type": "execute_result"
    }
   ],
   "source": [
    "S12='saswati'\n",
    "S12.isupper()"
   ]
  },
  {
   "cell_type": "code",
   "execution_count": 94,
   "id": "9bfb5d56-88f0-485c-a7a8-3665fd15f038",
   "metadata": {},
   "outputs": [
    {
     "data": {
      "text/plain": [
       "True"
      ]
     },
     "execution_count": 94,
     "metadata": {},
     "output_type": "execute_result"
    }
   ],
   "source": [
    "S12='SASWATI'\n",
    "S12.isupper()\n",
    "\n",
    "# Return True if the string is an uppercase string, False otherwise."
   ]
  },
  {
   "cell_type": "markdown",
   "id": "af35d53e-5a81-49e5-b141-1f0927647310",
   "metadata": {},
   "source": [
    "$strip$-$lstrip$-$rstrip$"
   ]
  },
  {
   "cell_type": "code",
   "execution_count": 2,
   "id": "ffda809e-09b3-4e17-b0d8-0df123151f47",
   "metadata": {},
   "outputs": [],
   "source": [
    "name1=' python '\n",
    "name2='python '\n",
    "name3=' python'\n",
    "\n",
    "# strip removes the both sides space\n",
    "# lstrip removes the left side space\n",
    "# similary rstrip removes the right side space"
   ]
  },
  {
   "cell_type": "code",
   "execution_count": 4,
   "id": "9e818a71-8583-4360-881f-4f812ae496b8",
   "metadata": {},
   "outputs": [
    {
     "data": {
      "text/plain": [
       "('python', 'python ', ' python')"
      ]
     },
     "execution_count": 4,
     "metadata": {},
     "output_type": "execute_result"
    }
   ],
   "source": [
    "name1.strip(),name1.lstrip(),name1.rstrip()"
   ]
  },
  {
   "cell_type": "code",
   "execution_count": 5,
   "id": "1489c845-ccfb-44ce-9959-407eec5651a9",
   "metadata": {},
   "outputs": [
    {
     "data": {
      "text/plain": [
       "('python', 'python ', 'python')"
      ]
     },
     "execution_count": 5,
     "metadata": {},
     "output_type": "execute_result"
    }
   ],
   "source": [
    "name2.strip(),name2.lstrip(),name2.rstrip()"
   ]
  },
  {
   "cell_type": "code",
   "execution_count": 6,
   "id": "39214ae9-0b89-4583-8269-c61235faed68",
   "metadata": {},
   "outputs": [
    {
     "data": {
      "text/plain": [
       "('python', 'python', ' python')"
      ]
     },
     "execution_count": 6,
     "metadata": {},
     "output_type": "execute_result"
    }
   ],
   "source": [
    "name3.strip(),name3.lstrip(),name3.rstrip()"
   ]
  },
  {
   "cell_type": "code",
   "execution_count": 12,
   "id": "174f2155-aaed-449c-8358-8cff44f7a108",
   "metadata": {},
   "outputs": [
    {
     "data": {
      "text/plain": [
       "'python'"
      ]
     },
     "execution_count": 12,
     "metadata": {},
     "output_type": "execute_result"
    }
   ],
   "source": [
    "name4=' python$$$'\n",
    "name4.strip('$').lstrip()\n"
   ]
  },
  {
   "cell_type": "code",
   "execution_count": 13,
   "id": "3ef5de77-1154-4fe5-9b7c-2d47b2d5743a",
   "metadata": {},
   "outputs": [
    {
     "data": {
      "text/plain": [
       "'python'"
      ]
     },
     "execution_count": 13,
     "metadata": {},
     "output_type": "execute_result"
    }
   ],
   "source": [
    "name4.lstrip().rstrip('$')"
   ]
  },
  {
   "cell_type": "code",
   "execution_count": 14,
   "id": "fdeb56f3-051d-4551-9e36-203ed426d4f4",
   "metadata": {},
   "outputs": [
    {
     "data": {
      "text/plain": [
       "'python'"
      ]
     },
     "execution_count": 14,
     "metadata": {},
     "output_type": "execute_result"
    }
   ],
   "source": [
    "name4.strip().strip('$')"
   ]
  },
  {
   "cell_type": "code",
   "execution_count": null,
   "id": "5c2da857-e6cd-46ad-b13b-bd6c8d51f3da",
   "metadata": {},
   "outputs": [],
   "source": [
    "name4=' python$$$'\n",
    "name4.strip('$').lstrip()\n",
    "name4.lstrip().rstrip('$')\n",
    "name4.strip().strip('$')\n",
    "name4.rstrip().lstrip('$')"
   ]
  },
  {
   "cell_type": "code",
   "execution_count": 17,
   "id": "7e635d09-9ae0-4b88-aada-f42b0321cdd4",
   "metadata": {},
   "outputs": [
    {
     "data": {
      "text/plain": [
       "'python'"
      ]
     },
     "execution_count": 17,
     "metadata": {},
     "output_type": "execute_result"
    }
   ],
   "source": [
    "name4=' python$$$'\n",
    "n5=name4.lstrip()\n",
    "n5.rstrip('$')"
   ]
  },
  {
   "cell_type": "markdown",
   "id": "cff0c9c4-b61f-4549-92c1-75d46a6aa7f9",
   "metadata": {},
   "source": [
    "$split$"
   ]
  },
  {
   "cell_type": "code",
   "execution_count": 18,
   "id": "fa8ba65f-8214-41e2-96cd-20368164de96",
   "metadata": {},
   "outputs": [
    {
     "data": {
      "text/plain": [
       "['hello', 'how', 'are', 'you']"
      ]
     },
     "execution_count": 18,
     "metadata": {},
     "output_type": "execute_result"
    }
   ],
   "source": [
    "str='hello how are you'\n",
    "str.split()"
   ]
  },
  {
   "cell_type": "code",
   "execution_count": 19,
   "id": "cad03bec-274f-4daa-8ccb-a19eb6b16db7",
   "metadata": {},
   "outputs": [
    {
     "data": {
      "text/plain": [
       "['hello how', ' are you']"
      ]
     },
     "execution_count": 19,
     "metadata": {},
     "output_type": "execute_result"
    }
   ],
   "source": [
    "str='hello how, are you'\n",
    "str.split(',')"
   ]
  },
  {
   "cell_type": "code",
   "execution_count": 20,
   "id": "9b2076e3-a970-45a5-ba46-26340f4182bf",
   "metadata": {},
   "outputs": [
    {
     "data": {
      "text/plain": [
       "['hell', ' h', 'w are y', 'u']"
      ]
     },
     "execution_count": 20,
     "metadata": {},
     "output_type": "execute_result"
    }
   ],
   "source": [
    "str='hello how are you'\n",
    "str.split('o')"
   ]
  },
  {
   "cell_type": "markdown",
   "id": "2e32686c-c0e4-4bb6-a136-e2790c1346ce",
   "metadata": {},
   "source": [
    "$startswith$-$endswith$"
   ]
  },
  {
   "cell_type": "code",
   "execution_count": 22,
   "id": "21704261-41be-4924-a6d6-cbec36a5f585",
   "metadata": {},
   "outputs": [
    {
     "data": {
      "text/plain": [
       "True"
      ]
     },
     "execution_count": 22,
     "metadata": {},
     "output_type": "execute_result"
    }
   ],
   "source": [
    "str='hello how are you'\n",
    "str.startswith('h')"
   ]
  },
  {
   "cell_type": "code",
   "execution_count": 24,
   "id": "4fc48011-82d7-4266-bdba-e25b67bce25d",
   "metadata": {},
   "outputs": [
    {
     "data": {
      "text/plain": [
       "True"
      ]
     },
     "execution_count": 24,
     "metadata": {},
     "output_type": "execute_result"
    }
   ],
   "source": [
    "str='hello how are you'\n",
    "str.startswith('hello how are you')"
   ]
  },
  {
   "cell_type": "code",
   "execution_count": 25,
   "id": "fb2b577b-e46f-4922-82dc-755f1b2b8580",
   "metadata": {},
   "outputs": [
    {
     "data": {
      "text/plain": [
       "False"
      ]
     },
     "execution_count": 25,
     "metadata": {},
     "output_type": "execute_result"
    }
   ],
   "source": [
    "str='hello how are you'\n",
    "str.startswith('u')"
   ]
  },
  {
   "cell_type": "code",
   "execution_count": 26,
   "id": "c2b2c1bb-4045-433f-b4ee-e515a7792af4",
   "metadata": {},
   "outputs": [
    {
     "data": {
      "text/plain": [
       "True"
      ]
     },
     "execution_count": 26,
     "metadata": {},
     "output_type": "execute_result"
    }
   ],
   "source": [
    "str='hello how are you'\n",
    "str.endswith('hello how are you')"
   ]
  }
 ],
 "metadata": {
  "kernelspec": {
   "display_name": "Python 3 (ipykernel)",
   "language": "python",
   "name": "python3"
  },
  "language_info": {
   "codemirror_mode": {
    "name": "ipython",
    "version": 3
   },
   "file_extension": ".py",
   "mimetype": "text/x-python",
   "name": "python",
   "nbconvert_exporter": "python",
   "pygments_lexer": "ipython3",
   "version": "3.11.7"
  }
 },
 "nbformat": 4,
 "nbformat_minor": 5
}
